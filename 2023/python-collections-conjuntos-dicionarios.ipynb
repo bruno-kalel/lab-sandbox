{
  "nbformat": 4,
  "nbformat_minor": 0,
  "metadata": {
    "colab": {
      "provenance": [],
      "authorship_tag": "ABX9TyOtpbA10hpjJ1QS4ftHC0GO"
    },
    "kernelspec": {
      "name": "python3",
      "display_name": "Python 3"
    },
    "language_info": {
      "name": "python"
    }
  },
  "cells": [
    {
      "cell_type": "markdown",
      "source": [
        "Curso de<br>\n",
        "Python Collections parte 2: conjuntos e dicionários<br>\n",
        "`https://cursos.alura.com.br/course/python-collections-conjuntos-e-dicionarios`"
      ],
      "metadata": {
        "id": "iOURZjRnZ1hn"
      }
    },
    {
      "cell_type": "markdown",
      "source": [
        "Bloco 01<br>\n",
        "Conjuntos"
      ],
      "metadata": {
        "id": "leAABBPDaE8x"
      }
    },
    {
      "cell_type": "markdown",
      "source": [
        "Trabalhando com conjuntos, os sets"
      ],
      "metadata": {
        "id": "VdEGAKYeaPn0"
      }
    },
    {
      "cell_type": "code",
      "source": [
        "usuarios_data_science = [15, 23, 43, 56]\n",
        "usuarios_machine_learning = [13, 23, 56, 42]"
      ],
      "metadata": {
        "id": "va5QPZFcaDVJ"
      },
      "execution_count": null,
      "outputs": []
    },
    {
      "cell_type": "code",
      "source": [
        "assistiram = []\n",
        "assistiram.extend(usuarios_data_science)\n",
        "assistiram"
      ],
      "metadata": {
        "colab": {
          "base_uri": "https://localhost:8080/"
        },
        "id": "f1yRpWZxbGdD",
        "outputId": "e7f845d7-9c3f-434c-ff93-099b6ab6010e"
      },
      "execution_count": null,
      "outputs": [
        {
          "output_type": "execute_result",
          "data": {
            "text/plain": [
              "[15, 23, 43, 56]"
            ]
          },
          "metadata": {},
          "execution_count": 2
        }
      ]
    },
    {
      "cell_type": "code",
      "source": [
        "assistiram = usuarios_data_science.copy()\n",
        "assistiram.extend(usuarios_machine_learning)\n",
        "assistiram"
      ],
      "metadata": {
        "colab": {
          "base_uri": "https://localhost:8080/"
        },
        "id": "-pc-9r1ibWHz",
        "outputId": "de4c28b0-9d0a-4a66-e9bd-e85b3dd7711e"
      },
      "execution_count": null,
      "outputs": [
        {
          "output_type": "execute_result",
          "data": {
            "text/plain": [
              "[15, 23, 43, 56, 13, 23, 56, 42]"
            ]
          },
          "metadata": {},
          "execution_count": 4
        }
      ]
    },
    {
      "cell_type": "code",
      "source": [
        "print(len(assistiram), 'pessoas')"
      ],
      "metadata": {
        "colab": {
          "base_uri": "https://localhost:8080/"
        },
        "id": "FHEk2RjNbnJF",
        "outputId": "2e9a7071-37db-4f8b-bfb8-128a2a1c5d3b"
      },
      "execution_count": null,
      "outputs": [
        {
          "output_type": "stream",
          "name": "stdout",
          "text": [
            "8 pessoas\n"
          ]
        }
      ]
    },
    {
      "cell_type": "code",
      "source": [
        "set(assistiram)"
      ],
      "metadata": {
        "colab": {
          "base_uri": "https://localhost:8080/"
        },
        "id": "06X_SJP_b2lm",
        "outputId": "ecb6b38b-1487-45c6-ea92-cf0c1fcdfc01"
      },
      "execution_count": null,
      "outputs": [
        {
          "output_type": "execute_result",
          "data": {
            "text/plain": [
              "{13, 15, 23, 42, 43, 56}"
            ]
          },
          "metadata": {},
          "execution_count": 6
        }
      ]
    },
    {
      "cell_type": "code",
      "source": [
        "print(len(set(assistiram)), 'pessoas')"
      ],
      "metadata": {
        "colab": {
          "base_uri": "https://localhost:8080/"
        },
        "id": "_4l0fe7ycSvG",
        "outputId": "c2958f84-0f36-4822-cf94-9a7b1e5ca0ae"
      },
      "execution_count": null,
      "outputs": [
        {
          "output_type": "stream",
          "name": "stdout",
          "text": [
            "6 pessoas\n"
          ]
        }
      ]
    },
    {
      "cell_type": "code",
      "source": [
        "set([1, 2, 3])"
      ],
      "metadata": {
        "colab": {
          "base_uri": "https://localhost:8080/"
        },
        "id": "SB5fE6GVcWGG",
        "outputId": "d85c7db2-7373-4df7-985d-e159729f7550"
      },
      "execution_count": null,
      "outputs": [
        {
          "output_type": "execute_result",
          "data": {
            "text/plain": [
              "{1, 2, 3}"
            ]
          },
          "metadata": {},
          "execution_count": 8
        }
      ]
    },
    {
      "cell_type": "code",
      "source": [
        "set([1, 1, 2, 3])"
      ],
      "metadata": {
        "colab": {
          "base_uri": "https://localhost:8080/"
        },
        "id": "jI30psaMcgfH",
        "outputId": "cc745b99-6a1f-4a47-99a2-15edc4c63423"
      },
      "execution_count": null,
      "outputs": [
        {
          "output_type": "execute_result",
          "data": {
            "text/plain": [
              "{1, 2, 3}"
            ]
          },
          "metadata": {},
          "execution_count": 9
        }
      ]
    },
    {
      "cell_type": "code",
      "source": [
        "set([1, 1, 1, 2, 3])"
      ],
      "metadata": {
        "colab": {
          "base_uri": "https://localhost:8080/"
        },
        "id": "7MxXOkeqciCm",
        "outputId": "5bdc422c-2a24-4cc3-f8d2-24eff8d2af8b"
      },
      "execution_count": null,
      "outputs": [
        {
          "output_type": "execute_result",
          "data": {
            "text/plain": [
              "{1, 2, 3}"
            ]
          },
          "metadata": {},
          "execution_count": 10
        }
      ]
    },
    {
      "cell_type": "code",
      "source": [
        "{4, 5, 6}"
      ],
      "metadata": {
        "colab": {
          "base_uri": "https://localhost:8080/"
        },
        "id": "QTeB4TIDcl7O",
        "outputId": "9916c7df-9f0c-4b4b-a0f8-969aee0f21a6"
      },
      "execution_count": null,
      "outputs": [
        {
          "output_type": "execute_result",
          "data": {
            "text/plain": [
              "{4, 5, 6}"
            ]
          },
          "metadata": {},
          "execution_count": 11
        }
      ]
    },
    {
      "cell_type": "code",
      "source": [
        "{4, 4, 5, 6}"
      ],
      "metadata": {
        "colab": {
          "base_uri": "https://localhost:8080/"
        },
        "id": "1UD3Yvjvcrcu",
        "outputId": "2efffcc0-78b2-43d5-820b-db83fa1e11d2"
      },
      "execution_count": null,
      "outputs": [
        {
          "output_type": "execute_result",
          "data": {
            "text/plain": [
              "{4, 5, 6}"
            ]
          },
          "metadata": {},
          "execution_count": 12
        }
      ]
    },
    {
      "cell_type": "code",
      "source": [
        "{4, 4, 4, 5, 6}"
      ],
      "metadata": {
        "colab": {
          "base_uri": "https://localhost:8080/"
        },
        "id": "HnMkjfn1csh2",
        "outputId": "7a085c14-2eaa-4567-f192-9293b7e783cd"
      },
      "execution_count": null,
      "outputs": [
        {
          "output_type": "execute_result",
          "data": {
            "text/plain": [
              "{4, 5, 6}"
            ]
          },
          "metadata": {},
          "execution_count": 13
        }
      ]
    },
    {
      "cell_type": "code",
      "source": [
        "type({1})"
      ],
      "metadata": {
        "colab": {
          "base_uri": "https://localhost:8080/"
        },
        "id": "Ub-OvQEzctXm",
        "outputId": "9573e4e9-91b1-4623-afd4-d19608d5cca7"
      },
      "execution_count": null,
      "outputs": [
        {
          "output_type": "execute_result",
          "data": {
            "text/plain": [
              "set"
            ]
          },
          "metadata": {},
          "execution_count": 14
        }
      ]
    },
    {
      "cell_type": "code",
      "source": [
        "# se a ordem não importa\n",
        "# logo de cara, pode-se usar um conjunto\n",
        "# assim, garante-se que cada usuário aparecerá apenas uma vez\n",
        "\n",
        "usuarios_data_science = {15, 23, 43, 56}\n",
        "usuarios_machine_learning = {13, 23, 56, 42}"
      ],
      "metadata": {
        "id": "hl9ZYjG3cz_v"
      },
      "execution_count": null,
      "outputs": []
    },
    {
      "cell_type": "code",
      "source": [
        "# ordem do set não necessariamente a ordem de entrada na lista\n",
        "usuarios_data_science"
      ],
      "metadata": {
        "colab": {
          "base_uri": "https://localhost:8080/"
        },
        "id": "HnN6yMXpdMAv",
        "outputId": "fa266304-81e4-492b-bfe2-2267655027f1"
      },
      "execution_count": null,
      "outputs": [
        {
          "output_type": "execute_result",
          "data": {
            "text/plain": [
              "{15, 23, 43, 56}"
            ]
          },
          "metadata": {},
          "execution_count": 17
        }
      ]
    },
    {
      "cell_type": "code",
      "source": [
        "# ordem do set não necessariamente a ordem de entrada na lista\n",
        "usuarios_machine_learning"
      ],
      "metadata": {
        "colab": {
          "base_uri": "https://localhost:8080/"
        },
        "id": "3i1C_Qx3dQlP",
        "outputId": "d43e33ff-c08d-43dc-ffcb-055654e7da5b"
      },
      "execution_count": null,
      "outputs": [
        {
          "output_type": "execute_result",
          "data": {
            "text/plain": [
              "{13, 23, 42, 56}"
            ]
          },
          "metadata": {},
          "execution_count": 18
        }
      ]
    },
    {
      "cell_type": "code",
      "source": [
        "usuarios_data_science[3]"
      ],
      "metadata": {
        "colab": {
          "base_uri": "https://localhost:8080/",
          "height": 175
        },
        "id": "wCrswotPdUvn",
        "outputId": "bbd0787d-d1dc-440e-dbc7-9d72bc9d296c"
      },
      "execution_count": null,
      "outputs": [
        {
          "output_type": "error",
          "ename": "TypeError",
          "evalue": "ignored",
          "traceback": [
            "\u001b[0;31m---------------------------------------------------------------------------\u001b[0m",
            "\u001b[0;31mTypeError\u001b[0m                                 Traceback (most recent call last)",
            "\u001b[0;32m<ipython-input-19-47bffcb52161>\u001b[0m in \u001b[0;36m<cell line: 1>\u001b[0;34m()\u001b[0m\n\u001b[0;32m----> 1\u001b[0;31m \u001b[0musuarios_data_science\u001b[0m\u001b[0;34m[\u001b[0m\u001b[0;36m3\u001b[0m\u001b[0;34m]\u001b[0m\u001b[0;34m\u001b[0m\u001b[0;34m\u001b[0m\u001b[0m\n\u001b[0m",
            "\u001b[0;31mTypeError\u001b[0m: 'set' object is not subscriptable"
          ]
        }
      ]
    },
    {
      "cell_type": "code",
      "source": [
        "for usuario in set(assistiram):\n",
        "  print(usuario)"
      ],
      "metadata": {
        "colab": {
          "base_uri": "https://localhost:8080/"
        },
        "id": "Ud4ZebEddaQP",
        "outputId": "6edd29c4-15e0-49a0-c693-bb8e85c06a72"
      },
      "execution_count": null,
      "outputs": [
        {
          "output_type": "stream",
          "name": "stdout",
          "text": [
            "42\n",
            "43\n",
            "13\n",
            "15\n",
            "23\n",
            "56\n"
          ]
        }
      ]
    },
    {
      "cell_type": "code",
      "source": [
        "usuarios_data_science = {15, 23, 43, 56}\n",
        "usuarios_machine_learning = {13, 23, 56, 42}"
      ],
      "metadata": {
        "id": "V0Hl0jSRduDc"
      },
      "execution_count": null,
      "outputs": []
    },
    {
      "cell_type": "code",
      "source": [
        "usuarios_data_science | usuarios_machine_learning"
      ],
      "metadata": {
        "colab": {
          "base_uri": "https://localhost:8080/"
        },
        "id": "FeoGaTJzd6Fa",
        "outputId": "35e18e63-a29a-4579-8325-d75efc19a094"
      },
      "execution_count": null,
      "outputs": [
        {
          "output_type": "execute_result",
          "data": {
            "text/plain": [
              "{13, 15, 23, 42, 43, 56}"
            ]
          },
          "metadata": {},
          "execution_count": 23
        }
      ]
    },
    {
      "cell_type": "markdown",
      "source": [
        "Mais operações de conjuntos"
      ],
      "metadata": {
        "id": "ukKZWPiieGJj"
      }
    },
    {
      "cell_type": "code",
      "source": [
        "usuarios_data_science & usuarios_machine_learning"
      ],
      "metadata": {
        "colab": {
          "base_uri": "https://localhost:8080/"
        },
        "id": "8TqDrvckeHdX",
        "outputId": "3a66a1fa-75a7-49c4-a5ac-b783245b03d7"
      },
      "execution_count": null,
      "outputs": [
        {
          "output_type": "execute_result",
          "data": {
            "text/plain": [
              "{23, 56}"
            ]
          },
          "metadata": {},
          "execution_count": 24
        }
      ]
    },
    {
      "cell_type": "code",
      "source": [
        "usuarios_data_science - usuarios_machine_learning"
      ],
      "metadata": {
        "colab": {
          "base_uri": "https://localhost:8080/"
        },
        "id": "TWrL9mWNemZc",
        "outputId": "53628de6-df07-4263-9ed0-74d56c431ec2"
      },
      "execution_count": null,
      "outputs": [
        {
          "output_type": "execute_result",
          "data": {
            "text/plain": [
              "{15, 43}"
            ]
          },
          "metadata": {},
          "execution_count": 25
        }
      ]
    },
    {
      "cell_type": "code",
      "source": [
        "usuarios_machine_learning - usuarios_data_science"
      ],
      "metadata": {
        "colab": {
          "base_uri": "https://localhost:8080/"
        },
        "id": "bp6gTM1lfBAy",
        "outputId": "25086b90-9669-46ab-9fae-1f4b0afcd6c1"
      },
      "execution_count": null,
      "outputs": [
        {
          "output_type": "execute_result",
          "data": {
            "text/plain": [
              "{13, 42}"
            ]
          },
          "metadata": {},
          "execution_count": 26
        }
      ]
    },
    {
      "cell_type": "code",
      "source": [
        "fez_ds_mas_nao_ml = usuarios_data_science - usuarios_machine_learning\n",
        "15 in fez_ds_mas_nao_ml"
      ],
      "metadata": {
        "colab": {
          "base_uri": "https://localhost:8080/"
        },
        "id": "lgFJvFh5fIwx",
        "outputId": "0a5b9428-385d-4338-f0e6-7dab4f2cd002"
      },
      "execution_count": null,
      "outputs": [
        {
          "output_type": "execute_result",
          "data": {
            "text/plain": [
              "True"
            ]
          },
          "metadata": {},
          "execution_count": 30
        }
      ]
    },
    {
      "cell_type": "code",
      "source": [
        "15 in usuarios_data_science - usuarios_machine_learning"
      ],
      "metadata": {
        "colab": {
          "base_uri": "https://localhost:8080/"
        },
        "id": "yMrf-W4rfVzA",
        "outputId": "95afb466-a6ea-4df1-da94-a92c03ad6d49"
      },
      "execution_count": null,
      "outputs": [
        {
          "output_type": "execute_result",
          "data": {
            "text/plain": [
              "True"
            ]
          },
          "metadata": {},
          "execution_count": 31
        }
      ]
    },
    {
      "cell_type": "code",
      "source": [
        "23 in fez_ds_mas_nao_ml"
      ],
      "metadata": {
        "colab": {
          "base_uri": "https://localhost:8080/"
        },
        "id": "PJtPq5KWfaFq",
        "outputId": "559527a0-fc23-4211-81bb-f18d9acef747"
      },
      "execution_count": null,
      "outputs": [
        {
          "output_type": "execute_result",
          "data": {
            "text/plain": [
              "False"
            ]
          },
          "metadata": {},
          "execution_count": 32
        }
      ]
    },
    {
      "cell_type": "code",
      "source": [
        "23 in usuarios_data_science - usuarios_machine_learning"
      ],
      "metadata": {
        "colab": {
          "base_uri": "https://localhost:8080/"
        },
        "id": "uyZ6Z47NfrhI",
        "outputId": "ea86128e-c865-48d3-f747-3f81fde90b74"
      },
      "execution_count": null,
      "outputs": [
        {
          "output_type": "execute_result",
          "data": {
            "text/plain": [
              "False"
            ]
          },
          "metadata": {},
          "execution_count": 33
        }
      ]
    },
    {
      "cell_type": "code",
      "source": [
        "usuarios_data_science ^ usuarios_machine_learning"
      ],
      "metadata": {
        "colab": {
          "base_uri": "https://localhost:8080/"
        },
        "id": "av35Ye43fsbY",
        "outputId": "cc54f4e2-2471-4c28-a153-6f693386abd4"
      },
      "execution_count": null,
      "outputs": [
        {
          "output_type": "execute_result",
          "data": {
            "text/plain": [
              "{13, 15, 42, 43}"
            ]
          },
          "metadata": {},
          "execution_count": 34
        }
      ]
    },
    {
      "cell_type": "markdown",
      "source": [
        "Bloco 02<br>\n",
        "Operações"
      ],
      "metadata": {
        "id": "7MlFuis4gbNf"
      }
    },
    {
      "cell_type": "markdown",
      "source": [
        "Outro tipo de conjunto e conjuntos de outros tipos"
      ],
      "metadata": {
        "id": "JlFKVd0kgdW_"
      }
    },
    {
      "cell_type": "code",
      "source": [
        "usuarios = {1, 5, 76, 34, 52, 13, 17}\n",
        "print(len(usuarios), 'usuários')"
      ],
      "metadata": {
        "colab": {
          "base_uri": "https://localhost:8080/"
        },
        "id": "RsNhF06qggs2",
        "outputId": "bd544963-203d-45ea-c1ea-0fcea6032d70"
      },
      "execution_count": null,
      "outputs": [
        {
          "output_type": "stream",
          "name": "stdout",
          "text": [
            "7 usuários\n"
          ]
        }
      ]
    },
    {
      "cell_type": "code",
      "source": [
        "usuarios.add(13)\n",
        "print(len(usuarios), 'usuários')"
      ],
      "metadata": {
        "colab": {
          "base_uri": "https://localhost:8080/"
        },
        "id": "FWN8-TQig0P1",
        "outputId": "b51ccfa1-24bc-49c1-9cb3-eca9530eb25f"
      },
      "execution_count": null,
      "outputs": [
        {
          "output_type": "stream",
          "name": "stdout",
          "text": [
            "7 usuários\n"
          ]
        }
      ]
    },
    {
      "cell_type": "code",
      "source": [
        "usuarios.add(90)\n",
        "print(len(usuarios), 'usuários')"
      ],
      "metadata": {
        "colab": {
          "base_uri": "https://localhost:8080/"
        },
        "id": "lBTttxrFhFJ1",
        "outputId": "cb77e5ff-40f8-4656-a3da-4ac3f6ae7188"
      },
      "execution_count": null,
      "outputs": [
        {
          "output_type": "stream",
          "name": "stdout",
          "text": [
            "8 usuários\n"
          ]
        }
      ]
    },
    {
      "cell_type": "code",
      "source": [
        "usuarios"
      ],
      "metadata": {
        "colab": {
          "base_uri": "https://localhost:8080/"
        },
        "id": "tDJuWQg0hL59",
        "outputId": "66685e22-e347-4043-e278-089f0475e1d6"
      },
      "execution_count": null,
      "outputs": [
        {
          "output_type": "execute_result",
          "data": {
            "text/plain": [
              "{1, 5, 13, 17, 34, 52, 76, 90}"
            ]
          },
          "metadata": {},
          "execution_count": 40
        }
      ]
    },
    {
      "cell_type": "code",
      "source": [
        "usuarios = frozenset(usuarios)\n",
        "usuarios"
      ],
      "metadata": {
        "colab": {
          "base_uri": "https://localhost:8080/"
        },
        "id": "EWhA5rEShRFE",
        "outputId": "10855e06-f09f-4129-eeab-d5f076857dbd"
      },
      "execution_count": null,
      "outputs": [
        {
          "output_type": "execute_result",
          "data": {
            "text/plain": [
              "frozenset({1, 5, 13, 17, 34, 52, 76, 90})"
            ]
          },
          "metadata": {},
          "execution_count": 41
        }
      ]
    },
    {
      "cell_type": "code",
      "source": [
        "type(usuarios)"
      ],
      "metadata": {
        "colab": {
          "base_uri": "https://localhost:8080/"
        },
        "id": "3ttqEWfvhndM",
        "outputId": "1867916f-4be3-4180-9bfc-937fcba52878"
      },
      "execution_count": null,
      "outputs": [
        {
          "output_type": "execute_result",
          "data": {
            "text/plain": [
              "frozenset"
            ]
          },
          "metadata": {},
          "execution_count": 42
        }
      ]
    },
    {
      "cell_type": "code",
      "source": [
        "usuarios.add(99)"
      ],
      "metadata": {
        "colab": {
          "base_uri": "https://localhost:8080/",
          "height": 175
        },
        "id": "lf1YrviZho_U",
        "outputId": "6c851263-153d-416b-cfad-af58255aed2e"
      },
      "execution_count": null,
      "outputs": [
        {
          "output_type": "error",
          "ename": "AttributeError",
          "evalue": "ignored",
          "traceback": [
            "\u001b[0;31m---------------------------------------------------------------------------\u001b[0m",
            "\u001b[0;31mAttributeError\u001b[0m                            Traceback (most recent call last)",
            "\u001b[0;32m<ipython-input-43-9ebf8a7bc6f2>\u001b[0m in \u001b[0;36m<cell line: 1>\u001b[0;34m()\u001b[0m\n\u001b[0;32m----> 1\u001b[0;31m \u001b[0musuarios\u001b[0m\u001b[0;34m.\u001b[0m\u001b[0madd\u001b[0m\u001b[0;34m(\u001b[0m\u001b[0;36m99\u001b[0m\u001b[0;34m)\u001b[0m\u001b[0;34m\u001b[0m\u001b[0;34m\u001b[0m\u001b[0m\n\u001b[0m",
            "\u001b[0;31mAttributeError\u001b[0m: 'frozenset' object has no attribute 'add'"
          ]
        }
      ]
    },
    {
      "cell_type": "code",
      "source": [
        "texto = 'lorem ipsum dolor sit amet lorem ipsum dolor sit lorem ipsum dolor'\n",
        "texto.split()"
      ],
      "metadata": {
        "colab": {
          "base_uri": "https://localhost:8080/"
        },
        "id": "BzQMIA55hw-U",
        "outputId": "82a5a4d8-bee5-43fa-cf4d-b86f142d7ebf"
      },
      "execution_count": null,
      "outputs": [
        {
          "output_type": "execute_result",
          "data": {
            "text/plain": [
              "['lorem',\n",
              " 'ipsum',\n",
              " 'dolor',\n",
              " 'sit',\n",
              " 'amet',\n",
              " 'lorem',\n",
              " 'ipsum',\n",
              " 'dolor',\n",
              " 'sit',\n",
              " 'lorem',\n",
              " 'ipsum',\n",
              " 'dolor']"
            ]
          },
          "metadata": {},
          "execution_count": 46
        }
      ]
    },
    {
      "cell_type": "code",
      "source": [
        "set(texto.split())"
      ],
      "metadata": {
        "colab": {
          "base_uri": "https://localhost:8080/"
        },
        "id": "GHS-_WNbiZKb",
        "outputId": "b53301de-0887-4688-cf9e-89b5c50a4752"
      },
      "execution_count": null,
      "outputs": [
        {
          "output_type": "execute_result",
          "data": {
            "text/plain": [
              "{'amet', 'dolor', 'ipsum', 'lorem', 'sit'}"
            ]
          },
          "metadata": {},
          "execution_count": 47
        }
      ]
    },
    {
      "cell_type": "markdown",
      "source": [
        "Bloco 03<br>\n",
        "Dicionários"
      ],
      "metadata": {
        "id": "sNhNE84viu78"
      }
    },
    {
      "cell_type": "markdown",
      "source": [
        "Dicionários"
      ],
      "metadata": {
        "id": "PnGyusy5iybE"
      }
    },
    {
      "cell_type": "code",
      "source": [
        "valores = {'valor1' : 1, 'valor2' : 2, 'valor3' : 3, 'valor4' : 4}\n",
        "valores"
      ],
      "metadata": {
        "colab": {
          "base_uri": "https://localhost:8080/"
        },
        "id": "2Bg1v56Ji0w8",
        "outputId": "9759e019-dbe8-4a38-80a1-c42e8120268d"
      },
      "execution_count": null,
      "outputs": [
        {
          "output_type": "execute_result",
          "data": {
            "text/plain": [
              "{'valor1': 1, 'valor2': 2, 'valor3': 3, 'valor4': 4}"
            ]
          },
          "metadata": {},
          "execution_count": 63
        }
      ]
    },
    {
      "cell_type": "code",
      "source": [
        "type(valores)"
      ],
      "metadata": {
        "colab": {
          "base_uri": "https://localhost:8080/"
        },
        "id": "m3Pb1ZGpoAal",
        "outputId": "e0b875b1-b433-4c84-d725-62981c3975e1"
      },
      "execution_count": null,
      "outputs": [
        {
          "output_type": "execute_result",
          "data": {
            "text/plain": [
              "dict"
            ]
          },
          "metadata": {},
          "execution_count": 51
        }
      ]
    },
    {
      "cell_type": "code",
      "source": [
        "valores['valor1']"
      ],
      "metadata": {
        "colab": {
          "base_uri": "https://localhost:8080/"
        },
        "id": "fMASyscpoBS0",
        "outputId": "1018cac2-239e-49de-b004-d759a6da0136"
      },
      "execution_count": null,
      "outputs": [
        {
          "output_type": "execute_result",
          "data": {
            "text/plain": [
              "1"
            ]
          },
          "metadata": {},
          "execution_count": 52
        }
      ]
    },
    {
      "cell_type": "code",
      "source": [
        "valores['valor2']"
      ],
      "metadata": {
        "colab": {
          "base_uri": "https://localhost:8080/"
        },
        "id": "09rpl0WhoMDP",
        "outputId": "0693f006-931a-494e-a6d9-ba01285622bc"
      },
      "execution_count": null,
      "outputs": [
        {
          "output_type": "execute_result",
          "data": {
            "text/plain": [
              "2"
            ]
          },
          "metadata": {},
          "execution_count": 53
        }
      ]
    },
    {
      "cell_type": "code",
      "source": [
        "valores['valor100']"
      ],
      "metadata": {
        "colab": {
          "base_uri": "https://localhost:8080/",
          "height": 175
        },
        "id": "GPfVeLoQoMlU",
        "outputId": "3a3a316d-a72e-4ead-cd86-56f3163a3e8b"
      },
      "execution_count": null,
      "outputs": [
        {
          "output_type": "error",
          "ename": "KeyError",
          "evalue": "ignored",
          "traceback": [
            "\u001b[0;31m---------------------------------------------------------------------------\u001b[0m",
            "\u001b[0;31mKeyError\u001b[0m                                  Traceback (most recent call last)",
            "\u001b[0;32m<ipython-input-54-3e32a83439b4>\u001b[0m in \u001b[0;36m<cell line: 1>\u001b[0;34m()\u001b[0m\n\u001b[0;32m----> 1\u001b[0;31m \u001b[0mvalores\u001b[0m\u001b[0;34m[\u001b[0m\u001b[0;34m'valor100'\u001b[0m\u001b[0;34m]\u001b[0m\u001b[0;34m\u001b[0m\u001b[0;34m\u001b[0m\u001b[0m\n\u001b[0m",
            "\u001b[0;31mKeyError\u001b[0m: 'valor100'"
          ]
        }
      ]
    },
    {
      "cell_type": "code",
      "source": [
        "valores.get('valor100', 0)"
      ],
      "metadata": {
        "colab": {
          "base_uri": "https://localhost:8080/"
        },
        "id": "dbPo9TZ4oP88",
        "outputId": "0042dcf1-0021-47c3-b4e8-e60ad2cbeaa5"
      },
      "execution_count": null,
      "outputs": [
        {
          "output_type": "execute_result",
          "data": {
            "text/plain": [
              "0"
            ]
          },
          "metadata": {},
          "execution_count": 55
        }
      ]
    },
    {
      "cell_type": "code",
      "source": [
        "valores.get('valor3', 0)"
      ],
      "metadata": {
        "colab": {
          "base_uri": "https://localhost:8080/"
        },
        "id": "kiN0Berfod_V",
        "outputId": "53ddefd0-b131-46a3-af39-fab825d54fc2"
      },
      "execution_count": null,
      "outputs": [
        {
          "output_type": "execute_result",
          "data": {
            "text/plain": [
              "3"
            ]
          },
          "metadata": {},
          "execution_count": 56
        }
      ]
    },
    {
      "cell_type": "code",
      "source": [
        "valores = dict(valor1 = 1, valor2 = 2, valor3 = 3, valor4 = 4)\n",
        "valores"
      ],
      "metadata": {
        "colab": {
          "base_uri": "https://localhost:8080/"
        },
        "id": "M1MLxswcog4-",
        "outputId": "ef84ffd6-901f-4b28-deb3-d5616405a2a6"
      },
      "execution_count": null,
      "outputs": [
        {
          "output_type": "execute_result",
          "data": {
            "text/plain": [
              "{'valor1': 1, 'valor2': 2, 'valor3': 3, 'valor4': 4}"
            ]
          },
          "metadata": {},
          "execution_count": 65
        }
      ]
    },
    {
      "cell_type": "code",
      "source": [
        "type(valores)"
      ],
      "metadata": {
        "colab": {
          "base_uri": "https://localhost:8080/"
        },
        "outputId": "9a1de50a-b531-404c-9736-a0c2f0aed6ee",
        "id": "aFpETDA1owAt"
      },
      "execution_count": null,
      "outputs": [
        {
          "output_type": "execute_result",
          "data": {
            "text/plain": [
              "dict"
            ]
          },
          "metadata": {},
          "execution_count": 59
        }
      ]
    },
    {
      "cell_type": "code",
      "source": [
        "valores['valor1']"
      ],
      "metadata": {
        "colab": {
          "base_uri": "https://localhost:8080/"
        },
        "outputId": "30e1290e-5082-463f-c60d-abde991b7aff",
        "id": "Q98ahSz_owA1"
      },
      "execution_count": null,
      "outputs": [
        {
          "output_type": "execute_result",
          "data": {
            "text/plain": [
              "1"
            ]
          },
          "metadata": {},
          "execution_count": 60
        }
      ]
    },
    {
      "cell_type": "code",
      "source": [
        "valores['valor2']"
      ],
      "metadata": {
        "colab": {
          "base_uri": "https://localhost:8080/"
        },
        "outputId": "a9b7a9f9-b365-4287-c551-4c848484e52c",
        "id": "kuOLJSj2owA1"
      },
      "execution_count": null,
      "outputs": [
        {
          "output_type": "execute_result",
          "data": {
            "text/plain": [
              "2"
            ]
          },
          "metadata": {},
          "execution_count": 61
        }
      ]
    },
    {
      "cell_type": "markdown",
      "source": [
        "Mais operações de dicionários"
      ],
      "metadata": {
        "id": "SY8MTsi9pM5K"
      }
    },
    {
      "cell_type": "code",
      "source": [
        "valores = {'valor1' : 1, 'valor2' : 2, 'valor3' : 3, 'valor4' : 4}\n",
        "valores"
      ],
      "metadata": {
        "colab": {
          "base_uri": "https://localhost:8080/"
        },
        "id": "R4ABqOxopPnY",
        "outputId": "a907b03c-24f7-4914-a304-14fdcb49ae30"
      },
      "execution_count": null,
      "outputs": [
        {
          "output_type": "execute_result",
          "data": {
            "text/plain": [
              "{'valor1': 1, 'valor2': 2, 'valor3': 3, 'valor4': 4}"
            ]
          },
          "metadata": {},
          "execution_count": 82
        }
      ]
    },
    {
      "cell_type": "code",
      "source": [
        "valores['valor10'] = 10"
      ],
      "metadata": {
        "id": "DhY9ooGppRUo"
      },
      "execution_count": null,
      "outputs": []
    },
    {
      "cell_type": "code",
      "source": [
        "valores"
      ],
      "metadata": {
        "colab": {
          "base_uri": "https://localhost:8080/"
        },
        "id": "KV9Ihv_UpYog",
        "outputId": "1f3c7ef5-806a-42ec-ddbc-d5cce6a8f177"
      },
      "execution_count": null,
      "outputs": [
        {
          "output_type": "execute_result",
          "data": {
            "text/plain": [
              "{'valor1': 1, 'valor2': 2, 'valor3': 3, 'valor4': 4, 'valor10': 10}"
            ]
          },
          "metadata": {},
          "execution_count": 84
        }
      ]
    },
    {
      "cell_type": "code",
      "source": [
        "valores['valor1'] = 69874469984\n",
        "valores"
      ],
      "metadata": {
        "colab": {
          "base_uri": "https://localhost:8080/"
        },
        "id": "D_t1PjZOpZJI",
        "outputId": "d709783e-727b-47e7-ac10-03ac35d8a20c"
      },
      "execution_count": null,
      "outputs": [
        {
          "output_type": "execute_result",
          "data": {
            "text/plain": [
              "{'valor1': 69874469984, 'valor2': 2, 'valor3': 3, 'valor4': 4, 'valor10': 10}"
            ]
          },
          "metadata": {},
          "execution_count": 85
        }
      ]
    },
    {
      "cell_type": "code",
      "source": [
        "del valores['valor1']\n",
        "valores"
      ],
      "metadata": {
        "colab": {
          "base_uri": "https://localhost:8080/"
        },
        "id": "Ycqu6GXupczp",
        "outputId": "07fcd433-b080-42f5-e11f-eaf1f4e6dfcd"
      },
      "execution_count": null,
      "outputs": [
        {
          "output_type": "execute_result",
          "data": {
            "text/plain": [
              "{'valor2': 2, 'valor3': 3, 'valor4': 4, 'valor10': 10}"
            ]
          },
          "metadata": {},
          "execution_count": 86
        }
      ]
    },
    {
      "cell_type": "code",
      "source": [
        "'valor3' in valores"
      ],
      "metadata": {
        "colab": {
          "base_uri": "https://localhost:8080/"
        },
        "id": "5zb7hlu8pn4h",
        "outputId": "01af66f0-b2c4-41f1-aa29-553f7beb7234"
      },
      "execution_count": null,
      "outputs": [
        {
          "output_type": "execute_result",
          "data": {
            "text/plain": [
              "True"
            ]
          },
          "metadata": {},
          "execution_count": 87
        }
      ]
    },
    {
      "cell_type": "code",
      "source": [
        "'valor7942' in valores"
      ],
      "metadata": {
        "colab": {
          "base_uri": "https://localhost:8080/"
        },
        "id": "knM6ZqXrpuZh",
        "outputId": "66129c2e-e923-4b6e-d630-be566a477d36"
      },
      "execution_count": null,
      "outputs": [
        {
          "output_type": "execute_result",
          "data": {
            "text/plain": [
              "False"
            ]
          },
          "metadata": {},
          "execution_count": 88
        }
      ]
    },
    {
      "cell_type": "code",
      "source": [
        "for valor in valores:\n",
        "  print(valor)"
      ],
      "metadata": {
        "colab": {
          "base_uri": "https://localhost:8080/"
        },
        "id": "ozsC5786pyLh",
        "outputId": "681210ab-279f-4568-c1dd-2138b6e19e50"
      },
      "execution_count": null,
      "outputs": [
        {
          "output_type": "stream",
          "name": "stdout",
          "text": [
            "valor2\n",
            "valor3\n",
            "valor4\n",
            "valor10\n"
          ]
        }
      ]
    },
    {
      "cell_type": "code",
      "source": [
        "for valor in valores.keys():\n",
        "  print(valor)"
      ],
      "metadata": {
        "colab": {
          "base_uri": "https://localhost:8080/"
        },
        "id": "3q-RXZk-p7EK",
        "outputId": "63057485-c7dc-4305-b4ce-d833079748eb"
      },
      "execution_count": null,
      "outputs": [
        {
          "output_type": "stream",
          "name": "stdout",
          "text": [
            "valor2\n",
            "valor3\n",
            "valor4\n",
            "valor10\n"
          ]
        }
      ]
    },
    {
      "cell_type": "code",
      "source": [
        "for valor in valores.values():\n",
        "  print(valor)"
      ],
      "metadata": {
        "colab": {
          "base_uri": "https://localhost:8080/"
        },
        "id": "7mbEhefXqpvj",
        "outputId": "20f2cf1a-892a-466c-b560-b1a5a695258b"
      },
      "execution_count": null,
      "outputs": [
        {
          "output_type": "stream",
          "name": "stdout",
          "text": [
            "2\n",
            "3\n",
            "4\n",
            "10\n"
          ]
        }
      ]
    },
    {
      "cell_type": "code",
      "source": [
        "10 in valores.values()"
      ],
      "metadata": {
        "colab": {
          "base_uri": "https://localhost:8080/"
        },
        "id": "oY3TpoX7qrC7",
        "outputId": "dfcfa76a-1143-4de5-f7b0-63e4978ca5a7"
      },
      "execution_count": null,
      "outputs": [
        {
          "output_type": "execute_result",
          "data": {
            "text/plain": [
              "True"
            ]
          },
          "metadata": {},
          "execution_count": 92
        }
      ]
    },
    {
      "cell_type": "code",
      "source": [
        "for valor in valores.keys():\n",
        "  print(valor, valores[valor])"
      ],
      "metadata": {
        "colab": {
          "base_uri": "https://localhost:8080/"
        },
        "id": "FaIPLTj3qvLr",
        "outputId": "c12ffd11-8f5c-47ff-ea99-846dfc04bddd"
      },
      "execution_count": null,
      "outputs": [
        {
          "output_type": "stream",
          "name": "stdout",
          "text": [
            "valor2 2\n",
            "valor3 3\n",
            "valor4 4\n",
            "valor10 10\n"
          ]
        }
      ]
    },
    {
      "cell_type": "code",
      "source": [
        "# cada item é uma tupla de tamanho dois\n",
        "\n",
        "for v in valores.items():\n",
        "  print(v)"
      ],
      "metadata": {
        "colab": {
          "base_uri": "https://localhost:8080/"
        },
        "id": "wJFjy3Ccq9mD",
        "outputId": "f352b82b-4286-42a4-9e4a-c97ff72f86f6"
      },
      "execution_count": null,
      "outputs": [
        {
          "output_type": "stream",
          "name": "stdout",
          "text": [
            "('valor2', 2)\n",
            "('valor3', 3)\n",
            "('valor4', 4)\n",
            "('valor10', 10)\n"
          ]
        }
      ]
    },
    {
      "cell_type": "code",
      "source": [
        "for chave, valor in valores.items():\n",
        "  print(chave, '=', valor)"
      ],
      "metadata": {
        "colab": {
          "base_uri": "https://localhost:8080/"
        },
        "id": "_bbqnNOrrHFb",
        "outputId": "b8a41a45-6450-4706-9c0b-e67290532ab2"
      },
      "execution_count": null,
      "outputs": [
        {
          "output_type": "stream",
          "name": "stdout",
          "text": [
            "valor2 = 2\n",
            "valor3 = 3\n",
            "valor4 = 4\n",
            "valor10 = 10\n"
          ]
        }
      ]
    },
    {
      "cell_type": "code",
      "source": [
        "[f'valor {chave}' for chave in valores.keys()]"
      ],
      "metadata": {
        "colab": {
          "base_uri": "https://localhost:8080/"
        },
        "id": "0Sfw6dYRrxAN",
        "outputId": "cb4b2b0c-6db3-4316-dd57-df9d3cd15e68"
      },
      "execution_count": null,
      "outputs": [
        {
          "output_type": "execute_result",
          "data": {
            "text/plain": [
              "['valor valor2', 'valor valor3', 'valor valor4', 'valor valor10']"
            ]
          },
          "metadata": {},
          "execution_count": 103
        }
      ]
    },
    {
      "cell_type": "code",
      "source": [
        "valores.get('valor10')"
      ],
      "metadata": {
        "colab": {
          "base_uri": "https://localhost:8080/"
        },
        "id": "F6sddpk6sXbU",
        "outputId": "0169ef6f-e3e0-462b-d185-45f6a4bf752e"
      },
      "execution_count": null,
      "outputs": [
        {
          "output_type": "execute_result",
          "data": {
            "text/plain": [
              "10"
            ]
          },
          "metadata": {},
          "execution_count": 104
        }
      ]
    },
    {
      "cell_type": "markdown",
      "source": [
        "Bloco 04<br>\n",
        "Variações de dicionários"
      ],
      "metadata": {
        "id": "mlqrKP1iuskY"
      }
    },
    {
      "cell_type": "markdown",
      "source": [
        "Default dict"
      ],
      "metadata": {
        "id": "Nk_oF8dyuxfw"
      }
    },
    {
      "cell_type": "code",
      "source": [
        "texto = 'lOrEm iPsUm dOlOr sIt aMeT LoReM IpSuM DoLoR SiT LoReM IpSuM DoLoR'\n",
        "texto = texto.lower()\n",
        "\n",
        "aparicoes = {}\n",
        "\n",
        "for palavra in texto.split():\n",
        "  aparicoes[palavra] = aparicoes.get(palavra, 0) + 1\n",
        "\n",
        "aparicoes"
      ],
      "metadata": {
        "colab": {
          "base_uri": "https://localhost:8080/"
        },
        "id": "JHPwzI6fuy-F",
        "outputId": "10ed9c59-f1c2-4f27-c21f-ca329a996095"
      },
      "execution_count": null,
      "outputs": [
        {
          "output_type": "execute_result",
          "data": {
            "text/plain": [
              "{'lorem': 3, 'ipsum': 3, 'dolor': 3, 'sit': 2, 'amet': 1}"
            ]
          },
          "metadata": {},
          "execution_count": 110
        }
      ]
    },
    {
      "cell_type": "code",
      "source": [
        "from collections import defaultdict\n",
        "\n",
        "aparicoes = defaultdict(int)\n",
        "\n",
        "for palavra in texto.split():\n",
        "  aparicoes[palavra] = aparicoes[palavra] + 1\n",
        "\n",
        "aparicoes"
      ],
      "metadata": {
        "colab": {
          "base_uri": "https://localhost:8080/"
        },
        "id": "KRyhdrE7vbHf",
        "outputId": "7f0fc851-822d-4312-eaa1-32b35125490b"
      },
      "execution_count": null,
      "outputs": [
        {
          "output_type": "execute_result",
          "data": {
            "text/plain": [
              "defaultdict(int, {'lorem': 3, 'ipsum': 3, 'dolor': 3, 'sit': 2, 'amet': 1})"
            ]
          },
          "metadata": {},
          "execution_count": 121
        }
      ]
    },
    {
      "cell_type": "code",
      "source": [
        "defaultdict = defaultdict(int)\n",
        "defaultdict['bruno']"
      ],
      "metadata": {
        "colab": {
          "base_uri": "https://localhost:8080/"
        },
        "id": "gy6i0EjYywyX",
        "outputId": "0969340a-b213-4a22-cc29-dacd2e79efbb"
      },
      "execution_count": null,
      "outputs": [
        {
          "output_type": "execute_result",
          "data": {
            "text/plain": [
              "0"
            ]
          },
          "metadata": {},
          "execution_count": 122
        }
      ]
    },
    {
      "cell_type": "code",
      "source": [
        "defaultdict['bruno'] = 15\n",
        "defaultdict['bruno']"
      ],
      "metadata": {
        "colab": {
          "base_uri": "https://localhost:8080/"
        },
        "id": "BFJX7fNwy3eD",
        "outputId": "33e473e3-8e39-4090-c672-5c6453248449"
      },
      "execution_count": null,
      "outputs": [
        {
          "output_type": "execute_result",
          "data": {
            "text/plain": [
              "15"
            ]
          },
          "metadata": {},
          "execution_count": 123
        }
      ]
    },
    {
      "cell_type": "markdown",
      "source": [
        "Counter"
      ],
      "metadata": {
        "id": "L3SfLKvvzekv"
      }
    },
    {
      "cell_type": "code",
      "source": [
        "from collections import defaultdict\n",
        "\n",
        "aparicoes = defaultdict(int)\n",
        "\n",
        "for palavra in texto.split():\n",
        "  aparicoes[palavra] += 1\n",
        "\n",
        "aparicoes"
      ],
      "metadata": {
        "colab": {
          "base_uri": "https://localhost:8080/"
        },
        "id": "CdqaElxYzfJs",
        "outputId": "f5df4270-4ca6-4624-c6b0-0e84b78ce172"
      },
      "execution_count": null,
      "outputs": [
        {
          "output_type": "execute_result",
          "data": {
            "text/plain": [
              "defaultdict(int, {'lorem': 3, 'ipsum': 3, 'dolor': 3, 'sit': 2, 'amet': 1})"
            ]
          },
          "metadata": {},
          "execution_count": 125
        }
      ]
    },
    {
      "cell_type": "code",
      "source": [
        "class Conta:\n",
        "  def __init__(self):\n",
        "    print('iniciando uma classe conta...')"
      ],
      "metadata": {
        "id": "JklMcPh30ydB"
      },
      "execution_count": null,
      "outputs": []
    },
    {
      "cell_type": "code",
      "source": [
        "contas = defaultdict(Conta)\n",
        "contas[15]"
      ],
      "metadata": {
        "colab": {
          "base_uri": "https://localhost:8080/"
        },
        "id": "9X57RXzw05X8",
        "outputId": "16e43fbd-79a8-4c07-ab58-30a7adafb726"
      },
      "execution_count": null,
      "outputs": [
        {
          "output_type": "stream",
          "name": "stdout",
          "text": [
            "iniciando uma classe conta...\n"
          ]
        },
        {
          "output_type": "execute_result",
          "data": {
            "text/plain": [
              "<__main__.Conta at 0x7ba5c09f3400>"
            ]
          },
          "metadata": {},
          "execution_count": 127
        }
      ]
    },
    {
      "cell_type": "code",
      "source": [
        "contas[20]"
      ],
      "metadata": {
        "colab": {
          "base_uri": "https://localhost:8080/"
        },
        "id": "lvOCahVb1HAd",
        "outputId": "a3a8c30f-1439-4360-818d-f7a91df8e1cb"
      },
      "execution_count": null,
      "outputs": [
        {
          "output_type": "stream",
          "name": "stdout",
          "text": [
            "iniciando uma classe conta...\n"
          ]
        },
        {
          "output_type": "execute_result",
          "data": {
            "text/plain": [
              "<__main__.Conta at 0x7ba5c09f2650>"
            ]
          },
          "metadata": {},
          "execution_count": 128
        }
      ]
    },
    {
      "cell_type": "code",
      "source": [
        "contas[20]"
      ],
      "metadata": {
        "colab": {
          "base_uri": "https://localhost:8080/"
        },
        "id": "uOpU6w-g1IXd",
        "outputId": "879061c5-f715-4d2e-b522-4ccaee191de1"
      },
      "execution_count": null,
      "outputs": [
        {
          "output_type": "execute_result",
          "data": {
            "text/plain": [
              "<__main__.Conta at 0x7ba5c09f2650>"
            ]
          },
          "metadata": {},
          "execution_count": 129
        }
      ]
    },
    {
      "cell_type": "code",
      "source": [
        "contas"
      ],
      "metadata": {
        "colab": {
          "base_uri": "https://localhost:8080/"
        },
        "id": "EfE5hLbN1JrH",
        "outputId": "583db3de-948c-4433-a5cc-006159b60e09"
      },
      "execution_count": null,
      "outputs": [
        {
          "output_type": "execute_result",
          "data": {
            "text/plain": [
              "defaultdict(__main__.Conta,\n",
              "            {15: <__main__.Conta at 0x7ba5c09f3400>,\n",
              "             20: <__main__.Conta at 0x7ba5c09f2650>})"
            ]
          },
          "metadata": {},
          "execution_count": 130
        }
      ]
    },
    {
      "cell_type": "code",
      "source": [
        "from collections import Counter\n",
        "\n",
        "aparicoes = Counter(texto.split())\n",
        "aparicoes"
      ],
      "metadata": {
        "colab": {
          "base_uri": "https://localhost:8080/"
        },
        "id": "dIVi4k_B1XQH",
        "outputId": "66440a4f-1701-4c84-8061-1f9287b7d997"
      },
      "execution_count": null,
      "outputs": [
        {
          "output_type": "execute_result",
          "data": {
            "text/plain": [
              "Counter({'lorem': 3, 'ipsum': 3, 'dolor': 3, 'sit': 2, 'amet': 1})"
            ]
          },
          "metadata": {},
          "execution_count": 131
        }
      ]
    },
    {
      "cell_type": "markdown",
      "source": [
        "Bloco 05<br>\n",
        "Praticando"
      ],
      "metadata": {
        "id": "fEqPYdlI2if0"
      }
    },
    {
      "cell_type": "markdown",
      "source": [
        "Colocando tudo em prática"
      ],
      "metadata": {
        "id": "sckZMqnR2-4t"
      }
    },
    {
      "cell_type": "code",
      "source": [
        "fortnite = '''\n",
        "Fortnite’s new season is a trip through the game’s history\n",
        "\n",
        "Fortnite OG will only last a month, but each update will bring back features from the battle royale’s past.\n",
        "\n",
        "The Fortnite island is changing once again — but this time, it’ll look very familiar to longtime fans. The game just launched its latest season, which has been dubbed “Fortnite OG.” According to developer Epic Games, the game will be regularly updated throughout the season, and “each major update will bring a different phase of battle royale’s past.”\n",
        "\n",
        "To start, Fortnite OG will be focused on Chapter 1: Season 5. That means the return of Tilted Towers (which was infamously destroyed back in 2019), bringing back classic weapons like the assault rifle, pump shotgun, and hunting rifle and returning vehicles like the shopping cart and the all-terrain kart.\n",
        "\n",
        "The rest of OG will dig into subsequent chapters. On November 9th, there will be a season 6-themed update (that means quadcrashers and six-shooters), November 16th will tackle seasons 7 and 8 (Stormwing planes and mini-guns), and November 23rd will cover seasons 9 and X (jetpacks and the Baller).\n",
        "\n",
        "You can find the full list of changes on Epic’s blog, but it sounds like there will be plenty of surprises as well. “Some of the unvaulted gear in each update will remain for that update, be in more than one update, or stay for the rest of Fortnite OG,” the developer says. It also appears that the season will call back to some of the live events that defined that period of the game, like the rolling cube, erupting volcano, or the black hole that ended it all. Based on screenshots, we at least know that the meteor and the cube hovering over Loot Lake will return in some form:\n",
        "\n",
        "This season is also different in that it is much shorter than usual. Whereas a Fortnite season typically lasts around three months, Fortnite OG will span just four weeks. Because of this, the battle pass — called an OG pass here — will feature 50 unlockable items, half the normal pass, but will still cost the normal 950 V-bucks. (Players will be able to unlock 1,000 V-bucks if they complete the pass, and it remains free for Fortnite Crew subscribers.) Here’s the cast of characters you can unlock — they’re remixes of popular outfits from the game’s history:\n",
        "\n",
        "Naturally, the in-game shop will also feature what Epic describes as a “curated selections of classic, mashup, and fresh items” to purchase.\n",
        "\n",
        "The big shake-up comes during a particularly tumultuous period of change for both Fortnite and its developer. The game has seen a shift toward user-created experiences, while also dealing with rising prices, the departure of creative lead Donald Mustard, and major layoffs at Epic Games.\n",
        "\n",
        "https://www.theverge.com/2023/11/3/23943701/fortnite-og-new-season-tilted-towers-baller\n",
        "\n",
        "'''"
      ],
      "metadata": {
        "id": "2bXINm_f3Afs"
      },
      "execution_count": null,
      "outputs": []
    },
    {
      "cell_type": "code",
      "source": [
        "apple = '''\n",
        "Apple’s iPhone lineup is selling well, but the Mac is in a serious rough patch\n",
        "\n",
        "Mac revenue was down 34 percent year over year, with Tim Cook describing the current PC market as ‘challenging.’ But he thinks the M3 lineup should turn things around.\n",
        "\n",
        "Apple reported a record September earnings quarter on Thursday, with iPhone revenue up year over year — even with just a week or so of iPhone 15 sales factored into the numbers. But all of the company’s other hardware divisions were down, and as CNBC noted, overall sales were down for the fourth consecutive quarter. The company brought in $89.5 billion in revenue overall for the quarter.\n",
        "\n",
        "CEO Tim Cook told CNBC that the iPhone 15 lineup is showing stronger early momentum than the 14 series. “If you look at iPhone 15 for that period of time and compare it to iPhone 14 for the same time in the year-ago quarter, iPhone 15 did better than iPhone 14,” he said, adding that the Pro and Pro Max devices were both currently supply-constrained.\n",
        "\n",
        "The Mac business was hit particularly hard, down 34 percent year over year. So you can see the impetus for Apple holding its M3 event earlier this week, where the company introduced updated MacBook Pros and a refreshed iMac. Cook described the current PC consumer market as “challenging.”\n",
        "\n",
        "“I think the Mac is going to have a significantly better quarter in the December quarter,” Cook told CNBC. “We’ve got the M3, we’ve got the new products, and we don’t have the compare phenomenon on a year-over-year basis.” Cook claimed that the Mac business was unusually strong at this time last year.\n",
        "\n",
        "With no new recent models to speak of, iPad revenue fell by 10 percent. Wearables revenue was down by a considerably smaller 3 percent. As usual, Apple’s services unit was a reliable moneymaker and was up 16 percent year over year. “Every main service hit a record,” Cook told CNBC.\n",
        "\n",
        "Apple’s CEO seems optimistic about the company’s position heading into the holiday shopping season. “We now have our strongest lineup of products ever heading into the holiday season, including the iPhone 15 lineup and our first carbon neutral Apple Watch models, a major milestone in our efforts to make all Apple products carbon neutral by 2030,” he said in a press release.\n",
        "\n",
        "https://www.theverge.com/2023/11/2/23944114/apple-q4-2023-earnings-iphone-15\n",
        "\n",
        "'''"
      ],
      "metadata": {
        "id": "EpQ_gKsy3_i4"
      },
      "execution_count": null,
      "outputs": []
    },
    {
      "cell_type": "code",
      "source": [
        "def analisar_frequencia(texto):\n",
        "  vezes = Counter(texto.lower())\n",
        "  total = sum(vezes.values())\n",
        "\n",
        "  porcentagem = Counter(dict([(letra, frequencia / total) for letra, frequencia in vezes.items()]))\n",
        "  for caractere, porcentagem in porcentagem.most_common(10):\n",
        "    print(caractere, '-', f'{porcentagem * 100:.2f}', '%')"
      ],
      "metadata": {
        "id": "qS_-gSB25TT0"
      },
      "execution_count": null,
      "outputs": []
    },
    {
      "cell_type": "code",
      "source": [
        "analisar_frequencia(fortnite)"
      ],
      "metadata": {
        "colab": {
          "base_uri": "https://localhost:8080/"
        },
        "id": "NycrrQRn51od",
        "outputId": "3b5dd2de-1f27-45dc-867b-e3636ffe1053"
      },
      "execution_count": null,
      "outputs": [
        {
          "output_type": "stream",
          "name": "stdout",
          "text": [
            "  - 16.20 %\n",
            "e - 9.55 %\n",
            "t - 7.47 %\n",
            "a - 6.65 %\n",
            "s - 5.97 %\n",
            "o - 5.26 %\n",
            "r - 4.72 %\n",
            "l - 4.72 %\n",
            "i - 4.61 %\n",
            "n - 4.58 %\n"
          ]
        }
      ]
    },
    {
      "cell_type": "code",
      "source": [
        "analisar_frequencia(apple)"
      ],
      "metadata": {
        "colab": {
          "base_uri": "https://localhost:8080/"
        },
        "id": "NabKwATu8jpT",
        "outputId": "2fc23631-d6e5-43f9-eff7-e3457dd7b314"
      },
      "execution_count": null,
      "outputs": [
        {
          "output_type": "stream",
          "name": "stdout",
          "text": [
            "  - 16.36 %\n",
            "e - 10.43 %\n",
            "a - 6.01 %\n",
            "t - 5.88 %\n",
            "o - 5.84 %\n",
            "r - 5.71 %\n",
            "n - 5.50 %\n",
            "i - 4.64 %\n",
            "s - 4.42 %\n",
            "h - 3.65 %\n"
          ]
        }
      ]
    },
    {
      "cell_type": "markdown",
      "source": [
        "SEE YOU SPACE COWBOY..."
      ],
      "metadata": {
        "id": "vt-b1ql48rIq"
      }
    }
  ]
}