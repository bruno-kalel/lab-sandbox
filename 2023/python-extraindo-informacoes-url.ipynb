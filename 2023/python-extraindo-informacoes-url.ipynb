{
  "nbformat": 4,
  "nbformat_minor": 0,
  "metadata": {
    "colab": {
      "provenance": [],
      "authorship_tag": "ABX9TyN+wKZBtpfcE6JUSebZ5HXB"
    },
    "kernelspec": {
      "name": "python3",
      "display_name": "Python 3"
    },
    "language_info": {
      "name": "python"
    }
  },
  "cells": [
    {
      "cell_type": "markdown",
      "source": [
        "Curso de<br>\n",
        "String em Python: extraindo informações de uma URL<br>\n",
        "`https://cursos.alura.com.br/course/string-python-extraindo-informacoes-url`"
      ],
      "metadata": {
        "id": "TVVvz7n-wnoX"
      }
    },
    {
      "cell_type": "markdown",
      "source": [
        "Bloco 01<br>\n",
        "Introdução e fatiamento de strings"
      ],
      "metadata": {
        "id": "nlDzRRj_6SEL"
      }
    },
    {
      "cell_type": "code",
      "source": [
        "url = 'https://conversor.com/cambio?origem=real&destino=dolar&quantidade=100'"
      ],
      "metadata": {
        "id": "jX-gya8Pzjtb"
      },
      "execution_count": null,
      "outputs": []
    },
    {
      "cell_type": "code",
      "source": [
        "print(url)"
      ],
      "metadata": {
        "colab": {
          "base_uri": "https://localhost:8080/"
        },
        "id": "cwTvNDb61-Z8",
        "outputId": "be719846-3dc1-4413-b184-1e8c78457dd3"
      },
      "execution_count": null,
      "outputs": [
        {
          "output_type": "stream",
          "name": "stdout",
          "text": [
            "https://conversor.com/cambio?origem=real&destino=dolar&quantidade=100\n"
          ]
        }
      ]
    },
    {
      "cell_type": "code",
      "source": [
        "texto = 'abcde'"
      ],
      "metadata": {
        "id": "Nj_r31BK2yF4"
      },
      "execution_count": null,
      "outputs": []
    },
    {
      "cell_type": "code",
      "source": [
        "texto[0]"
      ],
      "metadata": {
        "colab": {
          "base_uri": "https://localhost:8080/",
          "height": 35
        },
        "id": "x9MXAFgd4yF3",
        "outputId": "34bcf14f-8941-4a8a-9cf9-913ba22544d5"
      },
      "execution_count": null,
      "outputs": [
        {
          "output_type": "execute_result",
          "data": {
            "text/plain": [
              "'a'"
            ],
            "application/vnd.google.colaboratory.intrinsic+json": {
              "type": "string"
            }
          },
          "metadata": {},
          "execution_count": 4
        }
      ]
    },
    {
      "cell_type": "code",
      "source": [
        "texto[0:1]"
      ],
      "metadata": {
        "colab": {
          "base_uri": "https://localhost:8080/",
          "height": 35
        },
        "id": "AgWDbTr74y8n",
        "outputId": "9e9983f1-ce16-4df9-a328-f3fe9633a3d2"
      },
      "execution_count": null,
      "outputs": [
        {
          "output_type": "execute_result",
          "data": {
            "text/plain": [
              "'a'"
            ],
            "application/vnd.google.colaboratory.intrinsic+json": {
              "type": "string"
            }
          },
          "metadata": {},
          "execution_count": 5
        }
      ]
    },
    {
      "cell_type": "code",
      "source": [
        "texto[0:2]"
      ],
      "metadata": {
        "colab": {
          "base_uri": "https://localhost:8080/",
          "height": 35
        },
        "id": "Ti2lv21-40fW",
        "outputId": "57df315c-f85c-4b64-c627-0dc2f6235870"
      },
      "execution_count": null,
      "outputs": [
        {
          "output_type": "execute_result",
          "data": {
            "text/plain": [
              "'ab'"
            ],
            "application/vnd.google.colaboratory.intrinsic+json": {
              "type": "string"
            }
          },
          "metadata": {},
          "execution_count": 6
        }
      ]
    },
    {
      "cell_type": "code",
      "source": [
        "url = 'conversor.com/cambio?origem=real'"
      ],
      "metadata": {
        "id": "UPYf5OIj42ke"
      },
      "execution_count": null,
      "outputs": []
    },
    {
      "cell_type": "code",
      "source": [
        "url[0:20]"
      ],
      "metadata": {
        "colab": {
          "base_uri": "https://localhost:8080/",
          "height": 35
        },
        "id": "8fAs3aWO5cwO",
        "outputId": "b6bb0441-cf09-4d14-e4f1-db5fbc83e000"
      },
      "execution_count": null,
      "outputs": [
        {
          "output_type": "execute_result",
          "data": {
            "text/plain": [
              "'conversor.com/cambio'"
            ],
            "application/vnd.google.colaboratory.intrinsic+json": {
              "type": "string"
            }
          },
          "metadata": {},
          "execution_count": 8
        }
      ]
    },
    {
      "cell_type": "code",
      "source": [
        "url[21:39]"
      ],
      "metadata": {
        "colab": {
          "base_uri": "https://localhost:8080/",
          "height": 35
        },
        "id": "-7V0GMe55hV8",
        "outputId": "92973d5c-1819-4d7c-8b74-d9a0cb142244"
      },
      "execution_count": null,
      "outputs": [
        {
          "output_type": "execute_result",
          "data": {
            "text/plain": [
              "'origem=real'"
            ],
            "application/vnd.google.colaboratory.intrinsic+json": {
              "type": "string"
            }
          },
          "metadata": {},
          "execution_count": 9
        }
      ]
    },
    {
      "cell_type": "markdown",
      "source": [
        "Bloco 02<br>\n",
        "Utilizando métodos de strings"
      ],
      "metadata": {
        "id": "jZov85wE8Lt1"
      }
    },
    {
      "cell_type": "code",
      "source": [
        "url = 'conversor.com/cambio?qntd=100&moedaOrigem=real&moedaDestino=dolar'"
      ],
      "metadata": {
        "id": "8Sp3N2dyFPq0"
      },
      "execution_count": null,
      "outputs": []
    },
    {
      "cell_type": "code",
      "source": [
        "# separar base e parâmetros\n",
        "\n",
        "indice_interrogacao = url.find('?')\n",
        "url_base = url[:indice_interrogacao]\n",
        "url_parametros = url[indice_interrogacao+1:]\n",
        "print(url_parametros)"
      ],
      "metadata": {
        "colab": {
          "base_uri": "https://localhost:8080/"
        },
        "id": "ajDt5u5pFYAJ",
        "outputId": "6e77d065-54d4-4b20-ee8f-85482574b123"
      },
      "execution_count": null,
      "outputs": [
        {
          "output_type": "stream",
          "name": "stdout",
          "text": [
            "qntd=100&moedaOrigem=real&moedaDestino=dolar\n"
          ]
        }
      ]
    },
    {
      "cell_type": "code",
      "source": [
        "# buscar o valor de um parâmetro\n",
        "\n",
        "parametro_busca = 'qntd'\n",
        "indice_parametro = url_parametros.find(parametro_busca)\n",
        "indice_valor = indice_parametro + len(parametro_busca) + 1\n",
        "indice_e_comercial = url_parametros.find('&', indice_valor)\n",
        "\n",
        "if indice_e_comercial == -1:\n",
        "  valor = url_parametros[indice_valor:]\n",
        "else:\n",
        "  valor = url_parametros[indice_valor:indice_e_comercial]\n",
        "\n",
        "print(valor)"
      ],
      "metadata": {
        "colab": {
          "base_uri": "https://localhost:8080/"
        },
        "id": "KrTGqK-0FkX0",
        "outputId": "ae3c4b0f-bd77-4a36-bff3-0155a15a9e4c"
      },
      "execution_count": null,
      "outputs": [
        {
          "output_type": "stream",
          "name": "stdout",
          "text": [
            "100\n"
          ]
        }
      ]
    },
    {
      "cell_type": "code",
      "source": [
        "# buscar o valor de um parâmetro\n",
        "\n",
        "parametro_busca = 'moedaOrigem'\n",
        "indice_parametro = url_parametros.find(parametro_busca)\n",
        "indice_valor = indice_parametro + len(parametro_busca) + 1\n",
        "indice_e_comercial = url_parametros.find('&', indice_valor)\n",
        "\n",
        "if indice_e_comercial == -1:\n",
        "  valor = url_parametros[indice_valor:]\n",
        "else:\n",
        "  valor = url_parametros[indice_valor:indice_e_comercial]\n",
        "\n",
        "print(valor)"
      ],
      "metadata": {
        "colab": {
          "base_uri": "https://localhost:8080/"
        },
        "id": "U24B2h5fGAxA",
        "outputId": "9a307551-b42e-4573-c545-010e7ad952d1"
      },
      "execution_count": null,
      "outputs": [
        {
          "output_type": "stream",
          "name": "stdout",
          "text": [
            "real\n"
          ]
        }
      ]
    },
    {
      "cell_type": "code",
      "source": [
        "# buscar o valor de um parâmetro\n",
        "\n",
        "parametro_busca = 'moedaDestino'\n",
        "indice_parametro = url_parametros.find(parametro_busca)\n",
        "indice_valor = indice_parametro + len(parametro_busca) + 1\n",
        "indice_e_comercial = url_parametros.find('&', indice_valor)\n",
        "\n",
        "if indice_e_comercial == -1:\n",
        "  valor = url_parametros[indice_valor:]\n",
        "else:\n",
        "  valor = url_parametros[indice_valor:indice_e_comercial]\n",
        "\n",
        "print(valor)"
      ],
      "metadata": {
        "colab": {
          "base_uri": "https://localhost:8080/"
        },
        "id": "NCWL0bEcGk4V",
        "outputId": "c1186daf-97d8-4348-ee21-558ec267c13a"
      },
      "execution_count": null,
      "outputs": [
        {
          "output_type": "stream",
          "name": "stdout",
          "text": [
            "dolar\n"
          ]
        }
      ]
    },
    {
      "cell_type": "markdown",
      "source": [
        "Bloco 03<br>\n",
        "Aplicando Orientação a Objetos no projeto"
      ],
      "metadata": {
        "id": "jWOPSsU-HCxX"
      }
    },
    {
      "cell_type": "code",
      "source": [
        "url = ' '"
      ],
      "metadata": {
        "id": "TMf0fCDIHKZX"
      },
      "execution_count": null,
      "outputs": []
    },
    {
      "cell_type": "code",
      "source": [
        "# sanitização da url\n",
        "url = url.strip()"
      ],
      "metadata": {
        "id": "IBydvkXwLok2"
      },
      "execution_count": null,
      "outputs": []
    },
    {
      "cell_type": "code",
      "source": [
        "# validação da url\n",
        "if url == '':\n",
        "  raise ValueError('url vazia')"
      ],
      "metadata": {
        "colab": {
          "base_uri": "https://localhost:8080/",
          "height": 210
        },
        "id": "Kp9JAzIULsWv",
        "outputId": "976a6cd9-c63d-47db-9d65-653023292f08"
      },
      "execution_count": null,
      "outputs": [
        {
          "output_type": "error",
          "ename": "ValueError",
          "evalue": "ignored",
          "traceback": [
            "\u001b[0;31m---------------------------------------------------------------------------\u001b[0m",
            "\u001b[0;31mValueError\u001b[0m                                Traceback (most recent call last)",
            "\u001b[0;32m<ipython-input-50-8bc44ef8a9b7>\u001b[0m in \u001b[0;36m<cell line: 2>\u001b[0;34m()\u001b[0m\n\u001b[1;32m      1\u001b[0m \u001b[0;31m# validação da url\u001b[0m\u001b[0;34m\u001b[0m\u001b[0;34m\u001b[0m\u001b[0m\n\u001b[1;32m      2\u001b[0m \u001b[0;32mif\u001b[0m \u001b[0murl\u001b[0m \u001b[0;34m==\u001b[0m \u001b[0;34m''\u001b[0m\u001b[0;34m:\u001b[0m\u001b[0;34m\u001b[0m\u001b[0;34m\u001b[0m\u001b[0m\n\u001b[0;32m----> 3\u001b[0;31m   \u001b[0;32mraise\u001b[0m \u001b[0mValueError\u001b[0m\u001b[0;34m(\u001b[0m\u001b[0;34m'url vazia'\u001b[0m\u001b[0;34m)\u001b[0m\u001b[0;34m\u001b[0m\u001b[0;34m\u001b[0m\u001b[0m\n\u001b[0m",
            "\u001b[0;31mValueError\u001b[0m: url vazia"
          ]
        }
      ]
    },
    {
      "cell_type": "code",
      "source": [
        "class Extrator:\n",
        "  def __init__(self, url):\n",
        "    self.url = self.sanitizar(url)\n",
        "    self.validar()\n",
        "\n",
        "  def sanitizar(self, url):\n",
        "    return url.strip()\n",
        "\n",
        "  def validar(self):\n",
        "    if self.url == '':\n",
        "      raise ValueError('url vazia')"
      ],
      "metadata": {
        "id": "GvLqIXADLyAG"
      },
      "execution_count": null,
      "outputs": []
    },
    {
      "cell_type": "code",
      "source": [
        "e = Extrator('\\n\\n\\n')"
      ],
      "metadata": {
        "colab": {
          "base_uri": "https://localhost:8080/",
          "height": 286
        },
        "id": "Pk7ug5tKoSgO",
        "outputId": "ecf5e72e-a9d7-4559-e0e7-f661e50d537a"
      },
      "execution_count": null,
      "outputs": [
        {
          "output_type": "error",
          "ename": "ValueError",
          "evalue": "ignored",
          "traceback": [
            "\u001b[0;31m---------------------------------------------------------------------------\u001b[0m",
            "\u001b[0;31mValueError\u001b[0m                                Traceback (most recent call last)",
            "\u001b[0;32m<ipython-input-2-8e021ae8c873>\u001b[0m in \u001b[0;36m<cell line: 1>\u001b[0;34m()\u001b[0m\n\u001b[0;32m----> 1\u001b[0;31m \u001b[0me\u001b[0m \u001b[0;34m=\u001b[0m \u001b[0mExtrator\u001b[0m\u001b[0;34m(\u001b[0m\u001b[0;34m'\\n\\n\\n'\u001b[0m\u001b[0;34m)\u001b[0m\u001b[0;34m\u001b[0m\u001b[0;34m\u001b[0m\u001b[0m\n\u001b[0m",
            "\u001b[0;32m<ipython-input-1-4b13ef9f66c7>\u001b[0m in \u001b[0;36m__init__\u001b[0;34m(self, url)\u001b[0m\n\u001b[1;32m      2\u001b[0m   \u001b[0;32mdef\u001b[0m \u001b[0m__init__\u001b[0m\u001b[0;34m(\u001b[0m\u001b[0mself\u001b[0m\u001b[0;34m,\u001b[0m \u001b[0murl\u001b[0m\u001b[0;34m)\u001b[0m\u001b[0;34m:\u001b[0m\u001b[0;34m\u001b[0m\u001b[0;34m\u001b[0m\u001b[0m\n\u001b[1;32m      3\u001b[0m     \u001b[0mself\u001b[0m\u001b[0;34m.\u001b[0m\u001b[0murl\u001b[0m \u001b[0;34m=\u001b[0m \u001b[0mself\u001b[0m\u001b[0;34m.\u001b[0m\u001b[0msanitizar\u001b[0m\u001b[0;34m(\u001b[0m\u001b[0murl\u001b[0m\u001b[0;34m)\u001b[0m\u001b[0;34m\u001b[0m\u001b[0;34m\u001b[0m\u001b[0m\n\u001b[0;32m----> 4\u001b[0;31m     \u001b[0mself\u001b[0m\u001b[0;34m.\u001b[0m\u001b[0mvalidar\u001b[0m\u001b[0;34m(\u001b[0m\u001b[0;34m)\u001b[0m\u001b[0;34m\u001b[0m\u001b[0;34m\u001b[0m\u001b[0m\n\u001b[0m\u001b[1;32m      5\u001b[0m \u001b[0;34m\u001b[0m\u001b[0m\n\u001b[1;32m      6\u001b[0m   \u001b[0;32mdef\u001b[0m \u001b[0msanitizar\u001b[0m\u001b[0;34m(\u001b[0m\u001b[0mself\u001b[0m\u001b[0;34m,\u001b[0m \u001b[0murl\u001b[0m\u001b[0;34m)\u001b[0m\u001b[0;34m:\u001b[0m\u001b[0;34m\u001b[0m\u001b[0;34m\u001b[0m\u001b[0m\n",
            "\u001b[0;32m<ipython-input-1-4b13ef9f66c7>\u001b[0m in \u001b[0;36mvalidar\u001b[0;34m(self)\u001b[0m\n\u001b[1;32m      9\u001b[0m   \u001b[0;32mdef\u001b[0m \u001b[0mvalidar\u001b[0m\u001b[0;34m(\u001b[0m\u001b[0mself\u001b[0m\u001b[0;34m)\u001b[0m\u001b[0;34m:\u001b[0m\u001b[0;34m\u001b[0m\u001b[0;34m\u001b[0m\u001b[0m\n\u001b[1;32m     10\u001b[0m     \u001b[0;32mif\u001b[0m \u001b[0mself\u001b[0m\u001b[0;34m.\u001b[0m\u001b[0murl\u001b[0m \u001b[0;34m==\u001b[0m \u001b[0;34m''\u001b[0m\u001b[0;34m:\u001b[0m\u001b[0;34m\u001b[0m\u001b[0;34m\u001b[0m\u001b[0m\n\u001b[0;32m---> 11\u001b[0;31m       \u001b[0;32mraise\u001b[0m \u001b[0mValueError\u001b[0m\u001b[0;34m(\u001b[0m\u001b[0;34m'url vazia'\u001b[0m\u001b[0;34m)\u001b[0m\u001b[0;34m\u001b[0m\u001b[0;34m\u001b[0m\u001b[0m\n\u001b[0m",
            "\u001b[0;31mValueError\u001b[0m: url vazia"
          ]
        }
      ]
    },
    {
      "cell_type": "code",
      "source": [
        "e = Extrator('cursos.alura.com.br')"
      ],
      "metadata": {
        "id": "8ofruaJXoXkM"
      },
      "execution_count": null,
      "outputs": []
    },
    {
      "cell_type": "code",
      "source": [
        "class Extrator:\n",
        "  def __init__(self, url):\n",
        "    self.url = self.sanitizar(url)\n",
        "    self.validar()\n",
        "\n",
        "  def sanitizar(self, url):\n",
        "    if url:\n",
        "      return url.strip()\n",
        "    else:\n",
        "      return ''\n",
        "\n",
        "  def validar(self):\n",
        "    if not self.url:\n",
        "      raise ValueError('url vazia')\n",
        "\n",
        "  def get_base(self):\n",
        "    indice_interrogacao = self.url.find('?')\n",
        "    base = self.url[:indice_interrogacao]\n",
        "    return base\n",
        "\n",
        "  def get_parametro(self):\n",
        "    indice_interrogacao = self.url.find('?')\n",
        "    parametro = self.url[indice_interrogacao + 1:]\n",
        "    return parametro\n",
        "\n",
        "  def get_valor(self, parametro):\n",
        "    indice_parametro = self.get_parametro().find(parametro)\n",
        "    indice_valor = indice_parametro + len(parametro) + 1\n",
        "    indice_e_comercial = self.get_parametro().find('&', indice_valor)\n",
        "    if indice_e_comercial == -1:\n",
        "      valor = self.get_parametro()[indice_valor:]\n",
        "    else:\n",
        "      valor = self.get_parametro()[indice_valor:indice_e_comercial]\n",
        "    return valor"
      ],
      "metadata": {
        "id": "7RFZRj0vofzr"
      },
      "execution_count": null,
      "outputs": []
    },
    {
      "cell_type": "code",
      "source": [
        "e = Extrator('conversor.com/cambio?qntd=100&moedaOrigem=real&moedaDestino=dolar')"
      ],
      "metadata": {
        "id": "1GYmEuUKqSrg"
      },
      "execution_count": null,
      "outputs": []
    },
    {
      "cell_type": "code",
      "source": [
        "print(e.get_valor('qntd'))"
      ],
      "metadata": {
        "colab": {
          "base_uri": "https://localhost:8080/"
        },
        "id": "Ld2Srok1qXrO",
        "outputId": "0d4da13d-aeb6-40dc-e2ec-1a1fb71021ef"
      },
      "execution_count": null,
      "outputs": [
        {
          "output_type": "stream",
          "name": "stdout",
          "text": [
            "100\n"
          ]
        }
      ]
    },
    {
      "cell_type": "code",
      "source": [
        "print(e.get_valor('moedaOrigem'))"
      ],
      "metadata": {
        "colab": {
          "base_uri": "https://localhost:8080/"
        },
        "id": "uFy52mL4qesA",
        "outputId": "ee53fa7b-0092-4827-b1eb-7cf1d9f0abeb"
      },
      "execution_count": null,
      "outputs": [
        {
          "output_type": "stream",
          "name": "stdout",
          "text": [
            "real\n"
          ]
        }
      ]
    },
    {
      "cell_type": "code",
      "source": [
        "print(e.get_valor('moedaDestino'))"
      ],
      "metadata": {
        "colab": {
          "base_uri": "https://localhost:8080/"
        },
        "id": "uQZaaKQ6qp2T",
        "outputId": "156d7612-22ed-40b9-bd8f-69e197fb6f46"
      },
      "execution_count": null,
      "outputs": [
        {
          "output_type": "stream",
          "name": "stdout",
          "text": [
            "dolar\n"
          ]
        }
      ]
    },
    {
      "cell_type": "code",
      "source": [
        "e = Extrator(None)"
      ],
      "metadata": {
        "colab": {
          "base_uri": "https://localhost:8080/",
          "height": 321
        },
        "id": "BtPJXoEtswl6",
        "outputId": "a96d4c06-b084-4308-efc6-80b0648e01e3"
      },
      "execution_count": null,
      "outputs": [
        {
          "output_type": "error",
          "ename": "ValueError",
          "evalue": "ignored",
          "traceback": [
            "\u001b[0;31m---------------------------------------------------------------------------\u001b[0m",
            "\u001b[0;31mValueError\u001b[0m                                Traceback (most recent call last)",
            "\u001b[0;32m<ipython-input-17-fb950473a533>\u001b[0m in \u001b[0;36m<cell line: 1>\u001b[0;34m()\u001b[0m\n\u001b[0;32m----> 1\u001b[0;31m \u001b[0me\u001b[0m \u001b[0;34m=\u001b[0m \u001b[0mExtrator\u001b[0m\u001b[0;34m(\u001b[0m\u001b[0;32mNone\u001b[0m\u001b[0;34m)\u001b[0m\u001b[0;34m\u001b[0m\u001b[0;34m\u001b[0m\u001b[0m\n\u001b[0m",
            "\u001b[0;32m<ipython-input-16-c6f0e364790d>\u001b[0m in \u001b[0;36m__init__\u001b[0;34m(self, url)\u001b[0m\n\u001b[1;32m      2\u001b[0m   \u001b[0;32mdef\u001b[0m \u001b[0m__init__\u001b[0m\u001b[0;34m(\u001b[0m\u001b[0mself\u001b[0m\u001b[0;34m,\u001b[0m \u001b[0murl\u001b[0m\u001b[0;34m)\u001b[0m\u001b[0;34m:\u001b[0m\u001b[0;34m\u001b[0m\u001b[0;34m\u001b[0m\u001b[0m\n\u001b[1;32m      3\u001b[0m     \u001b[0mself\u001b[0m\u001b[0;34m.\u001b[0m\u001b[0murl\u001b[0m \u001b[0;34m=\u001b[0m \u001b[0mself\u001b[0m\u001b[0;34m.\u001b[0m\u001b[0msanitizar\u001b[0m\u001b[0;34m(\u001b[0m\u001b[0murl\u001b[0m\u001b[0;34m)\u001b[0m\u001b[0;34m\u001b[0m\u001b[0;34m\u001b[0m\u001b[0m\n\u001b[0;32m----> 4\u001b[0;31m     \u001b[0mself\u001b[0m\u001b[0;34m.\u001b[0m\u001b[0mvalidar\u001b[0m\u001b[0;34m(\u001b[0m\u001b[0;34m)\u001b[0m\u001b[0;34m\u001b[0m\u001b[0;34m\u001b[0m\u001b[0m\n\u001b[0m\u001b[1;32m      5\u001b[0m \u001b[0;34m\u001b[0m\u001b[0m\n\u001b[1;32m      6\u001b[0m   \u001b[0;32mdef\u001b[0m \u001b[0msanitizar\u001b[0m\u001b[0;34m(\u001b[0m\u001b[0mself\u001b[0m\u001b[0;34m,\u001b[0m \u001b[0murl\u001b[0m\u001b[0;34m)\u001b[0m\u001b[0;34m:\u001b[0m\u001b[0;34m\u001b[0m\u001b[0;34m\u001b[0m\u001b[0m\n",
            "\u001b[0;32m<ipython-input-16-c6f0e364790d>\u001b[0m in \u001b[0;36mvalidar\u001b[0;34m(self)\u001b[0m\n\u001b[1;32m     12\u001b[0m   \u001b[0;32mdef\u001b[0m \u001b[0mvalidar\u001b[0m\u001b[0;34m(\u001b[0m\u001b[0mself\u001b[0m\u001b[0;34m)\u001b[0m\u001b[0;34m:\u001b[0m\u001b[0;34m\u001b[0m\u001b[0;34m\u001b[0m\u001b[0m\n\u001b[1;32m     13\u001b[0m     \u001b[0;32mif\u001b[0m \u001b[0;32mnot\u001b[0m \u001b[0mself\u001b[0m\u001b[0;34m.\u001b[0m\u001b[0murl\u001b[0m\u001b[0;34m:\u001b[0m\u001b[0;34m\u001b[0m\u001b[0;34m\u001b[0m\u001b[0m\n\u001b[0;32m---> 14\u001b[0;31m       \u001b[0;32mraise\u001b[0m \u001b[0mValueError\u001b[0m\u001b[0;34m(\u001b[0m\u001b[0;34m'url vazia'\u001b[0m\u001b[0;34m)\u001b[0m\u001b[0;34m\u001b[0m\u001b[0;34m\u001b[0m\u001b[0m\n\u001b[0m\u001b[1;32m     15\u001b[0m \u001b[0;34m\u001b[0m\u001b[0m\n\u001b[1;32m     16\u001b[0m   \u001b[0;32mdef\u001b[0m \u001b[0mget_base\u001b[0m\u001b[0;34m(\u001b[0m\u001b[0mself\u001b[0m\u001b[0;34m)\u001b[0m\u001b[0;34m:\u001b[0m\u001b[0;34m\u001b[0m\u001b[0;34m\u001b[0m\u001b[0m\n",
            "\u001b[0;31mValueError\u001b[0m: url vazia"
          ]
        }
      ]
    },
    {
      "cell_type": "code",
      "source": [
        "e = Extrator('')"
      ],
      "metadata": {
        "colab": {
          "base_uri": "https://localhost:8080/",
          "height": 321
        },
        "id": "vlt0F1w1s31b",
        "outputId": "8d23a571-35cf-4031-ee61-d760efdcf24a"
      },
      "execution_count": null,
      "outputs": [
        {
          "output_type": "error",
          "ename": "ValueError",
          "evalue": "ignored",
          "traceback": [
            "\u001b[0;31m---------------------------------------------------------------------------\u001b[0m",
            "\u001b[0;31mValueError\u001b[0m                                Traceback (most recent call last)",
            "\u001b[0;32m<ipython-input-18-5008648b2745>\u001b[0m in \u001b[0;36m<cell line: 1>\u001b[0;34m()\u001b[0m\n\u001b[0;32m----> 1\u001b[0;31m \u001b[0me\u001b[0m \u001b[0;34m=\u001b[0m \u001b[0mExtrator\u001b[0m\u001b[0;34m(\u001b[0m\u001b[0;34m''\u001b[0m\u001b[0;34m)\u001b[0m\u001b[0;34m\u001b[0m\u001b[0;34m\u001b[0m\u001b[0m\n\u001b[0m",
            "\u001b[0;32m<ipython-input-16-c6f0e364790d>\u001b[0m in \u001b[0;36m__init__\u001b[0;34m(self, url)\u001b[0m\n\u001b[1;32m      2\u001b[0m   \u001b[0;32mdef\u001b[0m \u001b[0m__init__\u001b[0m\u001b[0;34m(\u001b[0m\u001b[0mself\u001b[0m\u001b[0;34m,\u001b[0m \u001b[0murl\u001b[0m\u001b[0;34m)\u001b[0m\u001b[0;34m:\u001b[0m\u001b[0;34m\u001b[0m\u001b[0;34m\u001b[0m\u001b[0m\n\u001b[1;32m      3\u001b[0m     \u001b[0mself\u001b[0m\u001b[0;34m.\u001b[0m\u001b[0murl\u001b[0m \u001b[0;34m=\u001b[0m \u001b[0mself\u001b[0m\u001b[0;34m.\u001b[0m\u001b[0msanitizar\u001b[0m\u001b[0;34m(\u001b[0m\u001b[0murl\u001b[0m\u001b[0;34m)\u001b[0m\u001b[0;34m\u001b[0m\u001b[0;34m\u001b[0m\u001b[0m\n\u001b[0;32m----> 4\u001b[0;31m     \u001b[0mself\u001b[0m\u001b[0;34m.\u001b[0m\u001b[0mvalidar\u001b[0m\u001b[0;34m(\u001b[0m\u001b[0;34m)\u001b[0m\u001b[0;34m\u001b[0m\u001b[0;34m\u001b[0m\u001b[0m\n\u001b[0m\u001b[1;32m      5\u001b[0m \u001b[0;34m\u001b[0m\u001b[0m\n\u001b[1;32m      6\u001b[0m   \u001b[0;32mdef\u001b[0m \u001b[0msanitizar\u001b[0m\u001b[0;34m(\u001b[0m\u001b[0mself\u001b[0m\u001b[0;34m,\u001b[0m \u001b[0murl\u001b[0m\u001b[0;34m)\u001b[0m\u001b[0;34m:\u001b[0m\u001b[0;34m\u001b[0m\u001b[0;34m\u001b[0m\u001b[0m\n",
            "\u001b[0;32m<ipython-input-16-c6f0e364790d>\u001b[0m in \u001b[0;36mvalidar\u001b[0;34m(self)\u001b[0m\n\u001b[1;32m     12\u001b[0m   \u001b[0;32mdef\u001b[0m \u001b[0mvalidar\u001b[0m\u001b[0;34m(\u001b[0m\u001b[0mself\u001b[0m\u001b[0;34m)\u001b[0m\u001b[0;34m:\u001b[0m\u001b[0;34m\u001b[0m\u001b[0;34m\u001b[0m\u001b[0m\n\u001b[1;32m     13\u001b[0m     \u001b[0;32mif\u001b[0m \u001b[0;32mnot\u001b[0m \u001b[0mself\u001b[0m\u001b[0;34m.\u001b[0m\u001b[0murl\u001b[0m\u001b[0;34m:\u001b[0m\u001b[0;34m\u001b[0m\u001b[0;34m\u001b[0m\u001b[0m\n\u001b[0;32m---> 14\u001b[0;31m       \u001b[0;32mraise\u001b[0m \u001b[0mValueError\u001b[0m\u001b[0;34m(\u001b[0m\u001b[0;34m'url vazia'\u001b[0m\u001b[0;34m)\u001b[0m\u001b[0;34m\u001b[0m\u001b[0;34m\u001b[0m\u001b[0m\n\u001b[0m\u001b[1;32m     15\u001b[0m \u001b[0;34m\u001b[0m\u001b[0m\n\u001b[1;32m     16\u001b[0m   \u001b[0;32mdef\u001b[0m \u001b[0mget_base\u001b[0m\u001b[0;34m(\u001b[0m\u001b[0mself\u001b[0m\u001b[0;34m)\u001b[0m\u001b[0;34m:\u001b[0m\u001b[0;34m\u001b[0m\u001b[0;34m\u001b[0m\u001b[0m\n",
            "\u001b[0;31mValueError\u001b[0m: url vazia"
          ]
        }
      ]
    },
    {
      "cell_type": "markdown",
      "source": [
        "Bloco 04<br>\n",
        "Expressões regulares"
      ],
      "metadata": {
        "id": "LSc0UvC5ufd7"
      }
    },
    {
      "cell_type": "code",
      "source": [
        "from re import compile"
      ],
      "metadata": {
        "id": "d5x3H-pzw_RC"
      },
      "execution_count": null,
      "outputs": []
    },
    {
      "cell_type": "code",
      "source": [
        "# 5 dígitos + hífen (opcional) + 3 dígitos\n",
        "\n",
        "def extrator_cep(endereco):\n",
        "  search = compile('[0123456789][0123456789][0123456789][0123456789][0123456789][-]?[0123456789][0123456789][0123456789]').search(endereco)\n",
        "  if search:\n",
        "    cep = search.group()\n",
        "    return cep"
      ],
      "metadata": {
        "id": "eJwhEd15wc3R"
      },
      "execution_count": null,
      "outputs": []
    },
    {
      "cell_type": "code",
      "source": [
        "print(extrator_cep('Rua das Flores, Número 72, Apartamento 1002, Laranjeiras, Rio de Janeiro, RJ, 23440-120'))"
      ],
      "metadata": {
        "colab": {
          "base_uri": "https://localhost:8080/"
        },
        "id": "YBqt9_BLxuCk",
        "outputId": "6ef3a1b6-48a4-40d6-fefa-5562f38c6d35"
      },
      "execution_count": null,
      "outputs": [
        {
          "output_type": "stream",
          "name": "stdout",
          "text": [
            "23440-120\n"
          ]
        }
      ]
    },
    {
      "cell_type": "code",
      "source": [
        "print(extrator_cep('Rua das Flores, Número 72, Apartamento 1002, Laranjeiras, Rio de Janeiro, RJ, 23440120'))"
      ],
      "metadata": {
        "colab": {
          "base_uri": "https://localhost:8080/"
        },
        "id": "mSD2XhZ8x25w",
        "outputId": "be382bf1-fedf-423b-b664-08b090df9bfb"
      },
      "execution_count": null,
      "outputs": [
        {
          "output_type": "stream",
          "name": "stdout",
          "text": [
            "23440120\n"
          ]
        }
      ]
    },
    {
      "cell_type": "code",
      "source": [
        "# 5 dígitos + hífen (opcional) + 3 dígitos\n",
        "\n",
        "def extrator_cep(endereco):\n",
        "  search = compile('[0123456789]{5}[-]?[0123456789]{3}').search(endereco)\n",
        "  if search:\n",
        "    cep = search.group()\n",
        "    return cep"
      ],
      "metadata": {
        "id": "qfgm1FzOyDYR"
      },
      "execution_count": null,
      "outputs": []
    },
    {
      "cell_type": "code",
      "source": [
        "print(extrator_cep('Rua das Flores, Número 72, Apartamento 1002, Laranjeiras, Rio de Janeiro, RJ, 23440-120'))"
      ],
      "metadata": {
        "outputId": "f6869357-632f-441d-813c-174266394dfe",
        "colab": {
          "base_uri": "https://localhost:8080/"
        },
        "id": "TkBX4hc50JxV"
      },
      "execution_count": null,
      "outputs": [
        {
          "output_type": "stream",
          "name": "stdout",
          "text": [
            "23440-120\n"
          ]
        }
      ]
    },
    {
      "cell_type": "code",
      "source": [
        "print(extrator_cep('Rua das Flores, Número 72, Apartamento 1002, Laranjeiras, Rio de Janeiro, RJ, 23440120'))"
      ],
      "metadata": {
        "outputId": "07f76a45-2bd5-4a09-d832-d1452fc881d9",
        "colab": {
          "base_uri": "https://localhost:8080/"
        },
        "id": "eYpxtNwE0JxY"
      },
      "execution_count": null,
      "outputs": [
        {
          "output_type": "stream",
          "name": "stdout",
          "text": [
            "23440120\n"
          ]
        }
      ]
    },
    {
      "cell_type": "code",
      "source": [
        "# 5 dígitos + hífen (opcional) + 3 dígitos\n",
        "\n",
        "def extrator_cep(endereco):\n",
        "  search = compile('[0-9]{5}[-]?[0-9]{3}').search(endereco)\n",
        "  if search:\n",
        "    cep = search.group()\n",
        "    return cep"
      ],
      "metadata": {
        "id": "s49uY_l20O0p"
      },
      "execution_count": null,
      "outputs": []
    },
    {
      "cell_type": "code",
      "source": [
        "print(extrator_cep('Rua das Flores, Número 72, Apartamento 1002, Laranjeiras, Rio de Janeiro, RJ, 23440-120'))"
      ],
      "metadata": {
        "outputId": "66069989-867d-4d45-c99e-cf26b1b9d213",
        "colab": {
          "base_uri": "https://localhost:8080/"
        },
        "id": "7S3BLRj-0QSo"
      },
      "execution_count": null,
      "outputs": [
        {
          "output_type": "stream",
          "name": "stdout",
          "text": [
            "23440-120\n"
          ]
        }
      ]
    },
    {
      "cell_type": "code",
      "source": [
        "print(extrator_cep('Rua das Flores, Número 72, Apartamento 1002, Laranjeiras, Rio de Janeiro, RJ, 23440120'))"
      ],
      "metadata": {
        "outputId": "001ae152-ac11-42e7-8f0f-dd89d2ff2986",
        "colab": {
          "base_uri": "https://localhost:8080/"
        },
        "id": "Hgl3KIvJ0QSo"
      },
      "execution_count": null,
      "outputs": [
        {
          "output_type": "stream",
          "name": "stdout",
          "text": [
            "23440120\n"
          ]
        }
      ]
    },
    {
      "cell_type": "code",
      "source": [
        "# 5 dígitos + hífen (opcional) + 3 dígitos\n",
        "\n",
        "def extrator_cep(endereco):\n",
        "  search = compile('[0-9]{5}[-]{0,1}[0-9]{3}').search(endereco)\n",
        "  if search:\n",
        "    cep = search.group()\n",
        "    return cep"
      ],
      "metadata": {
        "id": "nw94cNJo0Zep"
      },
      "execution_count": null,
      "outputs": []
    },
    {
      "cell_type": "code",
      "source": [
        "print(extrator_cep('Rua das Flores, Número 72, Apartamento 1002, Laranjeiras, Rio de Janeiro, RJ, 23440-120'))"
      ],
      "metadata": {
        "id": "LVFVNIT10dRJ",
        "outputId": "f1b6667c-3ba0-4365-d8ca-3a491db212e8",
        "colab": {
          "base_uri": "https://localhost:8080/"
        }
      },
      "execution_count": null,
      "outputs": [
        {
          "output_type": "stream",
          "name": "stdout",
          "text": [
            "23440-120\n"
          ]
        }
      ]
    },
    {
      "cell_type": "code",
      "source": [
        "print(extrator_cep('Rua das Flores, Número 72, Apartamento 1002, Laranjeiras, Rio de Janeiro, RJ, 23440120'))"
      ],
      "metadata": {
        "id": "BwfXriHA0d_L",
        "outputId": "f9839773-1a47-4789-ce36-1f55ae6702ea",
        "colab": {
          "base_uri": "https://localhost:8080/"
        }
      },
      "execution_count": null,
      "outputs": [
        {
          "output_type": "stream",
          "name": "stdout",
          "text": [
            "23440120\n"
          ]
        }
      ]
    },
    {
      "cell_type": "code",
      "source": [
        "def validador_url(url):\n",
        "  match = compile('(http(s)?://)?(www.)?conversor.com(.br)?/cambio').match(url)\n",
        "\n",
        "  if not match:\n",
        "    raise ValueError('url inválida')\n",
        "\n",
        "  return 'url válida'"
      ],
      "metadata": {
        "id": "HfZ-uyN22FpW"
      },
      "execution_count": null,
      "outputs": []
    },
    {
      "cell_type": "code",
      "source": [
        "print(validador_url('https://www.conversor.com/cambio'))"
      ],
      "metadata": {
        "id": "YqRDVnmz6RyT",
        "outputId": "423ccf81-151b-4312-8760-c550cde806b6",
        "colab": {
          "base_uri": "https://localhost:8080/"
        }
      },
      "execution_count": null,
      "outputs": [
        {
          "output_type": "stream",
          "name": "stdout",
          "text": [
            "url válida\n"
          ]
        }
      ]
    },
    {
      "cell_type": "code",
      "source": [
        "print(validador_url('http://www.conversor.com/cambio'))"
      ],
      "metadata": {
        "id": "lq1t7RXS6Ykh",
        "outputId": "c7c95aef-6da7-4e36-8b1e-57f0595c19f7",
        "colab": {
          "base_uri": "https://localhost:8080/"
        }
      },
      "execution_count": null,
      "outputs": [
        {
          "output_type": "stream",
          "name": "stdout",
          "text": [
            "url válida\n"
          ]
        }
      ]
    },
    {
      "cell_type": "code",
      "source": [
        "print(validador_url('www.conversor.com/cambio'))"
      ],
      "metadata": {
        "id": "30jNnWmq6kpB",
        "outputId": "86de105c-5c8b-4e4d-ae34-6457f4c58ae7",
        "colab": {
          "base_uri": "https://localhost:8080/"
        }
      },
      "execution_count": null,
      "outputs": [
        {
          "output_type": "stream",
          "name": "stdout",
          "text": [
            "url válida\n"
          ]
        }
      ]
    },
    {
      "cell_type": "code",
      "source": [
        "print(validador_url('conversor.com/cambio'))"
      ],
      "metadata": {
        "id": "bC3BT5EO6mcZ",
        "outputId": "4f7991cd-d0f8-40e2-b30f-cf82754ec426",
        "colab": {
          "base_uri": "https://localhost:8080/"
        }
      },
      "execution_count": null,
      "outputs": [
        {
          "output_type": "stream",
          "name": "stdout",
          "text": [
            "url válida\n"
          ]
        }
      ]
    },
    {
      "cell_type": "code",
      "source": [
        "print(validador_url('conversor.com.br/cambio'))"
      ],
      "metadata": {
        "id": "wzDVMRIY6nbJ",
        "outputId": "b313635d-f783-440c-e71d-a33e113a0128",
        "colab": {
          "base_uri": "https://localhost:8080/"
        }
      },
      "execution_count": null,
      "outputs": [
        {
          "output_type": "stream",
          "name": "stdout",
          "text": [
            "url válida\n"
          ]
        }
      ]
    },
    {
      "cell_type": "code",
      "source": [
        "from re import compile\n",
        "\n",
        "class Extrator:\n",
        "  def __init__(self, url):\n",
        "    self.url = self.sanitizar(url)\n",
        "    self.validar()\n",
        "\n",
        "  def sanitizar(self, url):\n",
        "    if url:\n",
        "      return url.strip()\n",
        "    else:\n",
        "      return ''\n",
        "\n",
        "  def validar(self):\n",
        "    if not self.url:\n",
        "      raise ValueError('url vazia')\n",
        "\n",
        "    match = compile('(http(s)?://)?(www.)?conversor.com(.br)?/cambio').match(self.url)\n",
        "\n",
        "    if not match:\n",
        "      raise ValueError('url inválida')\n",
        "\n",
        "    return 'url válida'\n",
        "\n",
        "  def get_base(self):\n",
        "    indice_interrogacao = self.url.find('?')\n",
        "    base = self.url[:indice_interrogacao]\n",
        "    return base\n",
        "\n",
        "  def get_parametro(self):\n",
        "    indice_interrogacao = self.url.find('?')\n",
        "    parametro = self.url[indice_interrogacao + 1:]\n",
        "    return parametro\n",
        "\n",
        "  def get_valor(self, parametro):\n",
        "    indice_parametro = self.get_parametro().find(parametro)\n",
        "    indice_valor = indice_parametro + len(parametro) + 1\n",
        "    indice_e_comercial = self.get_parametro().find('&', indice_valor)\n",
        "    if indice_e_comercial == -1:\n",
        "      valor = self.get_parametro()[indice_valor:]\n",
        "    else:\n",
        "      valor = self.get_parametro()[indice_valor:indice_e_comercial]\n",
        "    return valor"
      ],
      "metadata": {
        "id": "GOLMJE5U64ij"
      },
      "execution_count": null,
      "outputs": []
    },
    {
      "cell_type": "code",
      "source": [
        "e = Extrator('conversor.com/xyz?qntd=100&moedaOrigem=real&moedaDestino=dolar')"
      ],
      "metadata": {
        "id": "Yo_tZq5F7IRz",
        "outputId": "0049fd46-69df-4bfc-d9b3-2d95184b7e9e",
        "colab": {
          "base_uri": "https://localhost:8080/",
          "height": 321
        }
      },
      "execution_count": null,
      "outputs": [
        {
          "output_type": "error",
          "ename": "ValueError",
          "evalue": "ignored",
          "traceback": [
            "\u001b[0;31m---------------------------------------------------------------------------\u001b[0m",
            "\u001b[0;31mValueError\u001b[0m                                Traceback (most recent call last)",
            "\u001b[0;32m<ipython-input-49-516f135cc0d9>\u001b[0m in \u001b[0;36m<cell line: 1>\u001b[0;34m()\u001b[0m\n\u001b[0;32m----> 1\u001b[0;31m \u001b[0me\u001b[0m \u001b[0;34m=\u001b[0m \u001b[0mExtrator\u001b[0m\u001b[0;34m(\u001b[0m\u001b[0;34m'conversor.com/xyz?qntd=100&moedaOrigem=real&moedaDestino=dolar'\u001b[0m\u001b[0;34m)\u001b[0m\u001b[0;34m\u001b[0m\u001b[0;34m\u001b[0m\u001b[0m\n\u001b[0m",
            "\u001b[0;32m<ipython-input-47-f69f8f407b51>\u001b[0m in \u001b[0;36m__init__\u001b[0;34m(self, url)\u001b[0m\n\u001b[1;32m      4\u001b[0m   \u001b[0;32mdef\u001b[0m \u001b[0m__init__\u001b[0m\u001b[0;34m(\u001b[0m\u001b[0mself\u001b[0m\u001b[0;34m,\u001b[0m \u001b[0murl\u001b[0m\u001b[0;34m)\u001b[0m\u001b[0;34m:\u001b[0m\u001b[0;34m\u001b[0m\u001b[0;34m\u001b[0m\u001b[0m\n\u001b[1;32m      5\u001b[0m     \u001b[0mself\u001b[0m\u001b[0;34m.\u001b[0m\u001b[0murl\u001b[0m \u001b[0;34m=\u001b[0m \u001b[0mself\u001b[0m\u001b[0;34m.\u001b[0m\u001b[0msanitizar\u001b[0m\u001b[0;34m(\u001b[0m\u001b[0murl\u001b[0m\u001b[0;34m)\u001b[0m\u001b[0;34m\u001b[0m\u001b[0;34m\u001b[0m\u001b[0m\n\u001b[0;32m----> 6\u001b[0;31m     \u001b[0mself\u001b[0m\u001b[0;34m.\u001b[0m\u001b[0mvalidar\u001b[0m\u001b[0;34m(\u001b[0m\u001b[0;34m)\u001b[0m\u001b[0;34m\u001b[0m\u001b[0;34m\u001b[0m\u001b[0m\n\u001b[0m\u001b[1;32m      7\u001b[0m \u001b[0;34m\u001b[0m\u001b[0m\n\u001b[1;32m      8\u001b[0m   \u001b[0;32mdef\u001b[0m \u001b[0msanitizar\u001b[0m\u001b[0;34m(\u001b[0m\u001b[0mself\u001b[0m\u001b[0;34m,\u001b[0m \u001b[0murl\u001b[0m\u001b[0;34m)\u001b[0m\u001b[0;34m:\u001b[0m\u001b[0;34m\u001b[0m\u001b[0;34m\u001b[0m\u001b[0m\n",
            "\u001b[0;32m<ipython-input-47-f69f8f407b51>\u001b[0m in \u001b[0;36mvalidar\u001b[0;34m(self)\u001b[0m\n\u001b[1;32m     19\u001b[0m \u001b[0;34m\u001b[0m\u001b[0m\n\u001b[1;32m     20\u001b[0m     \u001b[0;32mif\u001b[0m \u001b[0;32mnot\u001b[0m \u001b[0mmatch\u001b[0m\u001b[0;34m:\u001b[0m\u001b[0;34m\u001b[0m\u001b[0;34m\u001b[0m\u001b[0m\n\u001b[0;32m---> 21\u001b[0;31m       \u001b[0;32mraise\u001b[0m \u001b[0mValueError\u001b[0m\u001b[0;34m(\u001b[0m\u001b[0;34m'url inválida'\u001b[0m\u001b[0;34m)\u001b[0m\u001b[0;34m\u001b[0m\u001b[0;34m\u001b[0m\u001b[0m\n\u001b[0m\u001b[1;32m     22\u001b[0m \u001b[0;34m\u001b[0m\u001b[0m\n\u001b[1;32m     23\u001b[0m     \u001b[0;32mreturn\u001b[0m \u001b[0;34m'url válida'\u001b[0m\u001b[0;34m\u001b[0m\u001b[0;34m\u001b[0m\u001b[0m\n",
            "\u001b[0;31mValueError\u001b[0m: url inválida"
          ]
        }
      ]
    },
    {
      "cell_type": "code",
      "source": [
        "e = Extrator('conversor.com/cambio?qntd=100&moedaOrigem=real&moedaDestino=dolar')"
      ],
      "metadata": {
        "id": "vnJUjYwm7QGh"
      },
      "execution_count": null,
      "outputs": []
    },
    {
      "cell_type": "code",
      "source": [
        "print(e.get_valor('qntd'))"
      ],
      "metadata": {
        "colab": {
          "base_uri": "https://localhost:8080/"
        },
        "outputId": "1fd47e53-6291-4e14-f230-d25411db2c14",
        "id": "L8c0UQya7Wod"
      },
      "execution_count": null,
      "outputs": [
        {
          "output_type": "stream",
          "name": "stdout",
          "text": [
            "100\n"
          ]
        }
      ]
    },
    {
      "cell_type": "code",
      "source": [
        "print(e.get_valor('moedaOrigem'))"
      ],
      "metadata": {
        "colab": {
          "base_uri": "https://localhost:8080/"
        },
        "outputId": "b86b3bbc-9be9-4a48-83bc-562189b18380",
        "id": "VmgSzVaL7Wof"
      },
      "execution_count": null,
      "outputs": [
        {
          "output_type": "stream",
          "name": "stdout",
          "text": [
            "real\n"
          ]
        }
      ]
    },
    {
      "cell_type": "code",
      "source": [
        "print(e.get_valor('moedaDestino'))"
      ],
      "metadata": {
        "colab": {
          "base_uri": "https://localhost:8080/"
        },
        "outputId": "ec1652a2-a14c-4ec0-e7f5-968f0f5eacae",
        "id": "UIn9ixcb7Wog"
      },
      "execution_count": null,
      "outputs": [
        {
          "output_type": "stream",
          "name": "stdout",
          "text": [
            "dolar\n"
          ]
        }
      ]
    },
    {
      "cell_type": "markdown",
      "source": [
        "Bloco 05<br>\n",
        "Métodos especiais"
      ],
      "metadata": {
        "id": "0W9X7Y2I7_XV"
      }
    },
    {
      "cell_type": "code",
      "source": [
        "from re import compile\n",
        "\n",
        "class Extrator:\n",
        "  def __init__(self, url):\n",
        "    self.url = self.sanitizar(url)\n",
        "    self.validar()\n",
        "\n",
        "  def __len__(self):\n",
        "    return len(self.url)\n",
        "\n",
        "  def __str__(self):\n",
        "    return (f'url: {self.url}\\n'\n",
        "            f'base: {self.get_base()}\\n'\n",
        "            f'parâmetros: {self.get_parametro()}')\n",
        "\n",
        "  def sanitizar(self, url):\n",
        "    if url:\n",
        "      return url.strip()\n",
        "    else:\n",
        "      return ''\n",
        "\n",
        "  def validar(self):\n",
        "    if not self.url:\n",
        "      raise ValueError('url vazia')\n",
        "\n",
        "    match = compile('(http(s)?://)?(www.)?conversor.com(.br)?/cambio').match(self.url)\n",
        "\n",
        "    if not match:\n",
        "      raise ValueError('url inválida')\n",
        "\n",
        "    return 'url válida'\n",
        "\n",
        "  def get_base(self):\n",
        "    indice_interrogacao = self.url.find('?')\n",
        "    base = self.url[:indice_interrogacao]\n",
        "    return base\n",
        "\n",
        "  def get_parametro(self):\n",
        "    indice_interrogacao = self.url.find('?')\n",
        "    parametro = self.url[indice_interrogacao + 1:]\n",
        "    return parametro\n",
        "\n",
        "  def get_valor(self, parametro):\n",
        "    indice_parametro = self.get_parametro().find(parametro)\n",
        "    indice_valor = indice_parametro + len(parametro) + 1\n",
        "    indice_e_comercial = self.get_parametro().find('&', indice_valor)\n",
        "    if indice_e_comercial == -1:\n",
        "      valor = self.get_parametro()[indice_valor:]\n",
        "    else:\n",
        "      valor = self.get_parametro()[indice_valor:indice_e_comercial]\n",
        "    return valor"
      ],
      "metadata": {
        "id": "RhV3sLr2-W6t"
      },
      "execution_count": null,
      "outputs": []
    },
    {
      "cell_type": "code",
      "source": [
        "e = Extrator('conversor.com/cambio?qntd=100&moedaOrigem=real&moedaDestino=dolar')"
      ],
      "metadata": {
        "id": "dj8vNm-l_nT7"
      },
      "execution_count": null,
      "outputs": []
    },
    {
      "cell_type": "code",
      "source": [
        "print(f'o tamanho da url é {len(e)}')"
      ],
      "metadata": {
        "colab": {
          "base_uri": "https://localhost:8080/"
        },
        "id": "3srh6f0X_nka",
        "outputId": "a649bf5d-371a-40bd-d6f7-3b2b9aabdb80"
      },
      "execution_count": null,
      "outputs": [
        {
          "output_type": "stream",
          "name": "stdout",
          "text": [
            "o tamanho da url é 65\n"
          ]
        }
      ]
    },
    {
      "cell_type": "code",
      "source": [
        "print(e)"
      ],
      "metadata": {
        "colab": {
          "base_uri": "https://localhost:8080/"
        },
        "id": "z2xH6msEBUOb",
        "outputId": "ede3a128-df89-446c-a146-8cf4861324f0"
      },
      "execution_count": null,
      "outputs": [
        {
          "output_type": "stream",
          "name": "stdout",
          "text": [
            "url: conversor.com/cambio?qntd=100&moedaOrigem=real&moedaDestino=dolar\n",
            "base: conversor.com/cambio\n",
            "parâmetros: qntd=100&moedaOrigem=real&moedaDestino=dolar\n"
          ]
        }
      ]
    },
    {
      "cell_type": "code",
      "source": [
        "class Class:\n",
        "  pass"
      ],
      "metadata": {
        "id": "Yk6LnRqmDa9B"
      },
      "execution_count": null,
      "outputs": []
    },
    {
      "cell_type": "code",
      "source": [
        "c1 = Class()"
      ],
      "metadata": {
        "id": "FHHivQGCDc1Q"
      },
      "execution_count": null,
      "outputs": []
    },
    {
      "cell_type": "code",
      "source": [
        "c2 = c1"
      ],
      "metadata": {
        "id": "6UIbv9FmDd-A"
      },
      "execution_count": null,
      "outputs": []
    },
    {
      "cell_type": "code",
      "source": [
        "c1 == c2"
      ],
      "metadata": {
        "colab": {
          "base_uri": "https://localhost:8080/"
        },
        "id": "0LM_ZUbdDiPQ",
        "outputId": "77740311-35b5-4de5-8554-8f7423a0d33b"
      },
      "execution_count": null,
      "outputs": [
        {
          "output_type": "execute_result",
          "data": {
            "text/plain": [
              "True"
            ]
          },
          "metadata": {},
          "execution_count": 5
        }
      ]
    },
    {
      "cell_type": "code",
      "source": [
        "# id é o mesmo?\n",
        "# estão no mesmo endereço de memória?\n",
        "c1 is c2"
      ],
      "metadata": {
        "colab": {
          "base_uri": "https://localhost:8080/"
        },
        "id": "8nUDtfX-EdHy",
        "outputId": "671c5449-10b4-4893-8873-eafc3d4e96a9"
      },
      "execution_count": null,
      "outputs": [
        {
          "output_type": "execute_result",
          "data": {
            "text/plain": [
              "True"
            ]
          },
          "metadata": {},
          "execution_count": 6
        }
      ]
    }
  ]
}