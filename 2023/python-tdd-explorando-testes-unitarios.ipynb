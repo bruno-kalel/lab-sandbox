{
  "nbformat": 4,
  "nbformat_minor": 0,
  "metadata": {
    "colab": {
      "provenance": [],
      "authorship_tag": "ABX9TyONrqX4Fejh9rg3gNNtR1eY"
    },
    "kernelspec": {
      "name": "python3",
      "display_name": "Python 3"
    },
    "language_info": {
      "name": "python"
    }
  },
  "cells": [
    {
      "cell_type": "code",
      "execution_count": null,
      "metadata": {
        "colab": {
          "base_uri": "https://localhost:8080/"
        },
        "id": "t_adxAT-uSqd",
        "outputId": "11ce2b8a-ce38-44ff-aeae-b38d784a5707"
      },
      "outputs": [
        {
          "output_type": "stream",
          "name": "stdout",
          "text": [
            "Python 3.10.12\n"
          ]
        }
      ],
      "source": [
        "!python -V"
      ]
    },
    {
      "cell_type": "markdown",
      "source": [
        "curso de<br>\n",
        "python e tdd: explorando testes unitários<br>\n",
        "`https://cursos.alura.com.br/course/python-tdd-explorando-testes-unitarios`"
      ],
      "metadata": {
        "id": "9uD3t9i5uZ7b"
      }
    },
    {
      "cell_type": "markdown",
      "source": [
        "bloco 01<br>\n",
        "testes automatizados"
      ],
      "metadata": {
        "id": "Pa1UBoOUAa67"
      }
    },
    {
      "cell_type": "code",
      "source": [
        "!pip install pytest pytest-cov"
      ],
      "metadata": {
        "id": "IFEgoEHXunPE"
      },
      "execution_count": null,
      "outputs": []
    },
    {
      "cell_type": "code",
      "source": [
        "from datetime import date\n",
        "\n",
        "class Funcionário:\n",
        "    def __init__(self, nome, data_nascimento, salário):\n",
        "        self._nome = nome\n",
        "        self._data_nascimento = data_nascimento\n",
        "        self._salário = salário\n",
        "\n",
        "    @property\n",
        "    def nome(self):\n",
        "        return self._nome\n",
        "\n",
        "    @property\n",
        "    def salário(self):\n",
        "        return self._salário\n",
        "\n",
        "    def idade(self):\n",
        "        ano_atual = date.today().year\n",
        "        return ano_atual - int(self._data_nascimento)\n",
        "\n",
        "    def calcular_bônus(self):\n",
        "        valor = self._salário * 0.1\n",
        "        if valor > 1000:\n",
        "            valor = 0\n",
        "        return valor\n",
        "\n",
        "    def __str__(self):\n",
        "        return f'{self._nome}, {self._data_nascimento}, {self._salário}'"
      ],
      "metadata": {
        "id": "KvfO1S9CzWvK"
      },
      "execution_count": null,
      "outputs": []
    },
    {
      "cell_type": "markdown",
      "source": [
        "o projeto bytebank"
      ],
      "metadata": {
        "id": "PRFnrcMwzoL-"
      }
    },
    {
      "cell_type": "code",
      "source": [
        "lucas = Funcionário('lucas carvalho', 2000, 1000)\n",
        "print(lucas)"
      ],
      "metadata": {
        "id": "Nn5lTUK-zpJK",
        "colab": {
          "base_uri": "https://localhost:8080/"
        },
        "outputId": "5c108143-4c9c-4939-ec05-d9ac9a4a272f"
      },
      "execution_count": null,
      "outputs": [
        {
          "output_type": "stream",
          "name": "stdout",
          "text": [
            "lucas carvalho, 2000, 1000\n"
          ]
        }
      ]
    },
    {
      "cell_type": "code",
      "source": [
        "print(lucas.idade())"
      ],
      "metadata": {
        "colab": {
          "base_uri": "https://localhost:8080/"
        },
        "id": "A99ZYD1F0-V3",
        "outputId": "6a27e1f1-b1bf-42e5-fc4f-3b8b66af394b"
      },
      "execution_count": null,
      "outputs": [
        {
          "output_type": "stream",
          "name": "stdout",
          "text": [
            "23\n"
          ]
        }
      ]
    },
    {
      "cell_type": "code",
      "source": [
        "lucas = Funcionário('lucas carvalho', '13/03/2000', 1000)\n",
        "print(lucas)"
      ],
      "metadata": {
        "colab": {
          "base_uri": "https://localhost:8080/"
        },
        "id": "eaMXI_ZD1Esd",
        "outputId": "a2b4a1b2-4f36-4755-cc11-f7913d712776"
      },
      "execution_count": null,
      "outputs": [
        {
          "output_type": "stream",
          "name": "stdout",
          "text": [
            "lucas carvalho, 13/03/2000, 1000\n"
          ]
        }
      ]
    },
    {
      "cell_type": "code",
      "source": [
        "print(lucas.idade())"
      ],
      "metadata": {
        "colab": {
          "base_uri": "https://localhost:8080/",
          "height": 297
        },
        "id": "3ouquIQx1Wqo",
        "outputId": "1aee83ed-127a-4974-8179-3df654c0b6cc"
      },
      "execution_count": null,
      "outputs": [
        {
          "output_type": "error",
          "ename": "ValueError",
          "evalue": "ignored",
          "traceback": [
            "\u001b[0;31m---------------------------------------------------------------------------\u001b[0m",
            "\u001b[0;31mValueError\u001b[0m                                Traceback (most recent call last)",
            "\u001b[0;32m<ipython-input-12-747c6e41dad3>\u001b[0m in \u001b[0;36m<cell line: 1>\u001b[0;34m()\u001b[0m\n\u001b[0;32m----> 1\u001b[0;31m \u001b[0mprint\u001b[0m\u001b[0;34m(\u001b[0m\u001b[0mlucas\u001b[0m\u001b[0;34m.\u001b[0m\u001b[0midade\u001b[0m\u001b[0;34m(\u001b[0m\u001b[0;34m)\u001b[0m\u001b[0;34m)\u001b[0m\u001b[0;34m\u001b[0m\u001b[0;34m\u001b[0m\u001b[0m\n\u001b[0m",
            "\u001b[0;32m<ipython-input-8-b0ef331c5879>\u001b[0m in \u001b[0;36midade\u001b[0;34m(self)\u001b[0m\n\u001b[1;32m     17\u001b[0m     \u001b[0;32mdef\u001b[0m \u001b[0midade\u001b[0m\u001b[0;34m(\u001b[0m\u001b[0mself\u001b[0m\u001b[0;34m)\u001b[0m\u001b[0;34m:\u001b[0m\u001b[0;34m\u001b[0m\u001b[0;34m\u001b[0m\u001b[0m\n\u001b[1;32m     18\u001b[0m         \u001b[0mano_atual\u001b[0m \u001b[0;34m=\u001b[0m \u001b[0mdate\u001b[0m\u001b[0;34m.\u001b[0m\u001b[0mtoday\u001b[0m\u001b[0;34m(\u001b[0m\u001b[0;34m)\u001b[0m\u001b[0;34m.\u001b[0m\u001b[0myear\u001b[0m\u001b[0;34m\u001b[0m\u001b[0;34m\u001b[0m\u001b[0m\n\u001b[0;32m---> 19\u001b[0;31m         \u001b[0;32mreturn\u001b[0m \u001b[0mano_atual\u001b[0m \u001b[0;34m-\u001b[0m \u001b[0mint\u001b[0m\u001b[0;34m(\u001b[0m\u001b[0mself\u001b[0m\u001b[0;34m.\u001b[0m\u001b[0m_data_nascimento\u001b[0m\u001b[0;34m)\u001b[0m\u001b[0;34m\u001b[0m\u001b[0;34m\u001b[0m\u001b[0m\n\u001b[0m\u001b[1;32m     20\u001b[0m \u001b[0;34m\u001b[0m\u001b[0m\n\u001b[1;32m     21\u001b[0m     \u001b[0;32mdef\u001b[0m \u001b[0mcalcular_bônus\u001b[0m\u001b[0;34m(\u001b[0m\u001b[0mself\u001b[0m\u001b[0;34m)\u001b[0m\u001b[0;34m:\u001b[0m\u001b[0;34m\u001b[0m\u001b[0;34m\u001b[0m\u001b[0m\n",
            "\u001b[0;31mValueError\u001b[0m: invalid literal for int() with base 10: '13/03/2000'"
          ]
        }
      ]
    },
    {
      "cell_type": "markdown",
      "source": [
        "criando o primeiro teste"
      ],
      "metadata": {
        "id": "PmbdK_392kfC"
      }
    },
    {
      "cell_type": "code",
      "source": [
        "from datetime import date\n",
        "\n",
        "class Funcionário:\n",
        "    def __init__(self, nome, data_nascimento, salário):\n",
        "        self._nome = nome\n",
        "        self._data_nascimento = data_nascimento\n",
        "        self._salário = salário\n",
        "\n",
        "    @property\n",
        "    def nome(self):\n",
        "        return self._nome\n",
        "\n",
        "    @property\n",
        "    def salário(self):\n",
        "        return self._salário\n",
        "\n",
        "    def idade(self):\n",
        "        data_nascimento_quebrada = self._data_nascimento.split('/')\n",
        "        ano_nascimento = data_nascimento_quebrada[-1]\n",
        "        ano_atual = date.today().year\n",
        "        return ano_atual - int(ano_nascimento)\n",
        "\n",
        "    def calcular_bônus(self):\n",
        "        valor = self._salário * 0.1\n",
        "        if valor > 1000:\n",
        "            valor = 0\n",
        "        return valor\n",
        "\n",
        "    def __str__(self):\n",
        "        return f'{self._nome}, {self._data_nascimento}, {self._salário}'"
      ],
      "metadata": {
        "id": "e2Q5-LdA2lWO"
      },
      "execution_count": null,
      "outputs": []
    },
    {
      "cell_type": "code",
      "source": [
        "lucas = Funcionário('lucas carvalho', '13/03/2000', 1000)\n",
        "print(lucas)"
      ],
      "metadata": {
        "colab": {
          "base_uri": "https://localhost:8080/"
        },
        "id": "mbTnqfN13J3Q",
        "outputId": "e06e1853-cb81-40b5-b697-f6ac508589f4"
      },
      "execution_count": null,
      "outputs": [
        {
          "output_type": "stream",
          "name": "stdout",
          "text": [
            "lucas carvalho, 13/03/2000, 1000\n"
          ]
        }
      ]
    },
    {
      "cell_type": "code",
      "source": [
        "print(lucas.idade())"
      ],
      "metadata": {
        "colab": {
          "base_uri": "https://localhost:8080/"
        },
        "id": "2Je_v5kQ3LRE",
        "outputId": "d0024da8-3610-4630-e885-319fd165a2d2"
      },
      "execution_count": null,
      "outputs": [
        {
          "output_type": "stream",
          "name": "stdout",
          "text": [
            "23\n"
          ]
        }
      ]
    },
    {
      "cell_type": "code",
      "source": [
        "def teste_idade():\n",
        "  funcionário_teste = Funcionário('teste', '13/03/2000', 1111)\n",
        "  print(f'teste = {funcionário_teste.idade()}')\n",
        "\n",
        "teste_idade()"
      ],
      "metadata": {
        "colab": {
          "base_uri": "https://localhost:8080/"
        },
        "id": "QBURGDW43Lot",
        "outputId": "932eda6f-f742-43ca-e0ba-b2a882233ba5"
      },
      "execution_count": null,
      "outputs": [
        {
          "output_type": "stream",
          "name": "stdout",
          "text": [
            "teste = 23\n"
          ]
        }
      ]
    },
    {
      "cell_type": "markdown",
      "source": [
        "o que são testes?"
      ],
      "metadata": {
        "id": "B4H1TlaJ3s5_"
      }
    },
    {
      "cell_type": "code",
      "source": [
        "def teste_idade():\n",
        "  funcionário_teste = Funcionário('teste', '13/03/2000', 1111)\n",
        "  print(f'teste = {funcionário_teste.idade()}')\n",
        "\n",
        "  funcionário_teste = Funcionário('teste', '13/03/1999', 1111)\n",
        "  print(f'teste = {funcionário_teste.idade()}')\n",
        "\n",
        "  funcionário_teste = Funcionário('teste', '01/12/1999', 1111)\n",
        "  print(f'teste = {funcionário_teste.idade()}')\n",
        "\n",
        "teste_idade()"
      ],
      "metadata": {
        "colab": {
          "base_uri": "https://localhost:8080/"
        },
        "id": "HHE1Z9_Q3td9",
        "outputId": "190a7f47-606b-43a4-e535-a08b72db0150"
      },
      "execution_count": null,
      "outputs": [
        {
          "output_type": "stream",
          "name": "stdout",
          "text": [
            "teste = 23\n",
            "teste = 24\n",
            "teste = 24\n"
          ]
        }
      ]
    },
    {
      "cell_type": "markdown",
      "source": [
        "bloco 02<br>\n",
        "pytest"
      ],
      "metadata": {
        "id": "fZUMUlBSAf9S"
      }
    },
    {
      "cell_type": "markdown",
      "source": [
        "teste automatizado com pytest"
      ],
      "metadata": {
        "id": "lzojXZlHCbFz"
      }
    },
    {
      "cell_type": "code",
      "source": [
        "class TestClass:\n",
        "  def test_quando_idade_recebe_13_03_2000_deve_retornar_23(self):\n",
        "    # given-when-then\n",
        "    # dado (contexto)\n",
        "    entrada = '13/03/2000'\n",
        "    esperado = 23\n",
        "    funcionário_teste = Funcionário('teste', entrada, 1111)\n",
        "\n",
        "    # quando (ação)\n",
        "    resultado = funcionário_teste.idade()\n",
        "\n",
        "    # então (desfecho)\n",
        "    assert resultado == esperado"
      ],
      "metadata": {
        "id": "itEgmfFkCcYa"
      },
      "execution_count": null,
      "outputs": []
    },
    {
      "cell_type": "code",
      "source": [
        "!pytest -v"
      ],
      "metadata": {
        "colab": {
          "base_uri": "https://localhost:8080/"
        },
        "id": "qpqDT_gdEbi6",
        "outputId": "a2670d0b-1987-460d-f028-39ed4eaec04e"
      },
      "execution_count": null,
      "outputs": [
        {
          "output_type": "stream",
          "name": "stdout",
          "text": [
            "\u001b[1m======================================= test session starts ========================================\u001b[0m\n",
            "platform linux -- Python 3.10.12, pytest-7.4.3, pluggy-1.3.0 -- /usr/bin/python3\n",
            "cachedir: .pytest_cache\n",
            "rootdir: /content\n",
            "plugins: cov-4.1.0, anyio-3.7.1\n",
            "\u001b[1mcollecting ... \u001b[0m\u001b[1m\rcollected 1 item                                                                                   \u001b[0m\n",
            "\n",
            "tests/test_bytebank.py::TestClass::test_quando_idade_recebe_13_03_2000_deve_retornar_23 \u001b[32mPASSED\u001b[0m\u001b[32m [100%]\u001b[0m\n",
            "\n",
            "\u001b[32m======================================== \u001b[32m\u001b[1m1 passed\u001b[0m\u001b[32m in 0.02s\u001b[0m\u001b[32m =========================================\u001b[0m\n"
          ]
        }
      ]
    },
    {
      "cell_type": "markdown",
      "source": [
        "outro cenário para testar"
      ],
      "metadata": {
        "id": "6cNxOVQShay7"
      }
    },
    {
      "cell_type": "code",
      "source": [
        "nome = '         nome1 nome2         '\n",
        "print(nome.strip())"
      ],
      "metadata": {
        "colab": {
          "base_uri": "https://localhost:8080/"
        },
        "id": "3Z-Te_mXiHC7",
        "outputId": "2b90f35f-ddcf-48e8-aa63-5391134ec324"
      },
      "execution_count": null,
      "outputs": [
        {
          "output_type": "stream",
          "name": "stdout",
          "text": [
            "nome1 nome2\n"
          ]
        }
      ]
    },
    {
      "cell_type": "code",
      "source": [
        "from datetime import date\n",
        "\n",
        "class Funcionário:\n",
        "    def __init__(self, nome, data_nascimento, salário):\n",
        "        self._nome = nome\n",
        "        self._data_nascimento = data_nascimento\n",
        "        self._salário = salário\n",
        "\n",
        "    @property\n",
        "    def nome(self):\n",
        "        return self._nome\n",
        "\n",
        "    @property\n",
        "    def salário(self):\n",
        "        return self._salário\n",
        "\n",
        "    def idade(self):\n",
        "        data_nascimento_quebrada = self._data_nascimento.split('/')\n",
        "        ano_nascimento = data_nascimento_quebrada[-1]\n",
        "        ano_atual = date.today().year\n",
        "        return ano_atual - int(ano_nascimento)\n",
        "\n",
        "    def sobrenome(self):\n",
        "        nome_completo = self.nome.strip()\n",
        "        nome_quebrado = nome_completo.split(' ')\n",
        "        return nome_quebrado[-1]\n",
        "\n",
        "    def calcular_bônus(self):\n",
        "        valor = self._salário * 0.1\n",
        "        if valor > 1000:\n",
        "            valor = 0\n",
        "        return valor\n",
        "\n",
        "    def __str__(self):\n",
        "        return f'{self._nome}, {self._data_nascimento}, {self._salário}'"
      ],
      "metadata": {
        "id": "6FXB6YGKhdPK"
      },
      "execution_count": null,
      "outputs": []
    },
    {
      "cell_type": "code",
      "source": [
        "class TestClass:\n",
        "  def test_quando_idade_recebe_13_03_2000_deve_retornar_23(self):\n",
        "    # given-when-then\n",
        "    # dado (contexto)\n",
        "    entrada = '13/03/2000'\n",
        "    esperado = 23\n",
        "    funcionário_teste = Funcionário('teste', entrada, 1111)\n",
        "\n",
        "    # quando (ação)\n",
        "    resultado = funcionário_teste.idade()\n",
        "\n",
        "    # então (desfecho)\n",
        "    assert resultado == esperado\n",
        "\n",
        "  def test_quando_sobrenome_recebe_lucas_carvalho_deve_retornar_carvalho(self):\n",
        "    # given-when-then\n",
        "    # dado (contexto)\n",
        "    entrada = ' lucas carvalho '\n",
        "    esperado = 'carvalho'\n",
        "    lucas = Funcionário(entrada, 11/11/2000, 1111)\n",
        "\n",
        "    # quando (ação)\n",
        "    resultado = lucas.sobrenome()\n",
        "\n",
        "    # então (desfecho)\n",
        "    assert resultado == esperado"
      ],
      "metadata": {
        "id": "g8JmpKqAiWZU"
      },
      "execution_count": null,
      "outputs": []
    },
    {
      "cell_type": "code",
      "source": [
        "!pytest -v"
      ],
      "metadata": {
        "colab": {
          "base_uri": "https://localhost:8080/"
        },
        "id": "qtxlJ_sxjpyT",
        "outputId": "9bc5fb04-929a-4b62-a142-eb252fc6aabb"
      },
      "execution_count": null,
      "outputs": [
        {
          "output_type": "stream",
          "name": "stdout",
          "text": [
            "\u001b[1m======================================= test session starts ========================================\u001b[0m\n",
            "platform linux -- Python 3.10.12, pytest-7.4.3, pluggy-1.3.0 -- /usr/bin/python3\n",
            "cachedir: .pytest_cache\n",
            "rootdir: /content\n",
            "plugins: anyio-3.7.1\n",
            "\u001b[1mcollecting ... \u001b[0m\u001b[1m\rcollected 2 items                                                                                  \u001b[0m\n",
            "\n",
            "tests/test_teste.py::TestClass::test_quando_idade_recebe_13_03_2000_deve_retornar_23 \u001b[32mPASSED\u001b[0m\u001b[32m  [ 50%]\u001b[0m\n",
            "tests/test_teste.py::TestClass::test_quando_sobrenome_recebe_lucas_carvalho_deve_retornar_carvalho \u001b[32mPASSED\u001b[0m\u001b[32m [100%]\u001b[0m\n",
            "\n",
            "\u001b[32m======================================== \u001b[32m\u001b[1m2 passed\u001b[0m\u001b[32m in 0.02s\u001b[0m\u001b[32m =========================================\u001b[0m\n"
          ]
        }
      ]
    },
    {
      "cell_type": "code",
      "source": [
        "!pytest"
      ],
      "metadata": {
        "colab": {
          "base_uri": "https://localhost:8080/"
        },
        "id": "Fkt_Mig3jqxz",
        "outputId": "d9616268-955f-4ff3-a263-29e1ab70b6bd"
      },
      "execution_count": null,
      "outputs": [
        {
          "output_type": "stream",
          "name": "stdout",
          "text": [
            "\u001b[1m======================================= test session starts ========================================\u001b[0m\n",
            "platform linux -- Python 3.10.12, pytest-7.4.3, pluggy-1.3.0\n",
            "rootdir: /content\n",
            "plugins: anyio-3.7.1\n",
            "\u001b[1mcollecting ... \u001b[0m\u001b[1m\rcollected 2 items                                                                                  \u001b[0m\n",
            "\n",
            "tests/test_teste.py \u001b[32m.\u001b[0m\u001b[32m.\u001b[0m\u001b[32m                                                                       [100%]\u001b[0m\n",
            "\n",
            "\u001b[32m======================================== \u001b[32m\u001b[1m2 passed\u001b[0m\u001b[32m in 0.01s\u001b[0m\u001b[32m =========================================\u001b[0m\n"
          ]
        }
      ]
    },
    {
      "cell_type": "markdown",
      "source": [
        "bloco 03<br>\n",
        "test-driven development"
      ],
      "metadata": {
        "id": "R5xKujxLkx-M"
      }
    },
    {
      "cell_type": "markdown",
      "source": [
        "implementando uma funcionalidade"
      ],
      "metadata": {
        "id": "2e2TWjnUmWOz"
      }
    },
    {
      "cell_type": "code",
      "source": [
        "class TestClass:\n",
        "  def test_quando_idade_recebe_13_03_2000_deve_retornar_23(self):\n",
        "    # given-when-then\n",
        "    # dado (contexto)\n",
        "    entrada = '13/03/2000'\n",
        "    esperado = 23\n",
        "    funcionário_teste = Funcionário('teste', entrada, 1111)\n",
        "\n",
        "    # quando (ação)\n",
        "    resultado = funcionário_teste.idade()\n",
        "\n",
        "    # então (desfecho)\n",
        "    assert resultado == esperado\n",
        "\n",
        "  def test_quando_sobrenome_recebe_lucas_carvalho_deve_retornar_carvalho(self):\n",
        "    # given-when-then\n",
        "    # dado (contexto)\n",
        "    entrada = ' lucas carvalho '\n",
        "    esperado = 'carvalho'\n",
        "    lucas = Funcionário(entrada, 11/11/2000, 1111)\n",
        "\n",
        "    # quando (ação)\n",
        "    resultado = lucas.sobrenome()\n",
        "\n",
        "    # então (desfecho)\n",
        "    assert resultado == esperado\n",
        "\n",
        "  def test_quando_decréscimo_salário_recebe_100000_deve_retornar_90000(self):\n",
        "    # given-when-then\n",
        "    # dado (contexto)\n",
        "    entrada_nome = 'paulo bragança'\n",
        "    entrada_salário = 100000\n",
        "    esperado = 90000\n",
        "\n",
        "    funcionário_teste = Funcionário(entrada_nome, '11/11/2000', entrada_salário)\n",
        "\n",
        "    # quando (ação)\n",
        "    funcionário_teste.decréscimo_salário()\n",
        "    resultado = funcionário_teste.salário\n",
        "\n",
        "    # então (desfecho)\n",
        "    assert resultado == esperado"
      ],
      "metadata": {
        "id": "DXYPvauImdba"
      },
      "execution_count": null,
      "outputs": []
    },
    {
      "cell_type": "code",
      "source": [
        "!pytest -v"
      ],
      "metadata": {
        "colab": {
          "base_uri": "https://localhost:8080/"
        },
        "id": "LuMk3I3CoYhH",
        "outputId": "77e8141e-8920-47b6-e03c-3623525b44bc"
      },
      "execution_count": null,
      "outputs": [
        {
          "output_type": "stream",
          "name": "stdout",
          "text": [
            "\u001b[1m======================================= test session starts ========================================\u001b[0m\n",
            "platform linux -- Python 3.10.12, pytest-7.4.3, pluggy-1.3.0 -- /usr/bin/python3\n",
            "cachedir: .pytest_cache\n",
            "rootdir: /content\n",
            "plugins: anyio-3.7.1\n",
            "\u001b[1mcollecting ... \u001b[0m\u001b[1m\rcollected 3 items                                                                                  \u001b[0m\n",
            "\n",
            "tests/test_teste.py::TestClass::test_quando_idade_recebe_13_03_2000_deve_retornar_23 \u001b[32mPASSED\u001b[0m\u001b[32m  [ 33%]\u001b[0m\n",
            "tests/test_teste.py::TestClass::test_quando_sobrenome_recebe_lucas_carvalho_deve_retornar_carvalho \u001b[32mPASSED\u001b[0m\u001b[32m [ 66%]\u001b[0m\n",
            "tests/test_teste.py::TestClass::test_quando_decréscimo_salário_recebe_100000_deve_retornar_90000 \u001b[31mFAILED\u001b[0m\u001b[31m [100%]\u001b[0m\n",
            "\n",
            "============================================= FAILURES =============================================\n",
            "\u001b[31m\u001b[1m____________ TestClass.test_quando_decréscimo_salário_recebe_100000_deve_retornar_90000 ____________\u001b[0m\n",
            "\n",
            "self = <tests.test_teste.TestClass object at 0x7aa26930b970>\n",
            "\n",
            "    \u001b[94mdef\u001b[39;49;00m \u001b[92mtest_quando_decréscimo_salário_recebe_100000_deve_retornar_90000\u001b[39;49;00m(\u001b[96mself\u001b[39;49;00m):\u001b[90m\u001b[39;49;00m\n",
            "      \u001b[90m# given-when-then\u001b[39;49;00m\u001b[90m\u001b[39;49;00m\n",
            "      \u001b[90m# dado (contexto)\u001b[39;49;00m\u001b[90m\u001b[39;49;00m\n",
            "      entrada_nome = \u001b[33m'\u001b[39;49;00m\u001b[33mpaulo bragança\u001b[39;49;00m\u001b[33m'\u001b[39;49;00m\u001b[90m\u001b[39;49;00m\n",
            "      entrada_salário = \u001b[94m100000\u001b[39;49;00m\u001b[90m\u001b[39;49;00m\n",
            "      esperado = \u001b[94m90000\u001b[39;49;00m\u001b[90m\u001b[39;49;00m\n",
            "    \u001b[90m\u001b[39;49;00m\n",
            "      funcionário_teste = Funcionário(entrada_nome, \u001b[33m'\u001b[39;49;00m\u001b[33m11/11/2000\u001b[39;49;00m\u001b[33m'\u001b[39;49;00m, entrada_salário)\u001b[90m\u001b[39;49;00m\n",
            "    \u001b[90m\u001b[39;49;00m\n",
            "      \u001b[90m# quando (ação)\u001b[39;49;00m\u001b[90m\u001b[39;49;00m\n",
            ">     funcionário_teste.decréscimo_salário()\u001b[90m\u001b[39;49;00m\n",
            "\u001b[1m\u001b[31mE     AttributeError: 'Funcionário' object has no attribute 'decréscimo_salário'\u001b[0m\n",
            "\n",
            "\u001b[1m\u001b[31mtests/test_teste.py\u001b[0m:74: AttributeError\n",
            "\u001b[36m\u001b[1m===================================== short test summary info ======================================\u001b[0m\n",
            "\u001b[31mFAILED\u001b[0m tests/test_teste.py::\u001b[1mTestClass::test_quando_decréscimo_salário_recebe_100000_deve_retornar_90000\u001b[0m - AttributeError: 'Funcionário' object has no attribute 'decréscimo_salário'\n",
            "\u001b[31m=================================== \u001b[31m\u001b[1m1 failed\u001b[0m, \u001b[32m2 passed\u001b[0m\u001b[31m in 0.09s\u001b[0m\u001b[31m ====================================\u001b[0m\n"
          ]
        }
      ]
    },
    {
      "cell_type": "code",
      "source": [
        "from datetime import date\n",
        "\n",
        "class Funcionário:\n",
        "  def __init__(self, nome, data_nascimento, salário):\n",
        "      self._nome = nome\n",
        "      self._data_nascimento = data_nascimento\n",
        "      self._salário = salário\n",
        "\n",
        "  @property\n",
        "  def nome(self):\n",
        "      return self._nome\n",
        "\n",
        "  @property\n",
        "  def salário(self):\n",
        "      return self._salário\n",
        "\n",
        "  def idade(self):\n",
        "      data_nascimento_quebrada = self._data_nascimento.split('/')\n",
        "      ano_nascimento = data_nascimento_quebrada[-1]\n",
        "      ano_atual = date.today().year\n",
        "      return ano_atual - int(ano_nascimento)\n",
        "\n",
        "  def sobrenome(self):\n",
        "      nome_completo = self.nome.strip()\n",
        "      nome_quebrado = nome_completo.split(' ')\n",
        "      return nome_quebrado[-1]\n",
        "\n",
        "  def decréscimo_salário(self):\n",
        "      sobrenomes = ['bragança', 'windsor', 'bourbon', 'yamato'\n",
        "                    'salud', 'khan', 'tudor', 'ptolomeu']\n",
        "\n",
        "      if self._salário >= 100000 and self.sobrenome() in sobrenomes:\n",
        "        self._salário -= self.salário * 0.1\n",
        "\n",
        "  def calcular_bônus(self):\n",
        "      valor = self._salário * 0.1\n",
        "      if valor > 1000:\n",
        "          valor = 0\n",
        "      return valor\n",
        "\n",
        "  def __str__(self):\n",
        "      return f'{self._nome}, {self._data_nascimento}, {self._salário}'"
      ],
      "metadata": {
        "id": "0OtkVOZCogG_"
      },
      "execution_count": null,
      "outputs": []
    },
    {
      "cell_type": "code",
      "source": [
        "!pytest -v"
      ],
      "metadata": {
        "colab": {
          "base_uri": "https://localhost:8080/"
        },
        "id": "ZyX0wCoqqQXf",
        "outputId": "959ec09e-f32a-41cb-8154-23b48adec02d"
      },
      "execution_count": null,
      "outputs": [
        {
          "output_type": "stream",
          "name": "stdout",
          "text": [
            "\u001b[1m======================================= test session starts ========================================\u001b[0m\n",
            "platform linux -- Python 3.10.12, pytest-7.4.3, pluggy-1.3.0 -- /usr/bin/python3\n",
            "cachedir: .pytest_cache\n",
            "rootdir: /content\n",
            "plugins: anyio-3.7.1\n",
            "\u001b[1mcollecting ... \u001b[0m\u001b[1m\rcollected 3 items                                                                                  \u001b[0m\n",
            "\n",
            "tests/test_teste.py::TestClass::test_quando_idade_recebe_13_03_2000_deve_retornar_23 \u001b[32mPASSED\u001b[0m\u001b[32m  [ 33%]\u001b[0m\n",
            "tests/test_teste.py::TestClass::test_quando_sobrenome_recebe_lucas_carvalho_deve_retornar_carvalho \u001b[32mPASSED\u001b[0m\u001b[32m [ 66%]\u001b[0m\n",
            "tests/test_teste.py::TestClass::test_quando_decréscimo_salário_recebe_100000_deve_retornar_90000 \u001b[32mPASSED\u001b[0m\u001b[32m [100%]\u001b[0m\n",
            "\n",
            "\u001b[32m======================================== \u001b[32m\u001b[1m3 passed\u001b[0m\u001b[32m in 0.02s\u001b[0m\u001b[32m =========================================\u001b[0m\n"
          ]
        }
      ]
    },
    {
      "cell_type": "markdown",
      "source": [
        "refatorando o código"
      ],
      "metadata": {
        "id": "l3w3z_bZstdn"
      }
    },
    {
      "cell_type": "code",
      "source": [
        "from datetime import date\n",
        "\n",
        "class Funcionário:\n",
        "  def __init__(self, nome, data_nascimento, salário):\n",
        "    self._nome = nome\n",
        "    self._data_nascimento = data_nascimento\n",
        "    self._salário = salário\n",
        "\n",
        "  @property\n",
        "  def nome(self):\n",
        "    return self._nome\n",
        "\n",
        "  @property\n",
        "  def salário(self):\n",
        "    return self._salário\n",
        "\n",
        "  def idade(self):\n",
        "    data_nascimento_quebrada = self._data_nascimento.split('/')\n",
        "    ano_nascimento = data_nascimento_quebrada[-1]\n",
        "    ano_atual = date.today().year\n",
        "    return ano_atual - int(ano_nascimento)\n",
        "\n",
        "  def sobrenome(self):\n",
        "    nome_completo = self.nome.strip()\n",
        "    nome_quebrado = nome_completo.split(' ')\n",
        "    return nome_quebrado[-1]\n",
        "\n",
        "  def _is_sócio(self):\n",
        "    sobrenomes = ['bragança', 'windsor', 'bourbon', 'yamato'\n",
        "                    'salud', 'khan', 'tudor', 'ptolomeu']\n",
        "    return self._salário >= 100000 and self.sobrenome() in sobrenomes\n",
        "\n",
        "  def decréscimo_salário(self):\n",
        "    if self._is_sócio():\n",
        "      self._salário -= self.salário * 0.1\n",
        "\n",
        "  def calcular_bônus(self):\n",
        "    valor = self._salário * 0.1\n",
        "    if valor > 1000:\n",
        "        valor = 0\n",
        "    return valor\n",
        "\n",
        "  def __str__(self):\n",
        "    return f'{self._nome}, {self._data_nascimento}, {self._salário}'"
      ],
      "metadata": {
        "id": "hJ3F0TybsuSe"
      },
      "execution_count": null,
      "outputs": []
    },
    {
      "cell_type": "code",
      "source": [
        "!pytest -v"
      ],
      "metadata": {
        "colab": {
          "base_uri": "https://localhost:8080/"
        },
        "id": "dyvd366Jt_Kn",
        "outputId": "6227b8c0-5bce-4fd1-d083-a4251c2ad6ba"
      },
      "execution_count": null,
      "outputs": [
        {
          "output_type": "stream",
          "name": "stdout",
          "text": [
            "\u001b[1m======================================= test session starts ========================================\u001b[0m\n",
            "platform linux -- Python 3.10.12, pytest-7.4.3, pluggy-1.3.0 -- /usr/bin/python3\n",
            "cachedir: .pytest_cache\n",
            "rootdir: /content\n",
            "plugins: anyio-3.7.1\n",
            "\u001b[1mcollecting ... \u001b[0m\u001b[1m\rcollected 3 items                                                                                  \u001b[0m\n",
            "\n",
            "tests/test_teste.py::TestClass::test_quando_idade_recebe_13_03_2000_deve_retornar_23 \u001b[32mPASSED\u001b[0m\u001b[32m  [ 33%]\u001b[0m\n",
            "tests/test_teste.py::TestClass::test_quando_sobrenome_recebe_lucas_carvalho_deve_retornar_carvalho \u001b[32mPASSED\u001b[0m\u001b[32m [ 66%]\u001b[0m\n",
            "tests/test_teste.py::TestClass::test_quando_decréscimo_salário_recebe_100000_deve_retornar_90000 \u001b[32mPASSED\u001b[0m\u001b[32m [100%]\u001b[0m\n",
            "\n",
            "\u001b[32m======================================== \u001b[32m\u001b[1m3 passed\u001b[0m\u001b[32m in 0.02s\u001b[0m\u001b[32m =========================================\u001b[0m\n"
          ]
        }
      ]
    },
    {
      "cell_type": "markdown",
      "source": [
        "bloco 04<br>\n",
        "exceptions e marks"
      ],
      "metadata": {
        "id": "QtVe0MOjvAAB"
      }
    },
    {
      "cell_type": "markdown",
      "source": [
        "um método com exception"
      ],
      "metadata": {
        "id": "2Pt-Y-aBvDkB"
      }
    },
    {
      "cell_type": "code",
      "source": [
        "ana = Funcionário('ana silva', '12/03/1997', 1320)\n",
        "print(ana.calcular_bônus())"
      ],
      "metadata": {
        "colab": {
          "base_uri": "https://localhost:8080/"
        },
        "id": "ZaaYjv2WvAWf",
        "outputId": "7927f2f4-1633-400e-dec8-34a84de6d8fb"
      },
      "execution_count": null,
      "outputs": [
        {
          "output_type": "stream",
          "name": "stdout",
          "text": [
            "132.0\n"
          ]
        }
      ]
    },
    {
      "cell_type": "code",
      "source": [
        "ana = Funcionário('ana silva', '12/03/1997', 132013201320)\n",
        "print(ana.calcular_bônus())"
      ],
      "metadata": {
        "colab": {
          "base_uri": "https://localhost:8080/"
        },
        "id": "d3Vv9-XQwE8y",
        "outputId": "8d5c827d-748b-4d6d-aa70-311fed7e7dc1"
      },
      "execution_count": null,
      "outputs": [
        {
          "output_type": "stream",
          "name": "stdout",
          "text": [
            "0\n"
          ]
        }
      ]
    },
    {
      "cell_type": "code",
      "source": [
        "class TestClass:\n",
        "  def test_quando_idade_recebe_13_03_2000_deve_retornar_23(self):\n",
        "    # given-when-then\n",
        "    # dado (contexto)\n",
        "    entrada = '13/03/2000'\n",
        "    esperado = 23\n",
        "    funcionário_teste = Funcionário('teste', entrada, 1111)\n",
        "\n",
        "    # quando (ação)\n",
        "    resultado = funcionário_teste.idade()\n",
        "\n",
        "    # então (desfecho)\n",
        "    assert resultado == esperado\n",
        "\n",
        "  def test_quando_sobrenome_recebe_lucas_carvalho_deve_retornar_carvalho(self):\n",
        "    # given-when-then\n",
        "    # dado (contexto)\n",
        "    entrada = ' lucas carvalho '\n",
        "    esperado = 'carvalho'\n",
        "    lucas = Funcionário(entrada, 11/11/2000, 1111)\n",
        "\n",
        "    # quando (ação)\n",
        "    resultado = lucas.sobrenome()\n",
        "\n",
        "    # então (desfecho)\n",
        "    assert resultado == esperado\n",
        "\n",
        "  def test_quando_decréscimo_salário_recebe_100000_deve_retornar_90000(self):\n",
        "    # given-when-then\n",
        "    # dado (contexto)\n",
        "    entrada_nome = 'paulo bragança'\n",
        "    entrada_salário = 100000\n",
        "    esperado = 90000\n",
        "\n",
        "    funcionário_teste = Funcionário(entrada_nome, '11/11/2000', entrada_salário)\n",
        "\n",
        "    # quando (ação)\n",
        "    funcionário_teste.decréscimo_salário()\n",
        "    resultado = funcionário_teste.salário\n",
        "\n",
        "    # então (desfecho)\n",
        "    assert resultado == esperado\n",
        "\n",
        "  def test_quando_calcular_bônus_ao_receber_1320_deve_retornar_132(self):\n",
        "    entrada = 1320\n",
        "    esperado = 132\n",
        "\n",
        "    funcionário_teste = Funcionário('teste', '11/11/2000', entrada)\n",
        "    resultado = funcionário_teste.calcular_bônus()\n",
        "\n",
        "    assert resultado == esperado"
      ],
      "metadata": {
        "id": "Ee4c1-RuwSl6"
      },
      "execution_count": null,
      "outputs": []
    },
    {
      "cell_type": "code",
      "source": [
        "!pytest -v"
      ],
      "metadata": {
        "colab": {
          "base_uri": "https://localhost:8080/"
        },
        "id": "WJqN0tGjw0rD",
        "outputId": "d6abea91-5db8-4c5a-c33d-602bc6fdd86c"
      },
      "execution_count": null,
      "outputs": [
        {
          "output_type": "stream",
          "name": "stdout",
          "text": [
            "\u001b[1m======================================= test session starts ========================================\u001b[0m\n",
            "platform linux -- Python 3.10.12, pytest-7.4.3, pluggy-1.3.0 -- /usr/bin/python3\n",
            "cachedir: .pytest_cache\n",
            "rootdir: /content\n",
            "plugins: anyio-3.7.1\n",
            "\u001b[1mcollecting ... \u001b[0m\u001b[1m\rcollected 4 items                                                                                  \u001b[0m\n",
            "\n",
            "tests/test_teste.py::TestClass::test_quando_idade_recebe_13_03_2000_deve_retornar_23 \u001b[32mPASSED\u001b[0m\u001b[32m  [ 25%]\u001b[0m\n",
            "tests/test_teste.py::TestClass::test_quando_sobrenome_recebe_lucas_carvalho_deve_retornar_carvalho \u001b[32mPASSED\u001b[0m\u001b[32m [ 50%]\u001b[0m\n",
            "tests/test_teste.py::TestClass::test_quando_decréscimo_salário_recebe_100000_deve_retornar_90000 \u001b[32mPASSED\u001b[0m\u001b[32m [ 75%]\u001b[0m\n",
            "tests/test_teste.py::TestClass::test_quando_calcular_bônus_ao_receber_1320_deve_retornar_132 \u001b[32mPASSED\u001b[0m\u001b[32m [100%]\u001b[0m\n",
            "\n",
            "\u001b[32m======================================== \u001b[32m\u001b[1m4 passed\u001b[0m\u001b[32m in 0.01s\u001b[0m\u001b[32m =========================================\u001b[0m\n"
          ]
        }
      ]
    },
    {
      "cell_type": "code",
      "source": [
        "print(0/0)"
      ],
      "metadata": {
        "colab": {
          "base_uri": "https://localhost:8080/",
          "height": 175
        },
        "id": "UkQ2PHqjw2PC",
        "outputId": "1feb2843-3233-4e0d-83a7-52f54544a574"
      },
      "execution_count": null,
      "outputs": [
        {
          "output_type": "error",
          "ename": "ZeroDivisionError",
          "evalue": "ignored",
          "traceback": [
            "\u001b[0;31m---------------------------------------------------------------------------\u001b[0m",
            "\u001b[0;31mZeroDivisionError\u001b[0m                         Traceback (most recent call last)",
            "\u001b[0;32m<ipython-input-20-1babb3b33639>\u001b[0m in \u001b[0;36m<cell line: 1>\u001b[0;34m()\u001b[0m\n\u001b[0;32m----> 1\u001b[0;31m \u001b[0mprint\u001b[0m\u001b[0;34m(\u001b[0m\u001b[0;36m0\u001b[0m\u001b[0;34m/\u001b[0m\u001b[0;36m0\u001b[0m\u001b[0;34m)\u001b[0m\u001b[0;34m\u001b[0m\u001b[0;34m\u001b[0m\u001b[0m\n\u001b[0m",
            "\u001b[0;31mZeroDivisionError\u001b[0m: division by zero"
          ]
        }
      ]
    },
    {
      "cell_type": "code",
      "source": [
        "from datetime import date\n",
        "\n",
        "class Funcionário:\n",
        "  def __init__(self, nome, data_nascimento, salário):\n",
        "    self._nome = nome\n",
        "    self._data_nascimento = data_nascimento\n",
        "    self._salário = salário\n",
        "\n",
        "  @property\n",
        "  def nome(self):\n",
        "    return self._nome\n",
        "\n",
        "  @property\n",
        "  def salário(self):\n",
        "    return self._salário\n",
        "\n",
        "  def idade(self):\n",
        "    data_nascimento_quebrada = self._data_nascimento.split('/')\n",
        "    ano_nascimento = data_nascimento_quebrada[-1]\n",
        "    ano_atual = date.today().year\n",
        "    return ano_atual - int(ano_nascimento)\n",
        "\n",
        "  def sobrenome(self):\n",
        "    nome_completo = self.nome.strip()\n",
        "    nome_quebrado = nome_completo.split(' ')\n",
        "    return nome_quebrado[-1]\n",
        "\n",
        "  def _is_sócio(self):\n",
        "    sobrenomes = ['bragança', 'windsor', 'bourbon', 'yamato'\n",
        "                    'salud', 'khan', 'tudor', 'ptolomeu']\n",
        "    return self._salário >= 100000 and self.sobrenome() in sobrenomes\n",
        "\n",
        "  def decréscimo_salário(self):\n",
        "    if self._is_sócio():\n",
        "      self._salário -= self.salário * 0.1\n",
        "\n",
        "  def calcular_bônus(self):\n",
        "    valor = self._salário * 0.1\n",
        "    if valor > 1000:\n",
        "        raise Exception('o salário é muito alto para receber bônus')\n",
        "    return valor\n",
        "\n",
        "  def __str__(self):\n",
        "    return f'{self._nome}, {self._data_nascimento}, {self._salário}'"
      ],
      "metadata": {
        "id": "Tt1JzgvF0lvp"
      },
      "execution_count": null,
      "outputs": []
    },
    {
      "cell_type": "code",
      "source": [
        "ana = Funcionário('ana silva', '12/03/1997', 132013201320)\n",
        "print(ana.calcular_bônus())"
      ],
      "metadata": {
        "colab": {
          "base_uri": "https://localhost:8080/",
          "height": 314
        },
        "id": "UrLUACQD1B4s",
        "outputId": "696cf44c-7b1c-4ee9-f6c1-d75c82d461f3"
      },
      "execution_count": null,
      "outputs": [
        {
          "output_type": "error",
          "ename": "Exception",
          "evalue": "ignored",
          "traceback": [
            "\u001b[0;31m---------------------------------------------------------------------------\u001b[0m",
            "\u001b[0;31mException\u001b[0m                                 Traceback (most recent call last)",
            "\u001b[0;32m<ipython-input-22-9894c8a3d1e6>\u001b[0m in \u001b[0;36m<cell line: 2>\u001b[0;34m()\u001b[0m\n\u001b[1;32m      1\u001b[0m \u001b[0mana\u001b[0m \u001b[0;34m=\u001b[0m \u001b[0mFuncionário\u001b[0m\u001b[0;34m(\u001b[0m\u001b[0;34m'ana silva'\u001b[0m\u001b[0;34m,\u001b[0m \u001b[0;34m'12/03/1997'\u001b[0m\u001b[0;34m,\u001b[0m \u001b[0;36m132013201320\u001b[0m\u001b[0;34m)\u001b[0m\u001b[0;34m\u001b[0m\u001b[0;34m\u001b[0m\u001b[0m\n\u001b[0;32m----> 2\u001b[0;31m \u001b[0mprint\u001b[0m\u001b[0;34m(\u001b[0m\u001b[0mana\u001b[0m\u001b[0;34m.\u001b[0m\u001b[0mcalcular_bônus\u001b[0m\u001b[0;34m(\u001b[0m\u001b[0;34m)\u001b[0m\u001b[0;34m)\u001b[0m\u001b[0;34m\u001b[0m\u001b[0;34m\u001b[0m\u001b[0m\n\u001b[0m",
            "\u001b[0;32m<ipython-input-21-8ec2d41acc5c>\u001b[0m in \u001b[0;36mcalcular_bônus\u001b[0;34m(self)\u001b[0m\n\u001b[1;32m     38\u001b[0m     \u001b[0mvalor\u001b[0m \u001b[0;34m=\u001b[0m \u001b[0mself\u001b[0m\u001b[0;34m.\u001b[0m\u001b[0m_salário\u001b[0m \u001b[0;34m*\u001b[0m \u001b[0;36m0.1\u001b[0m\u001b[0;34m\u001b[0m\u001b[0;34m\u001b[0m\u001b[0m\n\u001b[1;32m     39\u001b[0m     \u001b[0;32mif\u001b[0m \u001b[0mvalor\u001b[0m \u001b[0;34m>\u001b[0m \u001b[0;36m1000\u001b[0m\u001b[0;34m:\u001b[0m\u001b[0;34m\u001b[0m\u001b[0;34m\u001b[0m\u001b[0m\n\u001b[0;32m---> 40\u001b[0;31m         \u001b[0;32mraise\u001b[0m \u001b[0mException\u001b[0m\u001b[0;34m(\u001b[0m\u001b[0;34m'o salário é muito alto para receber bônus'\u001b[0m\u001b[0;34m)\u001b[0m\u001b[0;34m\u001b[0m\u001b[0;34m\u001b[0m\u001b[0m\n\u001b[0m\u001b[1;32m     41\u001b[0m     \u001b[0;32mreturn\u001b[0m \u001b[0mvalor\u001b[0m\u001b[0;34m\u001b[0m\u001b[0;34m\u001b[0m\u001b[0m\n\u001b[1;32m     42\u001b[0m \u001b[0;34m\u001b[0m\u001b[0m\n",
            "\u001b[0;31mException\u001b[0m: o salário é muito alto para receber bônus"
          ]
        }
      ]
    },
    {
      "cell_type": "code",
      "source": [
        "!pytest -v"
      ],
      "metadata": {
        "colab": {
          "base_uri": "https://localhost:8080/"
        },
        "id": "Tb9G8JDb1Ny2",
        "outputId": "a2e0dcf4-efa1-4302-d96b-1de84890cc02"
      },
      "execution_count": null,
      "outputs": [
        {
          "output_type": "stream",
          "name": "stdout",
          "text": [
            "\u001b[1m======================================= test session starts ========================================\u001b[0m\n",
            "platform linux -- Python 3.10.12, pytest-7.4.3, pluggy-1.3.0 -- /usr/bin/python3\n",
            "cachedir: .pytest_cache\n",
            "rootdir: /content\n",
            "plugins: anyio-3.7.1\n",
            "\u001b[1mcollecting ... \u001b[0m\u001b[1m\rcollected 4 items                                                                                  \u001b[0m\n",
            "\n",
            "tests/test_teste.py::TestClass::test_quando_idade_recebe_13_03_2000_deve_retornar_23 \u001b[32mPASSED\u001b[0m\u001b[32m  [ 25%]\u001b[0m\n",
            "tests/test_teste.py::TestClass::test_quando_sobrenome_recebe_lucas_carvalho_deve_retornar_carvalho \u001b[32mPASSED\u001b[0m\u001b[32m [ 50%]\u001b[0m\n",
            "tests/test_teste.py::TestClass::test_quando_decréscimo_salário_recebe_100000_deve_retornar_90000 \u001b[32mPASSED\u001b[0m\u001b[32m [ 75%]\u001b[0m\n",
            "tests/test_teste.py::TestClass::test_quando_calcular_bônus_ao_receber_1320_deve_retornar_132 \u001b[32mPASSED\u001b[0m\u001b[32m [100%]\u001b[0m\n",
            "\n",
            "\u001b[32m======================================== \u001b[32m\u001b[1m4 passed\u001b[0m\u001b[32m in 0.02s\u001b[0m\u001b[32m =========================================\u001b[0m\n"
          ]
        }
      ]
    },
    {
      "cell_type": "markdown",
      "source": [
        "lidando com exceptions no pytest"
      ],
      "metadata": {
        "id": "8PxgObUk1VFU"
      }
    },
    {
      "cell_type": "code",
      "source": [
        "from pytest import raises\n",
        "\n",
        "class TestClass:\n",
        "  def test_quando_idade_recebe_13_03_2000_deve_retornar_23(self):\n",
        "    # given-when-then\n",
        "    # dado (contexto)\n",
        "    entrada = '13/03/2000'\n",
        "    esperado = 23\n",
        "    funcionário_teste = Funcionário('teste', entrada, 1111)\n",
        "\n",
        "    # quando (ação)\n",
        "    resultado = funcionário_teste.idade()\n",
        "\n",
        "    # então (desfecho)\n",
        "    assert resultado == esperado\n",
        "\n",
        "  def test_quando_sobrenome_recebe_lucas_carvalho_deve_retornar_carvalho(self):\n",
        "    # given-when-then\n",
        "    # dado (contexto)\n",
        "    entrada = ' lucas carvalho '\n",
        "    esperado = 'carvalho'\n",
        "    lucas = Funcionário(entrada, 11/11/2000, 1111)\n",
        "\n",
        "    # quando (ação)\n",
        "    resultado = lucas.sobrenome()\n",
        "\n",
        "    # então (desfecho)\n",
        "    assert resultado == esperado\n",
        "\n",
        "  def test_quando_decréscimo_salário_recebe_100000_deve_retornar_90000(self):\n",
        "    # given-when-then\n",
        "    # dado (contexto)\n",
        "    entrada_nome = 'paulo bragança'\n",
        "    entrada_salário = 100000\n",
        "    esperado = 90000\n",
        "\n",
        "    funcionário_teste = Funcionário(entrada_nome, '11/11/2000', entrada_salário)\n",
        "\n",
        "    # quando (ação)\n",
        "    funcionário_teste.decréscimo_salário()\n",
        "    resultado = funcionário_teste.salário\n",
        "\n",
        "    # então (desfecho)\n",
        "    assert resultado == esperado\n",
        "\n",
        "  def test_quando_calcular_bônus_ao_receber_1320_deve_retornar_132(self):\n",
        "    entrada = 1320\n",
        "    esperado = 132\n",
        "\n",
        "    funcionário_teste = Funcionário('teste', '11/11/2000', entrada)\n",
        "    resultado = funcionário_teste.calcular_bônus()\n",
        "\n",
        "    assert resultado == esperado\n",
        "\n",
        "  def test_quando_calcular_bônus_ao_receber_132013201320_deve_retornar_exception(self):\n",
        "    with raises(Exception):\n",
        "      entrada = 132013201320\n",
        "\n",
        "      funcionário_teste = Funcionário('teste', '11/11/2000', entrada)\n",
        "      resultado = funcionário_teste.calcular_bônus()\n",
        "\n",
        "      assert resultado"
      ],
      "metadata": {
        "id": "MzyL5c9c1Odr"
      },
      "execution_count": null,
      "outputs": []
    },
    {
      "cell_type": "code",
      "source": [
        "!pytest -v"
      ],
      "metadata": {
        "colab": {
          "base_uri": "https://localhost:8080/"
        },
        "id": "KROaUrzF2V_O",
        "outputId": "10036703-4e78-45a7-85b8-a7212c8bfc4d"
      },
      "execution_count": null,
      "outputs": [
        {
          "output_type": "stream",
          "name": "stdout",
          "text": [
            "\u001b[1m======================================= test session starts ========================================\u001b[0m\n",
            "platform linux -- Python 3.10.12, pytest-7.4.3, pluggy-1.3.0 -- /usr/bin/python3\n",
            "cachedir: .pytest_cache\n",
            "rootdir: /content\n",
            "plugins: anyio-3.7.1\n",
            "\u001b[1mcollecting ... \u001b[0m\u001b[1m\rcollected 5 items                                                                                  \u001b[0m\n",
            "\n",
            "tests/test_teste.py::TestClass::test_quando_idade_recebe_13_03_2000_deve_retornar_23 \u001b[32mPASSED\u001b[0m\u001b[32m  [ 20%]\u001b[0m\n",
            "tests/test_teste.py::TestClass::test_quando_sobrenome_recebe_lucas_carvalho_deve_retornar_carvalho \u001b[32mPASSED\u001b[0m\u001b[32m [ 40%]\u001b[0m\n",
            "tests/test_teste.py::TestClass::test_quando_decréscimo_salário_recebe_100000_deve_retornar_90000 \u001b[32mPASSED\u001b[0m\u001b[32m [ 60%]\u001b[0m\n",
            "tests/test_teste.py::TestClass::test_quando_calcular_bônus_ao_receber_1320_retornar_132 \u001b[32mPASSED\u001b[0m\u001b[32m [ 80%]\u001b[0m\n",
            "tests/test_teste.py::TestClass::test_quando_calcular_bônus_ao_receber_132013201320_retornar_exception \u001b[32mPASSED\u001b[0m\u001b[32m [100%]\u001b[0m\n",
            "\n",
            "\u001b[32m======================================== \u001b[32m\u001b[1m5 passed\u001b[0m\u001b[32m in 0.02s\u001b[0m\u001b[32m =========================================\u001b[0m\n"
          ]
        }
      ]
    },
    {
      "cell_type": "markdown",
      "source": [
        "organizando testes com markers"
      ],
      "metadata": {
        "id": "SUF_8jCs28-d"
      }
    },
    {
      "cell_type": "code",
      "source": [
        "!pytest -k idade"
      ],
      "metadata": {
        "colab": {
          "base_uri": "https://localhost:8080/"
        },
        "id": "tyaFieuu2_FZ",
        "outputId": "14d692c9-81bc-4150-b916-045582ab0201"
      },
      "execution_count": null,
      "outputs": [
        {
          "output_type": "stream",
          "name": "stdout",
          "text": [
            "\u001b[1m======================================= test session starts ========================================\u001b[0m\n",
            "platform linux -- Python 3.10.12, pytest-7.4.3, pluggy-1.3.0\n",
            "rootdir: /content\n",
            "plugins: anyio-3.7.1\n",
            "\u001b[1mcollecting ... \u001b[0m\u001b[1m\rcollected 5 items / 4 deselected / 1 selected                                                      \u001b[0m\n",
            "\n",
            "tests/test_teste.py \u001b[32m.\u001b[0m\u001b[32m                                                                        [100%]\u001b[0m\n",
            "\n",
            "\u001b[32m================================= \u001b[32m\u001b[1m1 passed\u001b[0m, \u001b[33m4 deselected\u001b[0m\u001b[32m in 0.01s\u001b[0m\u001b[32m ==================================\u001b[0m\n"
          ]
        }
      ]
    },
    {
      "cell_type": "code",
      "source": [
        "!pytest -v -k idade"
      ],
      "metadata": {
        "colab": {
          "base_uri": "https://localhost:8080/"
        },
        "id": "0Q6wu1mz36Ml",
        "outputId": "5ed8f511-25c5-4eb3-d88a-acc7d22352a6"
      },
      "execution_count": null,
      "outputs": [
        {
          "output_type": "stream",
          "name": "stdout",
          "text": [
            "\u001b[1m======================================= test session starts ========================================\u001b[0m\n",
            "platform linux -- Python 3.10.12, pytest-7.4.3, pluggy-1.3.0 -- /usr/bin/python3\n",
            "cachedir: .pytest_cache\n",
            "rootdir: /content\n",
            "plugins: anyio-3.7.1\n",
            "\u001b[1mcollecting ... \u001b[0m\u001b[1m\rcollected 5 items / 4 deselected / 1 selected                                                      \u001b[0m\n",
            "\n",
            "tests/test_teste.py::TestClass::test_quando_idade_recebe_13_03_2000_deve_retornar_23 \u001b[32mPASSED\u001b[0m\u001b[32m  [100%]\u001b[0m\n",
            "\n",
            "\u001b[32m================================= \u001b[32m\u001b[1m1 passed\u001b[0m, \u001b[33m4 deselected\u001b[0m\u001b[32m in 0.01s\u001b[0m\u001b[32m ==================================\u001b[0m\n"
          ]
        }
      ]
    },
    {
      "cell_type": "code",
      "source": [
        "from pytest import raises, mark\n",
        "\n",
        "class TestClass:\n",
        "  def test_quando_idade_recebe_13_03_2000_deve_retornar_23(self):\n",
        "    # given-when-then\n",
        "    # dado (contexto)\n",
        "    entrada = '13/03/2000'\n",
        "    esperado = 23\n",
        "    funcionário_teste = Funcionário('teste', entrada, 1111)\n",
        "\n",
        "    # quando (ação)\n",
        "    resultado = funcionário_teste.idade()\n",
        "\n",
        "    # então (desfecho)\n",
        "    assert resultado == esperado\n",
        "\n",
        "  def test_quando_sobrenome_recebe_lucas_carvalho_deve_retornar_carvalho(self):\n",
        "    # given-when-then\n",
        "    # dado (contexto)\n",
        "    entrada = ' lucas carvalho '\n",
        "    esperado = 'carvalho'\n",
        "    lucas = Funcionário(entrada, 11/11/2000, 1111)\n",
        "\n",
        "    # quando (ação)\n",
        "    resultado = lucas.sobrenome()\n",
        "\n",
        "    # então (desfecho)\n",
        "    assert resultado == esperado\n",
        "\n",
        "  def test_quando_decréscimo_salário_recebe_100000_deve_retornar_90000(self):\n",
        "    # given-when-then\n",
        "    # dado (contexto)\n",
        "    entrada_nome = 'paulo bragança'\n",
        "    entrada_salário = 100000\n",
        "    esperado = 90000\n",
        "\n",
        "    funcionário_teste = Funcionário(entrada_nome, '11/11/2000', entrada_salário)\n",
        "\n",
        "    # quando (ação)\n",
        "    funcionário_teste.decréscimo_salário()\n",
        "    resultado = funcionário_teste.salário\n",
        "\n",
        "    # então (desfecho)\n",
        "    assert resultado == esperado\n",
        "\n",
        "  @mark.calcular_bônus\n",
        "  def test_quando_calcular_bônus_ao_receber_1320_deve_retornar_132(self):\n",
        "    entrada = 1320\n",
        "    esperado = 132\n",
        "\n",
        "    funcionário_teste = Funcionário('teste', '11/11/2000', entrada)\n",
        "    resultado = funcionário_teste.calcular_bônus()\n",
        "\n",
        "    assert resultado == esperado\n",
        "\n",
        "  @mark.calcular_bônus\n",
        "  def test_quando_calcular_bônus_ao_receber_132013201320_deve_retornar_exception(self):\n",
        "    with raises(Exception):\n",
        "      entrada = 132013201320\n",
        "\n",
        "      funcionário_teste = Funcionário('teste', '11/11/2000', entrada)\n",
        "      resultado = funcionário_teste.calcular_bônus()\n",
        "\n",
        "      assert resultado"
      ],
      "metadata": {
        "id": "GGTokR6j39jN"
      },
      "execution_count": null,
      "outputs": []
    },
    {
      "cell_type": "code",
      "source": [
        "!pytest -v -m calcular_bônus"
      ],
      "metadata": {
        "colab": {
          "base_uri": "https://localhost:8080/"
        },
        "id": "LIXxPYE_4-40",
        "outputId": "7cb0c24c-2c49-4ba8-c521-69b82c8ce25e"
      },
      "execution_count": null,
      "outputs": [
        {
          "output_type": "stream",
          "name": "stdout",
          "text": [
            "\u001b[1m======================================= test session starts ========================================\u001b[0m\n",
            "platform linux -- Python 3.10.12, pytest-7.4.3, pluggy-1.3.0 -- /usr/bin/python3\n",
            "cachedir: .pytest_cache\n",
            "rootdir: /content\n",
            "plugins: anyio-3.7.1\n",
            "\u001b[1mcollecting ... \u001b[0m\u001b[1m\rcollected 5 items / 3 deselected / 2 selected                                                      \u001b[0m\n",
            "\n",
            "tests/test_teste.py::TestClass::test_quando_calcular_bônus_ao_receber_1320_deve_retornar_132 \u001b[32mPASSED\u001b[0m\u001b[33m [ 50%]\u001b[0m\n",
            "tests/test_teste.py::TestClass::test_quando_calcular_bônus_ao_receber_132013201320_deve_retornar_exception \u001b[32mPASSED\u001b[0m\u001b[33m [100%]\u001b[0m\n",
            "\n",
            "\u001b[33m========================================= warnings summary =========================================\u001b[0m\n",
            "tests/test_teste.py:91\n",
            "  /content/tests/test_teste.py:91: PytestUnknownMarkWarning: Unknown pytest.mark.calcular_bônus - is this a typo?  You can register custom marks to avoid this warning - for details, see https://docs.pytest.org/en/stable/how-to/mark.html\n",
            "    @mark.calcular_bônus\n",
            "\n",
            "tests/test_teste.py:101\n",
            "  /content/tests/test_teste.py:101: PytestUnknownMarkWarning: Unknown pytest.mark.calcular_bônus - is this a typo?  You can register custom marks to avoid this warning - for details, see https://docs.pytest.org/en/stable/how-to/mark.html\n",
            "    @mark.calcular_bônus\n",
            "\n",
            "-- Docs: https://docs.pytest.org/en/stable/how-to/capture-warnings.html\n",
            "\u001b[33m=========================== \u001b[32m2 passed\u001b[0m, \u001b[33m\u001b[1m3 deselected\u001b[0m, \u001b[33m\u001b[1m2 warnings\u001b[0m\u001b[33m in 0.02s\u001b[0m\u001b[33m ============================\u001b[0m\n"
          ]
        }
      ]
    },
    {
      "cell_type": "code",
      "source": [
        "!pytest --markers"
      ],
      "metadata": {
        "colab": {
          "base_uri": "https://localhost:8080/"
        },
        "id": "R15OYNi95Cfq",
        "outputId": "b0fead98-4dc7-4460-9c9f-9efda4e85fd8"
      },
      "execution_count": null,
      "outputs": [
        {
          "output_type": "stream",
          "name": "stdout",
          "text": [
            "\u001b[1m@pytest.mark.anyio:\u001b[0m mark the (coroutine function) test to be run asynchronously via anyio.\n",
            "\n",
            "\u001b[1m@pytest.mark.filterwarnings(warning):\u001b[0m add a warning filter to the given test. see https://docs.pytest.org/en/stable/how-to/capture-warnings.html#pytest-mark-filterwarnings \n",
            "\n",
            "\u001b[1m@pytest.mark.skip(reason=None):\u001b[0m skip the given test function with an optional reason. Example: skip(reason=\"no way of currently testing this\") skips the test.\n",
            "\n",
            "\u001b[1m@pytest.mark.skipif(condition, ..., *, reason=...):\u001b[0m skip the given test function if any of the conditions evaluate to True. Example: skipif(sys.platform == 'win32') skips the test if we are on the win32 platform. See https://docs.pytest.org/en/stable/reference/reference.html#pytest-mark-skipif\n",
            "\n",
            "\u001b[1m@pytest.mark.xfail(condition, ..., *, reason=..., run=True, raises=None, strict=xfail_strict):\u001b[0m mark the test function as an expected failure if any of the conditions evaluate to True. Optionally specify a reason for better reporting and run=False if you don't even want to execute the test function. If only specific exception(s) are expected, you can list them in raises, and if the test fails in other ways, it will be reported as a true failure. See https://docs.pytest.org/en/stable/reference/reference.html#pytest-mark-xfail\n",
            "\n",
            "\u001b[1m@pytest.mark.parametrize(argnames, argvalues):\u001b[0m call a test function multiple times passing in different arguments in turn. argvalues generally needs to be a list of values if argnames specifies only one name or a list of tuples of values if argnames specifies multiple names. Example: @parametrize('arg1', [1,2]) would lead to two calls of the decorated test function, one with arg1=1 and another with arg1=2.see https://docs.pytest.org/en/stable/how-to/parametrize.html for more info and examples.\n",
            "\n",
            "\u001b[1m@pytest.mark.usefixtures(fixturename1, fixturename2, ...):\u001b[0m mark tests as needing all of the specified fixtures. see https://docs.pytest.org/en/stable/explanation/fixtures.html#usefixtures \n",
            "\n",
            "\u001b[1m@pytest.mark.tryfirst:\u001b[0m mark a hook implementation function such that the plugin machinery will try to call it first/as early as possible. DEPRECATED, use @pytest.hookimpl(tryfirst=True) instead.\n",
            "\n",
            "\u001b[1m@pytest.mark.trylast:\u001b[0m mark a hook implementation function such that the plugin machinery will try to call it last/as late as possible. DEPRECATED, use @pytest.hookimpl(trylast=True) instead.\n",
            "\n"
          ]
        }
      ]
    },
    {
      "cell_type": "code",
      "source": [
        "from pytest import raises, mark\n",
        "\n",
        "class TestClass:\n",
        "  def test_quando_idade_recebe_13_03_2000_deve_retornar_23(self):\n",
        "    # given-when-then\n",
        "    # dado (contexto)\n",
        "    entrada = '13/03/2000'\n",
        "    esperado = 23\n",
        "    funcionário_teste = Funcionário('teste', entrada, 1111)\n",
        "\n",
        "    # quando (ação)\n",
        "    resultado = funcionário_teste.idade()\n",
        "\n",
        "    # então (desfecho)\n",
        "    assert resultado == esperado\n",
        "\n",
        "  def test_quando_sobrenome_recebe_lucas_carvalho_deve_retornar_carvalho(self):\n",
        "    # given-when-then\n",
        "    # dado (contexto)\n",
        "    entrada = ' lucas carvalho '\n",
        "    esperado = 'carvalho'\n",
        "    lucas = Funcionário(entrada, 11/11/2000, 1111)\n",
        "\n",
        "    # quando (ação)\n",
        "    resultado = lucas.sobrenome()\n",
        "\n",
        "    # então (desfecho)\n",
        "    assert resultado == esperado\n",
        "\n",
        "  @mark.skip\n",
        "  def test_quando_decréscimo_salário_recebe_100000_deve_retornar_90000(self):\n",
        "    # given-when-then\n",
        "    # dado (contexto)\n",
        "    entrada_nome = 'paulo bragança'\n",
        "    entrada_salário = 100000\n",
        "    esperado = 90000\n",
        "\n",
        "    funcionário_teste = Funcionário(entrada_nome, '11/11/2000', entrada_salário)\n",
        "\n",
        "    # quando (ação)\n",
        "    funcionário_teste.decréscimo_salário()\n",
        "    resultado = funcionário_teste.salário\n",
        "\n",
        "    # então (desfecho)\n",
        "    assert resultado == esperado\n",
        "\n",
        "  # @mark.calcular_bônus\n",
        "  def test_quando_calcular_bônus_ao_receber_1320_deve_retornar_132(self):\n",
        "    entrada = 1320\n",
        "    esperado = 132\n",
        "\n",
        "    funcionário_teste = Funcionário('teste', '11/11/2000', entrada)\n",
        "    resultado = funcionário_teste.calcular_bônus()\n",
        "\n",
        "    assert resultado == esperado\n",
        "\n",
        "  # @mark.calcular_bônus\n",
        "  def test_quando_calcular_bônus_ao_receber_132013201320_deve_retornar_exception(self):\n",
        "    with raises(Exception):\n",
        "      entrada = 132013201320\n",
        "\n",
        "      funcionário_teste = Funcionário('teste', '11/11/2000', entrada)\n",
        "      resultado = funcionário_teste.calcular_bônus()\n",
        "\n",
        "      assert resultado"
      ],
      "metadata": {
        "id": "j4-3oy0G5TWJ"
      },
      "execution_count": null,
      "outputs": []
    },
    {
      "cell_type": "code",
      "source": [
        "!pytest -v"
      ],
      "metadata": {
        "colab": {
          "base_uri": "https://localhost:8080/"
        },
        "id": "mxGM_JX05iG9",
        "outputId": "9d7eb7fd-0a33-4b89-9097-79e913f15ac9"
      },
      "execution_count": null,
      "outputs": [
        {
          "output_type": "stream",
          "name": "stdout",
          "text": [
            "\u001b[1m======================================= test session starts ========================================\u001b[0m\n",
            "platform linux -- Python 3.10.12, pytest-7.4.3, pluggy-1.3.0 -- /usr/bin/python3\n",
            "cachedir: .pytest_cache\n",
            "rootdir: /content\n",
            "plugins: anyio-3.7.1\n",
            "\u001b[1mcollecting ... \u001b[0m\u001b[1m\rcollected 5 items                                                                                  \u001b[0m\n",
            "\n",
            "tests/test_teste.py::TestClass::test_quando_idade_recebe_13_03_2000_deve_retornar_23 \u001b[32mPASSED\u001b[0m\u001b[32m  [ 20%]\u001b[0m\n",
            "tests/test_teste.py::TestClass::test_quando_sobrenome_recebe_lucas_carvalho_deve_retornar_carvalho \u001b[32mPASSED\u001b[0m\u001b[32m [ 40%]\u001b[0m\n",
            "tests/test_teste.py::TestClass::test_quando_decréscimo_salário_recebe_100000_deve_retornar_90000 \u001b[33mSKIPPED\u001b[0m\u001b[32m [ 60%]\u001b[0m\n",
            "tests/test_teste.py::TestClass::test_quando_calcular_bônus_ao_receber_1320_deve_retornar_132 \u001b[32mPASSED\u001b[0m\u001b[32m [ 80%]\u001b[0m\n",
            "tests/test_teste.py::TestClass::test_quando_calcular_bônus_ao_receber_132013201320_deve_retornar_exception \u001b[32mPASSED\u001b[0m\u001b[32m [100%]\u001b[0m\n",
            "\n",
            "\u001b[32m=================================== \u001b[32m\u001b[1m4 passed\u001b[0m, \u001b[33m1 skipped\u001b[0m\u001b[32m in 0.02s\u001b[0m\u001b[32m ===================================\u001b[0m\n"
          ]
        }
      ]
    },
    {
      "cell_type": "code",
      "source": [
        "texto = '''\n",
        "[pytest]\n",
        "markers =\n",
        "    calcular_bônus: testes para o método calcular bônus\n",
        "'''\n",
        "\n",
        "with open(\"pytest.ini\", \"w\") as arquivo:\n",
        "    arquivo.write(texto)"
      ],
      "metadata": {
        "id": "09_F-cMJ7Eg3"
      },
      "execution_count": null,
      "outputs": []
    },
    {
      "cell_type": "code",
      "source": [
        "from pytest import raises, mark\n",
        "\n",
        "class TestClass:\n",
        "  def test_quando_idade_recebe_13_03_2000_deve_retornar_23(self):\n",
        "    # given-when-then\n",
        "    # dado (contexto)\n",
        "    entrada = '13/03/2000'\n",
        "    esperado = 23\n",
        "    funcionário_teste = Funcionário('teste', entrada, 1111)\n",
        "\n",
        "    # quando (ação)\n",
        "    resultado = funcionário_teste.idade()\n",
        "\n",
        "    # então (desfecho)\n",
        "    assert resultado == esperado\n",
        "\n",
        "  def test_quando_sobrenome_recebe_lucas_carvalho_deve_retornar_carvalho(self):\n",
        "    # given-when-then\n",
        "    # dado (contexto)\n",
        "    entrada = ' lucas carvalho '\n",
        "    esperado = 'carvalho'\n",
        "    lucas = Funcionário(entrada, 11/11/2000, 1111)\n",
        "\n",
        "    # quando (ação)\n",
        "    resultado = lucas.sobrenome()\n",
        "\n",
        "    # então (desfecho)\n",
        "    assert resultado == esperado\n",
        "\n",
        "  def test_quando_decréscimo_salário_recebe_100000_deve_retornar_90000(self):\n",
        "    # given-when-then\n",
        "    # dado (contexto)\n",
        "    entrada_nome = 'paulo bragança'\n",
        "    entrada_salário = 100000\n",
        "    esperado = 90000\n",
        "\n",
        "    funcionário_teste = Funcionário(entrada_nome, '11/11/2000', entrada_salário)\n",
        "\n",
        "    # quando (ação)\n",
        "    funcionário_teste.decréscimo_salário()\n",
        "    resultado = funcionário_teste.salário\n",
        "\n",
        "    # então (desfecho)\n",
        "    assert resultado == esperado\n",
        "\n",
        "  @mark.calcular_bônus\n",
        "  def test_quando_calcular_bônus_ao_receber_1320_deve_retornar_132(self):\n",
        "    entrada = 1320\n",
        "    esperado = 132\n",
        "\n",
        "    funcionário_teste = Funcionário('teste', '11/11/2000', entrada)\n",
        "    resultado = funcionário_teste.calcular_bônus()\n",
        "\n",
        "    assert resultado == esperado\n",
        "\n",
        "  @mark.calcular_bônus\n",
        "  def test_quando_calcular_bônus_ao_receber_132013201320_deve_retornar_exception(self):\n",
        "    with raises(Exception):\n",
        "      entrada = 132013201320\n",
        "\n",
        "      funcionário_teste = Funcionário('teste', '11/11/2000', entrada)\n",
        "      resultado = funcionário_teste.calcular_bônus()\n",
        "\n",
        "      assert resultado"
      ],
      "metadata": {
        "id": "0nfA2p_f6qnW"
      },
      "execution_count": null,
      "outputs": []
    },
    {
      "cell_type": "code",
      "source": [
        "!pytest -v -m calcular_bônus"
      ],
      "metadata": {
        "colab": {
          "base_uri": "https://localhost:8080/"
        },
        "id": "9O5v1H-r6t4-",
        "outputId": "948bea08-0da4-4791-dcf3-09f447eb9df8"
      },
      "execution_count": null,
      "outputs": [
        {
          "output_type": "stream",
          "name": "stdout",
          "text": [
            "\u001b[1m======================================= test session starts ========================================\u001b[0m\n",
            "platform linux -- Python 3.10.12, pytest-7.4.3, pluggy-1.3.0 -- /usr/bin/python3\n",
            "cachedir: .pytest_cache\n",
            "rootdir: /content\n",
            "configfile: pytest.ini\n",
            "plugins: anyio-3.7.1\n",
            "\u001b[1mcollecting ... \u001b[0m\u001b[1m\rcollected 5 items / 3 deselected / 2 selected                                                      \u001b[0m\n",
            "\n",
            "tests/test_teste.py::TestClass::test_quando_calcular_bônus_ao_receber_1320_deve_retornar_132 \u001b[32mPASSED\u001b[0m\u001b[32m [ 50%]\u001b[0m\n",
            "tests/test_teste.py::TestClass::test_quando_calcular_bônus_ao_receber_132013201320_deve_retornar_exception \u001b[32mPASSED\u001b[0m\u001b[32m [100%]\u001b[0m\n",
            "\n",
            "\u001b[32m================================= \u001b[32m\u001b[1m2 passed\u001b[0m, \u001b[33m3 deselected\u001b[0m\u001b[32m in 0.02s\u001b[0m\u001b[32m ==================================\u001b[0m\n"
          ]
        }
      ]
    },
    {
      "cell_type": "markdown",
      "source": [
        "bloco 05<br>\n",
        "cobertura de testes"
      ],
      "metadata": {
        "id": "1LHxdEsv8_Pg"
      }
    },
    {
      "cell_type": "markdown",
      "source": [
        "configurando ferramenta de cobertura"
      ],
      "metadata": {
        "id": "rMglGuTL9IDH"
      }
    },
    {
      "cell_type": "code",
      "source": [
        "!pip install pytest-cov"
      ],
      "metadata": {
        "colab": {
          "base_uri": "https://localhost:8080/"
        },
        "id": "5hILCsyi_8l2",
        "outputId": "3c44c68b-d2e9-4697-f10d-af006ad0a3ca"
      },
      "execution_count": 46,
      "outputs": [
        {
          "output_type": "stream",
          "name": "stdout",
          "text": [
            "Collecting pytest-cov\n",
            "  Downloading pytest_cov-4.1.0-py3-none-any.whl (21 kB)\n",
            "Requirement already satisfied: pytest>=4.6 in /usr/local/lib/python3.10/dist-packages (from pytest-cov) (7.4.3)\n",
            "Collecting coverage[toml]>=5.2.1 (from pytest-cov)\n",
            "  Downloading coverage-7.3.2-cp310-cp310-manylinux_2_5_x86_64.manylinux1_x86_64.manylinux_2_17_x86_64.manylinux2014_x86_64.whl (227 kB)\n",
            "\u001b[2K     \u001b[90m━━━━━━━━━━━━━━━━━━━━━━━━━━━━━━━━━━━━━━━━\u001b[0m \u001b[32m227.5/227.5 kB\u001b[0m \u001b[31m4.0 MB/s\u001b[0m eta \u001b[36m0:00:00\u001b[0m\n",
            "\u001b[?25hRequirement already satisfied: tomli in /usr/local/lib/python3.10/dist-packages (from coverage[toml]>=5.2.1->pytest-cov) (2.0.1)\n",
            "Requirement already satisfied: iniconfig in /usr/local/lib/python3.10/dist-packages (from pytest>=4.6->pytest-cov) (2.0.0)\n",
            "Requirement already satisfied: packaging in /usr/local/lib/python3.10/dist-packages (from pytest>=4.6->pytest-cov) (23.2)\n",
            "Requirement already satisfied: pluggy<2.0,>=0.12 in /usr/local/lib/python3.10/dist-packages (from pytest>=4.6->pytest-cov) (1.3.0)\n",
            "Requirement already satisfied: exceptiongroup>=1.0.0rc8 in /usr/local/lib/python3.10/dist-packages (from pytest>=4.6->pytest-cov) (1.1.3)\n",
            "Installing collected packages: coverage, pytest-cov\n",
            "Successfully installed coverage-7.3.2 pytest-cov-4.1.0\n"
          ]
        }
      ]
    },
    {
      "cell_type": "code",
      "source": [
        "!pip freeze"
      ],
      "metadata": {
        "colab": {
          "base_uri": "https://localhost:8080/"
        },
        "id": "ONdZAHHJA2te",
        "outputId": "c590c102-c224-4fa0-a560-6ec27a6c478b"
      },
      "execution_count": 47,
      "outputs": [
        {
          "output_type": "stream",
          "name": "stdout",
          "text": [
            "absl-py==1.4.0\n",
            "aiohttp==3.8.6\n",
            "aiosignal==1.3.1\n",
            "alabaster==0.7.13\n",
            "albumentations==1.3.1\n",
            "altair==4.2.2\n",
            "anyio==3.7.1\n",
            "appdirs==1.4.4\n",
            "argon2-cffi==23.1.0\n",
            "argon2-cffi-bindings==21.2.0\n",
            "array-record==0.5.0\n",
            "arviz==0.15.1\n",
            "astropy==5.3.4\n",
            "astunparse==1.6.3\n",
            "async-timeout==4.0.3\n",
            "atpublic==4.0\n",
            "attrs==23.1.0\n",
            "audioread==3.0.1\n",
            "autograd==1.6.2\n",
            "Babel==2.13.1\n",
            "backcall==0.2.0\n",
            "beautifulsoup4==4.11.2\n",
            "bidict==0.22.1\n",
            "bigframes==0.10.0\n",
            "bleach==6.1.0\n",
            "blinker==1.4\n",
            "blis==0.7.11\n",
            "blosc2==2.0.0\n",
            "bokeh==3.2.2\n",
            "bqplot==0.12.42\n",
            "branca==0.6.0\n",
            "build==1.0.3\n",
            "CacheControl==0.13.1\n",
            "cachetools==5.3.2\n",
            "catalogue==2.0.10\n",
            "certifi==2023.7.22\n",
            "cffi==1.16.0\n",
            "chardet==5.2.0\n",
            "charset-normalizer==3.3.1\n",
            "chex==0.1.7\n",
            "click==8.1.7\n",
            "click-plugins==1.1.1\n",
            "cligj==0.7.2\n",
            "cloudpickle==2.2.1\n",
            "cmake==3.27.7\n",
            "cmdstanpy==1.2.0\n",
            "colorcet==3.0.1\n",
            "colorlover==0.3.0\n",
            "colour==0.1.5\n",
            "community==1.0.0b1\n",
            "confection==0.1.3\n",
            "cons==0.4.6\n",
            "contextlib2==21.6.0\n",
            "contourpy==1.1.1\n",
            "coverage==7.3.2\n",
            "cryptography==41.0.5\n",
            "cufflinks==0.17.3\n",
            "cupy-cuda11x==11.0.0\n",
            "cvxopt==1.3.2\n",
            "cvxpy==1.3.2\n",
            "cycler==0.12.1\n",
            "cymem==2.0.8\n",
            "Cython==3.0.4\n",
            "dask==2023.8.1\n",
            "datascience==0.17.6\n",
            "db-dtypes==1.1.1\n",
            "dbus-python==1.2.18\n",
            "debugpy==1.6.6\n",
            "decorator==4.4.2\n",
            "defusedxml==0.7.1\n",
            "diskcache==5.6.3\n",
            "distributed==2023.8.1\n",
            "distro==1.7.0\n",
            "dlib==19.24.2\n",
            "dm-tree==0.1.8\n",
            "docutils==0.18.1\n",
            "dopamine-rl==4.0.6\n",
            "duckdb==0.8.1\n",
            "earthengine-api==0.1.375\n",
            "easydict==1.11\n",
            "ecos==2.0.12\n",
            "editdistance==0.6.2\n",
            "eerepr==0.0.4\n",
            "en-core-web-sm @ https://github.com/explosion/spacy-models/releases/download/en_core_web_sm-3.6.0/en_core_web_sm-3.6.0-py3-none-any.whl#sha256=83276fc78a70045627144786b52e1f2728ad5e29e5e43916ec37ea9c26a11212\n",
            "entrypoints==0.4\n",
            "et-xmlfile==1.1.0\n",
            "etils==1.5.2\n",
            "etuples==0.3.9\n",
            "exceptiongroup==1.1.3\n",
            "fastai==2.7.13\n",
            "fastcore==1.5.29\n",
            "fastdownload==0.0.7\n",
            "fastjsonschema==2.18.1\n",
            "fastprogress==1.0.3\n",
            "fastrlock==0.8.2\n",
            "filelock==3.12.4\n",
            "fiona==1.9.5\n",
            "firebase-admin==5.3.0\n",
            "Flask==2.2.5\n",
            "flatbuffers==23.5.26\n",
            "flax==0.7.4\n",
            "folium==0.14.0\n",
            "fonttools==4.43.1\n",
            "frozendict==2.3.8\n",
            "frozenlist==1.4.0\n",
            "fsspec==2023.6.0\n",
            "future==0.18.3\n",
            "gast==0.5.4\n",
            "gcsfs==2023.6.0\n",
            "GDAL==3.4.3\n",
            "gdown==4.6.6\n",
            "geemap==0.28.2\n",
            "gensim==4.3.2\n",
            "geocoder==1.38.1\n",
            "geographiclib==2.0\n",
            "geopandas==0.13.2\n",
            "geopy==2.3.0\n",
            "gin-config==0.5.0\n",
            "glob2==0.7\n",
            "google==2.0.3\n",
            "google-api-core==2.11.1\n",
            "google-api-python-client==2.84.0\n",
            "google-auth==2.17.3\n",
            "google-auth-httplib2==0.1.1\n",
            "google-auth-oauthlib==1.0.0\n",
            "google-cloud-bigquery==3.12.0\n",
            "google-cloud-bigquery-connection==1.12.1\n",
            "google-cloud-bigquery-storage==2.22.0\n",
            "google-cloud-core==2.3.3\n",
            "google-cloud-datastore==2.15.2\n",
            "google-cloud-firestore==2.11.1\n",
            "google-cloud-functions==1.13.3\n",
            "google-cloud-iam==2.12.2\n",
            "google-cloud-language==2.9.1\n",
            "google-cloud-resource-manager==1.10.4\n",
            "google-cloud-storage==2.8.0\n",
            "google-cloud-translate==3.11.3\n",
            "google-colab @ file:///colabtools/dist/google-colab-1.0.0.tar.gz#sha256=840b68ab91172cd01b4b48ca4b48fb1916e15b1e6cc74cdb3ad9bf40932339c5\n",
            "google-crc32c==1.5.0\n",
            "google-pasta==0.2.0\n",
            "google-resumable-media==2.6.0\n",
            "googleapis-common-protos==1.61.0\n",
            "googledrivedownloader==0.4\n",
            "graphviz==0.20.1\n",
            "greenlet==3.0.0\n",
            "grpc-google-iam-v1==0.12.6\n",
            "grpcio==1.59.0\n",
            "grpcio-status==1.48.2\n",
            "gspread==3.4.2\n",
            "gspread-dataframe==3.3.1\n",
            "gym==0.25.2\n",
            "gym-notices==0.0.8\n",
            "h5netcdf==1.2.0\n",
            "h5py==3.9.0\n",
            "holidays==0.35\n",
            "holoviews==1.17.1\n",
            "html5lib==1.1\n",
            "httpimport==1.3.1\n",
            "httplib2==0.22.0\n",
            "humanize==4.7.0\n",
            "hyperopt==0.2.7\n",
            "ibis-framework==6.2.0\n",
            "idna==3.4\n",
            "imageio==2.31.6\n",
            "imageio-ffmpeg==0.4.9\n",
            "imagesize==1.4.1\n",
            "imbalanced-learn==0.10.1\n",
            "imgaug==0.4.0\n",
            "importlib-metadata==6.8.0\n",
            "importlib-resources==6.1.0\n",
            "imutils==0.5.4\n",
            "inflect==7.0.0\n",
            "iniconfig==2.0.0\n",
            "install==1.3.5\n",
            "intel-openmp==2023.2.0\n",
            "ipyevents==2.0.2\n",
            "ipyfilechooser==0.6.0\n",
            "ipykernel==5.5.6\n",
            "ipyleaflet==0.17.4\n",
            "ipython==7.34.0\n",
            "ipython-genutils==0.2.0\n",
            "ipython-sql==0.5.0\n",
            "ipytree==0.2.2\n",
            "ipywidgets==7.7.1\n",
            "itsdangerous==2.1.2\n",
            "jax==0.4.16\n",
            "jaxlib @ https://storage.googleapis.com/jax-releases/cuda11/jaxlib-0.4.16+cuda11.cudnn86-cp310-cp310-manylinux2014_x86_64.whl#sha256=78b3a9acfda4bfaae8a1dc112995d56454020f5c02dba4d24c40c906332efd4a\n",
            "jeepney==0.7.1\n",
            "jieba==0.42.1\n",
            "Jinja2==3.1.2\n",
            "joblib==1.3.2\n",
            "jsonpickle==3.0.2\n",
            "jsonschema==4.19.1\n",
            "jsonschema-specifications==2023.7.1\n",
            "jupyter-client==6.1.12\n",
            "jupyter-console==6.1.0\n",
            "jupyter-server==1.24.0\n",
            "jupyter_core==5.4.0\n",
            "jupyterlab-pygments==0.2.2\n",
            "jupyterlab-widgets==3.0.9\n",
            "kaggle==1.5.16\n",
            "keras==2.14.0\n",
            "keyring==23.5.0\n",
            "kiwisolver==1.4.5\n",
            "langcodes==3.3.0\n",
            "launchpadlib==1.10.16\n",
            "lazr.restfulclient==0.14.4\n",
            "lazr.uri==1.0.6\n",
            "lazy_loader==0.3\n",
            "libclang==16.0.6\n",
            "librosa==0.10.1\n",
            "lida==0.0.10\n",
            "lightgbm==4.1.0\n",
            "linkify-it-py==2.0.2\n",
            "llmx==0.0.15a0\n",
            "llvmlite==0.39.1\n",
            "locket==1.0.0\n",
            "logical-unification==0.4.6\n",
            "lxml==4.9.3\n",
            "malloy==2023.1058\n",
            "Markdown==3.5\n",
            "markdown-it-py==3.0.0\n",
            "MarkupSafe==2.1.3\n",
            "matplotlib==3.7.1\n",
            "matplotlib-inline==0.1.6\n",
            "matplotlib-venn==0.11.9\n",
            "mdit-py-plugins==0.4.0\n",
            "mdurl==0.1.2\n",
            "miniKanren==1.0.3\n",
            "missingno==0.5.2\n",
            "mistune==0.8.4\n",
            "mizani==0.9.3\n",
            "mkl==2023.2.0\n",
            "ml-dtypes==0.2.0\n",
            "mlxtend==0.22.0\n",
            "more-itertools==10.1.0\n",
            "moviepy==1.0.3\n",
            "mpmath==1.3.0\n",
            "msgpack==1.0.7\n",
            "multidict==6.0.4\n",
            "multipledispatch==1.0.0\n",
            "multitasking==0.0.11\n",
            "murmurhash==1.0.10\n",
            "music21==9.1.0\n",
            "natsort==8.4.0\n",
            "nbclassic==1.0.0\n",
            "nbclient==0.8.0\n",
            "nbconvert==6.5.4\n",
            "nbformat==5.9.2\n",
            "nest-asyncio==1.5.8\n",
            "networkx==3.2\n",
            "nibabel==4.0.2\n",
            "nltk==3.8.1\n",
            "notebook==6.5.5\n",
            "notebook_shim==0.2.3\n",
            "numba==0.56.4\n",
            "numexpr==2.8.7\n",
            "numpy==1.23.5\n",
            "oauth2client==4.1.3\n",
            "oauthlib==3.2.2\n",
            "opencv-contrib-python==4.8.0.76\n",
            "opencv-python==4.8.0.76\n",
            "opencv-python-headless==4.8.1.78\n",
            "openpyxl==3.1.2\n",
            "opt-einsum==3.3.0\n",
            "optax==0.1.7\n",
            "orbax-checkpoint==0.4.1\n",
            "osqp==0.6.2.post8\n",
            "packaging==23.2\n",
            "pandas==1.5.3\n",
            "pandas-datareader==0.10.0\n",
            "pandas-gbq==0.17.9\n",
            "pandas-stubs==1.5.3.230304\n",
            "pandocfilters==1.5.0\n",
            "panel==1.3.0\n",
            "param==2.0.0\n",
            "parso==0.8.3\n",
            "parsy==2.1\n",
            "partd==1.4.1\n",
            "pathlib==1.0.1\n",
            "pathy==0.10.3\n",
            "patsy==0.5.3\n",
            "peewee==3.17.0\n",
            "pexpect==4.8.0\n",
            "pickleshare==0.7.5\n",
            "Pillow==9.4.0\n",
            "pip-tools==6.13.0\n",
            "platformdirs==3.11.0\n",
            "plotly==5.15.0\n",
            "plotnine==0.12.3\n",
            "pluggy==1.3.0\n",
            "polars==0.17.3\n",
            "pooch==1.8.0\n",
            "portpicker==1.5.2\n",
            "prefetch-generator==1.0.3\n",
            "preshed==3.0.9\n",
            "prettytable==3.9.0\n",
            "proglog==0.1.10\n",
            "progressbar2==4.2.0\n",
            "prometheus-client==0.17.1\n",
            "promise==2.3\n",
            "prompt-toolkit==3.0.39\n",
            "prophet==1.1.5\n",
            "proto-plus==1.22.3\n",
            "protobuf==3.20.3\n",
            "psutil==5.9.5\n",
            "psycopg2==2.9.9\n",
            "ptyprocess==0.7.0\n",
            "py-cpuinfo==9.0.0\n",
            "py4j==0.10.9.7\n",
            "pyarrow==9.0.0\n",
            "pyasn1==0.5.0\n",
            "pyasn1-modules==0.3.0\n",
            "pycocotools==2.0.7\n",
            "pycparser==2.21\n",
            "pyct==0.5.0\n",
            "pydantic==1.10.13\n",
            "pydata-google-auth==1.8.2\n",
            "pydot==1.4.2\n",
            "pydot-ng==2.0.0\n",
            "pydotplus==2.0.2\n",
            "PyDrive==1.3.1\n",
            "PyDrive2==1.6.3\n",
            "pyerfa==2.0.1.1\n",
            "pygame==2.5.2\n",
            "Pygments==2.16.1\n",
            "PyGObject==3.42.1\n",
            "PyJWT==2.3.0\n",
            "pymc==5.7.2\n",
            "pymystem3==0.2.0\n",
            "PyOpenGL==3.1.7\n",
            "pyOpenSSL==23.2.0\n",
            "pyparsing==3.1.1\n",
            "pyperclip==1.8.2\n",
            "pyproj==3.6.1\n",
            "pyproject_hooks==1.0.0\n",
            "pyshp==2.3.1\n",
            "PySocks==1.7.1\n",
            "pytensor==2.14.2\n",
            "pytest==7.4.3\n",
            "pytest-cov==4.1.0\n",
            "python-apt==0.0.0\n",
            "python-box==7.1.1\n",
            "python-dateutil==2.8.2\n",
            "python-louvain==0.16\n",
            "python-slugify==8.0.1\n",
            "python-utils==3.8.1\n",
            "pytz==2023.3.post1\n",
            "pyviz_comms==3.0.0\n",
            "PyWavelets==1.4.1\n",
            "PyYAML==6.0.1\n",
            "pyzmq==23.2.1\n",
            "qdldl==0.1.7.post0\n",
            "qudida==0.0.4\n",
            "ratelim==0.1.6\n",
            "referencing==0.30.2\n",
            "regex==2023.6.3\n",
            "requests==2.31.0\n",
            "requests-oauthlib==1.3.1\n",
            "requirements-parser==0.5.0\n",
            "rich==13.6.0\n",
            "rpds-py==0.10.6\n",
            "rpy2==3.4.2\n",
            "rsa==4.9\n",
            "scikit-image==0.19.3\n",
            "scikit-learn==1.2.2\n",
            "scipy==1.11.3\n",
            "scooby==0.9.2\n",
            "scs==3.2.3\n",
            "seaborn==0.12.2\n",
            "SecretStorage==3.3.1\n",
            "Send2Trash==1.8.2\n",
            "shapely==2.0.2\n",
            "six==1.16.0\n",
            "sklearn-pandas==2.2.0\n",
            "smart-open==6.4.0\n",
            "sniffio==1.3.0\n",
            "snowballstemmer==2.2.0\n",
            "sortedcontainers==2.4.0\n",
            "soundfile==0.12.1\n",
            "soupsieve==2.5\n",
            "soxr==0.3.7\n",
            "spacy==3.6.1\n",
            "spacy-legacy==3.0.12\n",
            "spacy-loggers==1.0.5\n",
            "Sphinx==5.0.2\n",
            "sphinxcontrib-applehelp==1.0.7\n",
            "sphinxcontrib-devhelp==1.0.5\n",
            "sphinxcontrib-htmlhelp==2.0.4\n",
            "sphinxcontrib-jsmath==1.0.1\n",
            "sphinxcontrib-qthelp==1.0.6\n",
            "sphinxcontrib-serializinghtml==1.1.9\n",
            "SQLAlchemy==2.0.22\n",
            "sqlglot==17.16.2\n",
            "sqlparse==0.4.4\n",
            "srsly==2.4.8\n",
            "stanio==0.3.0\n",
            "statsmodels==0.14.0\n",
            "sympy==1.12\n",
            "tables==3.8.0\n",
            "tabulate==0.9.0\n",
            "tbb==2021.10.0\n",
            "tblib==3.0.0\n",
            "tenacity==8.2.3\n",
            "tensorboard==2.14.1\n",
            "tensorboard-data-server==0.7.2\n",
            "tensorflow==2.14.0\n",
            "tensorflow-datasets==4.9.3\n",
            "tensorflow-estimator==2.14.0\n",
            "tensorflow-gcs-config==2.14.0\n",
            "tensorflow-hub==0.15.0\n",
            "tensorflow-io-gcs-filesystem==0.34.0\n",
            "tensorflow-metadata==1.14.0\n",
            "tensorflow-probability==0.22.0\n",
            "tensorstore==0.1.45\n",
            "termcolor==2.3.0\n",
            "terminado==0.17.1\n",
            "text-unidecode==1.3\n",
            "textblob==0.17.1\n",
            "tf-slim==1.1.0\n",
            "thinc==8.1.12\n",
            "threadpoolctl==3.2.0\n",
            "tifffile==2023.9.26\n",
            "tinycss2==1.2.1\n",
            "toml==0.10.2\n",
            "tomli==2.0.1\n",
            "toolz==0.12.0\n",
            "torch @ https://download.pytorch.org/whl/cu118/torch-2.1.0%2Bcu118-cp310-cp310-linux_x86_64.whl#sha256=a81b554184492005543ddc32e96469f9369d778dedd195d73bda9bed407d6589\n",
            "torchaudio @ https://download.pytorch.org/whl/cu118/torchaudio-2.1.0%2Bcu118-cp310-cp310-linux_x86_64.whl#sha256=cdfd0a129406155eee595f408cafbb92589652da4090d1d2040f5453d4cae71f\n",
            "torchdata==0.7.0\n",
            "torchsummary==1.5.1\n",
            "torchtext==0.16.0\n",
            "torchvision @ https://download.pytorch.org/whl/cu118/torchvision-0.16.0%2Bcu118-cp310-cp310-linux_x86_64.whl#sha256=033712f65d45afe806676c4129dfe601ad1321d9e092df62b15847c02d4061dc\n",
            "tornado==6.3.2\n",
            "tqdm==4.66.1\n",
            "traitlets==5.7.1\n",
            "traittypes==0.2.1\n",
            "triton==2.1.0\n",
            "tweepy==4.13.0\n",
            "typer==0.9.0\n",
            "types-pytz==2023.3.1.1\n",
            "types-setuptools==68.2.0.0\n",
            "typing_extensions==4.5.0\n",
            "tzlocal==5.2\n",
            "uc-micro-py==1.0.2\n",
            "uritemplate==4.1.1\n",
            "urllib3==2.0.7\n",
            "vega-datasets==0.9.0\n",
            "wadllib==1.3.6\n",
            "wasabi==1.1.2\n",
            "wcwidth==0.2.8\n",
            "webcolors==1.13\n",
            "webencodings==0.5.1\n",
            "websocket-client==1.6.4\n",
            "Werkzeug==3.0.1\n",
            "widgetsnbextension==3.6.6\n",
            "wordcloud==1.9.2\n",
            "wrapt==1.14.1\n",
            "xarray==2023.7.0\n",
            "xarray-einstats==0.6.0\n",
            "xgboost==2.0.1\n",
            "xlrd==2.0.1\n",
            "xxhash==3.4.1\n",
            "xyzservices==2023.10.0\n",
            "yarl==1.9.2\n",
            "yellowbrick==1.5\n",
            "yfinance==0.2.31\n",
            "zict==3.0.0\n",
            "zipp==3.17.0\n"
          ]
        }
      ]
    },
    {
      "cell_type": "code",
      "source": [
        "!pip freeze > requirements.txt"
      ],
      "metadata": {
        "id": "HuOewHxjBFGc"
      },
      "execution_count": 48,
      "outputs": []
    },
    {
      "cell_type": "code",
      "source": [
        "!pytest --cov"
      ],
      "metadata": {
        "colab": {
          "base_uri": "https://localhost:8080/"
        },
        "id": "Bud-Vi_VBJz9",
        "outputId": "750bba4f-34a9-438e-9ab3-e41f159fb169"
      },
      "execution_count": 49,
      "outputs": [
        {
          "output_type": "stream",
          "name": "stdout",
          "text": [
            "\u001b[1m======================================= test session starts ========================================\u001b[0m\n",
            "platform linux -- Python 3.10.12, pytest-7.4.3, pluggy-1.3.0\n",
            "rootdir: /content\n",
            "configfile: pytest.ini\n",
            "plugins: cov-4.1.0, anyio-3.7.1\n",
            "\u001b[1mcollecting ... \u001b[0m\u001b[1m\rcollected 5 items                                                                                  \u001b[0m\n",
            "\n",
            "tests/test_teste.py \u001b[32m.\u001b[0m\u001b[32m.\u001b[0m\u001b[32m.\u001b[0m\u001b[32m.\u001b[0m\u001b[32m.\u001b[0m\u001b[32m                                                                    [100%]\u001b[0m\n",
            "\n",
            "---------- coverage: platform linux, python 3.10.12-final-0 ----------\n",
            "Name                  Stmts   Miss  Cover\n",
            "-----------------------------------------\n",
            "tests/__init__.py         0      0   100%\n",
            "tests/test_teste.py      70      2    97%\n",
            "-----------------------------------------\n",
            "TOTAL                    70      2    97%\n",
            "\n",
            "\n",
            "\u001b[32m======================================== \u001b[32m\u001b[1m5 passed\u001b[0m\u001b[32m in 0.04s\u001b[0m\u001b[32m =========================================\u001b[0m\n"
          ]
        }
      ]
    },
    {
      "cell_type": "code",
      "source": [
        "!ls"
      ],
      "metadata": {
        "colab": {
          "base_uri": "https://localhost:8080/"
        },
        "id": "yTSmKhn7B6oO",
        "outputId": "08f07d94-ef5f-4177-8df4-275813b12751"
      },
      "execution_count": 50,
      "outputs": [
        {
          "output_type": "stream",
          "name": "stdout",
          "text": [
            "pytest.ini  requirements.txt  sample_data  tests\n"
          ]
        }
      ]
    },
    {
      "cell_type": "markdown",
      "source": [
        "garantindo cobertura total"
      ],
      "metadata": {
        "id": "Yd3YUzKtChY2"
      }
    },
    {
      "cell_type": "code",
      "source": [
        "!pytest --cov-report term-missing"
      ],
      "metadata": {
        "colab": {
          "base_uri": "https://localhost:8080/"
        },
        "id": "bfFxx4zHCkBG",
        "outputId": "ff209b9f-2f42-41ae-a8d2-a7e9e799f572"
      },
      "execution_count": 54,
      "outputs": [
        {
          "output_type": "stream",
          "name": "stdout",
          "text": [
            "\u001b[1m======================================= test session starts ========================================\u001b[0m\n",
            "platform linux -- Python 3.10.12, pytest-7.4.3, pluggy-1.3.0\n",
            "rootdir: /content\n",
            "configfile: pytest.ini\n",
            "plugins: cov-4.1.0, anyio-3.7.1\n",
            "\u001b[1mcollecting ... \u001b[0m\u001b[1m\rcollected 5 items                                                                                  \u001b[0m\n",
            "\n",
            "tests/test_teste.py \u001b[32m.\u001b[0m\u001b[32m.\u001b[0m\u001b[32m.\u001b[0m\u001b[32m.\u001b[0m\u001b[32m.\u001b[0m\u001b[32m                                                                    [100%]\u001b[0m\n",
            "\n",
            "\u001b[32m======================================== \u001b[32m\u001b[1m5 passed\u001b[0m\u001b[32m in 0.02s\u001b[0m\u001b[32m =========================================\u001b[0m\n"
          ]
        }
      ]
    },
    {
      "cell_type": "code",
      "source": [
        "!pytest --cov"
      ],
      "metadata": {
        "colab": {
          "base_uri": "https://localhost:8080/"
        },
        "id": "72cGgFd-C2eW",
        "outputId": "a6622930-1a17-465f-e10e-38c4842a14b4"
      },
      "execution_count": 55,
      "outputs": [
        {
          "output_type": "stream",
          "name": "stdout",
          "text": [
            "\u001b[1m======================================= test session starts ========================================\u001b[0m\n",
            "platform linux -- Python 3.10.12, pytest-7.4.3, pluggy-1.3.0\n",
            "rootdir: /content\n",
            "configfile: pytest.ini\n",
            "plugins: cov-4.1.0, anyio-3.7.1\n",
            "\u001b[1mcollecting ... \u001b[0m\u001b[1m\rcollected 5 items                                                                                  \u001b[0m\n",
            "\n",
            "tests/test_teste.py \u001b[32m.\u001b[0m\u001b[32m.\u001b[0m\u001b[32m.\u001b[0m\u001b[32m.\u001b[0m\u001b[32m.\u001b[0m\u001b[32m                                                                    [100%]\u001b[0m\n",
            "\n",
            "---------- coverage: platform linux, python 3.10.12-final-0 ----------\n",
            "Name                  Stmts   Miss  Cover\n",
            "-----------------------------------------\n",
            "tests/__init__.py         0      0   100%\n",
            "tests/test_teste.py      70      2    97%\n",
            "-----------------------------------------\n",
            "TOTAL                    70      2    97%\n",
            "\n",
            "\n",
            "\u001b[32m======================================== \u001b[32m\u001b[1m5 passed\u001b[0m\u001b[32m in 0.04s\u001b[0m\u001b[32m =========================================\u001b[0m\n"
          ]
        }
      ]
    },
    {
      "cell_type": "code",
      "source": [
        "from pytest import raises, mark\n",
        "\n",
        "class TestClass:\n",
        "  def test_quando_idade_recebe_13_03_2000_deve_retornar_23(self):\n",
        "    # given-when-then\n",
        "    # dado (contexto)\n",
        "    entrada = '13/03/2000'\n",
        "    esperado = 23\n",
        "    funcionário_teste = Funcionário('teste', entrada, 1111)\n",
        "\n",
        "    # quando (ação)\n",
        "    resultado = funcionário_teste.idade()\n",
        "\n",
        "    # então (desfecho)\n",
        "    assert resultado == esperado\n",
        "\n",
        "  def test_quando_sobrenome_recebe_lucas_carvalho_deve_retornar_carvalho(self):\n",
        "    # given-when-then\n",
        "    # dado (contexto)\n",
        "    entrada = ' lucas carvalho '\n",
        "    esperado = 'carvalho'\n",
        "    lucas = Funcionário(entrada, 11/11/2000, 1111)\n",
        "\n",
        "    # quando (ação)\n",
        "    resultado = lucas.sobrenome()\n",
        "\n",
        "    # então (desfecho)\n",
        "    assert resultado == esperado\n",
        "\n",
        "  def test_quando_decréscimo_salário_recebe_100000_deve_retornar_90000(self):\n",
        "    # given-when-then\n",
        "    # dado (contexto)\n",
        "    entrada_nome = 'paulo bragança'\n",
        "    entrada_salário = 100000\n",
        "    esperado = 90000\n",
        "\n",
        "    funcionário_teste = Funcionário(entrada_nome, '11/11/2000', entrada_salário)\n",
        "\n",
        "    # quando (ação)\n",
        "    funcionário_teste.decréscimo_salário()\n",
        "    resultado = funcionário_teste.salário\n",
        "\n",
        "    # então (desfecho)\n",
        "    assert resultado == esperado\n",
        "\n",
        "  @mark.calcular_bônus\n",
        "  def test_quando_calcular_bônus_ao_receber_1320_deve_retornar_132(self):\n",
        "    entrada = 1320\n",
        "    esperado = 132\n",
        "\n",
        "    funcionário_teste = Funcionário('teste', '11/11/2000', entrada)\n",
        "    resultado = funcionário_teste.calcular_bônus()\n",
        "\n",
        "    assert resultado == esperado\n",
        "\n",
        "  @mark.calcular_bônus\n",
        "  def test_quando_calcular_bônus_ao_receber_132013201320_deve_retornar_exception(self):\n",
        "    with raises(Exception):\n",
        "      entrada = 132013201320\n",
        "\n",
        "      funcionário_teste = Funcionário('teste', '11/11/2000', entrada)\n",
        "      resultado = funcionário_teste.calcular_bônus()\n",
        "\n",
        "      assert resultado\n",
        "\n",
        "  def test_retorno_str(self):\n",
        "    entrada_nome, entrada_data_nascimento, entrada_salário = 'teste', '12/03/2000', 1320\n",
        "    esperado = 'teste, 12/03/2000, 1320'\n",
        "\n",
        "    funcionário_teste = Funcionário(entrada_nome, entrada_data_nascimento, entrada_salário)\n",
        "    resultado = funcionário_teste.__str__()\n",
        "\n",
        "    assert resultado == esperado"
      ],
      "metadata": {
        "id": "7wYtHRtEDE2t"
      },
      "execution_count": null,
      "outputs": []
    },
    {
      "cell_type": "code",
      "source": [
        "!pytest --cov"
      ],
      "metadata": {
        "colab": {
          "base_uri": "https://localhost:8080/"
        },
        "id": "6g4UZ_76D4zf",
        "outputId": "0d71d50e-3b52-442c-b23d-067948670995"
      },
      "execution_count": 56,
      "outputs": [
        {
          "output_type": "stream",
          "name": "stdout",
          "text": [
            "\u001b[1m======================================= test session starts ========================================\u001b[0m\n",
            "platform linux -- Python 3.10.12, pytest-7.4.3, pluggy-1.3.0\n",
            "rootdir: /content\n",
            "configfile: pytest.ini\n",
            "plugins: cov-4.1.0, anyio-3.7.1\n",
            "\u001b[1mcollecting ... \u001b[0m\u001b[1m\rcollected 6 items                                                                                  \u001b[0m\n",
            "\n",
            "tests/test_teste.py \u001b[32m.\u001b[0m\u001b[32m.\u001b[0m\u001b[32m.\u001b[0m\u001b[32m.\u001b[0m\u001b[32m.\u001b[0m\u001b[32m.\u001b[0m\u001b[32m                                                                   [100%]\u001b[0m\n",
            "\n",
            "---------- coverage: platform linux, python 3.10.12-final-0 ----------\n",
            "Name                  Stmts   Miss  Cover\n",
            "-----------------------------------------\n",
            "tests/__init__.py         0      0   100%\n",
            "tests/test_teste.py      76      1    99%\n",
            "-----------------------------------------\n",
            "TOTAL                    76      1    99%\n",
            "\n",
            "\n",
            "\u001b[32m======================================== \u001b[32m\u001b[1m6 passed\u001b[0m\u001b[32m in 0.09s\u001b[0m\u001b[32m =========================================\u001b[0m\n"
          ]
        }
      ]
    },
    {
      "cell_type": "code",
      "source": [
        "!pytest -v"
      ],
      "metadata": {
        "colab": {
          "base_uri": "https://localhost:8080/"
        },
        "id": "Kn0xdN5bD5j2",
        "outputId": "810c2db1-66a6-40d3-c0ad-d88484415f4e"
      },
      "execution_count": 57,
      "outputs": [
        {
          "output_type": "stream",
          "name": "stdout",
          "text": [
            "\u001b[1m======================================= test session starts ========================================\u001b[0m\n",
            "platform linux -- Python 3.10.12, pytest-7.4.3, pluggy-1.3.0 -- /usr/bin/python3\n",
            "cachedir: .pytest_cache\n",
            "rootdir: /content\n",
            "configfile: pytest.ini\n",
            "plugins: cov-4.1.0, anyio-3.7.1\n",
            "\u001b[1mcollecting ... \u001b[0m\u001b[1m\rcollected 6 items                                                                                  \u001b[0m\n",
            "\n",
            "tests/test_teste.py::TestClass::test_quando_idade_recebe_13_03_2000_deve_retornar_23 \u001b[32mPASSED\u001b[0m\u001b[32m  [ 16%]\u001b[0m\n",
            "tests/test_teste.py::TestClass::test_quando_sobrenome_recebe_lucas_carvalho_deve_retornar_carvalho \u001b[32mPASSED\u001b[0m\u001b[32m [ 33%]\u001b[0m\n",
            "tests/test_teste.py::TestClass::test_quando_decréscimo_salário_recebe_100000_deve_retornar_90000 \u001b[32mPASSED\u001b[0m\u001b[32m [ 50%]\u001b[0m\n",
            "tests/test_teste.py::TestClass::test_quando_calcular_bônus_ao_receber_1320_deve_retornar_132 \u001b[32mPASSED\u001b[0m\u001b[32m [ 66%]\u001b[0m\n",
            "tests/test_teste.py::TestClass::test_quando_calcular_bônus_ao_receber_132013201320_deve_retornar_exception \u001b[32mPASSED\u001b[0m\u001b[32m [ 83%]\u001b[0m\n",
            "tests/test_teste.py::TestClass::test_retorno_str \u001b[32mPASSED\u001b[0m\u001b[32m                                      [100%]\u001b[0m\n",
            "\n",
            "\u001b[32m======================================== \u001b[32m\u001b[1m6 passed\u001b[0m\u001b[32m in 0.02s\u001b[0m\u001b[32m =========================================\u001b[0m\n"
          ]
        }
      ]
    },
    {
      "cell_type": "markdown",
      "source": [
        "excluindo código para a cobertura"
      ],
      "metadata": {
        "id": "bFV2N_GuFcse"
      }
    },
    {
      "cell_type": "code",
      "source": [
        "from pytest import raises, mark\n",
        "\n",
        "class TestClass:\n",
        "  def test_quando_idade_recebe_13_03_2000_deve_retornar_23(self):\n",
        "    # given-when-then\n",
        "    # dado (contexto)\n",
        "    entrada = '13/03/2000'\n",
        "    esperado = 23\n",
        "    funcionário_teste = Funcionário('teste', entrada, 1111)\n",
        "\n",
        "    # quando (ação)\n",
        "    resultado = funcionário_teste.idade()\n",
        "\n",
        "    # então (desfecho)\n",
        "    assert resultado == esperado\n",
        "\n",
        "  def test_quando_sobrenome_recebe_lucas_carvalho_deve_retornar_carvalho(self):\n",
        "    # given-when-then\n",
        "    # dado (contexto)\n",
        "    entrada = ' lucas carvalho '\n",
        "    esperado = 'carvalho'\n",
        "    lucas = Funcionário(entrada, 11/11/2000, 1111)\n",
        "\n",
        "    # quando (ação)\n",
        "    resultado = lucas.sobrenome()\n",
        "\n",
        "    # então (desfecho)\n",
        "    assert resultado == esperado\n",
        "\n",
        "  def test_quando_decréscimo_salário_recebe_100000_deve_retornar_90000(self):\n",
        "    # given-when-then\n",
        "    # dado (contexto)\n",
        "    entrada_nome = 'paulo bragança'\n",
        "    entrada_salário = 100000\n",
        "    esperado = 90000\n",
        "\n",
        "    funcionário_teste = Funcionário(entrada_nome, '11/11/2000', entrada_salário)\n",
        "\n",
        "    # quando (ação)\n",
        "    funcionário_teste.decréscimo_salário()\n",
        "    resultado = funcionário_teste.salário\n",
        "\n",
        "    # então (desfecho)\n",
        "    assert resultado == esperado\n",
        "\n",
        "  @mark.calcular_bônus\n",
        "  def test_quando_calcular_bônus_ao_receber_1320_deve_retornar_132(self):\n",
        "    entrada = 1320\n",
        "    esperado = 132\n",
        "\n",
        "    funcionário_teste = Funcionário('teste', '11/11/2000', entrada)\n",
        "    resultado = funcionário_teste.calcular_bônus()\n",
        "\n",
        "    assert resultado == esperado\n",
        "\n",
        "  @mark.calcular_bônus\n",
        "  def test_quando_calcular_bônus_ao_receber_132013201320_deve_retornar_exception(self):\n",
        "    with raises(Exception):\n",
        "      entrada = 132013201320\n",
        "\n",
        "      funcionário_teste = Funcionário('teste', '11/11/2000', entrada)\n",
        "      resultado = funcionário_teste.calcular_bônus()\n",
        "\n",
        "      assert resultado"
      ],
      "metadata": {
        "id": "Rd7A4CkGFzcW"
      },
      "execution_count": null,
      "outputs": []
    },
    {
      "cell_type": "code",
      "source": [
        "texto = '''\n",
        "[run]\n",
        "\n",
        "[report]\n",
        "exclude_lines =\n",
        "  def __str__\n",
        "'''\n",
        "\n",
        "with open('.coveragerc', 'w') as arquivo:\n",
        "  arquivo.write(texto)"
      ],
      "metadata": {
        "id": "sF4KO9ECGzev"
      },
      "execution_count": 62,
      "outputs": []
    },
    {
      "cell_type": "code",
      "source": [
        "!pytest --cov"
      ],
      "metadata": {
        "colab": {
          "base_uri": "https://localhost:8080/"
        },
        "id": "pJiHeZCQHc03",
        "outputId": "e4db0e92-db9d-409f-d554-3187cc1e268e"
      },
      "execution_count": 63,
      "outputs": [
        {
          "output_type": "stream",
          "name": "stdout",
          "text": [
            "\u001b[1m======================================= test session starts ========================================\u001b[0m\n",
            "platform linux -- Python 3.10.12, pytest-7.4.3, pluggy-1.3.0\n",
            "rootdir: /content\n",
            "configfile: pytest.ini\n",
            "plugins: cov-4.1.0, anyio-3.7.1\n",
            "\u001b[1mcollecting ... \u001b[0m\u001b[1m\rcollected 5 items                                                                                  \u001b[0m\n",
            "\n",
            "tests/test_teste.py \u001b[32m.\u001b[0m\u001b[32m.\u001b[0m\u001b[32m.\u001b[0m\u001b[32m.\u001b[0m\u001b[32m.\u001b[0m\u001b[32m                                                                    [100%]\u001b[0m\n",
            "\n",
            "---------- coverage: platform linux, python 3.10.12-final-0 ----------\n",
            "Name                  Stmts   Miss  Cover\n",
            "-----------------------------------------\n",
            "tests/__init__.py         0      0   100%\n",
            "tests/test_teste.py      68      1    99%\n",
            "-----------------------------------------\n",
            "TOTAL                    68      1    99%\n",
            "\n",
            "\n",
            "\u001b[32m======================================== \u001b[32m\u001b[1m5 passed\u001b[0m\u001b[32m in 0.05s\u001b[0m\u001b[32m =========================================\u001b[0m\n"
          ]
        }
      ]
    },
    {
      "cell_type": "markdown",
      "source": [
        "gerando relatórios"
      ],
      "metadata": {
        "id": "gPge8l_SI8p4"
      }
    },
    {
      "cell_type": "code",
      "source": [
        "texto = '''\n",
        "[run]\n",
        "source = ./content\n",
        "\n",
        "[report]\n",
        "exclude_lines =\n",
        "  def __str__\n",
        "'''\n",
        "\n",
        "with open('.coveragerc', 'w') as arquivo:\n",
        "  arquivo.write(texto)"
      ],
      "metadata": {
        "id": "pjAJizVoI952"
      },
      "execution_count": 64,
      "outputs": []
    },
    {
      "cell_type": "code",
      "source": [
        "!pytest --cov"
      ],
      "metadata": {
        "colab": {
          "base_uri": "https://localhost:8080/"
        },
        "id": "UowhMAvpKRhA",
        "outputId": "8a98b06e-3d97-4a78-b9fd-c9507a096a7a"
      },
      "execution_count": 65,
      "outputs": [
        {
          "output_type": "stream",
          "name": "stdout",
          "text": [
            "\u001b[1m======================================= test session starts ========================================\u001b[0m\n",
            "platform linux -- Python 3.10.12, pytest-7.4.3, pluggy-1.3.0\n",
            "rootdir: /content\n",
            "configfile: pytest.ini\n",
            "plugins: cov-4.1.0, anyio-3.7.1\n",
            "\u001b[1mcollecting ... \u001b[0m\u001b[1m\rcollected 5 items                                                                                  \u001b[0m\n",
            "\n",
            "tests/test_teste.py \u001b[32m.\u001b[0m\u001b[32m.\u001b[0m\u001b[32m.\u001b[0m\u001b[32m.\u001b[0m\u001b[32m.\u001b[0m\u001b[32m                                                                    [100%]\u001b[0m/usr/local/lib/python3.10/dist-packages/coverage/inorout.py:507: CoverageWarning: Module ./content was never imported. (module-not-imported)\n",
            "  self.warn(f\"Module {pkg} was never imported.\", slug=\"module-not-imported\")\n",
            "/usr/local/lib/python3.10/dist-packages/coverage/control.py:883: CoverageWarning: No data was collected. (no-data-collected)\n",
            "  self._warn(\"No data was collected.\", slug=\"no-data-collected\")\n",
            "\u001b[31m\u001b[1mWARNING: Failed to generate report: No data to report.\n",
            "\n",
            "\u001b[0m/usr/local/lib/python3.10/dist-packages/pytest_cov/plugin.py:312: CovReportWarning: Failed to generate report: No data to report.\n",
            "\n",
            "  warnings.warn(CovReportWarning(message))\n",
            "\n",
            "\n",
            "---------- coverage: platform linux, python 3.10.12-final-0 ----------\n",
            "\n",
            "\n",
            "\u001b[32m======================================== \u001b[32m\u001b[1m5 passed\u001b[0m\u001b[32m in 0.04s\u001b[0m\u001b[32m =========================================\u001b[0m\n"
          ]
        }
      ]
    },
    {
      "cell_type": "code",
      "source": [
        "texto = '''\n",
        "[pytest]\n",
        "addopts = -v --cov\n",
        "markers =\n",
        "    calcular_bônus: testes para o método calcular bônus\n",
        "'''\n",
        "\n",
        "with open(\"pytest.ini\", \"w\") as arquivo:\n",
        "    arquivo.write(texto)"
      ],
      "metadata": {
        "id": "O_3eU1pZKTXq"
      },
      "execution_count": 72,
      "outputs": []
    },
    {
      "cell_type": "code",
      "source": [
        "!pytest"
      ],
      "metadata": {
        "colab": {
          "base_uri": "https://localhost:8080/"
        },
        "id": "jwd64PohLXpq",
        "outputId": "5f654f33-14bc-4549-e0d0-f0683f787506"
      },
      "execution_count": 73,
      "outputs": [
        {
          "output_type": "stream",
          "name": "stdout",
          "text": [
            "\u001b[1m======================================= test session starts ========================================\u001b[0m\n",
            "platform linux -- Python 3.10.12, pytest-7.4.3, pluggy-1.3.0 -- /usr/bin/python3\n",
            "cachedir: .pytest_cache\n",
            "rootdir: /content\n",
            "configfile: pytest.ini\n",
            "plugins: cov-4.1.0, anyio-3.7.1\n",
            "\u001b[1mcollecting ... \u001b[0m\u001b[1m\rcollected 5 items                                                                                  \u001b[0m\n",
            "\n",
            "tests/test_teste.py::TestClass::test_quando_idade_recebe_13_03_2000_deve_retornar_23 \u001b[32mPASSED\u001b[0m\u001b[32m  [ 20%]\u001b[0m\n",
            "tests/test_teste.py::TestClass::test_quando_sobrenome_recebe_lucas_carvalho_deve_retornar_carvalho \u001b[32mPASSED\u001b[0m\u001b[32m [ 40%]\u001b[0m\n",
            "tests/test_teste.py::TestClass::test_quando_decréscimo_salário_recebe_100000_deve_retornar_90000 \u001b[32mPASSED\u001b[0m\u001b[32m [ 60%]\u001b[0m\n",
            "tests/test_teste.py::TestClass::test_quando_calcular_bônus_ao_receber_1320_deve_retornar_132 \u001b[32mPASSED\u001b[0m\u001b[32m [ 80%]\u001b[0m\n",
            "tests/test_teste.py::TestClass::test_quando_calcular_bônus_ao_receber_132013201320_deve_retornar_exception \u001b[32mPASSED\u001b[0m\u001b[32m [100%]\u001b[0m/usr/local/lib/python3.10/dist-packages/coverage/inorout.py:507: CoverageWarning: Module ./content was never imported. (module-not-imported)\n",
            "  self.warn(f\"Module {pkg} was never imported.\", slug=\"module-not-imported\")\n",
            "/usr/local/lib/python3.10/dist-packages/coverage/control.py:883: CoverageWarning: No data was collected. (no-data-collected)\n",
            "  self._warn(\"No data was collected.\", slug=\"no-data-collected\")\n",
            "\u001b[31m\u001b[1mWARNING: Failed to generate report: No data to report.\n",
            "\n",
            "\u001b[0m/usr/local/lib/python3.10/dist-packages/pytest_cov/plugin.py:312: CovReportWarning: Failed to generate report: No data to report.\n",
            "\n",
            "  warnings.warn(CovReportWarning(message))\n",
            "\n",
            "\n",
            "---------- coverage: platform linux, python 3.10.12-final-0 ----------\n",
            "\n",
            "\n",
            "\u001b[32m======================================== \u001b[32m\u001b[1m5 passed\u001b[0m\u001b[32m in 0.06s\u001b[0m\u001b[32m =========================================\u001b[0m\n"
          ]
        }
      ]
    },
    {
      "cell_type": "markdown",
      "source": [
        "see you space cowboy..."
      ],
      "metadata": {
        "id": "Es6o5WDaMIRD"
      }
    }
  ]
}