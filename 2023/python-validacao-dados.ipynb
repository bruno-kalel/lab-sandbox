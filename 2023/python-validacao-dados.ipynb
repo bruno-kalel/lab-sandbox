{
  "nbformat": 4,
  "nbformat_minor": 0,
  "metadata": {
    "colab": {
      "provenance": [],
      "authorship_tag": "ABX9TyN2DSeETf7qydfaJucPBkZR"
    },
    "kernelspec": {
      "name": "python3",
      "display_name": "Python 3"
    },
    "language_info": {
      "name": "python"
    }
  },
  "cells": [
    {
      "cell_type": "code",
      "execution_count": null,
      "metadata": {
        "colab": {
          "base_uri": "https://localhost:8080/"
        },
        "id": "NjKQ8_yFqiYw",
        "outputId": "3800d838-a865-4d4f-cf40-7a3563794a44"
      },
      "outputs": [
        {
          "output_type": "stream",
          "name": "stdout",
          "text": [
            "Python 3.10.12\n"
          ]
        }
      ],
      "source": [
        "!python -V"
      ]
    },
    {
      "cell_type": "markdown",
      "source": [
        "curso de<br>\n",
        "python brasil: validação de dados no padrão nacional<br>\n",
        "`https://cursos.alura.com.br/course/python-validacao-dados`"
      ],
      "metadata": {
        "id": "s_Wkwo1lqpX2"
      }
    },
    {
      "cell_type": "markdown",
      "source": [
        "bloco 01<br>\n",
        "validando cpf e acessando o pypi"
      ],
      "metadata": {
        "id": "MHMdk0LKq0_S"
      }
    },
    {
      "cell_type": "markdown",
      "source": [
        "validando um cpf"
      ],
      "metadata": {
        "id": "uL6GF3Jry_g-"
      }
    },
    {
      "cell_type": "code",
      "source": [
        "cpf_válido = 15616987913\n",
        "print(len(str(cpf_válido)))\n",
        "\n",
        "cpf_inválido = 1561698791\n",
        "print(len(str(cpf_inválido)))"
      ],
      "metadata": {
        "colab": {
          "base_uri": "https://localhost:8080/"
        },
        "id": "oNNsaZ8ozdac",
        "outputId": "a81b39a8-51c6-4d1a-d31c-bb091f373ab5"
      },
      "execution_count": null,
      "outputs": [
        {
          "output_type": "stream",
          "name": "stdout",
          "text": [
            "11\n",
            "10\n"
          ]
        }
      ]
    },
    {
      "cell_type": "code",
      "source": [
        "class CPF:\n",
        "    def __init__(self, documento):\n",
        "        documento = str(documento)\n",
        "        if self.is_valid(documento):\n",
        "            self.cpf = documento\n",
        "        else:\n",
        "            raise ValueError('cpf inválido!')\n",
        "\n",
        "    def is_valid(self, documento):\n",
        "        return len(documento) == 11"
      ],
      "metadata": {
        "id": "DnGGZFQ50GDp"
      },
      "execution_count": null,
      "outputs": []
    },
    {
      "cell_type": "code",
      "source": [
        "válido = CPF(cpf_válido)"
      ],
      "metadata": {
        "id": "rAPPGu5x1OY_"
      },
      "execution_count": null,
      "outputs": []
    },
    {
      "cell_type": "code",
      "source": [
        "inválido = CPF(cpf_inválido)"
      ],
      "metadata": {
        "colab": {
          "base_uri": "https://localhost:8080/",
          "height": 297
        },
        "id": "rlofaGfC1U86",
        "outputId": "956bb4cb-d9e9-40ad-fb89-49acc9091861"
      },
      "execution_count": null,
      "outputs": [
        {
          "output_type": "error",
          "ename": "ValueError",
          "evalue": "ignored",
          "traceback": [
            "\u001b[0;31m---------------------------------------------------------------------------\u001b[0m",
            "\u001b[0;31mValueError\u001b[0m                                Traceback (most recent call last)",
            "\u001b[0;32m<ipython-input-15-ed5f586568da>\u001b[0m in \u001b[0;36m<cell line: 1>\u001b[0;34m()\u001b[0m\n\u001b[0;32m----> 1\u001b[0;31m \u001b[0minválido\u001b[0m \u001b[0;34m=\u001b[0m \u001b[0mCPF\u001b[0m\u001b[0;34m(\u001b[0m\u001b[0mcpf_inválido\u001b[0m\u001b[0;34m)\u001b[0m\u001b[0;34m\u001b[0m\u001b[0;34m\u001b[0m\u001b[0m\n\u001b[0m",
            "\u001b[0;32m<ipython-input-6-b1295abcf2fd>\u001b[0m in \u001b[0;36m__init__\u001b[0;34m(self, documento)\u001b[0m\n\u001b[1;32m      5\u001b[0m             \u001b[0mself\u001b[0m\u001b[0;34m.\u001b[0m\u001b[0mcpf\u001b[0m \u001b[0;34m=\u001b[0m \u001b[0mdocumento\u001b[0m\u001b[0;34m\u001b[0m\u001b[0;34m\u001b[0m\u001b[0m\n\u001b[1;32m      6\u001b[0m         \u001b[0;32melse\u001b[0m\u001b[0;34m:\u001b[0m\u001b[0;34m\u001b[0m\u001b[0;34m\u001b[0m\u001b[0m\n\u001b[0;32m----> 7\u001b[0;31m             \u001b[0;32mraise\u001b[0m \u001b[0mValueError\u001b[0m\u001b[0;34m(\u001b[0m\u001b[0;34m'cpf inválido!'\u001b[0m\u001b[0;34m)\u001b[0m\u001b[0;34m\u001b[0m\u001b[0;34m\u001b[0m\u001b[0m\n\u001b[0m\u001b[1;32m      8\u001b[0m \u001b[0;34m\u001b[0m\u001b[0m\n\u001b[1;32m      9\u001b[0m     \u001b[0;32mdef\u001b[0m \u001b[0mis_valid\u001b[0m\u001b[0;34m(\u001b[0m\u001b[0mself\u001b[0m\u001b[0;34m,\u001b[0m \u001b[0mdocumento\u001b[0m\u001b[0;34m)\u001b[0m\u001b[0;34m:\u001b[0m\u001b[0;34m\u001b[0m\u001b[0;34m\u001b[0m\u001b[0m\n",
            "\u001b[0;31mValueError\u001b[0m: cpf inválido!"
          ]
        }
      ]
    },
    {
      "cell_type": "code",
      "source": [
        "cpf = str(15616987913)\n",
        "\n",
        "fatia_um = cpf[:3]\n",
        "fatia_dois = cpf[3:6]\n",
        "fatia_três = cpf[6:9]\n",
        "fatia_quatro = cpf[9:]\n",
        "\n",
        "print(fatia_um, fatia_dois, fatia_três, fatia_quatro)\n",
        "print(f'{fatia_um}.{fatia_dois}.{fatia_três}-{fatia_quatro}')"
      ],
      "metadata": {
        "colab": {
          "base_uri": "https://localhost:8080/"
        },
        "id": "srGMMN8X1s6r",
        "outputId": "35aeb449-f2b4-4908-94a2-cf4d1f363a32"
      },
      "execution_count": null,
      "outputs": [
        {
          "output_type": "stream",
          "name": "stdout",
          "text": [
            "156 169 879 13\n",
            "156.169.879-13\n"
          ]
        }
      ]
    },
    {
      "cell_type": "code",
      "source": [
        "class CPF:\n",
        "    def __init__(self, documento):\n",
        "        documento = str(documento)\n",
        "        if self.is_valid(documento):\n",
        "            self.cpf = documento\n",
        "        else:\n",
        "            raise ValueError('cpf inválido!')\n",
        "\n",
        "    def __str__(self):\n",
        "        return self.format()\n",
        "\n",
        "    def is_valid(self, documento):\n",
        "        return len(documento) == 11\n",
        "\n",
        "    def format(self):\n",
        "        fatia_um = self.cpf[:3]\n",
        "        fatia_dois = self.cpf[3:6]\n",
        "        fatia_três = self.cpf[6:9]\n",
        "        fatia_quatro = self.cpf[9:]\n",
        "\n",
        "        self.cpf = f'{fatia_um}.{fatia_dois}.{fatia_três}-{fatia_quatro}'\n",
        "        return self.cpf"
      ],
      "metadata": {
        "id": "7C2Y5f3n3hoc"
      },
      "execution_count": null,
      "outputs": []
    },
    {
      "cell_type": "code",
      "source": [
        "objeto = CPF(15616987913)\n",
        "print(objeto)"
      ],
      "metadata": {
        "colab": {
          "base_uri": "https://localhost:8080/"
        },
        "id": "F4Bi3vFU484S",
        "outputId": "6683cb69-f734-45cd-e2a7-dd474aace897"
      },
      "execution_count": null,
      "outputs": [
        {
          "output_type": "stream",
          "name": "stdout",
          "text": [
            "156.169.879-13\n"
          ]
        }
      ]
    },
    {
      "cell_type": "markdown",
      "source": [
        "pacotes python"
      ],
      "metadata": {
        "id": "PMIXvzcm5dMH"
      }
    },
    {
      "cell_type": "code",
      "source": [
        "!pip install validate-docbr"
      ],
      "metadata": {
        "colab": {
          "base_uri": "https://localhost:8080/"
        },
        "id": "kVwo24ae5eCX",
        "outputId": "f2e46ac1-e84f-4798-d022-e235fff6c4c8"
      },
      "execution_count": null,
      "outputs": [
        {
          "output_type": "stream",
          "name": "stdout",
          "text": [
            "Collecting validate-docbr\n",
            "  Downloading validate_docbr-1.10.0-py3-none-any.whl (18 kB)\n",
            "Installing collected packages: validate-docbr\n",
            "Successfully installed validate-docbr-1.10.0\n"
          ]
        }
      ]
    },
    {
      "cell_type": "code",
      "source": [
        "from validate_docbr import CPF"
      ],
      "metadata": {
        "id": "6jB49DuV7A5D"
      },
      "execution_count": null,
      "outputs": []
    },
    {
      "cell_type": "code",
      "source": [
        "cpf = CPF()\n",
        "cpf.validate('01234567890')"
      ],
      "metadata": {
        "colab": {
          "base_uri": "https://localhost:8080/"
        },
        "id": "kpw1Av_G7cil",
        "outputId": "747679ce-7247-424f-c8f9-8ecff144dc6d"
      },
      "execution_count": null,
      "outputs": [
        {
          "output_type": "execute_result",
          "data": {
            "text/plain": [
              "True"
            ]
          },
          "metadata": {},
          "execution_count": 33
        }
      ]
    },
    {
      "cell_type": "code",
      "source": [
        "cpf.validate('11122244488')"
      ],
      "metadata": {
        "colab": {
          "base_uri": "https://localhost:8080/"
        },
        "id": "xhvqWKa27fn1",
        "outputId": "ac4afebd-832c-47f1-fd04-edc6ec75db90"
      },
      "execution_count": null,
      "outputs": [
        {
          "output_type": "execute_result",
          "data": {
            "text/plain": [
              "False"
            ]
          },
          "metadata": {},
          "execution_count": 34
        }
      ]
    },
    {
      "cell_type": "markdown",
      "source": [
        "utilizando um pacote"
      ],
      "metadata": {
        "id": "jiKa5Gjb9ouH"
      }
    },
    {
      "cell_type": "code",
      "source": [
        "from validate_docbr import CPF as validate_docbr_cpf\n",
        "\n",
        "class CPF:\n",
        "    def __init__(self, documento):\n",
        "        documento = str(documento)\n",
        "        if self.is_valid(documento):\n",
        "            self.cpf = documento\n",
        "        else:\n",
        "            raise ValueError('cpf inválido!')\n",
        "\n",
        "    def __str__(self):\n",
        "        return self.format()\n",
        "\n",
        "    def is_valid(self, documento):\n",
        "        objeto = validate_docbr_cpf()\n",
        "        return objeto.validate(documento)\n",
        "\n",
        "    def format(self):\n",
        "        objeto = validate_docbr_cpf()\n",
        "        return objeto.mask(self.cpf)"
      ],
      "metadata": {
        "id": "ve2NjkON9p6B"
      },
      "execution_count": null,
      "outputs": []
    },
    {
      "cell_type": "code",
      "source": [
        "cpf_inválido = CPF(str(81249018432))"
      ],
      "metadata": {
        "colab": {
          "base_uri": "https://localhost:8080/",
          "height": 297
        },
        "id": "1JlOfxm1BmhY",
        "outputId": "015fd66b-b600-49c1-b180-7f6fd91c6639"
      },
      "execution_count": null,
      "outputs": [
        {
          "output_type": "error",
          "ename": "ValueError",
          "evalue": "ignored",
          "traceback": [
            "\u001b[0;31m---------------------------------------------------------------------------\u001b[0m",
            "\u001b[0;31mValueError\u001b[0m                                Traceback (most recent call last)",
            "\u001b[0;32m<ipython-input-41-429b1688ac70>\u001b[0m in \u001b[0;36m<cell line: 1>\u001b[0;34m()\u001b[0m\n\u001b[0;32m----> 1\u001b[0;31m \u001b[0mcpf_inválido\u001b[0m \u001b[0;34m=\u001b[0m \u001b[0mCPF\u001b[0m\u001b[0;34m(\u001b[0m\u001b[0mstr\u001b[0m\u001b[0;34m(\u001b[0m\u001b[0;36m81249018432\u001b[0m\u001b[0;34m)\u001b[0m\u001b[0;34m)\u001b[0m\u001b[0;34m\u001b[0m\u001b[0;34m\u001b[0m\u001b[0m\n\u001b[0m",
            "\u001b[0;32m<ipython-input-38-53e3cd0aa7f2>\u001b[0m in \u001b[0;36m__init__\u001b[0;34m(self, documento)\u001b[0m\n\u001b[1;32m      7\u001b[0m             \u001b[0mself\u001b[0m\u001b[0;34m.\u001b[0m\u001b[0mcpf\u001b[0m \u001b[0;34m=\u001b[0m \u001b[0mdocumento\u001b[0m\u001b[0;34m\u001b[0m\u001b[0;34m\u001b[0m\u001b[0m\n\u001b[1;32m      8\u001b[0m         \u001b[0;32melse\u001b[0m\u001b[0;34m:\u001b[0m\u001b[0;34m\u001b[0m\u001b[0;34m\u001b[0m\u001b[0m\n\u001b[0;32m----> 9\u001b[0;31m             \u001b[0;32mraise\u001b[0m \u001b[0mValueError\u001b[0m\u001b[0;34m(\u001b[0m\u001b[0;34m'cpf inválido!'\u001b[0m\u001b[0;34m)\u001b[0m\u001b[0;34m\u001b[0m\u001b[0;34m\u001b[0m\u001b[0m\n\u001b[0m\u001b[1;32m     10\u001b[0m \u001b[0;34m\u001b[0m\u001b[0m\n\u001b[1;32m     11\u001b[0m     \u001b[0;32mdef\u001b[0m \u001b[0m__str__\u001b[0m\u001b[0;34m(\u001b[0m\u001b[0mself\u001b[0m\u001b[0;34m)\u001b[0m\u001b[0;34m:\u001b[0m\u001b[0;34m\u001b[0m\u001b[0;34m\u001b[0m\u001b[0m\n",
            "\u001b[0;31mValueError\u001b[0m: cpf inválido!"
          ]
        }
      ]
    },
    {
      "cell_type": "code",
      "source": [
        "cpf = CPF(str(15316264754))"
      ],
      "metadata": {
        "id": "sw6bl2sABb3N"
      },
      "execution_count": null,
      "outputs": []
    },
    {
      "cell_type": "code",
      "source": [
        "print(cpf)"
      ],
      "metadata": {
        "colab": {
          "base_uri": "https://localhost:8080/"
        },
        "id": "14Cl4B2EBuqq",
        "outputId": "a16b032c-7841-4764-c69a-fc28af27e37c"
      },
      "execution_count": null,
      "outputs": [
        {
          "output_type": "stream",
          "name": "stdout",
          "text": [
            "153.162.647-54\n"
          ]
        }
      ]
    },
    {
      "cell_type": "markdown",
      "source": [
        "bloco 02<br>\n",
        "validando cnpj e construindo uma factory"
      ],
      "metadata": {
        "id": "YC0h4h2mEJIU"
      }
    },
    {
      "cell_type": "markdown",
      "source": [
        "validando cnpj"
      ],
      "metadata": {
        "id": "e3SQtMS9EVGv"
      }
    },
    {
      "cell_type": "code",
      "source": [
        "from validate_docbr import CNPJ as validate_docbr_cnpj\n",
        "\n",
        "exemplo_cnpj = '84543450000110'\n",
        "objeto = validate_docbr_cnpj()\n",
        "objeto.validate(exemplo_cnpj)"
      ],
      "metadata": {
        "colab": {
          "base_uri": "https://localhost:8080/"
        },
        "id": "40z0aJDXETkj",
        "outputId": "4cdea43b-b69a-47a6-8cbf-7d1f05e6fc1e"
      },
      "execution_count": null,
      "outputs": [
        {
          "output_type": "execute_result",
          "data": {
            "text/plain": [
              "True"
            ]
          },
          "metadata": {},
          "execution_count": 47
        }
      ]
    },
    {
      "cell_type": "code",
      "source": [
        "from validate_docbr import CPF as validate_docbr_cpf\n",
        "from validate_docbr import CNPJ as validate_docbr_cnpj\n",
        "\n",
        "class CadastroPessoa:\n",
        "    def __init__(self, documento, tipo):\n",
        "        if tipo not in ['cpf', 'cnpj']:\n",
        "            raise ValueError('tipo de documento inválido')\n",
        "        else:\n",
        "            if tipo == 'cpf' and self.cpf_is_valid(documento):\n",
        "                self.cpf = documento\n",
        "            elif tipo == 'cnpj' and self.cnpj_is_valid(documento):\n",
        "                self.cnpj = documento\n",
        "            else:\n",
        "                raise ValueError('cpf ou cnpj inválido!')\n",
        "\n",
        "    def __str__(self):\n",
        "        return self.cpf_format()\n",
        "\n",
        "    def cpf_is_valid(self, cpf):\n",
        "        objeto = validate_docbr_cpf()\n",
        "        return objeto.validate(cpf)\n",
        "\n",
        "    def cnpj_is_valid(self, cnpj):\n",
        "        objeto = validate_docbr_cnpj()\n",
        "        return objeto.validate(cnpj)\n",
        "\n",
        "    def cpf_format(self):\n",
        "        objeto = validate_docbr_cpf()\n",
        "        return objeto.mask(self.cpf)"
      ],
      "metadata": {
        "id": "G0fs7g6PFpFT"
      },
      "execution_count": null,
      "outputs": []
    },
    {
      "cell_type": "code",
      "source": [
        "cpf = CadastroPessoa('58813900082', 'cpf')"
      ],
      "metadata": {
        "id": "vFcOzj0NIXFN"
      },
      "execution_count": null,
      "outputs": []
    },
    {
      "cell_type": "code",
      "source": [
        "cnpj = CadastroPessoa('78892997000129', 'cnpj')"
      ],
      "metadata": {
        "id": "yc4xM4cjIjcL"
      },
      "execution_count": null,
      "outputs": []
    },
    {
      "cell_type": "markdown",
      "source": [
        "máscara para cnpj"
      ],
      "metadata": {
        "id": "DxUEH1cxI3Ln"
      }
    },
    {
      "cell_type": "code",
      "source": [],
      "metadata": {
        "id": "VXgIyl7qLHSG"
      },
      "execution_count": null,
      "outputs": []
    },
    {
      "cell_type": "code",
      "source": [
        "from validate_docbr import CPF\n",
        "from validate_docbr import CNPJ\n",
        "\n",
        "class CadastroPessoa:\n",
        "    def __init__(self, documento, tipo):\n",
        "        if tipo not in ['cpf', 'cnpj']:\n",
        "            raise ValueError('tipo de documento inválido')\n",
        "        else:\n",
        "            self.tipo = tipo\n",
        "\n",
        "            if self.tipo == 'cpf' and self.cpf_is_valid(documento):\n",
        "                self.cpf = documento\n",
        "\n",
        "            elif self.tipo == 'cnpj' and self.cnpj_is_valid(documento):\n",
        "                self.cnpj = documento\n",
        "\n",
        "            else:\n",
        "                raise ValueError('cpf ou cnpj inválido!')\n",
        "\n",
        "    def __str__(self):\n",
        "        if self.tipo == 'cpf':\n",
        "            objeto = CPF()\n",
        "            return objeto.mask(self.cpf)\n",
        "\n",
        "        elif self.tipo == 'cnpj':\n",
        "            objeto = CNPJ()\n",
        "            return objeto.mask(self.cnpj)\n",
        "\n",
        "    def cpf_is_valid(self, cpf):\n",
        "        cpf_is_valid = CPF()\n",
        "        return cpf_is_valid.validate(cpf)\n",
        "\n",
        "    def cnpj_is_valid(self, cnpj):\n",
        "        cnpj_is_valid = CNPJ()\n",
        "        return cnpj_is_valid.validate(cnpj)"
      ],
      "metadata": {
        "id": "P0kSyAxcI4rd"
      },
      "execution_count": null,
      "outputs": []
    },
    {
      "cell_type": "code",
      "source": [
        "cpf = CadastroPessoa('58813900082', 'cpf')"
      ],
      "metadata": {
        "id": "zrx68NfiJlub"
      },
      "execution_count": null,
      "outputs": []
    },
    {
      "cell_type": "code",
      "source": [
        "cnpj = CadastroPessoa('78892997000129', 'cnpj')"
      ],
      "metadata": {
        "id": "aYGaW71LJlub"
      },
      "execution_count": null,
      "outputs": []
    },
    {
      "cell_type": "code",
      "source": [
        "print(cpf)"
      ],
      "metadata": {
        "colab": {
          "base_uri": "https://localhost:8080/"
        },
        "id": "vPq_gV7FJpXX",
        "outputId": "0895b213-46cc-49cb-e3db-067626910b29"
      },
      "execution_count": null,
      "outputs": [
        {
          "output_type": "stream",
          "name": "stdout",
          "text": [
            "588.139.000-82\n"
          ]
        }
      ]
    },
    {
      "cell_type": "code",
      "source": [
        "print(cnpj)"
      ],
      "metadata": {
        "colab": {
          "base_uri": "https://localhost:8080/"
        },
        "id": "mTgNFYkKJwG1",
        "outputId": "c84f54e8-2ff5-455e-ffcb-d5f30ad0aba8"
      },
      "execution_count": null,
      "outputs": [
        {
          "output_type": "stream",
          "name": "stdout",
          "text": [
            "78.892.997/0001-29\n"
          ]
        }
      ]
    },
    {
      "cell_type": "markdown",
      "source": [
        "refatorando o código"
      ],
      "metadata": {
        "id": "plIjTDt0OeA7"
      }
    },
    {
      "cell_type": "code",
      "source": [
        "!pip install validate_docbr"
      ],
      "metadata": {
        "colab": {
          "base_uri": "https://localhost:8080/"
        },
        "id": "WtPLLG3UTQUV",
        "outputId": "06258b05-564a-4991-d497-9b429116b989"
      },
      "execution_count": null,
      "outputs": [
        {
          "output_type": "stream",
          "name": "stdout",
          "text": [
            "Collecting validate_docbr\n",
            "  Downloading validate_docbr-1.10.0-py3-none-any.whl (18 kB)\n",
            "Installing collected packages: validate_docbr\n",
            "Successfully installed validate_docbr-1.10.0\n"
          ]
        }
      ]
    },
    {
      "cell_type": "code",
      "source": [
        "from validate_docbr import CPF\n",
        "from validate_docbr import CNPJ\n",
        "\n",
        "class Documento:\n",
        "    @staticmethod\n",
        "    def criar(documento):\n",
        "        if len(str(documento)) == 11:\n",
        "            return DocumentoCPF(str(documento))\n",
        "        elif len(str(documento)) == 14:\n",
        "            return DocumentoCNPJ(str(documento))\n",
        "        else:\n",
        "            print('a quantidade de dígitos é inesperada')\n",
        "\n",
        "class DocumentoCPF:\n",
        "    def __init__(self, documento):\n",
        "        if self.validar(documento):\n",
        "            self.cpf = documento\n",
        "        else:\n",
        "            print('o cpf informado é inválido')\n",
        "\n",
        "    def __str__(self):\n",
        "        return self.formatar()\n",
        "\n",
        "    def validar(self, documento):\n",
        "        validar = CPF()\n",
        "        return validar.validate(documento)\n",
        "\n",
        "    def formatar(self):\n",
        "        formatar = CPF()\n",
        "        return formatar.mask(self.cpf)\n",
        "\n",
        "class DocumentoCNPJ:\n",
        "    def __init__(self, documento):\n",
        "        if self.validar(documento):\n",
        "            self.cnpj = documento\n",
        "        else:\n",
        "            print('o cnpj informado é inválido')\n",
        "\n",
        "    def validar(self, documento):\n",
        "        validar = CNPJ()\n",
        "        return validar.validate(documento)\n",
        "\n",
        "    def __str__(self):\n",
        "        return self.formatar()\n",
        "\n",
        "    def formatar(self):\n",
        "        formatar = CNPJ()\n",
        "        return formatar.mask(self.cnpj)"
      ],
      "metadata": {
        "id": "AVA7jEyQOfOj"
      },
      "execution_count": null,
      "outputs": []
    },
    {
      "cell_type": "code",
      "source": [
        "documento = Documento.criar(56055415011)\n",
        "print(documento)"
      ],
      "metadata": {
        "colab": {
          "base_uri": "https://localhost:8080/"
        },
        "id": "bXxUDTgBSucv",
        "outputId": "3b89168f-2eb8-470b-b1ff-7df2647d5283"
      },
      "execution_count": null,
      "outputs": [
        {
          "output_type": "stream",
          "name": "stdout",
          "text": [
            "560.554.150-11\n"
          ]
        }
      ]
    },
    {
      "cell_type": "code",
      "source": [
        "documento = Documento.criar(79259936000191)\n",
        "print(documento)"
      ],
      "metadata": {
        "colab": {
          "base_uri": "https://localhost:8080/"
        },
        "id": "g7RXaNV7TEiu",
        "outputId": "6dced4c1-5ab7-4fca-a0ca-f7f1ae02393f"
      },
      "execution_count": null,
      "outputs": [
        {
          "output_type": "stream",
          "name": "stdout",
          "text": [
            "79.259.936/0001-91\n"
          ]
        }
      ]
    },
    {
      "cell_type": "code",
      "source": [
        "documento = Documento.criar(1)"
      ],
      "metadata": {
        "colab": {
          "base_uri": "https://localhost:8080/"
        },
        "id": "6uU5h-ruTaEW",
        "outputId": "b87b5fec-0185-4cda-a45e-275f0582df33"
      },
      "execution_count": null,
      "outputs": [
        {
          "output_type": "stream",
          "name": "stdout",
          "text": [
            "a quantidade de dígitos é inesperada\n"
          ]
        }
      ]
    },
    {
      "cell_type": "code",
      "source": [
        "documento = Documento.criar(11111111111)"
      ],
      "metadata": {
        "colab": {
          "base_uri": "https://localhost:8080/"
        },
        "id": "ax0wRSoBT135",
        "outputId": "a707487b-57b4-4b0a-9549-706e5b1dd546"
      },
      "execution_count": null,
      "outputs": [
        {
          "output_type": "stream",
          "name": "stdout",
          "text": [
            "o cpf informado é inválido\n"
          ]
        }
      ]
    },
    {
      "cell_type": "code",
      "source": [
        "documento = Documento.criar(11111111111111)"
      ],
      "metadata": {
        "colab": {
          "base_uri": "https://localhost:8080/"
        },
        "id": "Ga-YlGnXT58K",
        "outputId": "451a3c2e-793a-4668-805d-4ba5c70323d6"
      },
      "execution_count": null,
      "outputs": [
        {
          "output_type": "stream",
          "name": "stdout",
          "text": [
            "o cnpj informado é inválido\n"
          ]
        }
      ]
    },
    {
      "cell_type": "markdown",
      "source": [
        "bloco 03<br>\n",
        "validando telefones com expressões regulares"
      ],
      "metadata": {
        "id": "tG0od82-Uxg4"
      }
    },
    {
      "cell_type": "markdown",
      "source": [
        "resumo regex"
      ],
      "metadata": {
        "id": "fgstuoUBU7IZ"
      }
    },
    {
      "cell_type": "code",
      "source": [
        "from re import search"
      ],
      "metadata": {
        "id": "gPW2RvZUU71V"
      },
      "execution_count": null,
      "outputs": []
    },
    {
      "cell_type": "code",
      "source": [
        "p = '[0-9][a-z][0-9]'"
      ],
      "metadata": {
        "id": "wIOmOg8HYBHH"
      },
      "execution_count": null,
      "outputs": []
    },
    {
      "cell_type": "code",
      "source": [
        "t = '123 1a2 1cc bb3'"
      ],
      "metadata": {
        "id": "529O1TX9YCdL"
      },
      "execution_count": null,
      "outputs": []
    },
    {
      "cell_type": "code",
      "source": [
        "print(search(p, t).group())"
      ],
      "metadata": {
        "colab": {
          "base_uri": "https://localhost:8080/"
        },
        "id": "5yY7nbaEYTwD",
        "outputId": "64b41d46-a71c-41fb-d2ba-e5ec28a34d92"
      },
      "execution_count": null,
      "outputs": [
        {
          "output_type": "stream",
          "name": "stdout",
          "text": [
            "1a2\n"
          ]
        }
      ]
    },
    {
      "cell_type": "code",
      "source": [
        "p = '[0-9][a-z]{2}[0-9]'"
      ],
      "metadata": {
        "id": "EhcSdHTyYcvJ"
      },
      "execution_count": null,
      "outputs": []
    },
    {
      "cell_type": "code",
      "source": [
        "t = '123 1a2 1cc bb3 2cc3'"
      ],
      "metadata": {
        "id": "j5w7qnlXYu0Z"
      },
      "execution_count": null,
      "outputs": []
    },
    {
      "cell_type": "code",
      "source": [
        "print(search(p, t).group())"
      ],
      "metadata": {
        "colab": {
          "base_uri": "https://localhost:8080/"
        },
        "id": "as7gQkrxY0AN",
        "outputId": "12129235-b779-49a3-ddb8-382ed171b588"
      },
      "execution_count": null,
      "outputs": [
        {
          "output_type": "stream",
          "name": "stdout",
          "text": [
            "2cc3\n"
          ]
        }
      ]
    },
    {
      "cell_type": "code",
      "source": [
        "p = '\\w{5,50}@\\w{2,10}.\\w{1,3}.\\w{2,3}'"
      ],
      "metadata": {
        "id": "8AFInqqyY0K0"
      },
      "execution_count": null,
      "outputs": []
    },
    {
      "cell_type": "code",
      "source": [
        "t = 'jldksgjs dksjgkldskg jdslgjdks khgksghsjl@email.com.br fdlkfjdsljflksk'"
      ],
      "metadata": {
        "id": "a4PRodsbZcrz"
      },
      "execution_count": null,
      "outputs": []
    },
    {
      "cell_type": "code",
      "source": [
        "print(search(p, t).group())"
      ],
      "metadata": {
        "colab": {
          "base_uri": "https://localhost:8080/"
        },
        "id": "pqiPpWGgZlDj",
        "outputId": "cb85f435-f83a-416a-ef14-ab6dba223799"
      },
      "execution_count": null,
      "outputs": [
        {
          "output_type": "stream",
          "name": "stdout",
          "text": [
            "khgksghsjl@email.com.br\n"
          ]
        }
      ]
    },
    {
      "cell_type": "markdown",
      "source": [
        "definindo padrão para telefones"
      ],
      "metadata": {
        "id": "WYVQPW9vas2v"
      }
    },
    {
      "cell_type": "code",
      "source": [
        "from re import findall"
      ],
      "metadata": {
        "id": "-0djHgwAawMS"
      },
      "execution_count": null,
      "outputs": []
    },
    {
      "cell_type": "code",
      "source": [
        "p = '[0-9]{2}[0-9]{4,5}[0-9]{4}'"
      ],
      "metadata": {
        "id": "ZaDVTjlibrDq"
      },
      "execution_count": null,
      "outputs": []
    },
    {
      "cell_type": "code",
      "source": [
        "t = 'meu número é 21248924954 e não 54934759049'"
      ],
      "metadata": {
        "id": "LjzMdu5bcE22"
      },
      "execution_count": null,
      "outputs": []
    },
    {
      "cell_type": "code",
      "source": [
        "print(findall(p, t))"
      ],
      "metadata": {
        "colab": {
          "base_uri": "https://localhost:8080/"
        },
        "id": "JohZm3g7cKXv",
        "outputId": "75b8b529-efd9-4362-e77c-1b551459229e"
      },
      "execution_count": null,
      "outputs": [
        {
          "output_type": "stream",
          "name": "stdout",
          "text": [
            "['21248924954', '54934759049']\n"
          ]
        }
      ]
    },
    {
      "cell_type": "code",
      "source": [
        "from re import findall\n",
        "\n",
        "class Telefone:\n",
        "    def __init__(self, telefone):\n",
        "        telefone = str(telefone)\n",
        "\n",
        "        if self.validar(telefone):\n",
        "            self.telefone = telefone\n",
        "        else:\n",
        "            print('o telefone informado é inválido')\n",
        "\n",
        "    def validar(self, telefone):\n",
        "        p = '[0-9]{2,3}[0-9]{2}[0-9]{4}[0-9]{4}'\n",
        "        return bool(findall(p, telefone))"
      ],
      "metadata": {
        "id": "h6NgbUSucNXC"
      },
      "execution_count": null,
      "outputs": []
    },
    {
      "cell_type": "code",
      "source": [
        "telefone = Telefone(242408)"
      ],
      "metadata": {
        "colab": {
          "base_uri": "https://localhost:8080/"
        },
        "id": "p7sy5HoKeKtI",
        "outputId": "4667cce6-e242-42ae-cc48-3610ba78651d"
      },
      "execution_count": null,
      "outputs": [
        {
          "output_type": "stream",
          "name": "stdout",
          "text": [
            "o telefone informado é inválido\n"
          ]
        }
      ]
    },
    {
      "cell_type": "code",
      "source": [
        "telefone = Telefone(24890243579)"
      ],
      "metadata": {
        "colab": {
          "base_uri": "https://localhost:8080/"
        },
        "id": "gMQpwP6oe1qu",
        "outputId": "85424041-439a-4be5-b080-5728fae61736"
      },
      "execution_count": null,
      "outputs": [
        {
          "output_type": "stream",
          "name": "stdout",
          "text": [
            "o telefone informado é inválido\n"
          ]
        }
      ]
    },
    {
      "cell_type": "code",
      "source": [
        "telefone = Telefone(5524890243579)"
      ],
      "metadata": {
        "id": "pkqPD4k_fEXa"
      },
      "execution_count": null,
      "outputs": []
    },
    {
      "cell_type": "markdown",
      "source": [
        "criando máscara para o número de telefone"
      ],
      "metadata": {
        "id": "DB_0L7dPfhB7"
      }
    },
    {
      "cell_type": "code",
      "source": [
        "from re import search\n",
        "\n",
        "p = '(\\d{2,3})?(\\d{2})(\\d{5})(\\d{4})'\n",
        "t = '5524890243579'\n",
        "\n",
        "print(search(p, t).group(0))\n",
        "print(search(p, t).group(1))\n",
        "print(search(p, t).group(2))\n",
        "print(search(p, t).group(3))\n",
        "print(search(p, t).group(4))"
      ],
      "metadata": {
        "colab": {
          "base_uri": "https://localhost:8080/"
        },
        "id": "vgVqb5cPfkF3",
        "outputId": "a05bfd51-ce0e-4123-95cd-49c309410c65"
      },
      "execution_count": null,
      "outputs": [
        {
          "output_type": "stream",
          "name": "stdout",
          "text": [
            "5524890243579\n",
            "55\n",
            "24\n",
            "89024\n",
            "3579\n"
          ]
        }
      ]
    },
    {
      "cell_type": "code",
      "source": [
        "from re import findall, search\n",
        "\n",
        "class Telefone:\n",
        "    def __init__(self, telefone):\n",
        "        telefone = str(telefone)\n",
        "\n",
        "        if self.validar(telefone):\n",
        "            self.telefone = telefone\n",
        "        else:\n",
        "            print('o telefone informado é inválido')\n",
        "\n",
        "    def __str__(self):\n",
        "        return self.formatar()\n",
        "\n",
        "    def validar(self, telefone):\n",
        "        p = '(\\d{2,3})?(\\d{2})(\\d{5})(\\d{4})'\n",
        "        return bool(findall(p, telefone))\n",
        "\n",
        "    def formatar(self):\n",
        "        p = '(\\d{2,3})?(\\d{2})(\\d{5})(\\d{4})'\n",
        "        s = search(p, self.telefone)\n",
        "        return f'+{s.group(1)} ({s.group(2)}) {s.group(3)}-{s.group(4)}'"
      ],
      "metadata": {
        "id": "pyP-zutzixqO"
      },
      "execution_count": null,
      "outputs": []
    },
    {
      "cell_type": "code",
      "source": [
        "telefone = Telefone(5524890243579)\n",
        "print(telefone)"
      ],
      "metadata": {
        "colab": {
          "base_uri": "https://localhost:8080/"
        },
        "id": "ck5lttg5kFUT",
        "outputId": "3444bd09-1507-4f3a-9f11-ba8dcb8d4db6"
      },
      "execution_count": null,
      "outputs": [
        {
          "output_type": "stream",
          "name": "stdout",
          "text": [
            "+55 (24) 89024-3579\n"
          ]
        }
      ]
    },
    {
      "cell_type": "markdown",
      "source": [
        "bloco 04<br>\n",
        "manipulando e formatando datas"
      ],
      "metadata": {
        "id": "fxnDLg6ykrRm"
      }
    },
    {
      "cell_type": "markdown",
      "source": [
        "datas no python"
      ],
      "metadata": {
        "id": "-0_3GjkFkxpE"
      }
    },
    {
      "cell_type": "code",
      "source": [
        "from datetime import datetime, timedelta"
      ],
      "metadata": {
        "id": "drpv08pakyUd"
      },
      "execution_count": null,
      "outputs": []
    },
    {
      "cell_type": "code",
      "source": [
        "print(datetime.today())"
      ],
      "metadata": {
        "colab": {
          "base_uri": "https://localhost:8080/"
        },
        "id": "rYIWG30cPKyU",
        "outputId": "87418f51-52bd-493d-e238-d8230b4e7f81"
      },
      "execution_count": null,
      "outputs": [
        {
          "output_type": "stream",
          "name": "stdout",
          "text": [
            "2023-11-05 20:46:41.973112\n"
          ]
        }
      ]
    },
    {
      "cell_type": "code",
      "source": [
        "class Data:\n",
        "    def __init__(self):\n",
        "        self.momento_cadastro = datetime.today()"
      ],
      "metadata": {
        "id": "azxSPX6uPNPy"
      },
      "execution_count": null,
      "outputs": []
    },
    {
      "cell_type": "code",
      "source": [
        "objeto = Data()\n",
        "print(objeto.momento_cadastro)"
      ],
      "metadata": {
        "colab": {
          "base_uri": "https://localhost:8080/"
        },
        "id": "qycBLLO3Pjfo",
        "outputId": "8ec73679-ce76-4237-abaa-5966b908b660"
      },
      "execution_count": null,
      "outputs": [
        {
          "output_type": "stream",
          "name": "stdout",
          "text": [
            "2023-11-05 20:48:24.130008\n"
          ]
        }
      ]
    },
    {
      "cell_type": "code",
      "source": [
        "class Data:\n",
        "    def __init__(self):\n",
        "        self.momento_cadastro = datetime.today()\n",
        "\n",
        "    def mês_cadastro(self):\n",
        "        meses_do_ano = {1: 'janeiro', 2: 'fevereiro', 3: 'março',\n",
        "                        4: 'abril', 5: 'maio', 6: 'junho',\n",
        "                        7: 'julho', 8: 'agosto', 9: 'setembro',\n",
        "                        10: 'outubro', 11: 'novembro', 12: 'dezembro'}\n",
        "        return meses_do_ano[self.momento_cadastro.month]\n",
        "\n",
        "    def dia_semana_cadastro(self):\n",
        "        dias_da_semana = {0: 'segunda-feira', 1: 'terça-feira',\n",
        "                          2: 'quarta-feira', 3: 'quinta-feira',\n",
        "                          4: 'sexta-feira', 5: 'sábado',\n",
        "                          6: 'domingo', }\n",
        "        return dias_da_semana[self.momento_cadastro.weekday()]"
      ],
      "metadata": {
        "id": "SIup5r7lPmSv"
      },
      "execution_count": null,
      "outputs": []
    },
    {
      "cell_type": "code",
      "source": [
        "objeto = Data()\n",
        "print(objeto.momento_cadastro)\n",
        "print(objeto.mês_cadastro())\n",
        "print(objeto.dia_semana_cadastro())"
      ],
      "metadata": {
        "colab": {
          "base_uri": "https://localhost:8080/"
        },
        "id": "spFTcgkdPvOZ",
        "outputId": "142af050-3a45-463f-b625-31f6345c9231"
      },
      "execution_count": null,
      "outputs": [
        {
          "output_type": "stream",
          "name": "stdout",
          "text": [
            "2023-11-05 21:07:10.376943\n",
            "novembro\n",
            "domingo\n"
          ]
        }
      ]
    },
    {
      "cell_type": "markdown",
      "source": [
        "formatando datas"
      ],
      "metadata": {
        "id": "1apMpra4UOYX"
      }
    },
    {
      "cell_type": "code",
      "source": [
        "hoje = datetime.today()\n",
        "print(hoje.strftime('%d/%m/%Y %H:%M'))"
      ],
      "metadata": {
        "colab": {
          "base_uri": "https://localhost:8080/"
        },
        "id": "y1_WAyT2UPI7",
        "outputId": "88f1e479-b81e-4606-d509-14ffd101323b"
      },
      "execution_count": null,
      "outputs": [
        {
          "output_type": "stream",
          "name": "stdout",
          "text": [
            "05/11/2023 21:16\n"
          ]
        }
      ]
    },
    {
      "cell_type": "code",
      "source": [
        "class Data:\n",
        "    def __init__(self):\n",
        "        self.momento_cadastro = datetime.today()\n",
        "\n",
        "    def __str__(self):\n",
        "        return self.momento_cadastro.strftime('%d/%m/%Y %H:%M')\n",
        "\n",
        "    def mês_cadastro(self):\n",
        "        meses_do_ano = {1: 'janeiro', 2: 'fevereiro', 3: 'março',\n",
        "                        4: 'abril', 5: 'maio', 6: 'junho',\n",
        "                        7: 'julho', 8: 'agosto', 9: 'setembro',\n",
        "                        10: 'outubro', 11: 'novembro', 12: 'dezembro'}\n",
        "        return meses_do_ano[self.momento_cadastro.month]\n",
        "\n",
        "    def dia_semana_cadastro(self):\n",
        "        dias_da_semana = {0: 'segunda-feira', 1: 'terça-feira',\n",
        "                          2: 'quarta-feira', 3: 'quinta-feira',\n",
        "                          4: 'sexta-feira', 5: 'sábado',\n",
        "                          6: 'domingo', }\n",
        "        return dias_da_semana[self.momento_cadastro.weekday()]"
      ],
      "metadata": {
        "id": "u8d1wC8PW8vV"
      },
      "execution_count": null,
      "outputs": []
    },
    {
      "cell_type": "code",
      "source": [
        "objeto = Data()\n",
        "print(objeto.momento_cadastro)\n",
        "print(objeto.mês_cadastro())\n",
        "print(objeto.dia_semana_cadastro())\n",
        "print(objeto)"
      ],
      "metadata": {
        "colab": {
          "base_uri": "https://localhost:8080/"
        },
        "id": "BG__dVgBXIqZ",
        "outputId": "2cbe1a96-ba11-44c0-e405-1bb12556f2d3"
      },
      "execution_count": null,
      "outputs": [
        {
          "output_type": "stream",
          "name": "stdout",
          "text": [
            "2023-11-05 21:23:12.708114\n",
            "novembro\n",
            "domingo\n",
            "05/11/2023 21:23\n"
          ]
        }
      ]
    },
    {
      "cell_type": "markdown",
      "source": [
        "diferença entre datas e timedelta"
      ],
      "metadata": {
        "id": "Fy5yTo_lXwZ6"
      }
    },
    {
      "cell_type": "code",
      "source": [
        "hoje = datetime.today()\n",
        "amanhã = datetime.today() + timedelta(days=1, hours=12)\n",
        "\n",
        "print(amanhã - hoje)"
      ],
      "metadata": {
        "colab": {
          "base_uri": "https://localhost:8080/"
        },
        "id": "BlEY2C1XXx8o",
        "outputId": "6db7c650-3973-4abe-8989-5c12cfd60f70"
      },
      "execution_count": null,
      "outputs": [
        {
          "output_type": "stream",
          "name": "stdout",
          "text": [
            "1 day, 12:00:00.000101\n"
          ]
        }
      ]
    },
    {
      "cell_type": "code",
      "source": [
        "class Data:\n",
        "    def __init__(self):\n",
        "        self.momento_cadastro = datetime.today()\n",
        "\n",
        "    def __str__(self):\n",
        "        return self.momento_cadastro.strftime('%d/%m/%Y %H:%M')\n",
        "\n",
        "    def mês_cadastro(self):\n",
        "        meses_do_ano = {1: 'janeiro', 2: 'fevereiro', 3: 'março',\n",
        "                        4: 'abril', 5: 'maio', 6: 'junho',\n",
        "                        7: 'julho', 8: 'agosto', 9: 'setembro',\n",
        "                        10: 'outubro', 11: 'novembro', 12: 'dezembro'}\n",
        "        return meses_do_ano[self.momento_cadastro.month]\n",
        "\n",
        "    def dia_semana_cadastro(self):\n",
        "        dias_da_semana = {0: 'segunda-feira', 1: 'terça-feira',\n",
        "                          2: 'quarta-feira', 3: 'quinta-feira',\n",
        "                          4: 'sexta-feira', 5: 'sábado',\n",
        "                          6: 'domingo', }\n",
        "        return dias_da_semana[self.momento_cadastro.weekday()]\n",
        "\n",
        "    def tempo_cadastro(self):\n",
        "        return datetime.today() - self.momento_cadastro"
      ],
      "metadata": {
        "id": "Z5-pIQuNaYDt"
      },
      "execution_count": null,
      "outputs": []
    },
    {
      "cell_type": "code",
      "source": [
        "objeto = Data()\n",
        "print(objeto.momento_cadastro)\n",
        "print(objeto.mês_cadastro())\n",
        "print(objeto.dia_semana_cadastro())\n",
        "print(objeto)\n",
        "print(objeto.tempo_cadastro())"
      ],
      "metadata": {
        "colab": {
          "base_uri": "https://localhost:8080/"
        },
        "id": "X1ZbMaBCbcJY",
        "outputId": "ab91d63e-e2ee-4a5f-be6b-17413ba9119a"
      },
      "execution_count": null,
      "outputs": [
        {
          "output_type": "stream",
          "name": "stdout",
          "text": [
            "2023-11-05 21:41:43.009724\n",
            "novembro\n",
            "domingo\n",
            "05/11/2023 21:41\n",
            "0:00:00.000496\n"
          ]
        }
      ]
    },
    {
      "cell_type": "markdown",
      "source": [
        "trabalhando com cep e acessando uma api"
      ],
      "metadata": {
        "id": "Xl67OHkBcSEf"
      }
    },
    {
      "cell_type": "markdown",
      "source": [
        "introdução apis e validação de cep"
      ],
      "metadata": {
        "id": "MlgJS8BEcVsB"
      }
    },
    {
      "cell_type": "code",
      "source": [
        "class BuscaEndereço:\n",
        "    def __init__(self, cep):\n",
        "        if len(str(cep)) == 8:\n",
        "            print('o cep informado é válido')\n",
        "            self.cep = str(cep)\n",
        "        else:\n",
        "            print('o cep informado é inválido')\n",
        "\n",
        "    def __str__(self):\n",
        "        return self.formatar()\n",
        "\n",
        "    def formatar(self):\n",
        "        return f'{self.cep[:5]}-{self.cep[5:]}'"
      ],
      "metadata": {
        "id": "oyN-B-ikcbmT"
      },
      "execution_count": null,
      "outputs": []
    },
    {
      "cell_type": "code",
      "source": [
        "cep = BuscaEndereço(25870145)\n",
        "print(cep)"
      ],
      "metadata": {
        "colab": {
          "base_uri": "https://localhost:8080/"
        },
        "id": "NwGgdhgkeGSr",
        "outputId": "1626a3ff-c50c-4667-c266-01c66c4a1601"
      },
      "execution_count": null,
      "outputs": [
        {
          "output_type": "stream",
          "name": "stdout",
          "text": [
            "o cep informado é válido\n",
            "25870-145\n"
          ]
        }
      ]
    },
    {
      "cell_type": "markdown",
      "source": [
        "acessando apis com python"
      ],
      "metadata": {
        "id": "PuUF8J-UfqoH"
      }
    },
    {
      "cell_type": "code",
      "source": [
        "from requests import get\n",
        "\n",
        "print(get('https://viacep.com.br/ws/01001000/json/').text)"
      ],
      "metadata": {
        "colab": {
          "base_uri": "https://localhost:8080/"
        },
        "id": "_uetq9SFfrtC",
        "outputId": "80408c1b-4965-4f0c-d579-68a752f1d51f"
      },
      "execution_count": null,
      "outputs": [
        {
          "output_type": "stream",
          "name": "stdout",
          "text": [
            "{\n",
            "  \"cep\": \"01001-000\",\n",
            "  \"logradouro\": \"Praça da Sé\",\n",
            "  \"complemento\": \"lado ímpar\",\n",
            "  \"bairro\": \"Sé\",\n",
            "  \"localidade\": \"São Paulo\",\n",
            "  \"uf\": \"SP\",\n",
            "  \"ibge\": \"3550308\",\n",
            "  \"gia\": \"1004\",\n",
            "  \"ddd\": \"11\",\n",
            "  \"siafi\": \"7107\"\n",
            "}\n"
          ]
        }
      ]
    },
    {
      "cell_type": "code",
      "source": [
        "from requests import get\n",
        "\n",
        "class BuscaEndereço:\n",
        "    def __init__(self, cep):\n",
        "        if len(str(cep)) == 8:\n",
        "            print('o cep informado é válido')\n",
        "            self.cep = str(cep)\n",
        "        else:\n",
        "            print('o cep informado é inválido')\n",
        "\n",
        "    def __str__(self):\n",
        "        return self.formatar()\n",
        "\n",
        "    def formatar(self):\n",
        "        return f'{self.cep[:5]}-{self.cep[5:]}'\n",
        "\n",
        "    def acessar(self):\n",
        "        return get(f'https://viacep.com.br/ws/{self.cep}/json').json()['bairro']"
      ],
      "metadata": {
        "id": "RFMBsXTQiYWb"
      },
      "execution_count": null,
      "outputs": []
    },
    {
      "cell_type": "code",
      "source": [
        "cep = BuscaEndereço('01001000')\n",
        "print(cep)\n",
        "print(cep.acessar())"
      ],
      "metadata": {
        "colab": {
          "base_uri": "https://localhost:8080/"
        },
        "outputId": "d784790e-bb9d-4a9e-aea3-6ccc1832b655",
        "id": "XfFl-Pd4jb-m"
      },
      "execution_count": null,
      "outputs": [
        {
          "output_type": "stream",
          "name": "stdout",
          "text": [
            "o cep informado é válido\n",
            "01001-000\n",
            "Sé\n"
          ]
        }
      ]
    },
    {
      "cell_type": "markdown",
      "source": [
        "see you space cowboy..."
      ],
      "metadata": {
        "id": "Ptrhh5_0n6dn"
      }
    }
  ]
}