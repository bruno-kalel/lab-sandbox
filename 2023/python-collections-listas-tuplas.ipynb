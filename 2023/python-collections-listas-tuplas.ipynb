{
  "nbformat": 4,
  "nbformat_minor": 0,
  "metadata": {
    "colab": {
      "provenance": [],
      "authorship_tag": "ABX9TyOB6/8OTrw03z3s1V5/mRn+"
    },
    "kernelspec": {
      "name": "python3",
      "display_name": "Python 3"
    },
    "language_info": {
      "name": "python"
    }
  },
  "cells": [
    {
      "cell_type": "markdown",
      "source": [
        "Curso de<br>\n",
        "Python Collections parte 1: listas e tuplas<br>\n",
        "`https://cursos.alura.com.br/course/python-collections-listas-e-tuplas`"
      ],
      "metadata": {
        "id": "4LuViyD1GJUS"
      }
    },
    {
      "cell_type": "markdown",
      "source": [
        "Bloco 01<br>\n",
        "Listas e operações"
      ],
      "metadata": {
        "id": "MRMOrRlRRVAA"
      }
    },
    {
      "cell_type": "code",
      "source": [
        "idade1 = 39\n",
        "idade2 = 30\n",
        "idade3 = 27\n",
        "idade4 = 18\n",
        "\n",
        "print(idade1)\n",
        "print(idade2)\n",
        "print(idade3)\n",
        "print(idade4)"
      ],
      "metadata": {
        "colab": {
          "base_uri": "https://localhost:8080/"
        },
        "id": "DGmcWXpmGSlE",
        "outputId": "54aa003c-03d2-47c4-8847-61986e61a94e"
      },
      "execution_count": null,
      "outputs": [
        {
          "output_type": "stream",
          "name": "stdout",
          "text": [
            "39\n",
            "30\n",
            "27\n",
            "18\n"
          ]
        }
      ]
    },
    {
      "cell_type": "code",
      "source": [
        "idades = [39, 30, 27, 18]"
      ],
      "metadata": {
        "id": "4kCsCkPkLkK0"
      },
      "execution_count": null,
      "outputs": []
    },
    {
      "cell_type": "code",
      "source": [
        "type(idades)"
      ],
      "metadata": {
        "colab": {
          "base_uri": "https://localhost:8080/"
        },
        "id": "aexyjeRaL3D_",
        "outputId": "f955861b-66c0-4cc9-97c1-5a94b37958f5"
      },
      "execution_count": null,
      "outputs": [
        {
          "output_type": "execute_result",
          "data": {
            "text/plain": [
              "list"
            ]
          },
          "metadata": {},
          "execution_count": 3
        }
      ]
    },
    {
      "cell_type": "code",
      "source": [
        "len(idades)"
      ],
      "metadata": {
        "colab": {
          "base_uri": "https://localhost:8080/"
        },
        "id": "Y90TjD1-L5BQ",
        "outputId": "7e4b8ed9-d5ee-4ff9-fa8c-2faa30443ed5"
      },
      "execution_count": null,
      "outputs": [
        {
          "output_type": "execute_result",
          "data": {
            "text/plain": [
              "4"
            ]
          },
          "metadata": {},
          "execution_count": 4
        }
      ]
    },
    {
      "cell_type": "code",
      "source": [
        "idades[0]"
      ],
      "metadata": {
        "colab": {
          "base_uri": "https://localhost:8080/"
        },
        "id": "I7oJ6xeWOUFP",
        "outputId": "e02f4561-5276-4205-c686-b4f9b3ec238f"
      },
      "execution_count": null,
      "outputs": [
        {
          "output_type": "execute_result",
          "data": {
            "text/plain": [
              "39"
            ]
          },
          "metadata": {},
          "execution_count": 5
        }
      ]
    },
    {
      "cell_type": "code",
      "source": [
        "idades[3]"
      ],
      "metadata": {
        "colab": {
          "base_uri": "https://localhost:8080/"
        },
        "id": "0B4a2eCcOWBX",
        "outputId": "d823429b-4889-416d-ee22-5f44e70e12b4"
      },
      "execution_count": null,
      "outputs": [
        {
          "output_type": "execute_result",
          "data": {
            "text/plain": [
              "18"
            ]
          },
          "metadata": {},
          "execution_count": 6
        }
      ]
    },
    {
      "cell_type": "code",
      "source": [
        "idades"
      ],
      "metadata": {
        "colab": {
          "base_uri": "https://localhost:8080/"
        },
        "id": "sI_8Yk95OXY6",
        "outputId": "2dd1e8a1-ee3e-49e1-8867-3e59a59fc2d7"
      },
      "execution_count": null,
      "outputs": [
        {
          "output_type": "execute_result",
          "data": {
            "text/plain": [
              "[39, 30, 27, 18]"
            ]
          },
          "metadata": {},
          "execution_count": 7
        }
      ]
    },
    {
      "cell_type": "code",
      "source": [
        "idades[0]\n",
        "idades[1]"
      ],
      "metadata": {
        "colab": {
          "base_uri": "https://localhost:8080/"
        },
        "id": "cwE2cScEOYU9",
        "outputId": "f87ec7ae-adae-4bc7-9b00-ef907a1792ba"
      },
      "execution_count": null,
      "outputs": [
        {
          "output_type": "execute_result",
          "data": {
            "text/plain": [
              "30"
            ]
          },
          "metadata": {},
          "execution_count": 8
        }
      ]
    },
    {
      "cell_type": "code",
      "source": [
        "print(idades[0])\n",
        "print(idades[1])"
      ],
      "metadata": {
        "colab": {
          "base_uri": "https://localhost:8080/"
        },
        "id": "cGn5P03wOijZ",
        "outputId": "468380ec-a674-48ae-8eaa-7ff312247e6a"
      },
      "execution_count": null,
      "outputs": [
        {
          "output_type": "stream",
          "name": "stdout",
          "text": [
            "39\n",
            "30\n"
          ]
        }
      ]
    },
    {
      "cell_type": "code",
      "source": [
        "idades.append(15)"
      ],
      "metadata": {
        "id": "vJdmgHWTOkwp"
      },
      "execution_count": null,
      "outputs": []
    },
    {
      "cell_type": "code",
      "source": [
        "idades"
      ],
      "metadata": {
        "colab": {
          "base_uri": "https://localhost:8080/"
        },
        "id": "UxgvOBoAQABM",
        "outputId": "0ff7cc8c-1b44-495a-8b6d-aafb3bce3a41"
      },
      "execution_count": null,
      "outputs": [
        {
          "output_type": "execute_result",
          "data": {
            "text/plain": [
              "[39, 30, 27, 18, 15]"
            ]
          },
          "metadata": {},
          "execution_count": 11
        }
      ]
    },
    {
      "cell_type": "code",
      "source": [
        "idades[4]"
      ],
      "metadata": {
        "colab": {
          "base_uri": "https://localhost:8080/"
        },
        "id": "I0VR5fLgQArO",
        "outputId": "91d7a402-5e1e-4892-c889-e0ae7308f07e"
      },
      "execution_count": null,
      "outputs": [
        {
          "output_type": "execute_result",
          "data": {
            "text/plain": [
              "15"
            ]
          },
          "metadata": {},
          "execution_count": 12
        }
      ]
    },
    {
      "cell_type": "code",
      "source": [
        "idades[5]"
      ],
      "metadata": {
        "colab": {
          "base_uri": "https://localhost:8080/",
          "height": 175
        },
        "id": "xo5FC8xwQCed",
        "outputId": "2a7ae959-45d9-436e-cb4a-222963dd2619"
      },
      "execution_count": null,
      "outputs": [
        {
          "output_type": "error",
          "ename": "IndexError",
          "evalue": "ignored",
          "traceback": [
            "\u001b[0;31m---------------------------------------------------------------------------\u001b[0m",
            "\u001b[0;31mIndexError\u001b[0m                                Traceback (most recent call last)",
            "\u001b[0;32m<ipython-input-13-9afc071113c0>\u001b[0m in \u001b[0;36m<cell line: 1>\u001b[0;34m()\u001b[0m\n\u001b[0;32m----> 1\u001b[0;31m \u001b[0midades\u001b[0m\u001b[0;34m[\u001b[0m\u001b[0;36m5\u001b[0m\u001b[0;34m]\u001b[0m\u001b[0;34m\u001b[0m\u001b[0;34m\u001b[0m\u001b[0m\n\u001b[0m",
            "\u001b[0;31mIndexError\u001b[0m: list index out of range"
          ]
        }
      ]
    },
    {
      "cell_type": "code",
      "source": [
        "for idade in idades:\n",
        "  print(idade)"
      ],
      "metadata": {
        "id": "VoW1seYIQFoH",
        "colab": {
          "base_uri": "https://localhost:8080/"
        },
        "outputId": "82ed5072-c4ae-4053-a814-cc2813f763c7"
      },
      "execution_count": null,
      "outputs": [
        {
          "output_type": "stream",
          "name": "stdout",
          "text": [
            "39\n",
            "30\n",
            "27\n",
            "18\n",
            "15\n"
          ]
        }
      ]
    },
    {
      "cell_type": "code",
      "source": [
        "idades.remove(30)"
      ],
      "metadata": {
        "id": "Noo4HGGdQLQp"
      },
      "execution_count": null,
      "outputs": []
    },
    {
      "cell_type": "code",
      "source": [
        "idades"
      ],
      "metadata": {
        "id": "l9WCdyEgQNVF",
        "colab": {
          "base_uri": "https://localhost:8080/"
        },
        "outputId": "25407435-f6a3-4f18-a1f6-6ec90cbffa34"
      },
      "execution_count": null,
      "outputs": [
        {
          "output_type": "execute_result",
          "data": {
            "text/plain": [
              "[39, 27, 18, 15]"
            ]
          },
          "metadata": {},
          "execution_count": 16
        }
      ]
    },
    {
      "cell_type": "code",
      "source": [
        "idades.remove(30)"
      ],
      "metadata": {
        "id": "P6Yw_nwCQOLi",
        "colab": {
          "base_uri": "https://localhost:8080/",
          "height": 175
        },
        "outputId": "03bf3961-7d05-46cd-bf01-feb655ed1bdc"
      },
      "execution_count": null,
      "outputs": [
        {
          "output_type": "error",
          "ename": "ValueError",
          "evalue": "ignored",
          "traceback": [
            "\u001b[0;31m---------------------------------------------------------------------------\u001b[0m",
            "\u001b[0;31mValueError\u001b[0m                                Traceback (most recent call last)",
            "\u001b[0;32m<ipython-input-17-4f77f6ee3785>\u001b[0m in \u001b[0;36m<cell line: 1>\u001b[0;34m()\u001b[0m\n\u001b[0;32m----> 1\u001b[0;31m \u001b[0midades\u001b[0m\u001b[0;34m.\u001b[0m\u001b[0mremove\u001b[0m\u001b[0;34m(\u001b[0m\u001b[0;36m30\u001b[0m\u001b[0;34m)\u001b[0m\u001b[0;34m\u001b[0m\u001b[0;34m\u001b[0m\u001b[0m\n\u001b[0m",
            "\u001b[0;31mValueError\u001b[0m: list.remove(x): x not in list"
          ]
        }
      ]
    },
    {
      "cell_type": "code",
      "source": [
        "idades.append(15)"
      ],
      "metadata": {
        "id": "XX-40SdWQP_R"
      },
      "execution_count": null,
      "outputs": []
    },
    {
      "cell_type": "code",
      "source": [
        "idades"
      ],
      "metadata": {
        "id": "j3poAH6hQSmc",
        "colab": {
          "base_uri": "https://localhost:8080/"
        },
        "outputId": "e41e7684-3e0a-4d31-8507-a789ffe6f81c"
      },
      "execution_count": null,
      "outputs": [
        {
          "output_type": "execute_result",
          "data": {
            "text/plain": [
              "[39, 27, 18, 15, 15]"
            ]
          },
          "metadata": {},
          "execution_count": 19
        }
      ]
    },
    {
      "cell_type": "code",
      "source": [
        "idades.remove(15)"
      ],
      "metadata": {
        "id": "ZQmg6lBHQTPI"
      },
      "execution_count": null,
      "outputs": []
    },
    {
      "cell_type": "code",
      "source": [
        "idades"
      ],
      "metadata": {
        "id": "JkJVXP3VQUoC",
        "colab": {
          "base_uri": "https://localhost:8080/"
        },
        "outputId": "87f4ad0e-acd3-4e9e-f934-d292407fff6d"
      },
      "execution_count": null,
      "outputs": [
        {
          "output_type": "execute_result",
          "data": {
            "text/plain": [
              "[39, 27, 18, 15]"
            ]
          },
          "metadata": {},
          "execution_count": 21
        }
      ]
    },
    {
      "cell_type": "code",
      "source": [
        "idades.append(27)"
      ],
      "metadata": {
        "id": "vx-4LIAjQWB6"
      },
      "execution_count": null,
      "outputs": []
    },
    {
      "cell_type": "code",
      "source": [
        "idades"
      ],
      "metadata": {
        "id": "Qcr-R0HFQYS_",
        "colab": {
          "base_uri": "https://localhost:8080/"
        },
        "outputId": "122b19b3-01e4-445d-8e1c-db9c387fcc95"
      },
      "execution_count": null,
      "outputs": [
        {
          "output_type": "execute_result",
          "data": {
            "text/plain": [
              "[39, 27, 18, 15, 27]"
            ]
          },
          "metadata": {},
          "execution_count": 23
        }
      ]
    },
    {
      "cell_type": "code",
      "source": [
        "# remove a primeira aparição do elemento"
      ],
      "metadata": {
        "id": "KOusXFnIQhJk"
      },
      "execution_count": null,
      "outputs": []
    },
    {
      "cell_type": "code",
      "source": [
        "idades.remove(27)"
      ],
      "metadata": {
        "id": "v6rJNLRaQZLZ"
      },
      "execution_count": null,
      "outputs": []
    },
    {
      "cell_type": "code",
      "source": [
        "idades"
      ],
      "metadata": {
        "id": "zqkGnVceQarS",
        "colab": {
          "base_uri": "https://localhost:8080/"
        },
        "outputId": "fefc629e-c670-4c5b-ca1e-c388014b73f2"
      },
      "execution_count": null,
      "outputs": [
        {
          "output_type": "execute_result",
          "data": {
            "text/plain": [
              "[39, 18, 15, 27]"
            ]
          },
          "metadata": {},
          "execution_count": 26
        }
      ]
    },
    {
      "cell_type": "code",
      "source": [
        "idades.clear()"
      ],
      "metadata": {
        "id": "Fy-STv6iQbOs"
      },
      "execution_count": null,
      "outputs": []
    },
    {
      "cell_type": "code",
      "source": [
        "idades"
      ],
      "metadata": {
        "id": "uSbomfg_Q0bF",
        "colab": {
          "base_uri": "https://localhost:8080/"
        },
        "outputId": "0fab977b-8a37-4db0-bd40-33ddbf99bfe5"
      },
      "execution_count": null,
      "outputs": [
        {
          "output_type": "execute_result",
          "data": {
            "text/plain": [
              "[]"
            ]
          },
          "metadata": {},
          "execution_count": 28
        }
      ]
    },
    {
      "cell_type": "code",
      "source": [
        "28 in idades"
      ],
      "metadata": {
        "id": "MbPHRPkkQ07j",
        "colab": {
          "base_uri": "https://localhost:8080/"
        },
        "outputId": "b0343c40-73ba-4ad6-962d-a8e7ab691ab5"
      },
      "execution_count": null,
      "outputs": [
        {
          "output_type": "execute_result",
          "data": {
            "text/plain": [
              "False"
            ]
          },
          "metadata": {},
          "execution_count": 29
        }
      ]
    },
    {
      "cell_type": "code",
      "source": [
        "15 in idades"
      ],
      "metadata": {
        "id": "z3kW0dyaTyvK",
        "colab": {
          "base_uri": "https://localhost:8080/"
        },
        "outputId": "222fedcd-d354-44e1-818a-9e7e43c1a643"
      },
      "execution_count": null,
      "outputs": [
        {
          "output_type": "execute_result",
          "data": {
            "text/plain": [
              "False"
            ]
          },
          "metadata": {},
          "execution_count": 30
        }
      ]
    },
    {
      "cell_type": "code",
      "source": [
        "idades.append(15)"
      ],
      "metadata": {
        "id": "Xb1JPfMIT04A"
      },
      "execution_count": null,
      "outputs": []
    },
    {
      "cell_type": "code",
      "source": [
        "idades"
      ],
      "metadata": {
        "id": "FL_tKkwBT2fJ",
        "colab": {
          "base_uri": "https://localhost:8080/"
        },
        "outputId": "b014b6d7-786f-47c9-9a58-1150b9364e30"
      },
      "execution_count": null,
      "outputs": [
        {
          "output_type": "execute_result",
          "data": {
            "text/plain": [
              "[15]"
            ]
          },
          "metadata": {},
          "execution_count": 32
        }
      ]
    },
    {
      "cell_type": "code",
      "source": [
        "15 in idades"
      ],
      "metadata": {
        "id": "kmsfY9xNT3Op",
        "colab": {
          "base_uri": "https://localhost:8080/"
        },
        "outputId": "2a58124a-3be3-4545-f0a7-1e37ffb4442e"
      },
      "execution_count": null,
      "outputs": [
        {
          "output_type": "execute_result",
          "data": {
            "text/plain": [
              "True"
            ]
          },
          "metadata": {},
          "execution_count": 33
        }
      ]
    },
    {
      "cell_type": "code",
      "source": [
        "if 15 in idades:\n",
        "  idades.remove(15)\n",
        "  print(idades)"
      ],
      "metadata": {
        "id": "TVIgMwVNT4zl",
        "colab": {
          "base_uri": "https://localhost:8080/"
        },
        "outputId": "589d3276-dcde-4e67-deef-3681a4a632f5"
      },
      "execution_count": null,
      "outputs": [
        {
          "output_type": "stream",
          "name": "stdout",
          "text": [
            "[]\n"
          ]
        }
      ]
    },
    {
      "cell_type": "code",
      "source": [
        "idades = [39, 18, 27]"
      ],
      "metadata": {
        "id": "GyleHbjBUCBY"
      },
      "execution_count": null,
      "outputs": []
    },
    {
      "cell_type": "code",
      "source": [
        "idades.insert(0, 20)\n",
        "idades"
      ],
      "metadata": {
        "id": "MCUyIurZUMsO",
        "colab": {
          "base_uri": "https://localhost:8080/"
        },
        "outputId": "c788e3a5-d028-4aa0-d6ba-d2c4ff53a76d"
      },
      "execution_count": null,
      "outputs": [
        {
          "output_type": "execute_result",
          "data": {
            "text/plain": [
              "[20, 39, 18, 27]"
            ]
          },
          "metadata": {},
          "execution_count": 36
        }
      ]
    },
    {
      "cell_type": "code",
      "source": [
        "idades = [20, 39, 18]\n",
        "idades"
      ],
      "metadata": {
        "id": "KPpR1EnLUYAN",
        "colab": {
          "base_uri": "https://localhost:8080/"
        },
        "outputId": "e58d4925-d77e-4cc5-b784-d657eece1dce"
      },
      "execution_count": null,
      "outputs": [
        {
          "output_type": "execute_result",
          "data": {
            "text/plain": [
              "[20, 39, 18]"
            ]
          },
          "metadata": {},
          "execution_count": 44
        }
      ]
    },
    {
      "cell_type": "code",
      "source": [
        "idades.append(27, 19)"
      ],
      "metadata": {
        "id": "HJ7qSnHsUgLL",
        "colab": {
          "base_uri": "https://localhost:8080/",
          "height": 175
        },
        "outputId": "5b8fbb3e-67cd-43b1-9af6-f1f6b11fc9b3"
      },
      "execution_count": null,
      "outputs": [
        {
          "output_type": "error",
          "ename": "TypeError",
          "evalue": "ignored",
          "traceback": [
            "\u001b[0;31m---------------------------------------------------------------------------\u001b[0m",
            "\u001b[0;31mTypeError\u001b[0m                                 Traceback (most recent call last)",
            "\u001b[0;32m<ipython-input-38-7a7e3e89a65d>\u001b[0m in \u001b[0;36m<cell line: 1>\u001b[0;34m()\u001b[0m\n\u001b[0;32m----> 1\u001b[0;31m \u001b[0midades\u001b[0m\u001b[0;34m.\u001b[0m\u001b[0mappend\u001b[0m\u001b[0;34m(\u001b[0m\u001b[0;36m27\u001b[0m\u001b[0;34m,\u001b[0m \u001b[0;36m19\u001b[0m\u001b[0;34m)\u001b[0m\u001b[0;34m\u001b[0m\u001b[0;34m\u001b[0m\u001b[0m\n\u001b[0m",
            "\u001b[0;31mTypeError\u001b[0m: list.append() takes exactly one argument (2 given)"
          ]
        }
      ]
    },
    {
      "cell_type": "code",
      "source": [
        "idades.append([27, 19])"
      ],
      "metadata": {
        "id": "YAs26bpnUkVu"
      },
      "execution_count": null,
      "outputs": []
    },
    {
      "cell_type": "code",
      "source": [
        "idades"
      ],
      "metadata": {
        "id": "s1aAxmK1Umkv",
        "colab": {
          "base_uri": "https://localhost:8080/"
        },
        "outputId": "9ab38b58-f60c-446d-d77a-4a5676cc6e69"
      },
      "execution_count": null,
      "outputs": [
        {
          "output_type": "execute_result",
          "data": {
            "text/plain": [
              "[20, 39, 18, [27, 19]]"
            ]
          },
          "metadata": {},
          "execution_count": 46
        }
      ]
    },
    {
      "cell_type": "code",
      "source": [
        "for elemento in idades:\n",
        "  print(elemento)"
      ],
      "metadata": {
        "id": "EzCgkxGhUnuB",
        "colab": {
          "base_uri": "https://localhost:8080/"
        },
        "outputId": "b0e1504e-0d09-437f-b4e6-dd6129fd1735"
      },
      "execution_count": null,
      "outputs": [
        {
          "output_type": "stream",
          "name": "stdout",
          "text": [
            "20\n",
            "39\n",
            "18\n",
            "[27, 19]\n"
          ]
        }
      ]
    },
    {
      "cell_type": "code",
      "source": [
        "idades = [20, 39, 18]\n",
        "idades"
      ],
      "metadata": {
        "id": "mO__tUDaUuHx",
        "colab": {
          "base_uri": "https://localhost:8080/"
        },
        "outputId": "c42ced62-39a6-4dfe-9eb6-8df279fdfe4b"
      },
      "execution_count": null,
      "outputs": [
        {
          "output_type": "execute_result",
          "data": {
            "text/plain": [
              "[20, 39, 18]"
            ]
          },
          "metadata": {},
          "execution_count": 48
        }
      ]
    },
    {
      "cell_type": "code",
      "source": [
        "idades.extend([27, 19])\n",
        "idades"
      ],
      "metadata": {
        "id": "5Kw4ebo-U5sX",
        "colab": {
          "base_uri": "https://localhost:8080/"
        },
        "outputId": "ccb670fd-3b2f-4f1b-ebdb-310ce40b0edc"
      },
      "execution_count": null,
      "outputs": [
        {
          "output_type": "execute_result",
          "data": {
            "text/plain": [
              "[20, 39, 18, 27, 19]"
            ]
          },
          "metadata": {},
          "execution_count": 49
        }
      ]
    },
    {
      "cell_type": "code",
      "source": [
        "for elemento in idades:\n",
        "  print(elemento)"
      ],
      "metadata": {
        "id": "PHiHJblLVAAC",
        "colab": {
          "base_uri": "https://localhost:8080/"
        },
        "outputId": "9e104706-8264-404b-fdc5-824bd8e37b78"
      },
      "execution_count": null,
      "outputs": [
        {
          "output_type": "stream",
          "name": "stdout",
          "text": [
            "20\n",
            "39\n",
            "18\n",
            "27\n",
            "19\n"
          ]
        }
      ]
    },
    {
      "cell_type": "code",
      "source": [
        "for idade in idades:\n",
        "  print(idade+1)"
      ],
      "metadata": {
        "id": "YMJrw83wVBmd",
        "colab": {
          "base_uri": "https://localhost:8080/"
        },
        "outputId": "4add7d15-b650-4d23-e648-1fc3cfefc8e5"
      },
      "execution_count": null,
      "outputs": [
        {
          "output_type": "stream",
          "name": "stdout",
          "text": [
            "21\n",
            "40\n",
            "19\n",
            "28\n",
            "20\n"
          ]
        }
      ]
    },
    {
      "cell_type": "code",
      "source": [
        "idades_no_ano_que_vem = []\n",
        "for idade in idades:\n",
        "  idades_no_ano_que_vem.append(idade+1)\n",
        "idades_no_ano_que_vem"
      ],
      "metadata": {
        "id": "-y0R-JbgVOrG",
        "colab": {
          "base_uri": "https://localhost:8080/"
        },
        "outputId": "c156fc3d-0e24-46b2-c7cb-7e574fe8a467"
      },
      "execution_count": null,
      "outputs": [
        {
          "output_type": "execute_result",
          "data": {
            "text/plain": [
              "[21, 40, 19, 28, 20]"
            ]
          },
          "metadata": {},
          "execution_count": 52
        }
      ]
    },
    {
      "cell_type": "code",
      "source": [
        "[(idade+1) for idade in idades]"
      ],
      "metadata": {
        "id": "JiFpjl5zVUpK",
        "colab": {
          "base_uri": "https://localhost:8080/"
        },
        "outputId": "1539917d-bbd7-44e6-968b-033c2114042f"
      },
      "execution_count": null,
      "outputs": [
        {
          "output_type": "execute_result",
          "data": {
            "text/plain": [
              "[21, 40, 19, 28, 20]"
            ]
          },
          "metadata": {},
          "execution_count": 53
        }
      ]
    },
    {
      "cell_type": "code",
      "source": [
        "idades_no_ano_que_vem = [(idade+1) for idade in idades]\n",
        "idades_no_ano_que_vem"
      ],
      "metadata": {
        "id": "-ZDOi_3yVsKE",
        "colab": {
          "base_uri": "https://localhost:8080/"
        },
        "outputId": "83141202-e105-47fa-dcd7-9cf7cacf5c17"
      },
      "execution_count": null,
      "outputs": [
        {
          "output_type": "execute_result",
          "data": {
            "text/plain": [
              "[21, 40, 19, 28, 20]"
            ]
          },
          "metadata": {},
          "execution_count": 54
        }
      ]
    },
    {
      "cell_type": "code",
      "source": [
        "[(idade) for idade in idades if idade > 21]"
      ],
      "metadata": {
        "id": "5hWgTTb-WD-M",
        "colab": {
          "base_uri": "https://localhost:8080/"
        },
        "outputId": "ff38f829-4893-4d80-9a71-42c6e0a48935"
      },
      "execution_count": null,
      "outputs": [
        {
          "output_type": "execute_result",
          "data": {
            "text/plain": [
              "[39, 27]"
            ]
          },
          "metadata": {},
          "execution_count": 55
        }
      ]
    },
    {
      "cell_type": "code",
      "source": [
        "[idade for idade in idades if idade > 21]"
      ],
      "metadata": {
        "id": "f9XR6JllWPga",
        "colab": {
          "base_uri": "https://localhost:8080/"
        },
        "outputId": "b8c69556-2b02-43df-d2ab-fee627bc7fbd"
      },
      "execution_count": null,
      "outputs": [
        {
          "output_type": "execute_result",
          "data": {
            "text/plain": [
              "[39, 27]"
            ]
          },
          "metadata": {},
          "execution_count": 56
        }
      ]
    },
    {
      "cell_type": "code",
      "source": [
        "def proximo_ano(idade):\n",
        "  return idade+1\n",
        "\n",
        "[proximo_ano(idade) for idade in idades if idade > 21]"
      ],
      "metadata": {
        "id": "oyiWBOW2WXXd",
        "colab": {
          "base_uri": "https://localhost:8080/"
        },
        "outputId": "c924b66f-9dca-43c5-ef80-dce8fec422f5"
      },
      "execution_count": null,
      "outputs": [
        {
          "output_type": "execute_result",
          "data": {
            "text/plain": [
              "[40, 28]"
            ]
          },
          "metadata": {},
          "execution_count": 57
        }
      ]
    },
    {
      "cell_type": "code",
      "source": [
        "# list comprehension"
      ],
      "metadata": {
        "id": "QuOLXyP4WkO8"
      },
      "execution_count": null,
      "outputs": []
    },
    {
      "cell_type": "code",
      "source": [
        "def faz_processamento_de_visualizacao(lista):\n",
        "  print(len(lista))"
      ],
      "metadata": {
        "id": "gnXHhoYtY2fP"
      },
      "execution_count": null,
      "outputs": []
    },
    {
      "cell_type": "code",
      "source": [
        "idades = [16, 21, 29, 56, 43]\n",
        "faz_processamento_de_visualizacao(idades)\n",
        "idades"
      ],
      "metadata": {
        "id": "L2GKM4uLaghB",
        "colab": {
          "base_uri": "https://localhost:8080/"
        },
        "outputId": "f7fcba09-c001-4b27-9858-0d51322c53e8"
      },
      "execution_count": null,
      "outputs": [
        {
          "output_type": "stream",
          "name": "stdout",
          "text": [
            "5\n"
          ]
        },
        {
          "output_type": "execute_result",
          "data": {
            "text/plain": [
              "[16, 21, 29, 56, 43]"
            ]
          },
          "metadata": {},
          "execution_count": 60
        }
      ]
    },
    {
      "cell_type": "code",
      "source": [
        "def faz_processamento_de_visualizacao(lista):\n",
        "  print(len(lista))\n",
        "  lista.append(13)"
      ],
      "metadata": {
        "id": "0MEP6CdXapaw"
      },
      "execution_count": null,
      "outputs": []
    },
    {
      "cell_type": "code",
      "source": [
        "idades = [16, 21, 29, 56, 43]\n",
        "faz_processamento_de_visualizacao(idades)\n",
        "idades"
      ],
      "metadata": {
        "id": "9zg-iSHOazEp",
        "colab": {
          "base_uri": "https://localhost:8080/"
        },
        "outputId": "7cde6e3a-d395-41d1-ec28-9a338a0f0058"
      },
      "execution_count": null,
      "outputs": [
        {
          "output_type": "stream",
          "name": "stdout",
          "text": [
            "5\n"
          ]
        },
        {
          "output_type": "execute_result",
          "data": {
            "text/plain": [
              "[16, 21, 29, 56, 43, 13]"
            ]
          },
          "metadata": {},
          "execution_count": 62
        }
      ]
    },
    {
      "cell_type": "code",
      "source": [
        "def faz_processamento_de_visualizacao(lista=[]):\n",
        "  print(len(lista))\n",
        "  print(lista)\n",
        "  lista.append(13)"
      ],
      "metadata": {
        "id": "0lq4b7nTazYP"
      },
      "execution_count": null,
      "outputs": []
    },
    {
      "cell_type": "code",
      "source": [
        "faz_processamento_de_visualizacao()"
      ],
      "metadata": {
        "id": "wl5Ie4VubedB",
        "colab": {
          "base_uri": "https://localhost:8080/"
        },
        "outputId": "6bd5033f-b4e7-4615-9099-75df006a3f31"
      },
      "execution_count": null,
      "outputs": [
        {
          "output_type": "stream",
          "name": "stdout",
          "text": [
            "0\n",
            "[]\n"
          ]
        }
      ]
    },
    {
      "cell_type": "code",
      "source": [
        "faz_processamento_de_visualizacao()"
      ],
      "metadata": {
        "id": "sP9nDjxubgzj",
        "colab": {
          "base_uri": "https://localhost:8080/"
        },
        "outputId": "4e3faf82-4eca-4f73-94d7-832d4b0d3625"
      },
      "execution_count": null,
      "outputs": [
        {
          "output_type": "stream",
          "name": "stdout",
          "text": [
            "1\n",
            "[13]\n"
          ]
        }
      ]
    },
    {
      "cell_type": "code",
      "source": [
        "faz_processamento_de_visualizacao()"
      ],
      "metadata": {
        "id": "46bZMme9bkwh",
        "colab": {
          "base_uri": "https://localhost:8080/"
        },
        "outputId": "5f07ef15-0f51-4b1b-c9cd-60419ca3484f"
      },
      "execution_count": null,
      "outputs": [
        {
          "output_type": "stream",
          "name": "stdout",
          "text": [
            "2\n",
            "[13, 13]\n"
          ]
        }
      ]
    },
    {
      "cell_type": "code",
      "source": [
        "faz_processamento_de_visualizacao()"
      ],
      "metadata": {
        "id": "hIEENW9_blJ2",
        "colab": {
          "base_uri": "https://localhost:8080/"
        },
        "outputId": "a20cf1bf-d289-4113-c9bf-0bf9f3e5c368"
      },
      "execution_count": null,
      "outputs": [
        {
          "output_type": "stream",
          "name": "stdout",
          "text": [
            "3\n",
            "[13, 13, 13]\n"
          ]
        }
      ]
    },
    {
      "cell_type": "code",
      "source": [
        "# 🤯"
      ],
      "metadata": {
        "id": "qw54v0tjblxG"
      },
      "execution_count": null,
      "outputs": []
    },
    {
      "cell_type": "code",
      "source": [
        "def faz_processamento_de_visualizacao(lista=None):\n",
        "  if lista is None:\n",
        "    lista = list()\n",
        "  print(len(lista))\n",
        "  print(lista)\n",
        "  lista.append(13)"
      ],
      "metadata": {
        "id": "7YFFSUe0cHa-"
      },
      "execution_count": null,
      "outputs": []
    },
    {
      "cell_type": "code",
      "source": [
        "faz_processamento_de_visualizacao()\n",
        "faz_processamento_de_visualizacao()\n",
        "faz_processamento_de_visualizacao()\n",
        "faz_processamento_de_visualizacao()"
      ],
      "metadata": {
        "id": "Xz5oMG71ceOu",
        "colab": {
          "base_uri": "https://localhost:8080/"
        },
        "outputId": "aa14d659-2773-4afa-e5cd-f1f036c97245"
      },
      "execution_count": null,
      "outputs": [
        {
          "output_type": "stream",
          "name": "stdout",
          "text": [
            "0\n",
            "[]\n",
            "0\n",
            "[]\n",
            "0\n",
            "[]\n",
            "0\n",
            "[]\n"
          ]
        }
      ]
    },
    {
      "cell_type": "markdown",
      "source": [
        "Bloco 02<br>\n",
        "Tuplas"
      ],
      "metadata": {
        "id": "TNgOQIq07LIo"
      }
    },
    {
      "cell_type": "code",
      "source": [
        "# objetos próprios"
      ],
      "metadata": {
        "id": "I5kJLGW87OxB"
      },
      "execution_count": null,
      "outputs": []
    },
    {
      "cell_type": "code",
      "source": [
        "class ContaCorrente:\n",
        "  def __init__(self, codigo):\n",
        "    self.codigo = codigo\n",
        "    self.saldo = 0\n",
        "\n",
        "  def depositar(self, valor):\n",
        "    self.saldo += valor\n",
        "\n",
        "  def __str__(self):\n",
        "    return f'código {self.codigo}, saldo {self.saldo}'"
      ],
      "metadata": {
        "id": "aT4FJHpS7Ycn"
      },
      "execution_count": null,
      "outputs": []
    },
    {
      "cell_type": "code",
      "source": [
        "conta_do_fulano = ContaCorrente(15)\n",
        "print(conta_do_fulano)"
      ],
      "metadata": {
        "id": "6SdHwTcs7_HR",
        "colab": {
          "base_uri": "https://localhost:8080/"
        },
        "outputId": "ea3ff7b3-12d4-4ecf-9115-1ccba25f52f2"
      },
      "execution_count": null,
      "outputs": [
        {
          "output_type": "stream",
          "name": "stdout",
          "text": [
            "código 15, saldo 0\n"
          ]
        }
      ]
    },
    {
      "cell_type": "code",
      "source": [
        "conta_do_fulano.depositar(500)\n",
        "print(conta_do_fulano)"
      ],
      "metadata": {
        "id": "iI_1EOut8Cgg",
        "colab": {
          "base_uri": "https://localhost:8080/"
        },
        "outputId": "8cd02fa1-f56e-4842-a518-03db02186b7f"
      },
      "execution_count": null,
      "outputs": [
        {
          "output_type": "stream",
          "name": "stdout",
          "text": [
            "código 15, saldo 500\n"
          ]
        }
      ]
    },
    {
      "cell_type": "code",
      "source": [
        "conta_do_beltrano = ContaCorrente(3830)\n",
        "conta_do_beltrano.depositar(1000)\n",
        "print(conta_do_beltrano)"
      ],
      "metadata": {
        "id": "ePt1KWb68GRb",
        "colab": {
          "base_uri": "https://localhost:8080/"
        },
        "outputId": "6a1ba6a1-c676-43b5-9bd9-acab4835d081"
      },
      "execution_count": null,
      "outputs": [
        {
          "output_type": "stream",
          "name": "stdout",
          "text": [
            "código 3830, saldo 1000\n"
          ]
        }
      ]
    },
    {
      "cell_type": "code",
      "source": [
        "contas = [conta_do_fulano, conta_do_beltrano]\n",
        "print(contas)"
      ],
      "metadata": {
        "id": "VxJT1s308YeO",
        "colab": {
          "base_uri": "https://localhost:8080/"
        },
        "outputId": "85ca86d7-86f2-4457-95c9-7fb6a8d251d4"
      },
      "execution_count": null,
      "outputs": [
        {
          "output_type": "stream",
          "name": "stdout",
          "text": [
            "[<__main__.ContaCorrente object at 0x7c8f8fcea230>, <__main__.ContaCorrente object at 0x7c8f8fcea0b0>]\n"
          ]
        }
      ]
    },
    {
      "cell_type": "code",
      "source": [
        "for conta in contas:\n",
        "  print(conta)"
      ],
      "metadata": {
        "id": "1joi__4R8hnS",
        "colab": {
          "base_uri": "https://localhost:8080/"
        },
        "outputId": "e0c913c7-b13b-4889-ea53-d6a8d882caec"
      },
      "execution_count": null,
      "outputs": [
        {
          "output_type": "stream",
          "name": "stdout",
          "text": [
            "código 15, saldo 500\n",
            "código 3830, saldo 1000\n"
          ]
        }
      ]
    },
    {
      "cell_type": "code",
      "source": [
        "contas = [conta_do_fulano, conta_do_beltrano, conta_do_fulano]"
      ],
      "metadata": {
        "id": "8QsgYO_G8x-z"
      },
      "execution_count": null,
      "outputs": []
    },
    {
      "cell_type": "code",
      "source": [
        "print(contas[0])"
      ],
      "metadata": {
        "id": "-Nu0Sv9g8-b-",
        "colab": {
          "base_uri": "https://localhost:8080/"
        },
        "outputId": "608ea1f7-0d28-4bed-90ed-d67d41bf2f91"
      },
      "execution_count": null,
      "outputs": [
        {
          "output_type": "stream",
          "name": "stdout",
          "text": [
            "código 15, saldo 500\n"
          ]
        }
      ]
    },
    {
      "cell_type": "code",
      "source": [
        "conta_do_fulano.depositar(100)"
      ],
      "metadata": {
        "id": "w0zgnd_P9Anm"
      },
      "execution_count": null,
      "outputs": []
    },
    {
      "cell_type": "code",
      "source": [
        "print(contas[0])"
      ],
      "metadata": {
        "id": "oBaSJPir9KDF",
        "colab": {
          "base_uri": "https://localhost:8080/"
        },
        "outputId": "c7992988-31bf-44ee-cd82-a475d75e4ba2"
      },
      "execution_count": null,
      "outputs": [
        {
          "output_type": "stream",
          "name": "stdout",
          "text": [
            "código 15, saldo 600\n"
          ]
        }
      ]
    },
    {
      "cell_type": "code",
      "source": [
        "print(conta_do_fulano)"
      ],
      "metadata": {
        "id": "FdMO-hMp9K3O",
        "colab": {
          "base_uri": "https://localhost:8080/"
        },
        "outputId": "7c92ae19-d1a7-422b-d08b-6fab9e76061e"
      },
      "execution_count": null,
      "outputs": [
        {
          "output_type": "stream",
          "name": "stdout",
          "text": [
            "código 15, saldo 600\n"
          ]
        }
      ]
    },
    {
      "cell_type": "code",
      "source": [
        "print(contas[2])"
      ],
      "metadata": {
        "id": "ycC3thQN9O7m",
        "colab": {
          "base_uri": "https://localhost:8080/"
        },
        "outputId": "4e343bf9-9c5f-419e-cb70-791410157913"
      },
      "execution_count": null,
      "outputs": [
        {
          "output_type": "stream",
          "name": "stdout",
          "text": [
            "código 15, saldo 600\n"
          ]
        }
      ]
    },
    {
      "cell_type": "code",
      "source": [
        "# apenas 2 objetos na memória"
      ],
      "metadata": {
        "id": "53Up8-0U9hnH"
      },
      "execution_count": null,
      "outputs": []
    },
    {
      "cell_type": "code",
      "source": [
        "contas[2].depositar(300)"
      ],
      "metadata": {
        "id": "gurgrUxP9kk0"
      },
      "execution_count": null,
      "outputs": []
    },
    {
      "cell_type": "code",
      "source": [
        "print(conta_do_fulano)"
      ],
      "metadata": {
        "id": "jO3cIen2-A0I",
        "colab": {
          "base_uri": "https://localhost:8080/"
        },
        "outputId": "c63cbbc7-7c97-4928-a7fc-2ba60aec61fd"
      },
      "execution_count": null,
      "outputs": [
        {
          "output_type": "stream",
          "name": "stdout",
          "text": [
            "código 15, saldo 900\n"
          ]
        }
      ]
    },
    {
      "cell_type": "code",
      "source": [
        "def depositar_para_todas_as_contas(contas):\n",
        "  for conta in contas:\n",
        "    conta.depositar(100)\n",
        "\n",
        "contas = [conta_do_fulano, conta_do_beltrano]\n",
        "\n",
        "print(contas[0], contas[1])\n",
        "\n",
        "depositar_para_todas_as_contas(contas)\n",
        "\n",
        "print(contas[0], contas[1])"
      ],
      "metadata": {
        "id": "sQLixXpt-CVz",
        "colab": {
          "base_uri": "https://localhost:8080/"
        },
        "outputId": "9155dc99-8f82-401a-f80e-1185c94ff4ef"
      },
      "execution_count": null,
      "outputs": [
        {
          "output_type": "stream",
          "name": "stdout",
          "text": [
            "código 15, saldo 900 código 3830, saldo 1000\n",
            "código 15, saldo 1000 código 3830, saldo 1100\n"
          ]
        }
      ]
    },
    {
      "cell_type": "code",
      "source": [
        "contas.insert(0, 76)"
      ],
      "metadata": {
        "id": "XMK3rYxTA5CT"
      },
      "execution_count": null,
      "outputs": []
    },
    {
      "cell_type": "code",
      "source": [
        "for conta in contas:\n",
        "  print(conta)"
      ],
      "metadata": {
        "id": "fR4bqlQfB2xk",
        "colab": {
          "base_uri": "https://localhost:8080/"
        },
        "outputId": "7c784496-7499-4a7c-abec-42974ff2cceb"
      },
      "execution_count": null,
      "outputs": [
        {
          "output_type": "stream",
          "name": "stdout",
          "text": [
            "76\n",
            "código 15, saldo 1000\n",
            "código 3830, saldo 1100\n"
          ]
        }
      ]
    },
    {
      "cell_type": "code",
      "source": [
        "depositar_para_todas_as_contas(contas)"
      ],
      "metadata": {
        "id": "4Gk2cOfcB5_g",
        "colab": {
          "base_uri": "https://localhost:8080/",
          "height": 297
        },
        "outputId": "f4986729-5698-4980-cffa-54b3411c0290"
      },
      "execution_count": null,
      "outputs": [
        {
          "output_type": "error",
          "ename": "AttributeError",
          "evalue": "ignored",
          "traceback": [
            "\u001b[0;31m---------------------------------------------------------------------------\u001b[0m",
            "\u001b[0;31mAttributeError\u001b[0m                            Traceback (most recent call last)",
            "\u001b[0;32m<ipython-input-90-40e56a4b3259>\u001b[0m in \u001b[0;36m<cell line: 1>\u001b[0;34m()\u001b[0m\n\u001b[0;32m----> 1\u001b[0;31m \u001b[0mdepositar_para_todas_as_contas\u001b[0m\u001b[0;34m(\u001b[0m\u001b[0mcontas\u001b[0m\u001b[0;34m)\u001b[0m\u001b[0;34m\u001b[0m\u001b[0;34m\u001b[0m\u001b[0m\n\u001b[0m",
            "\u001b[0;32m<ipython-input-87-35c669c346c0>\u001b[0m in \u001b[0;36mdepositar_para_todas_as_contas\u001b[0;34m(contas)\u001b[0m\n\u001b[1;32m      1\u001b[0m \u001b[0;32mdef\u001b[0m \u001b[0mdepositar_para_todas_as_contas\u001b[0m\u001b[0;34m(\u001b[0m\u001b[0mcontas\u001b[0m\u001b[0;34m)\u001b[0m\u001b[0;34m:\u001b[0m\u001b[0;34m\u001b[0m\u001b[0;34m\u001b[0m\u001b[0m\n\u001b[1;32m      2\u001b[0m   \u001b[0;32mfor\u001b[0m \u001b[0mconta\u001b[0m \u001b[0;32min\u001b[0m \u001b[0mcontas\u001b[0m\u001b[0;34m:\u001b[0m\u001b[0;34m\u001b[0m\u001b[0;34m\u001b[0m\u001b[0m\n\u001b[0;32m----> 3\u001b[0;31m     \u001b[0mconta\u001b[0m\u001b[0;34m.\u001b[0m\u001b[0mdepositar\u001b[0m\u001b[0;34m(\u001b[0m\u001b[0;36m100\u001b[0m\u001b[0;34m)\u001b[0m\u001b[0;34m\u001b[0m\u001b[0;34m\u001b[0m\u001b[0m\n\u001b[0m\u001b[1;32m      4\u001b[0m \u001b[0;34m\u001b[0m\u001b[0m\n\u001b[1;32m      5\u001b[0m \u001b[0mcontas\u001b[0m \u001b[0;34m=\u001b[0m \u001b[0;34m[\u001b[0m\u001b[0mconta_do_fulano\u001b[0m\u001b[0;34m,\u001b[0m \u001b[0mconta_do_beltrano\u001b[0m\u001b[0;34m]\u001b[0m\u001b[0;34m\u001b[0m\u001b[0;34m\u001b[0m\u001b[0m\n",
            "\u001b[0;31mAttributeError\u001b[0m: 'int' object has no attribute 'depositar'"
          ]
        }
      ]
    },
    {
      "cell_type": "code",
      "source": [
        "# tuplas"
      ],
      "metadata": {
        "id": "glaAqyTKCSdt"
      },
      "execution_count": null,
      "outputs": []
    },
    {
      "cell_type": "code",
      "source": [
        "fulano = ('fulano', 23, 200)\n",
        "beltrano = ('beltrano', 22, 500)"
      ],
      "metadata": {
        "id": "dOTHS-IwC47B"
      },
      "execution_count": null,
      "outputs": []
    },
    {
      "cell_type": "code",
      "source": [
        "fulano.append(343)"
      ],
      "metadata": {
        "id": "ZeKldc17DHra",
        "colab": {
          "base_uri": "https://localhost:8080/",
          "height": 175
        },
        "outputId": "3eb3e305-a686-4342-f5af-2556460c6cf0"
      },
      "execution_count": null,
      "outputs": [
        {
          "output_type": "error",
          "ename": "AttributeError",
          "evalue": "ignored",
          "traceback": [
            "\u001b[0;31m---------------------------------------------------------------------------\u001b[0m",
            "\u001b[0;31mAttributeError\u001b[0m                            Traceback (most recent call last)",
            "\u001b[0;32m<ipython-input-93-2d16c16e457f>\u001b[0m in \u001b[0;36m<cell line: 1>\u001b[0;34m()\u001b[0m\n\u001b[0;32m----> 1\u001b[0;31m \u001b[0mfulano\u001b[0m\u001b[0;34m.\u001b[0m\u001b[0mappend\u001b[0m\u001b[0;34m(\u001b[0m\u001b[0;36m343\u001b[0m\u001b[0;34m)\u001b[0m\u001b[0;34m\u001b[0m\u001b[0;34m\u001b[0m\u001b[0m\n\u001b[0m",
            "\u001b[0;31mAttributeError\u001b[0m: 'tuple' object has no attribute 'append'"
          ]
        }
      ]
    },
    {
      "cell_type": "code",
      "source": [
        "# na tupla, a posição é importante"
      ],
      "metadata": {
        "id": "gTb78uO9DLCp"
      },
      "execution_count": null,
      "outputs": []
    },
    {
      "cell_type": "code",
      "source": [
        "fulano[1]"
      ],
      "metadata": {
        "id": "BOj-4J9jD3fF",
        "colab": {
          "base_uri": "https://localhost:8080/"
        },
        "outputId": "b0a73c6f-3920-4930-9cca-117b22006161"
      },
      "execution_count": null,
      "outputs": [
        {
          "output_type": "execute_result",
          "data": {
            "text/plain": [
              "23"
            ]
          },
          "metadata": {},
          "execution_count": 95
        }
      ]
    },
    {
      "cell_type": "code",
      "source": [
        "fulano[1] = 25"
      ],
      "metadata": {
        "id": "95vVokTZD5Zk",
        "colab": {
          "base_uri": "https://localhost:8080/",
          "height": 175
        },
        "outputId": "b4fa387f-c012-4076-dfde-ae483b26c6b7"
      },
      "execution_count": null,
      "outputs": [
        {
          "output_type": "error",
          "ename": "TypeError",
          "evalue": "ignored",
          "traceback": [
            "\u001b[0;31m---------------------------------------------------------------------------\u001b[0m",
            "\u001b[0;31mTypeError\u001b[0m                                 Traceback (most recent call last)",
            "\u001b[0;32m<ipython-input-96-7ebe0cccc238>\u001b[0m in \u001b[0;36m<cell line: 1>\u001b[0;34m()\u001b[0m\n\u001b[0;32m----> 1\u001b[0;31m \u001b[0mfulano\u001b[0m\u001b[0;34m[\u001b[0m\u001b[0;36m1\u001b[0m\u001b[0;34m]\u001b[0m \u001b[0;34m=\u001b[0m \u001b[0;36m25\u001b[0m\u001b[0;34m\u001b[0m\u001b[0;34m\u001b[0m\u001b[0m\n\u001b[0m",
            "\u001b[0;31mTypeError\u001b[0m: 'tuple' object does not support item assignment"
          ]
        }
      ]
    },
    {
      "cell_type": "code",
      "source": [
        "def depositar(conta):\n",
        "  novo_saldo = conta[2] + 100\n",
        "  codigo = conta[0]\n",
        "  idade = conta[1]\n",
        "  return (codigo, idade, novo_saldo)"
      ],
      "metadata": {
        "id": "9xWEeSePD9TP"
      },
      "execution_count": null,
      "outputs": []
    },
    {
      "cell_type": "code",
      "source": [
        "depositar(fulano)"
      ],
      "metadata": {
        "id": "BMvyXymkEKJ9",
        "colab": {
          "base_uri": "https://localhost:8080/"
        },
        "outputId": "427c25ad-ff84-4627-f31b-556d690e54e0"
      },
      "execution_count": null,
      "outputs": [
        {
          "output_type": "execute_result",
          "data": {
            "text/plain": [
              "('fulano', 23, 300)"
            ]
          },
          "metadata": {},
          "execution_count": 98
        }
      ]
    },
    {
      "cell_type": "code",
      "source": [
        "fulano"
      ],
      "metadata": {
        "id": "Pak4jvJYEWeo",
        "colab": {
          "base_uri": "https://localhost:8080/"
        },
        "outputId": "d9b312a6-053e-4174-e46b-2f3bec64523c"
      },
      "execution_count": null,
      "outputs": [
        {
          "output_type": "execute_result",
          "data": {
            "text/plain": [
              "('fulano', 23, 200)"
            ]
          },
          "metadata": {},
          "execution_count": 99
        }
      ]
    },
    {
      "cell_type": "code",
      "source": [
        "fulano = depositar(fulano)\n",
        "fulano"
      ],
      "metadata": {
        "id": "v8szO_o4Eiy-",
        "colab": {
          "base_uri": "https://localhost:8080/"
        },
        "outputId": "9169b2e2-511e-481d-94b2-d6f1e0d5d925"
      },
      "execution_count": null,
      "outputs": [
        {
          "output_type": "execute_result",
          "data": {
            "text/plain": [
              "('fulano', 23, 300)"
            ]
          },
          "metadata": {},
          "execution_count": 100
        }
      ]
    },
    {
      "cell_type": "code",
      "source": [
        "# se a posição indica algo específico, provavelmente utilizaremos tupla\n",
        "# se a posição não tem tipo específico, provavelmente utilizaremos lista"
      ],
      "metadata": {
        "id": "Gmjw-F_OEmo2"
      },
      "execution_count": null,
      "outputs": []
    },
    {
      "cell_type": "code",
      "source": [
        "usuarios = [fulano, beltrano]\n",
        "usuarios"
      ],
      "metadata": {
        "id": "pseu4tFnTKI5",
        "colab": {
          "base_uri": "https://localhost:8080/"
        },
        "outputId": "66c5ffef-3292-4f98-cfc0-1a9ea7dae87b"
      },
      "execution_count": null,
      "outputs": [
        {
          "output_type": "execute_result",
          "data": {
            "text/plain": [
              "[('fulano', 23, 300), ('beltrano', 22, 500)]"
            ]
          },
          "metadata": {},
          "execution_count": 102
        }
      ]
    },
    {
      "cell_type": "code",
      "source": [
        "usuarios.append(('ciclano', 39, 1979))\n",
        "usuarios"
      ],
      "metadata": {
        "id": "Og6vDym8TTlt",
        "colab": {
          "base_uri": "https://localhost:8080/"
        },
        "outputId": "dbf8ab8e-22ea-4fe7-aa6d-8d83ccba905b"
      },
      "execution_count": null,
      "outputs": [
        {
          "output_type": "execute_result",
          "data": {
            "text/plain": [
              "[('fulano', 23, 300), ('beltrano', 22, 500), ('ciclano', 39, 1979)]"
            ]
          },
          "metadata": {},
          "execution_count": 103
        }
      ]
    },
    {
      "cell_type": "code",
      "source": [
        "usuarios[0]"
      ],
      "metadata": {
        "id": "qt-dMAtFTbGJ",
        "colab": {
          "base_uri": "https://localhost:8080/"
        },
        "outputId": "026a276a-457b-45bd-a604-3ece938a2379"
      },
      "execution_count": null,
      "outputs": [
        {
          "output_type": "execute_result",
          "data": {
            "text/plain": [
              "('fulano', 23, 300)"
            ]
          },
          "metadata": {},
          "execution_count": 104
        }
      ]
    },
    {
      "cell_type": "code",
      "source": [
        "usuarios[0][0]"
      ],
      "metadata": {
        "id": "MSOdtWTkU3cs",
        "colab": {
          "base_uri": "https://localhost:8080/",
          "height": 35
        },
        "outputId": "ead96ad1-6c1e-418b-feb5-78c5df3cdf11"
      },
      "execution_count": null,
      "outputs": [
        {
          "output_type": "execute_result",
          "data": {
            "text/plain": [
              "'fulano'"
            ],
            "application/vnd.google.colaboratory.intrinsic+json": {
              "type": "string"
            }
          },
          "metadata": {},
          "execution_count": 105
        }
      ]
    },
    {
      "cell_type": "code",
      "source": [
        "usuarios[0][0] = 'pix da silva'"
      ],
      "metadata": {
        "id": "5icSaJMGVB1H",
        "colab": {
          "base_uri": "https://localhost:8080/",
          "height": 175
        },
        "outputId": "93067847-f36f-4a48-cbf3-847b11f3fb09"
      },
      "execution_count": null,
      "outputs": [
        {
          "output_type": "error",
          "ename": "TypeError",
          "evalue": "ignored",
          "traceback": [
            "\u001b[0;31m---------------------------------------------------------------------------\u001b[0m",
            "\u001b[0;31mTypeError\u001b[0m                                 Traceback (most recent call last)",
            "\u001b[0;32m<ipython-input-106-2d692df22363>\u001b[0m in \u001b[0;36m<cell line: 1>\u001b[0;34m()\u001b[0m\n\u001b[0;32m----> 1\u001b[0;31m \u001b[0musuarios\u001b[0m\u001b[0;34m[\u001b[0m\u001b[0;36m0\u001b[0m\u001b[0;34m]\u001b[0m\u001b[0;34m[\u001b[0m\u001b[0;36m0\u001b[0m\u001b[0;34m]\u001b[0m \u001b[0;34m=\u001b[0m \u001b[0;34m'pix da silva'\u001b[0m\u001b[0;34m\u001b[0m\u001b[0;34m\u001b[0m\u001b[0m\n\u001b[0m",
            "\u001b[0;31mTypeError\u001b[0m: 'tuple' object does not support item assignment"
          ]
        }
      ]
    },
    {
      "cell_type": "code",
      "source": [
        "conta1 = ContaCorrente(15)\n",
        "conta1.depositar(500)\n",
        "\n",
        "conta2 = ContaCorrente(434)\n",
        "conta2.depositar(1000)\n",
        "\n",
        "contas = (conta1, conta2)\n",
        "contas"
      ],
      "metadata": {
        "id": "lyMKzmjcVC9b",
        "colab": {
          "base_uri": "https://localhost:8080/"
        },
        "outputId": "31711628-b119-4d72-852a-c5f1fc6248a6"
      },
      "execution_count": null,
      "outputs": [
        {
          "output_type": "execute_result",
          "data": {
            "text/plain": [
              "(<__main__.ContaCorrente at 0x7c8f8fcebd90>,\n",
              " <__main__.ContaCorrente at 0x7c8f8fce9f30>)"
            ]
          },
          "metadata": {},
          "execution_count": 107
        }
      ]
    },
    {
      "cell_type": "code",
      "source": [
        "for conta in contas:\n",
        "  print(conta)"
      ],
      "metadata": {
        "id": "fyB_9dPRVbj6",
        "colab": {
          "base_uri": "https://localhost:8080/"
        },
        "outputId": "5e37d7bd-0e71-47eb-dc67-dc2bf2385520"
      },
      "execution_count": null,
      "outputs": [
        {
          "output_type": "stream",
          "name": "stdout",
          "text": [
            "código 15, saldo 500\n",
            "código 434, saldo 1000\n"
          ]
        }
      ]
    },
    {
      "cell_type": "code",
      "source": [
        "contas.append(425)"
      ],
      "metadata": {
        "id": "_Z_RpG0nVm0h",
        "colab": {
          "base_uri": "https://localhost:8080/",
          "height": 175
        },
        "outputId": "f392e7c5-0fc8-447a-df8c-48ae9f3e27f2"
      },
      "execution_count": null,
      "outputs": [
        {
          "output_type": "error",
          "ename": "AttributeError",
          "evalue": "ignored",
          "traceback": [
            "\u001b[0;31m---------------------------------------------------------------------------\u001b[0m",
            "\u001b[0;31mAttributeError\u001b[0m                            Traceback (most recent call last)",
            "\u001b[0;32m<ipython-input-109-d4d312353dc3>\u001b[0m in \u001b[0;36m<cell line: 1>\u001b[0;34m()\u001b[0m\n\u001b[0;32m----> 1\u001b[0;31m \u001b[0mcontas\u001b[0m\u001b[0;34m.\u001b[0m\u001b[0mappend\u001b[0m\u001b[0;34m(\u001b[0m\u001b[0;36m425\u001b[0m\u001b[0;34m)\u001b[0m\u001b[0;34m\u001b[0m\u001b[0;34m\u001b[0m\u001b[0m\n\u001b[0m",
            "\u001b[0;31mAttributeError\u001b[0m: 'tuple' object has no attribute 'append'"
          ]
        }
      ]
    },
    {
      "cell_type": "code",
      "source": [
        "contas[0]"
      ],
      "metadata": {
        "id": "9-yuRuy-Vpx8",
        "colab": {
          "base_uri": "https://localhost:8080/"
        },
        "outputId": "6244fa41-1aae-4f93-ac12-63293adc6564"
      },
      "execution_count": null,
      "outputs": [
        {
          "output_type": "execute_result",
          "data": {
            "text/plain": [
              "<__main__.ContaCorrente at 0x7c8f8fcebd90>"
            ]
          },
          "metadata": {},
          "execution_count": 110
        }
      ]
    },
    {
      "cell_type": "code",
      "source": [
        "print(contas[0])"
      ],
      "metadata": {
        "id": "z6wWE9MJVufn",
        "colab": {
          "base_uri": "https://localhost:8080/"
        },
        "outputId": "51d55fa1-55f7-4a81-ecda-423eb384bc2b"
      },
      "execution_count": null,
      "outputs": [
        {
          "output_type": "stream",
          "name": "stdout",
          "text": [
            "código 15, saldo 500\n"
          ]
        }
      ]
    },
    {
      "cell_type": "code",
      "source": [
        "contas[0].depositar(300)\n",
        "\n",
        "for conta in contas:\n",
        "  print(conta)"
      ],
      "metadata": {
        "id": "SFaACk6GVv9L",
        "colab": {
          "base_uri": "https://localhost:8080/"
        },
        "outputId": "3f2fa064-3f61-4522-ba20-280f64fdc74f"
      },
      "execution_count": null,
      "outputs": [
        {
          "output_type": "stream",
          "name": "stdout",
          "text": [
            "código 15, saldo 800\n",
            "código 434, saldo 1000\n"
          ]
        }
      ]
    },
    {
      "cell_type": "code",
      "source": [
        "# valores de objetos alterados\n",
        "# tupla permanece a mesma"
      ],
      "metadata": {
        "id": "z0EEMGq1V3EP"
      },
      "execution_count": null,
      "outputs": []
    },
    {
      "cell_type": "markdown",
      "source": [
        "Bloco 03<br>\n",
        "Polimorfismo e arrays"
      ],
      "metadata": {
        "id": "pBVcxw-gWyxl"
      }
    },
    {
      "cell_type": "code",
      "source": [
        "# herança e polimorfismo"
      ],
      "metadata": {
        "id": "VN9JGND7d2Zq"
      },
      "execution_count": null,
      "outputs": []
    },
    {
      "cell_type": "code",
      "source": [
        "class Conta:\n",
        "  def __init__(self, codigo):\n",
        "    self._codigo = codigo\n",
        "    self._saldo = 0\n",
        "\n",
        "  def depositar(self, valor):\n",
        "    self._saldo += valor\n",
        "\n",
        "  def __str__(self):\n",
        "    return f'código: {self._codigo}, saldo: {self._saldo}'"
      ],
      "metadata": {
        "id": "_vjXYTXDes82"
      },
      "execution_count": null,
      "outputs": []
    },
    {
      "cell_type": "code",
      "source": [
        "print(Conta(88))"
      ],
      "metadata": {
        "id": "11oTLjrcfHbZ",
        "colab": {
          "base_uri": "https://localhost:8080/"
        },
        "outputId": "4c2029ac-6563-4ac2-8e3c-5b5ed5f73d18"
      },
      "execution_count": null,
      "outputs": [
        {
          "output_type": "stream",
          "name": "stdout",
          "text": [
            "código: 88, saldo: 0\n"
          ]
        }
      ]
    },
    {
      "cell_type": "code",
      "source": [
        "class ContaCorrente(Conta):\n",
        "  def passar_o_mes(self):\n",
        "    self._saldo -= 2\n",
        "\n",
        "class ContaPoupanca(Conta):\n",
        "  def passar_o_mes(self):\n",
        "    self._saldo *= 1.01\n",
        "    self._saldo -= 3"
      ],
      "metadata": {
        "id": "yclUjHU8fdMD"
      },
      "execution_count": null,
      "outputs": []
    },
    {
      "cell_type": "code",
      "source": [
        "conta16 = ContaCorrente(16)\n",
        "conta16.depositar(1000)\n",
        "conta16.passar_o_mes()\n",
        "print(conta16)"
      ],
      "metadata": {
        "id": "OYxX4OCrgHGm",
        "colab": {
          "base_uri": "https://localhost:8080/"
        },
        "outputId": "e6640198-9ca9-4e4a-ee66-12fdb529eda4"
      },
      "execution_count": null,
      "outputs": [
        {
          "output_type": "stream",
          "name": "stdout",
          "text": [
            "código: 16, saldo: 998\n"
          ]
        }
      ]
    },
    {
      "cell_type": "code",
      "source": [
        "conta17 = ContaPoupanca(17)\n",
        "conta17.depositar(1000)\n",
        "conta17.passar_o_mes()\n",
        "print(conta17)"
      ],
      "metadata": {
        "id": "Bqu4AIfDhS6r",
        "colab": {
          "base_uri": "https://localhost:8080/"
        },
        "outputId": "bd118ba8-19f8-4e92-8f39-200be89a4e8f"
      },
      "execution_count": null,
      "outputs": [
        {
          "output_type": "stream",
          "name": "stdout",
          "text": [
            "código: 17, saldo: 1007.0\n"
          ]
        }
      ]
    },
    {
      "cell_type": "code",
      "source": [
        "contas = [conta16, conta17]\n",
        "\n",
        "for conta in contas:\n",
        "  conta.passar_o_mes() # duck typing\n",
        "  print(conta)"
      ],
      "metadata": {
        "id": "fEWzAkFjhZ2r",
        "colab": {
          "base_uri": "https://localhost:8080/"
        },
        "outputId": "ee0eec96-8b61-428b-e0cb-30eee6aaa4b6"
      },
      "execution_count": null,
      "outputs": [
        {
          "output_type": "stream",
          "name": "stdout",
          "text": [
            "código: 16, saldo: 996\n",
            "código: 17, saldo: 1014.07\n"
          ]
        }
      ]
    },
    {
      "cell_type": "code",
      "source": [
        "# array, evitaremos usar"
      ],
      "metadata": {
        "id": "rXzh-f0Ahzuw"
      },
      "execution_count": null,
      "outputs": []
    },
    {
      "cell_type": "code",
      "source": [
        "import array as arr\n",
        "\n",
        "arr.array('d', [1, 3.5])"
      ],
      "metadata": {
        "id": "3zf-p1nPkmbW",
        "colab": {
          "base_uri": "https://localhost:8080/"
        },
        "outputId": "5da13e9d-934e-47da-d47a-158843f84934"
      },
      "execution_count": null,
      "outputs": [
        {
          "output_type": "execute_result",
          "data": {
            "text/plain": [
              "array('d', [1.0, 3.5])"
            ]
          },
          "metadata": {},
          "execution_count": 122
        }
      ]
    },
    {
      "cell_type": "code",
      "source": [
        "arr.array('d', [1, 3.5, 'não vai rolar'])"
      ],
      "metadata": {
        "id": "4L8wB_YLkyKP",
        "colab": {
          "base_uri": "https://localhost:8080/",
          "height": 175
        },
        "outputId": "ac5a18bd-3f63-4f78-8006-4eee1143bec9"
      },
      "execution_count": null,
      "outputs": [
        {
          "output_type": "error",
          "ename": "TypeError",
          "evalue": "ignored",
          "traceback": [
            "\u001b[0;31m---------------------------------------------------------------------------\u001b[0m",
            "\u001b[0;31mTypeError\u001b[0m                                 Traceback (most recent call last)",
            "\u001b[0;32m<ipython-input-123-75047083ee6b>\u001b[0m in \u001b[0;36m<cell line: 1>\u001b[0;34m()\u001b[0m\n\u001b[0;32m----> 1\u001b[0;31m \u001b[0marr\u001b[0m\u001b[0;34m.\u001b[0m\u001b[0marray\u001b[0m\u001b[0;34m(\u001b[0m\u001b[0;34m'd'\u001b[0m\u001b[0;34m,\u001b[0m \u001b[0;34m[\u001b[0m\u001b[0;36m1\u001b[0m\u001b[0;34m,\u001b[0m \u001b[0;36m3.5\u001b[0m\u001b[0;34m,\u001b[0m \u001b[0;34m'não vai rolar'\u001b[0m\u001b[0;34m]\u001b[0m\u001b[0;34m)\u001b[0m\u001b[0;34m\u001b[0m\u001b[0;34m\u001b[0m\u001b[0m\n\u001b[0m",
            "\u001b[0;31mTypeError\u001b[0m: must be real number, not str"
          ]
        }
      ]
    },
    {
      "cell_type": "code",
      "source": [
        "# não usamos array nem quando é recomendado\n",
        "# isto é, onde costuma ser importante uma alto desempenho de funções matemáticas\n",
        "# neste caso, é muito mais comum o uso do numpy"
      ],
      "metadata": {
        "id": "lDM10NrAlTCx"
      },
      "execution_count": null,
      "outputs": []
    },
    {
      "cell_type": "code",
      "source": [
        "import numpy as np\n",
        "\n",
        "numeros = np.array([1, 3.5])\n",
        "numeros"
      ],
      "metadata": {
        "id": "z_x-aRRmlhKi",
        "colab": {
          "base_uri": "https://localhost:8080/"
        },
        "outputId": "e72d751d-5592-4a4d-e4c4-67f598ed1a21"
      },
      "execution_count": null,
      "outputs": [
        {
          "output_type": "execute_result",
          "data": {
            "text/plain": [
              "array([1. , 3.5])"
            ]
          },
          "metadata": {},
          "execution_count": 125
        }
      ]
    },
    {
      "cell_type": "code",
      "source": [
        "numeros + 3"
      ],
      "metadata": {
        "id": "bJI8R6Tsli2Y",
        "colab": {
          "base_uri": "https://localhost:8080/"
        },
        "outputId": "c06474bc-17fc-43f0-fad8-b0b74ace1c29"
      },
      "execution_count": null,
      "outputs": [
        {
          "output_type": "execute_result",
          "data": {
            "text/plain": [
              "array([4. , 6.5])"
            ]
          },
          "metadata": {},
          "execution_count": 126
        }
      ]
    },
    {
      "cell_type": "code",
      "source": [
        "# evitamos usar array puro\n",
        "# muito mais comum que quando se busca um desempenho alto na parte matemática\n",
        "# e na utilização de arrays e matrizes\n",
        "# ou seja, se precisamos de trabalho numérico\n",
        "# ir pro mundo do numpy\n",
        "# do que pro mundo de arrays do próprio python"
      ],
      "metadata": {
        "id": "JCnMU9F5l34O"
      },
      "execution_count": null,
      "outputs": []
    },
    {
      "cell_type": "code",
      "source": [
        "# método abstrato"
      ],
      "metadata": {
        "id": "LAR1MfPemaZW"
      },
      "execution_count": null,
      "outputs": []
    },
    {
      "cell_type": "code",
      "source": [
        "class ContaCorrente(Conta):\n",
        "  def passar_o_mes(self):\n",
        "    self._saldo -= 2\n",
        "\n",
        "class ContaPoupanca(Conta):\n",
        "  def passar_o_mes(self):\n",
        "    self._saldo *= 1.01\n",
        "    self._saldo -= 3\n",
        "\n",
        "class ContaInvestimento(Conta):\n",
        "  pass"
      ],
      "metadata": {
        "id": "SGqYZs_Rn2d8"
      },
      "execution_count": null,
      "outputs": []
    },
    {
      "cell_type": "code",
      "source": [
        "ContaInvestimento(754)"
      ],
      "metadata": {
        "id": "XW8RnyjYn64t",
        "colab": {
          "base_uri": "https://localhost:8080/"
        },
        "outputId": "369aba65-e853-4001-d529-561a525ad342"
      },
      "execution_count": null,
      "outputs": [
        {
          "output_type": "execute_result",
          "data": {
            "text/plain": [
              "<__main__.ContaInvestimento at 0x7c8f8fcea500>"
            ]
          },
          "metadata": {},
          "execution_count": 130
        }
      ]
    },
    {
      "cell_type": "code",
      "source": [
        "# gostaria que todos que herdam da classe conta\n",
        "# tivessem o método passar_o_mes"
      ],
      "metadata": {
        "id": "oZP7pUOIn8y2"
      },
      "execution_count": null,
      "outputs": []
    },
    {
      "cell_type": "code",
      "source": [
        "# forçar implementação"
      ],
      "metadata": {
        "id": "IQJGETLTp-tx"
      },
      "execution_count": null,
      "outputs": []
    },
    {
      "cell_type": "code",
      "source": [
        "from abc import ABCMeta, abstractmethod\n",
        "\n",
        "class Conta(metaclass=ABCMeta):\n",
        "  def __init__(self, codigo):\n",
        "    self._codigo = codigo\n",
        "    self._saldo = 0\n",
        "\n",
        "  def depositar(self, valor):\n",
        "    self._saldo += valor\n",
        "\n",
        "  @abstractmethod\n",
        "  def passar_o_mes(self):\n",
        "    pass\n",
        "\n",
        "  def __str__(self):\n",
        "    return f'código: {self._codigo}, saldo: {self._saldo}'"
      ],
      "metadata": {
        "id": "9GczfGHzoWsZ"
      },
      "execution_count": null,
      "outputs": []
    },
    {
      "cell_type": "code",
      "source": [
        "class ContaCorrente(Conta):\n",
        "  def passar_o_mes(self):\n",
        "    self._saldo -= 2\n",
        "\n",
        "class ContaPoupanca(Conta):\n",
        "  def passar_o_mes(self):\n",
        "    self._saldo *= 1.01\n",
        "    self._saldo -= 3\n",
        "\n",
        "class ContaInvestimento(Conta):\n",
        "  pass"
      ],
      "metadata": {
        "id": "039cR3eEoZfB"
      },
      "execution_count": null,
      "outputs": []
    },
    {
      "cell_type": "code",
      "source": [
        "print(Conta(0))"
      ],
      "metadata": {
        "id": "k4LM_Beuojyw",
        "colab": {
          "base_uri": "https://localhost:8080/",
          "height": 175
        },
        "outputId": "42c2053f-0e23-48de-ed0d-8300b8ced12d"
      },
      "execution_count": null,
      "outputs": [
        {
          "output_type": "error",
          "ename": "TypeError",
          "evalue": "ignored",
          "traceback": [
            "\u001b[0;31m---------------------------------------------------------------------------\u001b[0m",
            "\u001b[0;31mTypeError\u001b[0m                                 Traceback (most recent call last)",
            "\u001b[0;32m<ipython-input-135-07a518b8385b>\u001b[0m in \u001b[0;36m<cell line: 1>\u001b[0;34m()\u001b[0m\n\u001b[0;32m----> 1\u001b[0;31m \u001b[0mprint\u001b[0m\u001b[0;34m(\u001b[0m\u001b[0mConta\u001b[0m\u001b[0;34m(\u001b[0m\u001b[0;36m0\u001b[0m\u001b[0;34m)\u001b[0m\u001b[0;34m)\u001b[0m\u001b[0;34m\u001b[0m\u001b[0;34m\u001b[0m\u001b[0m\n\u001b[0m",
            "\u001b[0;31mTypeError\u001b[0m: Can't instantiate abstract class Conta with abstract method passar_o_mes"
          ]
        }
      ]
    },
    {
      "cell_type": "code",
      "source": [
        "ContaInvestimento(0)"
      ],
      "metadata": {
        "id": "1sw-33vNolmo",
        "colab": {
          "base_uri": "https://localhost:8080/",
          "height": 175
        },
        "outputId": "612f37d9-c191-463e-d4dc-add2722a7db5"
      },
      "execution_count": null,
      "outputs": [
        {
          "output_type": "error",
          "ename": "TypeError",
          "evalue": "ignored",
          "traceback": [
            "\u001b[0;31m---------------------------------------------------------------------------\u001b[0m",
            "\u001b[0;31mTypeError\u001b[0m                                 Traceback (most recent call last)",
            "\u001b[0;32m<ipython-input-136-cef6d537c740>\u001b[0m in \u001b[0;36m<cell line: 1>\u001b[0;34m()\u001b[0m\n\u001b[0;32m----> 1\u001b[0;31m \u001b[0mContaInvestimento\u001b[0m\u001b[0;34m(\u001b[0m\u001b[0;36m0\u001b[0m\u001b[0;34m)\u001b[0m\u001b[0;34m\u001b[0m\u001b[0;34m\u001b[0m\u001b[0m\n\u001b[0m",
            "\u001b[0;31mTypeError\u001b[0m: Can't instantiate abstract class ContaInvestimento with abstract method passar_o_mes"
          ]
        }
      ]
    },
    {
      "cell_type": "code",
      "source": [
        "ContaCorrente(0)"
      ],
      "metadata": {
        "id": "qmLXHy54ptzV",
        "colab": {
          "base_uri": "https://localhost:8080/"
        },
        "outputId": "871d315f-8c9a-47e2-da4b-a57d8187d2a0"
      },
      "execution_count": null,
      "outputs": [
        {
          "output_type": "execute_result",
          "data": {
            "text/plain": [
              "<__main__.ContaCorrente at 0x7c8f8fce9ed0>"
            ]
          },
          "metadata": {},
          "execution_count": 137
        }
      ]
    },
    {
      "cell_type": "code",
      "source": [
        "ContaPoupanca(0)"
      ],
      "metadata": {
        "id": "8vxtuL50pwcG",
        "colab": {
          "base_uri": "https://localhost:8080/"
        },
        "outputId": "c145d4dc-8f9c-4765-f781-01f9893703be"
      },
      "execution_count": null,
      "outputs": [
        {
          "output_type": "execute_result",
          "data": {
            "text/plain": [
              "<__main__.ContaPoupanca at 0x7c8f8fcead70>"
            ]
          },
          "metadata": {},
          "execution_count": 138
        }
      ]
    },
    {
      "cell_type": "markdown",
      "source": [
        "Bloco 04<br>\n",
        "Igualdade"
      ],
      "metadata": {
        "id": "72B-ILcVr55y"
      }
    },
    {
      "cell_type": "code",
      "source": [
        "class ContaSalario:\n",
        "  def __init__(self, codigo):\n",
        "    self._codigo = codigo\n",
        "    self._saldo = 0\n",
        "\n",
        "  def depositar(self, valor):\n",
        "    self._saldo += valor\n",
        "\n",
        "  def __str__(self):\n",
        "    return f'código: {self._codigo}, saldo: {self._saldo}'"
      ],
      "metadata": {
        "id": "S3_7mdnWr74d"
      },
      "execution_count": null,
      "outputs": []
    },
    {
      "cell_type": "code",
      "source": [
        "conta1 = ContaSalario(37)\n",
        "print(conta1)"
      ],
      "metadata": {
        "id": "qaoGRLCYw6kx",
        "colab": {
          "base_uri": "https://localhost:8080/"
        },
        "outputId": "62514fec-ec54-4e25-cb4b-6df64003b91c"
      },
      "execution_count": null,
      "outputs": [
        {
          "output_type": "stream",
          "name": "stdout",
          "text": [
            "código: 37, saldo: 0\n"
          ]
        }
      ]
    },
    {
      "cell_type": "code",
      "source": [
        "conta2 = ContaSalario(37)\n",
        "print(conta2)"
      ],
      "metadata": {
        "id": "8ZH31s1pw9mT",
        "colab": {
          "base_uri": "https://localhost:8080/"
        },
        "outputId": "780ddff5-f1c7-476b-b294-3555f8b32a84"
      },
      "execution_count": null,
      "outputs": [
        {
          "output_type": "stream",
          "name": "stdout",
          "text": [
            "código: 37, saldo: 0\n"
          ]
        }
      ]
    },
    {
      "cell_type": "code",
      "source": [
        "conta1 == conta2"
      ],
      "metadata": {
        "id": "QxifzUIFxEd1",
        "colab": {
          "base_uri": "https://localhost:8080/"
        },
        "outputId": "4e50e6d2-e532-47ae-daeb-f35a2bc95241"
      },
      "execution_count": null,
      "outputs": [
        {
          "output_type": "execute_result",
          "data": {
            "text/plain": [
              "False"
            ]
          },
          "metadata": {},
          "execution_count": 142
        }
      ]
    },
    {
      "cell_type": "code",
      "source": [
        "# por padrão, == diz sim somente se ambos tratam de uma referência ao msm obj"
      ],
      "metadata": {
        "id": "2MNFEbdHxGWa"
      },
      "execution_count": null,
      "outputs": []
    },
    {
      "cell_type": "code",
      "source": [
        "contas = [conta1]\n",
        "conta1 in contas"
      ],
      "metadata": {
        "id": "Er-A78ATxOm_",
        "colab": {
          "base_uri": "https://localhost:8080/"
        },
        "outputId": "9a99c5d2-8c4b-4d07-a6c8-ced7d0b42002"
      },
      "execution_count": null,
      "outputs": [
        {
          "output_type": "execute_result",
          "data": {
            "text/plain": [
              "True"
            ]
          },
          "metadata": {},
          "execution_count": 144
        }
      ]
    },
    {
      "cell_type": "code",
      "source": [
        "conta2 in contas"
      ],
      "metadata": {
        "id": "S6MhSgepxZLA",
        "colab": {
          "base_uri": "https://localhost:8080/"
        },
        "outputId": "39b05d4b-fa57-41b4-fe40-85585a0c275b"
      },
      "execution_count": null,
      "outputs": [
        {
          "output_type": "execute_result",
          "data": {
            "text/plain": [
              "False"
            ]
          },
          "metadata": {},
          "execution_count": 145
        }
      ]
    },
    {
      "cell_type": "code",
      "source": [
        "class ContaSalario:\n",
        "  def __init__(self, codigo):\n",
        "    self._codigo = codigo\n",
        "    self._saldo = 0\n",
        "\n",
        "  def __eq__(self, outro):\n",
        "    return self._codigo == outro._codigo\n",
        "\n",
        "  def depositar(self, valor):\n",
        "    self._saldo += valor\n",
        "\n",
        "  def __str__(self):\n",
        "    return f'código: {self._codigo}, saldo: {self._saldo}'"
      ],
      "metadata": {
        "id": "BW7b7KTyxalo"
      },
      "execution_count": null,
      "outputs": []
    },
    {
      "cell_type": "code",
      "source": [
        "conta1 = ContaSalario(37)\n",
        "print(conta1)"
      ],
      "metadata": {
        "id": "m3D3eZdqxvu7",
        "colab": {
          "base_uri": "https://localhost:8080/"
        },
        "outputId": "4f750ced-fa85-4b39-904b-d9fb442352c0"
      },
      "execution_count": null,
      "outputs": [
        {
          "output_type": "stream",
          "name": "stdout",
          "text": [
            "código: 37, saldo: 0\n"
          ]
        }
      ]
    },
    {
      "cell_type": "code",
      "source": [
        "conta2 = ContaSalario(37)\n",
        "print(conta2)"
      ],
      "metadata": {
        "id": "5UECQw8BxvvE",
        "colab": {
          "base_uri": "https://localhost:8080/"
        },
        "outputId": "b92a7cd8-c661-4ba8-e2f2-a377417c405b"
      },
      "execution_count": null,
      "outputs": [
        {
          "output_type": "stream",
          "name": "stdout",
          "text": [
            "código: 37, saldo: 0\n"
          ]
        }
      ]
    },
    {
      "cell_type": "code",
      "source": [
        "conta1 == conta2"
      ],
      "metadata": {
        "id": "7zs5qmEaxvvE",
        "colab": {
          "base_uri": "https://localhost:8080/"
        },
        "outputId": "792d44f1-e774-49fc-9364-5c2253e05334"
      },
      "execution_count": null,
      "outputs": [
        {
          "output_type": "execute_result",
          "data": {
            "text/plain": [
              "True"
            ]
          },
          "metadata": {},
          "execution_count": 149
        }
      ]
    },
    {
      "cell_type": "code",
      "source": [
        "conta1 != conta2"
      ],
      "metadata": {
        "id": "Up2BI8i0x7AC",
        "colab": {
          "base_uri": "https://localhost:8080/"
        },
        "outputId": "874a47db-347d-4e80-8e93-843c83e80153"
      },
      "execution_count": null,
      "outputs": [
        {
          "output_type": "execute_result",
          "data": {
            "text/plain": [
              "False"
            ]
          },
          "metadata": {},
          "execution_count": 150
        }
      ]
    },
    {
      "cell_type": "code",
      "source": [
        "conta1 in [conta2]"
      ],
      "metadata": {
        "id": "1oZgdZ4zx8wy",
        "colab": {
          "base_uri": "https://localhost:8080/"
        },
        "outputId": "52568a9f-412f-48cd-f3a4-a88953de2844"
      },
      "execution_count": null,
      "outputs": [
        {
          "output_type": "execute_result",
          "data": {
            "text/plain": [
              "True"
            ]
          },
          "metadata": {},
          "execution_count": 151
        }
      ]
    },
    {
      "cell_type": "code",
      "source": [
        "conta2 in [conta1]"
      ],
      "metadata": {
        "id": "GoD0rHH8x_cz",
        "colab": {
          "base_uri": "https://localhost:8080/"
        },
        "outputId": "f41b0767-29d2-46ff-9ce1-fd3d58de568f"
      },
      "execution_count": null,
      "outputs": [
        {
          "output_type": "execute_result",
          "data": {
            "text/plain": [
              "True"
            ]
          },
          "metadata": {},
          "execution_count": 152
        }
      ]
    },
    {
      "cell_type": "code",
      "source": [
        "class ContaSalario:\n",
        "  def __init__(self, codigo):\n",
        "    self._codigo = codigo\n",
        "    self._saldo = 0\n",
        "\n",
        "  def __eq__(self, outro):\n",
        "    return self._codigo == outro._codigo and self._saldo == outro._saldo\n",
        "\n",
        "  def depositar(self, valor):\n",
        "    self._saldo += valor\n",
        "\n",
        "  def __str__(self):\n",
        "    return f'código: {self._codigo}, saldo: {self._saldo}'"
      ],
      "metadata": {
        "id": "G5mdF9C3yAis"
      },
      "execution_count": null,
      "outputs": []
    },
    {
      "cell_type": "code",
      "source": [
        "conta1 = ContaSalario(37)\n",
        "print(conta1)"
      ],
      "metadata": {
        "id": "TJ-xQpzKyUff",
        "colab": {
          "base_uri": "https://localhost:8080/"
        },
        "outputId": "007be531-80ee-444e-f941-bcdb15215490"
      },
      "execution_count": null,
      "outputs": [
        {
          "output_type": "stream",
          "name": "stdout",
          "text": [
            "código: 37, saldo: 0\n"
          ]
        }
      ]
    },
    {
      "cell_type": "code",
      "source": [
        "conta2 = ContaSalario(37)\n",
        "print(conta2)"
      ],
      "metadata": {
        "id": "gTVM92QyyUff",
        "colab": {
          "base_uri": "https://localhost:8080/"
        },
        "outputId": "9bba98f4-291e-4560-a0c4-0828b2eef469"
      },
      "execution_count": null,
      "outputs": [
        {
          "output_type": "stream",
          "name": "stdout",
          "text": [
            "código: 37, saldo: 0\n"
          ]
        }
      ]
    },
    {
      "cell_type": "code",
      "source": [
        "conta1 == conta2"
      ],
      "metadata": {
        "id": "tHXFAgaCyUff",
        "colab": {
          "base_uri": "https://localhost:8080/"
        },
        "outputId": "c0936233-25fc-449d-c1b5-8c77da20abb9"
      },
      "execution_count": null,
      "outputs": [
        {
          "output_type": "execute_result",
          "data": {
            "text/plain": [
              "True"
            ]
          },
          "metadata": {},
          "execution_count": 156
        }
      ]
    },
    {
      "cell_type": "code",
      "source": [
        "conta1 != conta2"
      ],
      "metadata": {
        "id": "m0MBng9jyUfg",
        "colab": {
          "base_uri": "https://localhost:8080/"
        },
        "outputId": "6fdbb937-62b0-48ec-e62a-fe9abc3db485"
      },
      "execution_count": null,
      "outputs": [
        {
          "output_type": "execute_result",
          "data": {
            "text/plain": [
              "False"
            ]
          },
          "metadata": {},
          "execution_count": 157
        }
      ]
    },
    {
      "cell_type": "code",
      "source": [
        "conta1 in [conta2]"
      ],
      "metadata": {
        "id": "9RysSxNyyUfg",
        "colab": {
          "base_uri": "https://localhost:8080/"
        },
        "outputId": "d6dbd53a-1f53-4086-ac0f-4ff5b467516c"
      },
      "execution_count": null,
      "outputs": [
        {
          "output_type": "execute_result",
          "data": {
            "text/plain": [
              "True"
            ]
          },
          "metadata": {},
          "execution_count": 158
        }
      ]
    },
    {
      "cell_type": "code",
      "source": [
        "conta2 in [conta1]"
      ],
      "metadata": {
        "id": "ELVZIxMryUfg",
        "colab": {
          "base_uri": "https://localhost:8080/"
        },
        "outputId": "c3095446-1e40-44a3-c888-f0fc9282c57f"
      },
      "execution_count": null,
      "outputs": [
        {
          "output_type": "execute_result",
          "data": {
            "text/plain": [
              "True"
            ]
          },
          "metadata": {},
          "execution_count": 159
        }
      ]
    },
    {
      "cell_type": "code",
      "source": [
        "conta1.depositar(100)\n",
        "conta1 == conta2"
      ],
      "metadata": {
        "id": "w9vWF1bSyZN-",
        "colab": {
          "base_uri": "https://localhost:8080/"
        },
        "outputId": "30d9ceaf-e61a-479e-de4f-84cfbcf5b859"
      },
      "execution_count": null,
      "outputs": [
        {
          "output_type": "execute_result",
          "data": {
            "text/plain": [
              "False"
            ]
          },
          "metadata": {},
          "execution_count": 160
        }
      ]
    },
    {
      "cell_type": "code",
      "source": [
        "class ContaSalario:\n",
        "  def __init__(self, codigo):\n",
        "    self._codigo = codigo\n",
        "    self._saldo = 0\n",
        "\n",
        "  def __eq__(self, outro):\n",
        "    if type(outro) != ContaSalario:\n",
        "      return False\n",
        "\n",
        "    return self._codigo == outro._codigo and self._saldo == outro._saldo\n",
        "\n",
        "  def depositar(self, valor):\n",
        "    self._saldo += valor\n",
        "\n",
        "  def __str__(self):\n",
        "    return f'código: {self._codigo}, saldo: {self._saldo}'"
      ],
      "metadata": {
        "id": "ylqUAGCDybsL"
      },
      "execution_count": null,
      "outputs": []
    },
    {
      "cell_type": "code",
      "source": [
        "conta1 = ContaSalario(37)\n",
        "print(type(conta1))\n",
        "print(conta1)"
      ],
      "metadata": {
        "id": "MNK02DElyvHa",
        "colab": {
          "base_uri": "https://localhost:8080/"
        },
        "outputId": "dd75ee25-e144-4e19-cef3-8bac3aec24b3"
      },
      "execution_count": null,
      "outputs": [
        {
          "output_type": "stream",
          "name": "stdout",
          "text": [
            "<class '__main__.ContaSalario'>\n",
            "código: 37, saldo: 0\n"
          ]
        }
      ]
    },
    {
      "cell_type": "code",
      "source": [
        "conta2 = ContaCorrente(37)\n",
        "print(type(conta2))\n",
        "print(conta2)"
      ],
      "metadata": {
        "id": "KPKT6yjhy020",
        "colab": {
          "base_uri": "https://localhost:8080/"
        },
        "outputId": "61f36c9f-f990-4b02-84d5-1041142dc023"
      },
      "execution_count": null,
      "outputs": [
        {
          "output_type": "stream",
          "name": "stdout",
          "text": [
            "<class '__main__.ContaCorrente'>\n",
            "código: 37, saldo: 0\n"
          ]
        }
      ]
    },
    {
      "cell_type": "code",
      "source": [
        "conta1 == conta2"
      ],
      "metadata": {
        "id": "O_FUbtS7y61r",
        "colab": {
          "base_uri": "https://localhost:8080/"
        },
        "outputId": "481c22be-ed63-47a7-8e3a-3552b4f42b52"
      },
      "execution_count": null,
      "outputs": [
        {
          "output_type": "execute_result",
          "data": {
            "text/plain": [
              "False"
            ]
          },
          "metadata": {},
          "execution_count": 164
        }
      ]
    },
    {
      "cell_type": "code",
      "source": [
        "isinstance(ContaSalario(37), ContaSalario)"
      ],
      "metadata": {
        "id": "OE79jCUtzkRD",
        "colab": {
          "base_uri": "https://localhost:8080/"
        },
        "outputId": "f1c93064-2423-4daf-c8c2-beeec526f9e9"
      },
      "execution_count": null,
      "outputs": [
        {
          "output_type": "execute_result",
          "data": {
            "text/plain": [
              "True"
            ]
          },
          "metadata": {},
          "execution_count": 165
        }
      ]
    },
    {
      "cell_type": "code",
      "source": [
        "isinstance(ContaCorrente(37), ContaCorrente)"
      ],
      "metadata": {
        "id": "OhBMgbunzo-u",
        "colab": {
          "base_uri": "https://localhost:8080/"
        },
        "outputId": "d092dba6-ed69-45eb-f3e4-72cdf28f7b77"
      },
      "execution_count": null,
      "outputs": [
        {
          "output_type": "execute_result",
          "data": {
            "text/plain": [
              "True"
            ]
          },
          "metadata": {},
          "execution_count": 166
        }
      ]
    },
    {
      "cell_type": "code",
      "source": [
        "class Conta:\n",
        "  pass\n",
        "\n",
        "class ContaCorrente(Conta):\n",
        "  pass\n",
        "\n",
        "class ContaPoupanca(Conta):\n",
        "  pass\n",
        "\n",
        "corrente = ContaCorrente()\n",
        "poupanca = ContaPoupanca()"
      ],
      "metadata": {
        "id": "p10Rn7s1zr6x"
      },
      "execution_count": null,
      "outputs": []
    },
    {
      "cell_type": "code",
      "source": [
        "isinstance(corrente, Conta)"
      ],
      "metadata": {
        "id": "q_rK0w150W_A",
        "colab": {
          "base_uri": "https://localhost:8080/"
        },
        "outputId": "6afbea01-69f8-42f4-9193-843ee7fb9172"
      },
      "execution_count": null,
      "outputs": [
        {
          "output_type": "execute_result",
          "data": {
            "text/plain": [
              "True"
            ]
          },
          "metadata": {},
          "execution_count": 168
        }
      ]
    },
    {
      "cell_type": "code",
      "source": [
        "isinstance(corrente, ContaCorrente)"
      ],
      "metadata": {
        "id": "K4WxB7970fnj",
        "colab": {
          "base_uri": "https://localhost:8080/"
        },
        "outputId": "a63f387a-6096-46a1-a8ac-23825827e403"
      },
      "execution_count": null,
      "outputs": [
        {
          "output_type": "execute_result",
          "data": {
            "text/plain": [
              "True"
            ]
          },
          "metadata": {},
          "execution_count": 169
        }
      ]
    },
    {
      "cell_type": "code",
      "source": [
        "isinstance(poupanca, Conta)"
      ],
      "metadata": {
        "id": "tpA_GDHK0hwN",
        "colab": {
          "base_uri": "https://localhost:8080/"
        },
        "outputId": "900a77c8-ee1c-486f-d284-5d27d7c4525b"
      },
      "execution_count": null,
      "outputs": [
        {
          "output_type": "execute_result",
          "data": {
            "text/plain": [
              "True"
            ]
          },
          "metadata": {},
          "execution_count": 170
        }
      ]
    },
    {
      "cell_type": "code",
      "source": [
        "isinstance(poupanca, ContaPoupanca)"
      ],
      "metadata": {
        "id": "wtA0AB8I0nUT",
        "colab": {
          "base_uri": "https://localhost:8080/"
        },
        "outputId": "c504af1b-9558-4ac4-ece0-0fd5c822a94f"
      },
      "execution_count": null,
      "outputs": [
        {
          "output_type": "execute_result",
          "data": {
            "text/plain": [
              "True"
            ]
          },
          "metadata": {},
          "execution_count": 171
        }
      ]
    },
    {
      "cell_type": "markdown",
      "source": [
        "Bloco 05<br>\n",
        "Outros builtins"
      ],
      "metadata": {
        "id": "LTIwuPKW1oyi"
      }
    },
    {
      "cell_type": "code",
      "source": [
        "idades = [15, 87, 32, 65, 56, 32, 49, 37]\n",
        "\n",
        "for idade in idades:\n",
        "  print(idade)"
      ],
      "metadata": {
        "id": "6JGugrfW1q9i",
        "colab": {
          "base_uri": "https://localhost:8080/"
        },
        "outputId": "f51baef3-8e6b-4611-90d3-fcee98058177"
      },
      "execution_count": null,
      "outputs": [
        {
          "output_type": "stream",
          "name": "stdout",
          "text": [
            "15\n",
            "87\n",
            "32\n",
            "65\n",
            "56\n",
            "32\n",
            "49\n",
            "37\n"
          ]
        }
      ]
    },
    {
      "cell_type": "code",
      "source": [
        "for i in range(len(idades)):\n",
        "  print(i, idades[i])"
      ],
      "metadata": {
        "id": "sJcRL8PJ6e6e",
        "colab": {
          "base_uri": "https://localhost:8080/"
        },
        "outputId": "908eb1ad-5baa-4e76-cfb4-d2f4b0cd9d18"
      },
      "execution_count": null,
      "outputs": [
        {
          "output_type": "stream",
          "name": "stdout",
          "text": [
            "0 15\n",
            "1 87\n",
            "2 32\n",
            "3 65\n",
            "4 56\n",
            "5 32\n",
            "6 49\n",
            "7 37\n"
          ]
        }
      ]
    },
    {
      "cell_type": "code",
      "source": [
        "enumerate(idades) # lazy"
      ],
      "metadata": {
        "id": "ZJHkRspq6rOB",
        "colab": {
          "base_uri": "https://localhost:8080/"
        },
        "outputId": "76d11b02-b8e0-4cba-cb7d-7cfdbf8fd626"
      },
      "execution_count": null,
      "outputs": [
        {
          "output_type": "execute_result",
          "data": {
            "text/plain": [
              "<enumerate at 0x7c8f8c18b880>"
            ]
          },
          "metadata": {},
          "execution_count": 174
        }
      ]
    },
    {
      "cell_type": "code",
      "source": [
        "print(enumerate(idades))"
      ],
      "metadata": {
        "id": "7I5hWvR97-Dc",
        "colab": {
          "base_uri": "https://localhost:8080/"
        },
        "outputId": "8a770741-8231-4871-acc2-402b98fc2459"
      },
      "execution_count": null,
      "outputs": [
        {
          "output_type": "stream",
          "name": "stdout",
          "text": [
            "<enumerate object at 0x7c8f8c194100>\n"
          ]
        }
      ]
    },
    {
      "cell_type": "code",
      "source": [
        "list(enumerate(idades)) # geração forçada de valores"
      ],
      "metadata": {
        "id": "tS8Q6lH18FPX",
        "colab": {
          "base_uri": "https://localhost:8080/"
        },
        "outputId": "fed98584-0301-4610-cb86-bc7cf61fe57b"
      },
      "execution_count": null,
      "outputs": [
        {
          "output_type": "execute_result",
          "data": {
            "text/plain": [
              "[(0, 15), (1, 87), (2, 32), (3, 65), (4, 56), (5, 32), (6, 49), (7, 37)]"
            ]
          },
          "metadata": {},
          "execution_count": 176
        }
      ]
    },
    {
      "cell_type": "code",
      "source": [
        "len(idades)"
      ],
      "metadata": {
        "id": "6JkUU-YI8I7E",
        "colab": {
          "base_uri": "https://localhost:8080/"
        },
        "outputId": "96b5c2b5-0fcb-4f61-ee97-9ea2f846f9c0"
      },
      "execution_count": null,
      "outputs": [
        {
          "output_type": "execute_result",
          "data": {
            "text/plain": [
              "8"
            ]
          },
          "metadata": {},
          "execution_count": 177
        }
      ]
    },
    {
      "cell_type": "code",
      "source": [
        "range(len(idades))"
      ],
      "metadata": {
        "id": "Qgg4SpY48hdz",
        "colab": {
          "base_uri": "https://localhost:8080/"
        },
        "outputId": "4bbb7366-edbd-475c-f658-684f972409cd"
      },
      "execution_count": null,
      "outputs": [
        {
          "output_type": "execute_result",
          "data": {
            "text/plain": [
              "range(0, 8)"
            ]
          },
          "metadata": {},
          "execution_count": 178
        }
      ]
    },
    {
      "cell_type": "code",
      "source": [
        "list(range(len(idades))) # geração forçada de valores"
      ],
      "metadata": {
        "id": "CZf6f6E_8ikD",
        "colab": {
          "base_uri": "https://localhost:8080/"
        },
        "outputId": "b2d010b0-1d90-443a-b25e-0024115e2033"
      },
      "execution_count": null,
      "outputs": [
        {
          "output_type": "execute_result",
          "data": {
            "text/plain": [
              "[0, 1, 2, 3, 4, 5, 6, 7]"
            ]
          },
          "metadata": {},
          "execution_count": 179
        }
      ]
    },
    {
      "cell_type": "code",
      "source": [
        "for valor in enumerate(idades):\n",
        "  print(valor)"
      ],
      "metadata": {
        "id": "CCgQQjM58mGD",
        "colab": {
          "base_uri": "https://localhost:8080/"
        },
        "outputId": "ccab4d5e-d9b8-4b28-a219-bec45cc916db"
      },
      "execution_count": null,
      "outputs": [
        {
          "output_type": "stream",
          "name": "stdout",
          "text": [
            "(0, 15)\n",
            "(1, 87)\n",
            "(2, 32)\n",
            "(3, 65)\n",
            "(4, 56)\n",
            "(5, 32)\n",
            "(6, 49)\n",
            "(7, 37)\n"
          ]
        }
      ]
    },
    {
      "cell_type": "code",
      "source": [
        "# em um for que passa por tuplas, podemos desempacotar as tuplas"
      ],
      "metadata": {
        "id": "ktGjnz9U86pD"
      },
      "execution_count": null,
      "outputs": []
    },
    {
      "cell_type": "code",
      "source": [
        "# tuple unpacking\n",
        "\n",
        "for indice, idade in enumerate(idades):\n",
        "  print(f'índice: {indice}, idade: {idade}')"
      ],
      "metadata": {
        "id": "ciC7LOaS9dIT",
        "colab": {
          "base_uri": "https://localhost:8080/"
        },
        "outputId": "72dc709e-d3b2-4018-9a64-cb26c855074c"
      },
      "execution_count": null,
      "outputs": [
        {
          "output_type": "stream",
          "name": "stdout",
          "text": [
            "índice: 0, idade: 15\n",
            "índice: 1, idade: 87\n",
            "índice: 2, idade: 32\n",
            "índice: 3, idade: 65\n",
            "índice: 4, idade: 56\n",
            "índice: 5, idade: 32\n",
            "índice: 6, idade: 49\n",
            "índice: 7, idade: 37\n"
          ]
        }
      ]
    },
    {
      "cell_type": "code",
      "source": [
        "usuarios = [('guilherme', 37, 1981),('daniela', 31, 1987), ('paulo', 39, 1979)]\n",
        "\n",
        "for usuario in usuarios:\n",
        "  print(usuario)"
      ],
      "metadata": {
        "id": "ft1P9k1V9rKD",
        "colab": {
          "base_uri": "https://localhost:8080/"
        },
        "outputId": "7eb12a55-5b44-4ea7-a2a2-d365e3b0d49a"
      },
      "execution_count": null,
      "outputs": [
        {
          "output_type": "stream",
          "name": "stdout",
          "text": [
            "('guilherme', 37, 1981)\n",
            "('daniela', 31, 1987)\n",
            "('paulo', 39, 1979)\n"
          ]
        }
      ]
    },
    {
      "cell_type": "code",
      "source": [
        "# e se eu não estiver interessado em todas as informações da tupla?\n",
        "\n",
        "for nome, idade, nascimento in usuarios:\n",
        "  print(f'nome: {nome}, idade: {idade}')"
      ],
      "metadata": {
        "id": "zsBsSXjc-i90",
        "colab": {
          "base_uri": "https://localhost:8080/"
        },
        "outputId": "ba4a24eb-2d68-42db-ea76-2ab290f27637"
      },
      "execution_count": null,
      "outputs": [
        {
          "output_type": "stream",
          "name": "stdout",
          "text": [
            "nome: guilherme, idade: 37\n",
            "nome: daniela, idade: 31\n",
            "nome: paulo, idade: 39\n"
          ]
        }
      ]
    },
    {
      "cell_type": "code",
      "source": [
        "# _ == não estou nem aí\n",
        "\n",
        "for nome, idade, _ in usuarios:\n",
        "  print(f'nome: {nome}, idade: {idade}')"
      ],
      "metadata": {
        "id": "_p9CK9nN-ygt",
        "colab": {
          "base_uri": "https://localhost:8080/"
        },
        "outputId": "729310fb-8235-4fdc-f724-aa9fffbbd7a4"
      },
      "execution_count": null,
      "outputs": [
        {
          "output_type": "stream",
          "name": "stdout",
          "text": [
            "nome: guilherme, idade: 37\n",
            "nome: daniela, idade: 31\n",
            "nome: paulo, idade: 39\n"
          ]
        }
      ]
    },
    {
      "cell_type": "code",
      "source": [
        "# _ == não estou nem aí\n",
        "\n",
        "for nome, _, _ in usuarios:\n",
        "  print(f'nome: {nome}')"
      ],
      "metadata": {
        "id": "AGJ26Zmx_Cxy",
        "colab": {
          "base_uri": "https://localhost:8080/"
        },
        "outputId": "364c08d0-a16e-4c7d-a6ea-bd76568ef615"
      },
      "execution_count": null,
      "outputs": [
        {
          "output_type": "stream",
          "name": "stdout",
          "text": [
            "nome: guilherme\n",
            "nome: daniela\n",
            "nome: paulo\n"
          ]
        }
      ]
    },
    {
      "cell_type": "markdown",
      "source": [
        "Bloco 06<br>\n",
        "Ordem natural"
      ],
      "metadata": {
        "id": "Q74Zs72b_9vH"
      }
    },
    {
      "cell_type": "code",
      "source": [
        "# ordenação básica"
      ],
      "metadata": {
        "id": "t-0u45TM_8cA"
      },
      "execution_count": null,
      "outputs": []
    },
    {
      "cell_type": "code",
      "source": [
        "idades"
      ],
      "metadata": {
        "id": "30McYS_wAJDX",
        "colab": {
          "base_uri": "https://localhost:8080/"
        },
        "outputId": "a9174178-16b4-410a-f111-d28df9391750"
      },
      "execution_count": null,
      "outputs": [
        {
          "output_type": "execute_result",
          "data": {
            "text/plain": [
              "[15, 87, 32, 65, 56, 32, 49, 37]"
            ]
          },
          "metadata": {},
          "execution_count": 188
        }
      ]
    },
    {
      "cell_type": "code",
      "source": [
        "sorted(idades)"
      ],
      "metadata": {
        "id": "mCCLMk61A4ng",
        "colab": {
          "base_uri": "https://localhost:8080/"
        },
        "outputId": "1e2a435b-99a6-48c2-b92b-c97dacce1b15"
      },
      "execution_count": null,
      "outputs": [
        {
          "output_type": "execute_result",
          "data": {
            "text/plain": [
              "[15, 32, 32, 37, 49, 56, 65, 87]"
            ]
          },
          "metadata": {},
          "execution_count": 189
        }
      ]
    },
    {
      "cell_type": "code",
      "source": [
        "15 < 32"
      ],
      "metadata": {
        "id": "7L8kqFDBA6jn",
        "colab": {
          "base_uri": "https://localhost:8080/"
        },
        "outputId": "18595260-152b-429f-8828-29f42ef535da"
      },
      "execution_count": null,
      "outputs": [
        {
          "output_type": "execute_result",
          "data": {
            "text/plain": [
              "True"
            ]
          },
          "metadata": {},
          "execution_count": 190
        }
      ]
    },
    {
      "cell_type": "code",
      "source": [
        "reversed(idades)"
      ],
      "metadata": {
        "id": "Xfv1HdLJA94X",
        "colab": {
          "base_uri": "https://localhost:8080/"
        },
        "outputId": "9a6c181c-b7ce-481e-c068-80040c1674a4"
      },
      "execution_count": null,
      "outputs": [
        {
          "output_type": "execute_result",
          "data": {
            "text/plain": [
              "<list_reverseiterator at 0x7c8f8fce9060>"
            ]
          },
          "metadata": {},
          "execution_count": 191
        }
      ]
    },
    {
      "cell_type": "code",
      "source": [
        "# se devolve um interador e eu quero só mostrar o resultado, list nele\n",
        "\n",
        "list(reversed(idades))"
      ],
      "metadata": {
        "id": "bz5_uKTPA_m3",
        "colab": {
          "base_uri": "https://localhost:8080/"
        },
        "outputId": "06059a9e-9515-4a56-9e67-570d60313fe7"
      },
      "execution_count": null,
      "outputs": [
        {
          "output_type": "execute_result",
          "data": {
            "text/plain": [
              "[37, 49, 32, 56, 65, 32, 87, 15]"
            ]
          },
          "metadata": {},
          "execution_count": 192
        }
      ]
    },
    {
      "cell_type": "code",
      "source": [
        "sorted(idades, reverse=True)"
      ],
      "metadata": {
        "id": "NVJUY6r9BKjH",
        "colab": {
          "base_uri": "https://localhost:8080/"
        },
        "outputId": "f5c93f08-d9a4-4008-ea96-c166438f5c24"
      },
      "execution_count": null,
      "outputs": [
        {
          "output_type": "execute_result",
          "data": {
            "text/plain": [
              "[87, 65, 56, 49, 37, 32, 32, 15]"
            ]
          },
          "metadata": {},
          "execution_count": 193
        }
      ]
    },
    {
      "cell_type": "code",
      "source": [
        "list(reversed(sorted(idades)))"
      ],
      "metadata": {
        "id": "H9P-NQuRBhOX",
        "colab": {
          "base_uri": "https://localhost:8080/"
        },
        "outputId": "d451e83b-2852-4c2b-adc7-fbd06f3d8ab4"
      },
      "execution_count": null,
      "outputs": [
        {
          "output_type": "execute_result",
          "data": {
            "text/plain": [
              "[87, 65, 56, 49, 37, 32, 32, 15]"
            ]
          },
          "metadata": {},
          "execution_count": 194
        }
      ]
    },
    {
      "cell_type": "code",
      "source": [
        "idades"
      ],
      "metadata": {
        "id": "qSabvevdB2Iu",
        "colab": {
          "base_uri": "https://localhost:8080/"
        },
        "outputId": "153c3628-ef14-445c-83e8-4149480d9316"
      },
      "execution_count": null,
      "outputs": [
        {
          "output_type": "execute_result",
          "data": {
            "text/plain": [
              "[15, 87, 32, 65, 56, 32, 49, 37]"
            ]
          },
          "metadata": {},
          "execution_count": 195
        }
      ]
    },
    {
      "cell_type": "code",
      "source": [
        "# ordenar na própria lista, in place\n",
        "\n",
        "idades.sort()"
      ],
      "metadata": {
        "id": "ZSX1a5LeB9P1"
      },
      "execution_count": null,
      "outputs": []
    },
    {
      "cell_type": "code",
      "source": [
        "idades"
      ],
      "metadata": {
        "id": "tBqAvK_PCEcW",
        "colab": {
          "base_uri": "https://localhost:8080/"
        },
        "outputId": "e983d1b0-3e42-4caa-bd1e-f798f7da227b"
      },
      "execution_count": null,
      "outputs": [
        {
          "output_type": "execute_result",
          "data": {
            "text/plain": [
              "[15, 32, 32, 37, 49, 56, 65, 87]"
            ]
          },
          "metadata": {},
          "execution_count": 197
        }
      ]
    },
    {
      "cell_type": "markdown",
      "source": [
        "Bloco 07<br>\n",
        "Ordenação customizada"
      ],
      "metadata": {
        "id": "VIKxRiz-C_JG"
      }
    },
    {
      "cell_type": "code",
      "source": [
        "# ordenação de objetos sem ordem natural"
      ],
      "metadata": {
        "id": "GFsCMgdGDCBy"
      },
      "execution_count": null,
      "outputs": []
    },
    {
      "cell_type": "code",
      "source": [
        "15 < 32"
      ],
      "metadata": {
        "id": "hxtIKH4pDJ6a",
        "colab": {
          "base_uri": "https://localhost:8080/"
        },
        "outputId": "d0d829ba-843e-4af4-b13c-51f898b444e9"
      },
      "execution_count": null,
      "outputs": [
        {
          "output_type": "execute_result",
          "data": {
            "text/plain": [
              "True"
            ]
          },
          "metadata": {},
          "execution_count": 199
        }
      ]
    },
    {
      "cell_type": "code",
      "source": [
        "nomes = ['guilherme', 'daniela', 'paulo']\n",
        "sorted(nomes)"
      ],
      "metadata": {
        "id": "46rY-kBsEEgL",
        "colab": {
          "base_uri": "https://localhost:8080/"
        },
        "outputId": "6e4a2b54-7fad-4130-f2fd-8628b72f1b55"
      },
      "execution_count": null,
      "outputs": [
        {
          "output_type": "execute_result",
          "data": {
            "text/plain": [
              "['daniela', 'guilherme', 'paulo']"
            ]
          },
          "metadata": {},
          "execution_count": 200
        }
      ]
    },
    {
      "cell_type": "code",
      "source": [
        "# maiúsculas e minúsculas\n",
        "\n",
        "teste_ordem_lexicografica = ['A', 'a', 'B', 'b', 'C', 'c']\n",
        "sorted(teste_ordem_lexicografica)"
      ],
      "metadata": {
        "id": "gUPTnzp3EKkR",
        "colab": {
          "base_uri": "https://localhost:8080/"
        },
        "outputId": "e315dcdb-972d-4209-cdaf-e8a0ce7f1097"
      },
      "execution_count": null,
      "outputs": [
        {
          "output_type": "execute_result",
          "data": {
            "text/plain": [
              "['A', 'B', 'C', 'a', 'b', 'c']"
            ]
          },
          "metadata": {},
          "execution_count": 201
        }
      ]
    },
    {
      "cell_type": "code",
      "source": [
        "class ContaSalario:\n",
        "\n",
        "  def __init__(self, codigo):\n",
        "    self._codigo = codigo\n",
        "    self._saldo = 0\n",
        "\n",
        "  def __eq__(self, outro):\n",
        "    if type(outro) != ContaSalario:\n",
        "      return False\n",
        "\n",
        "    return self._codigo == outro._codigo and self._saldo == outro._saldo\n",
        "\n",
        "  def depositar(self, valor):\n",
        "    self._saldo += valor\n",
        "\n",
        "  def __str__(self):\n",
        "    return f'código: {self._codigo}, saldo: {self._saldo}'"
      ],
      "metadata": {
        "id": "AUTmJT1JEg8K"
      },
      "execution_count": null,
      "outputs": []
    },
    {
      "cell_type": "code",
      "source": [
        "conta_a = ContaSalario(17)\n",
        "conta_a.depositar(500)\n",
        "\n",
        "conta_b = ContaSalario(3)\n",
        "conta_b.depositar(1000)\n",
        "\n",
        "conta_c = ContaSalario(133)\n",
        "conta_c.depositar(510)\n",
        "\n",
        "contas = [conta_a, conta_b, conta_c]"
      ],
      "metadata": {
        "id": "seqgRSq0GCL4"
      },
      "execution_count": null,
      "outputs": []
    },
    {
      "cell_type": "code",
      "source": [
        "for conta in contas:\n",
        "  print(conta)"
      ],
      "metadata": {
        "id": "mZ4PF7ffGgBo",
        "colab": {
          "base_uri": "https://localhost:8080/"
        },
        "outputId": "d29b5478-b336-4e22-8a7b-e0717b7b30b0"
      },
      "execution_count": null,
      "outputs": [
        {
          "output_type": "stream",
          "name": "stdout",
          "text": [
            "código: 17, saldo: 500\n",
            "código: 3, saldo: 1000\n",
            "código: 133, saldo: 510\n"
          ]
        }
      ]
    },
    {
      "cell_type": "code",
      "source": [
        "sorted(contas)"
      ],
      "metadata": {
        "id": "D_61Su2yGiwg",
        "colab": {
          "base_uri": "https://localhost:8080/",
          "height": 175
        },
        "outputId": "2373ae35-9593-48f5-cbf6-4a9dd90c305a"
      },
      "execution_count": null,
      "outputs": [
        {
          "output_type": "error",
          "ename": "TypeError",
          "evalue": "ignored",
          "traceback": [
            "\u001b[0;31m---------------------------------------------------------------------------\u001b[0m",
            "\u001b[0;31mTypeError\u001b[0m                                 Traceback (most recent call last)",
            "\u001b[0;32m<ipython-input-205-df7230969aa4>\u001b[0m in \u001b[0;36m<cell line: 1>\u001b[0;34m()\u001b[0m\n\u001b[0;32m----> 1\u001b[0;31m \u001b[0msorted\u001b[0m\u001b[0;34m(\u001b[0m\u001b[0mcontas\u001b[0m\u001b[0;34m)\u001b[0m\u001b[0;34m\u001b[0m\u001b[0;34m\u001b[0m\u001b[0m\n\u001b[0m",
            "\u001b[0;31mTypeError\u001b[0m: '<' not supported between instances of 'ContaSalario' and 'ContaSalario'"
          ]
        }
      ]
    },
    {
      "cell_type": "code",
      "source": [
        "conta_a < conta_b"
      ],
      "metadata": {
        "id": "djflWGNBGk2Q",
        "colab": {
          "base_uri": "https://localhost:8080/",
          "height": 175
        },
        "outputId": "747b7c74-6988-45f8-e383-4183cfedca7c"
      },
      "execution_count": null,
      "outputs": [
        {
          "output_type": "error",
          "ename": "TypeError",
          "evalue": "ignored",
          "traceback": [
            "\u001b[0;31m---------------------------------------------------------------------------\u001b[0m",
            "\u001b[0;31mTypeError\u001b[0m                                 Traceback (most recent call last)",
            "\u001b[0;32m<ipython-input-206-0c479ffeed2c>\u001b[0m in \u001b[0;36m<cell line: 1>\u001b[0;34m()\u001b[0m\n\u001b[0;32m----> 1\u001b[0;31m \u001b[0mconta_a\u001b[0m \u001b[0;34m<\u001b[0m \u001b[0mconta_b\u001b[0m\u001b[0;34m\u001b[0m\u001b[0;34m\u001b[0m\u001b[0m\n\u001b[0m",
            "\u001b[0;31mTypeError\u001b[0m: '<' not supported between instances of 'ContaSalario' and 'ContaSalario'"
          ]
        }
      ]
    },
    {
      "cell_type": "code",
      "source": [
        "def extrai_saldo(conta):\n",
        "  return conta._saldo\n",
        "\n",
        "sorted(contas, key=extrai_saldo)"
      ],
      "metadata": {
        "id": "lc71CmziGphn",
        "colab": {
          "base_uri": "https://localhost:8080/"
        },
        "outputId": "b37fe439-3bfa-432b-a0d0-9dc721f5581f"
      },
      "execution_count": null,
      "outputs": [
        {
          "output_type": "execute_result",
          "data": {
            "text/plain": [
              "[<__main__.ContaSalario at 0x7c8f8c172800>,\n",
              " <__main__.ContaSalario at 0x7c8f8c172260>,\n",
              " <__main__.ContaSalario at 0x7c8f8c1710c0>]"
            ]
          },
          "metadata": {},
          "execution_count": 207
        }
      ]
    },
    {
      "cell_type": "code",
      "source": [
        "# acessando atributo privado diretamente 👎\n",
        "\n",
        "for conta in sorted(contas, key=extrai_saldo):\n",
        "  print(conta)"
      ],
      "metadata": {
        "id": "tSj3C2pkHQhY",
        "colab": {
          "base_uri": "https://localhost:8080/"
        },
        "outputId": "3d7afa07-85e4-4f22-8dea-ea7320d6a139"
      },
      "execution_count": null,
      "outputs": [
        {
          "output_type": "stream",
          "name": "stdout",
          "text": [
            "código: 17, saldo: 500\n",
            "código: 133, saldo: 510\n",
            "código: 3, saldo: 1000\n"
          ]
        }
      ]
    },
    {
      "cell_type": "code",
      "source": [
        "from operator import attrgetter\n",
        "\n",
        "for conta in sorted(contas, key=attrgetter('_saldo')):\n",
        "  print(conta)"
      ],
      "metadata": {
        "id": "Hsr2ilq7HVnf",
        "colab": {
          "base_uri": "https://localhost:8080/"
        },
        "outputId": "8b858ca8-434c-4eea-ee27-49c6ab86150c"
      },
      "execution_count": null,
      "outputs": [
        {
          "output_type": "stream",
          "name": "stdout",
          "text": [
            "código: 17, saldo: 500\n",
            "código: 133, saldo: 510\n",
            "código: 3, saldo: 1000\n"
          ]
        }
      ]
    },
    {
      "cell_type": "code",
      "source": [
        "for conta in sorted(contas, key=attrgetter('_codigo')):\n",
        "  print(conta)"
      ],
      "metadata": {
        "id": "VDSQY-hNJ-Ci",
        "colab": {
          "base_uri": "https://localhost:8080/"
        },
        "outputId": "749c2958-c7b6-41cb-eed6-e92b1ae41f5f"
      },
      "execution_count": null,
      "outputs": [
        {
          "output_type": "stream",
          "name": "stdout",
          "text": [
            "código: 3, saldo: 1000\n",
            "código: 17, saldo: 500\n",
            "código: 133, saldo: 510\n"
          ]
        }
      ]
    },
    {
      "cell_type": "code",
      "source": [
        "# implementando o __lt__"
      ],
      "metadata": {
        "id": "4fs9elm2J_gv"
      },
      "execution_count": null,
      "outputs": []
    },
    {
      "cell_type": "code",
      "source": [
        "# mantendo o encapsulamento"
      ],
      "metadata": {
        "id": "8zdwJlsiKoss"
      },
      "execution_count": null,
      "outputs": []
    },
    {
      "cell_type": "code",
      "source": [
        "conta_a < conta_b"
      ],
      "metadata": {
        "id": "YxS8CHqzKqLs",
        "colab": {
          "base_uri": "https://localhost:8080/",
          "height": 175
        },
        "outputId": "a92fbd25-351a-4d60-abf3-d04cfb777555"
      },
      "execution_count": null,
      "outputs": [
        {
          "output_type": "error",
          "ename": "TypeError",
          "evalue": "ignored",
          "traceback": [
            "\u001b[0;31m---------------------------------------------------------------------------\u001b[0m",
            "\u001b[0;31mTypeError\u001b[0m                                 Traceback (most recent call last)",
            "\u001b[0;32m<ipython-input-213-0c479ffeed2c>\u001b[0m in \u001b[0;36m<cell line: 1>\u001b[0;34m()\u001b[0m\n\u001b[0;32m----> 1\u001b[0;31m \u001b[0mconta_a\u001b[0m \u001b[0;34m<\u001b[0m \u001b[0mconta_b\u001b[0m\u001b[0;34m\u001b[0m\u001b[0;34m\u001b[0m\u001b[0m\n\u001b[0m",
            "\u001b[0;31mTypeError\u001b[0m: '<' not supported between instances of 'ContaSalario' and 'ContaSalario'"
          ]
        }
      ]
    },
    {
      "cell_type": "code",
      "source": [
        "class ContaSalario:\n",
        "\n",
        "  def __init__(self, codigo):\n",
        "    self._codigo = codigo\n",
        "    self._saldo = 0\n",
        "\n",
        "  def __eq__(self, outro):\n",
        "    if type(outro) != ContaSalario:\n",
        "      return False\n",
        "\n",
        "    return self._codigo == outro._codigo and self._saldo == outro._saldo\n",
        "\n",
        "  def __lt__(self, outro):\n",
        "    return self._saldo < outro._saldo\n",
        "\n",
        "  def depositar(self, valor):\n",
        "    self._saldo += valor\n",
        "\n",
        "  def __str__(self):\n",
        "    return f'código: {self._codigo}, saldo: {self._saldo}'"
      ],
      "metadata": {
        "id": "imfPQJ_XKxFR"
      },
      "execution_count": null,
      "outputs": []
    },
    {
      "cell_type": "code",
      "source": [
        "conta_a = ContaSalario(17)\n",
        "conta_a.depositar(500)\n",
        "\n",
        "conta_b = ContaSalario(3)\n",
        "conta_b.depositar(1000)\n",
        "\n",
        "conta_c = ContaSalario(133)\n",
        "conta_c.depositar(510)\n",
        "\n",
        "contas = [conta_a, conta_b, conta_c]"
      ],
      "metadata": {
        "id": "bX59rAUuLFm4"
      },
      "execution_count": null,
      "outputs": []
    },
    {
      "cell_type": "code",
      "source": [
        "conta_a < conta_b"
      ],
      "metadata": {
        "id": "yRokWbt7LIEc",
        "colab": {
          "base_uri": "https://localhost:8080/"
        },
        "outputId": "4dd6d0b7-ff18-4da6-d653-2d26cbf07dde"
      },
      "execution_count": null,
      "outputs": [
        {
          "output_type": "execute_result",
          "data": {
            "text/plain": [
              "True"
            ]
          },
          "metadata": {},
          "execution_count": 216
        }
      ]
    },
    {
      "cell_type": "code",
      "source": [
        "# se tem o __lt__, não precisa do __gt__\n",
        "# se tem o __gt__, não precisa do __lt__\n",
        "\n",
        "conta_a > conta_b"
      ],
      "metadata": {
        "id": "kh-sxr1WLJPJ",
        "colab": {
          "base_uri": "https://localhost:8080/"
        },
        "outputId": "0727b7fd-8054-447c-8007-6550a690adfd"
      },
      "execution_count": null,
      "outputs": [
        {
          "output_type": "execute_result",
          "data": {
            "text/plain": [
              "False"
            ]
          },
          "metadata": {},
          "execution_count": 217
        }
      ]
    },
    {
      "cell_type": "code",
      "source": [
        "# agora que a classe ContaSalario possui uma forma de comparação\n",
        "# podemos utilizar o sorted\n",
        "\n",
        "for conta in sorted(contas):\n",
        "  print(conta)"
      ],
      "metadata": {
        "id": "ckwMcDeGLXk2",
        "colab": {
          "base_uri": "https://localhost:8080/"
        },
        "outputId": "2dad602d-6720-4242-d2f6-ae75434dfeb7"
      },
      "execution_count": null,
      "outputs": [
        {
          "output_type": "stream",
          "name": "stdout",
          "text": [
            "código: 17, saldo: 500\n",
            "código: 133, saldo: 510\n",
            "código: 3, saldo: 1000\n"
          ]
        }
      ]
    },
    {
      "cell_type": "code",
      "source": [
        "for conta in sorted(contas, reverse=True):\n",
        "  print(conta)"
      ],
      "metadata": {
        "id": "PEUIn9NcLx5q",
        "colab": {
          "base_uri": "https://localhost:8080/"
        },
        "outputId": "6cdccf84-ddc2-41d2-9abc-e5ee3e6ebeb8"
      },
      "execution_count": null,
      "outputs": [
        {
          "output_type": "stream",
          "name": "stdout",
          "text": [
            "código: 3, saldo: 1000\n",
            "código: 133, saldo: 510\n",
            "código: 17, saldo: 500\n"
          ]
        }
      ]
    },
    {
      "cell_type": "markdown",
      "source": [
        "Bloco 08<br>\n",
        "Ordenação total"
      ],
      "metadata": {
        "id": "e-FnTJpVNyLy"
      }
    },
    {
      "cell_type": "code",
      "source": [
        "# ordenação completa e functools"
      ],
      "metadata": {
        "id": "1nDGCD1GN1Sr"
      },
      "execution_count": null,
      "outputs": []
    },
    {
      "cell_type": "code",
      "source": [
        "class ContaSalario:\n",
        "\n",
        "  def __init__(self, codigo):\n",
        "    self._codigo = codigo\n",
        "    self._saldo = 0\n",
        "\n",
        "  def __eq__(self, outro):\n",
        "    if type(outro) != ContaSalario:\n",
        "      return False\n",
        "\n",
        "    return self._codigo == outro._codigo and self._saldo == outro._saldo\n",
        "\n",
        "  def __lt__(self, outro):\n",
        "    return self._saldo < outro._saldo\n",
        "\n",
        "  def depositar(self, valor):\n",
        "    self._saldo += valor\n",
        "\n",
        "  def __str__(self):\n",
        "    return f'código: {self._codigo}, saldo: {self._saldo}'"
      ],
      "metadata": {
        "id": "IKwRX2_FORSp"
      },
      "execution_count": null,
      "outputs": []
    },
    {
      "cell_type": "code",
      "source": [
        "conta_a = ContaSalario(1700)\n",
        "conta_a.depositar(500)\n",
        "\n",
        "conta_b = ContaSalario(3)\n",
        "conta_b.depositar(1000)\n",
        "\n",
        "conta_c = ContaSalario(133)\n",
        "conta_c.depositar(500)\n",
        "\n",
        "contas = [conta_a, conta_b, conta_c]"
      ],
      "metadata": {
        "id": "ft7JBaWMORSp"
      },
      "execution_count": null,
      "outputs": []
    },
    {
      "cell_type": "code",
      "source": [
        "from operator import attrgetter\n",
        "\n",
        "for conta in sorted(contas, key=attrgetter('_saldo', '_codigo')):\n",
        "  print(conta)"
      ],
      "metadata": {
        "id": "onyvpyV1OjYM",
        "colab": {
          "base_uri": "https://localhost:8080/"
        },
        "outputId": "ff9ffa20-4c72-4341-e86c-40edd7f35338"
      },
      "execution_count": null,
      "outputs": [
        {
          "output_type": "stream",
          "name": "stdout",
          "text": [
            "código: 133, saldo: 500\n",
            "código: 1700, saldo: 500\n",
            "código: 3, saldo: 1000\n"
          ]
        }
      ]
    },
    {
      "cell_type": "code",
      "source": [
        "conta_a = ContaSalario(1700)\n",
        "conta_a.depositar(500)\n",
        "\n",
        "conta_b = ContaSalario(3)\n",
        "conta_b.depositar(500)\n",
        "\n",
        "conta_c = ContaSalario(133)\n",
        "conta_c.depositar(500)\n",
        "\n",
        "contas = [conta_a, conta_b, conta_c]"
      ],
      "metadata": {
        "id": "dEzFUwukOrtX"
      },
      "execution_count": null,
      "outputs": []
    },
    {
      "cell_type": "code",
      "source": [
        "# solução funcional\n",
        "\n",
        "for conta in sorted(contas, key=attrgetter('_saldo', '_codigo')):\n",
        "  print(conta)"
      ],
      "metadata": {
        "id": "xv7IMDY1OtuA",
        "colab": {
          "base_uri": "https://localhost:8080/"
        },
        "outputId": "1559184d-81f9-4c06-fa85-014924cbda5d"
      },
      "execution_count": null,
      "outputs": [
        {
          "output_type": "stream",
          "name": "stdout",
          "text": [
            "código: 3, saldo: 500\n",
            "código: 133, saldo: 500\n",
            "código: 1700, saldo: 500\n"
          ]
        }
      ]
    },
    {
      "cell_type": "code",
      "source": [
        "# solução orientada a objetos\n",
        "\n",
        "class ContaSalario:\n",
        "\n",
        "  def __init__(self, codigo):\n",
        "    self._codigo = codigo\n",
        "    self._saldo = 0\n",
        "\n",
        "  def __eq__(self, outro):\n",
        "    if type(outro) != ContaSalario:\n",
        "      return False\n",
        "\n",
        "    return self._codigo == outro._codigo and self._saldo == outro._saldo\n",
        "\n",
        "  def __lt__(self, outro):\n",
        "    if self._saldo != outro._saldo:\n",
        "      return self._saldo < outro._saldo\n",
        "\n",
        "    return self._codigo < outro._codigo\n",
        "\n",
        "  def depositar(self, valor):\n",
        "    self._saldo += valor\n",
        "\n",
        "  def __str__(self):\n",
        "    return f'código: {self._codigo}, saldo: {self._saldo}'"
      ],
      "metadata": {
        "id": "VRdYeqy0O6Bg"
      },
      "execution_count": null,
      "outputs": []
    },
    {
      "cell_type": "code",
      "source": [
        "conta_a = ContaSalario(1700)\n",
        "conta_a.depositar(500)\n",
        "\n",
        "conta_b = ContaSalario(3)\n",
        "conta_b.depositar(500)\n",
        "\n",
        "conta_c = ContaSalario(133)\n",
        "conta_c.depositar(500)\n",
        "\n",
        "contas = [conta_a, conta_b, conta_c]"
      ],
      "metadata": {
        "id": "t8wfEAbCPeLY"
      },
      "execution_count": null,
      "outputs": []
    },
    {
      "cell_type": "code",
      "source": [
        "for conta in sorted(contas):\n",
        "  print(conta)"
      ],
      "metadata": {
        "id": "RA249bWBPf-3",
        "colab": {
          "base_uri": "https://localhost:8080/"
        },
        "outputId": "0e5605e9-bce9-40f8-ad51-2f8bc1e354bf"
      },
      "execution_count": null,
      "outputs": [
        {
          "output_type": "stream",
          "name": "stdout",
          "text": [
            "código: 3, saldo: 500\n",
            "código: 133, saldo: 500\n",
            "código: 1700, saldo: 500\n"
          ]
        }
      ]
    },
    {
      "cell_type": "code",
      "source": [
        "conta_a > conta_b"
      ],
      "metadata": {
        "id": "1KsDAbhXP9UD",
        "colab": {
          "base_uri": "https://localhost:8080/"
        },
        "outputId": "51407e6c-9772-46f8-ec0c-db8b4913e747"
      },
      "execution_count": null,
      "outputs": [
        {
          "output_type": "execute_result",
          "data": {
            "text/plain": [
              "True"
            ]
          },
          "metadata": {},
          "execution_count": 229
        }
      ]
    },
    {
      "cell_type": "code",
      "source": [
        "conta_b > conta_c"
      ],
      "metadata": {
        "id": "O6zS6fb2QAwY",
        "colab": {
          "base_uri": "https://localhost:8080/"
        },
        "outputId": "ac6aa927-90d8-42be-8b03-fadddc95cd54"
      },
      "execution_count": null,
      "outputs": [
        {
          "output_type": "execute_result",
          "data": {
            "text/plain": [
              "False"
            ]
          },
          "metadata": {},
          "execution_count": 230
        }
      ]
    },
    {
      "cell_type": "code",
      "source": [
        "conta_c > conta_a"
      ],
      "metadata": {
        "id": "C4SX58h3QDNJ",
        "colab": {
          "base_uri": "https://localhost:8080/"
        },
        "outputId": "96b6b43a-7a34-4f43-b57a-7b4b4e379b9f"
      },
      "execution_count": null,
      "outputs": [
        {
          "output_type": "execute_result",
          "data": {
            "text/plain": [
              "False"
            ]
          },
          "metadata": {},
          "execution_count": 231
        }
      ]
    },
    {
      "cell_type": "code",
      "source": [
        "conta_a <= conta_b"
      ],
      "metadata": {
        "id": "AMdTYBaMQGVZ",
        "colab": {
          "base_uri": "https://localhost:8080/",
          "height": 175
        },
        "outputId": "d3d9eceb-4e51-461c-b672-509cdf8bd69e"
      },
      "execution_count": null,
      "outputs": [
        {
          "output_type": "error",
          "ename": "TypeError",
          "evalue": "ignored",
          "traceback": [
            "\u001b[0;31m---------------------------------------------------------------------------\u001b[0m",
            "\u001b[0;31mTypeError\u001b[0m                                 Traceback (most recent call last)",
            "\u001b[0;32m<ipython-input-232-54a9e4e12b6e>\u001b[0m in \u001b[0;36m<cell line: 1>\u001b[0;34m()\u001b[0m\n\u001b[0;32m----> 1\u001b[0;31m \u001b[0mconta_a\u001b[0m \u001b[0;34m<=\u001b[0m \u001b[0mconta_b\u001b[0m\u001b[0;34m\u001b[0m\u001b[0;34m\u001b[0m\u001b[0m\n\u001b[0m",
            "\u001b[0;31mTypeError\u001b[0m: '<=' not supported between instances of 'ContaSalario' and 'ContaSalario'"
          ]
        }
      ]
    },
    {
      "cell_type": "code",
      "source": [
        "from functools import total_ordering\n",
        "\n",
        "@total_ordering\n",
        "class ContaSalario:\n",
        "\n",
        "  def __init__(self, codigo):\n",
        "    self._codigo = codigo\n",
        "    self._saldo = 0\n",
        "\n",
        "  def __eq__(self, outro):\n",
        "    if type(outro) != ContaSalario:\n",
        "      return False\n",
        "\n",
        "    return self._codigo == outro._codigo and self._saldo == outro._saldo\n",
        "\n",
        "  def __lt__(self, outro):\n",
        "    if self._saldo != outro._saldo:\n",
        "      return self._saldo < outro._saldo\n",
        "\n",
        "    return self._codigo < outro._codigo\n",
        "\n",
        "  def depositar(self, valor):\n",
        "    self._saldo += valor\n",
        "\n",
        "  def __str__(self):\n",
        "    return f'código: {self._codigo}, saldo: {self._saldo}'"
      ],
      "metadata": {
        "id": "IqbW2DjdQJnh"
      },
      "execution_count": null,
      "outputs": []
    },
    {
      "cell_type": "code",
      "source": [
        "conta_a = ContaSalario(1700)\n",
        "conta_a.depositar(500)\n",
        "\n",
        "conta_b = ContaSalario(3)\n",
        "conta_b.depositar(500)\n",
        "\n",
        "conta_c = ContaSalario(133)\n",
        "conta_c.depositar(500)\n",
        "\n",
        "contas = [conta_a, conta_b, conta_c]"
      ],
      "metadata": {
        "id": "n7fjWNEyQ3yV"
      },
      "execution_count": null,
      "outputs": []
    },
    {
      "cell_type": "code",
      "source": [
        "conta_a <= conta_b"
      ],
      "metadata": {
        "id": "mZHnrTKKQ2p_",
        "colab": {
          "base_uri": "https://localhost:8080/"
        },
        "outputId": "9665eeee-7e66-41df-fbf0-2ffba78f81e1"
      },
      "execution_count": null,
      "outputs": [
        {
          "output_type": "execute_result",
          "data": {
            "text/plain": [
              "False"
            ]
          },
          "metadata": {},
          "execution_count": 235
        }
      ]
    },
    {
      "cell_type": "code",
      "source": [
        "conta_b <= conta_c"
      ],
      "metadata": {
        "id": "bldkuAoqQ880",
        "colab": {
          "base_uri": "https://localhost:8080/"
        },
        "outputId": "1122279b-4547-4e17-cc27-2b6472cae11d"
      },
      "execution_count": null,
      "outputs": [
        {
          "output_type": "execute_result",
          "data": {
            "text/plain": [
              "True"
            ]
          },
          "metadata": {},
          "execution_count": 236
        }
      ]
    },
    {
      "cell_type": "code",
      "source": [
        "conta_c <= conta_a"
      ],
      "metadata": {
        "id": "Idv4_MzYQ9zk",
        "colab": {
          "base_uri": "https://localhost:8080/"
        },
        "outputId": "621deb2f-d65e-4dc8-873d-a9f2c62ed6aa"
      },
      "execution_count": null,
      "outputs": [
        {
          "output_type": "execute_result",
          "data": {
            "text/plain": [
              "True"
            ]
          },
          "metadata": {},
          "execution_count": 237
        }
      ]
    },
    {
      "cell_type": "code",
      "source": [
        "conta_a < conta_a"
      ],
      "metadata": {
        "id": "_S6I37j7RATc",
        "colab": {
          "base_uri": "https://localhost:8080/"
        },
        "outputId": "b969f654-3132-4c76-b870-159a654294b0"
      },
      "execution_count": null,
      "outputs": [
        {
          "output_type": "execute_result",
          "data": {
            "text/plain": [
              "False"
            ]
          },
          "metadata": {},
          "execution_count": 238
        }
      ]
    },
    {
      "cell_type": "code",
      "source": [
        "conta_a == conta_a"
      ],
      "metadata": {
        "id": "ENVHnCqDRHf8",
        "colab": {
          "base_uri": "https://localhost:8080/"
        },
        "outputId": "7f357bb7-81ac-4f3e-decc-301e98d64378"
      },
      "execution_count": null,
      "outputs": [
        {
          "output_type": "execute_result",
          "data": {
            "text/plain": [
              "True"
            ]
          },
          "metadata": {},
          "execution_count": 239
        }
      ]
    },
    {
      "cell_type": "code",
      "source": [
        "conta_a <= conta_a"
      ],
      "metadata": {
        "id": "FgeJC02nRImM",
        "colab": {
          "base_uri": "https://localhost:8080/"
        },
        "outputId": "bafd4e76-0e0b-4ccb-df77-25e7650ec91f"
      },
      "execution_count": null,
      "outputs": [
        {
          "output_type": "execute_result",
          "data": {
            "text/plain": [
              "True"
            ]
          },
          "metadata": {},
          "execution_count": 240
        }
      ]
    },
    {
      "cell_type": "code",
      "source": [
        "# total_ordering trás todas as ordenações\n",
        "# baseado apenas em uma ordenação (neste caso, __lt__)\n",
        "# e um critério de igualdade (neste caso, __eq__)"
      ],
      "metadata": {
        "id": "mKM-9AdMROhU"
      },
      "execution_count": null,
      "outputs": []
    },
    {
      "cell_type": "markdown",
      "source": [
        "SEE YOU SPACE COWBOY..."
      ],
      "metadata": {
        "id": "EkcR5Xl2RujQ"
      }
    }
  ]
}