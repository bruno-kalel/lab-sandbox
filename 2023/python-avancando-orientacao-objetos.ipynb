{
  "nbformat": 4,
  "nbformat_minor": 0,
  "metadata": {
    "colab": {
      "provenance": [],
      "authorship_tag": "ABX9TyNQtdRZbhnyTPtkjRlhShl0"
    },
    "kernelspec": {
      "name": "python3",
      "display_name": "Python 3"
    },
    "language_info": {
      "name": "python"
    }
  },
  "cells": [
    {
      "cell_type": "markdown",
      "source": [
        "Curso de<br>\n",
        "Python: avançando na orientação a objetos<br>\n",
        "`https://cursos.alura.com.br/course/python-3-avancando-orientacao-objetos`"
      ],
      "metadata": {
        "id": "QNeBz1Poyslp"
      }
    },
    {
      "cell_type": "markdown",
      "source": [
        "Bloco 01<br>\n",
        "Relembrando classes e objetos"
      ],
      "metadata": {
        "id": "C7sryfybzeKY"
      }
    },
    {
      "cell_type": "code",
      "source": [
        "class Filme:\n",
        "  pass"
      ],
      "metadata": {
        "id": "HvxRHkIFzg2w"
      },
      "execution_count": null,
      "outputs": []
    },
    {
      "cell_type": "code",
      "source": [
        "chinatown = Filme()"
      ],
      "metadata": {
        "id": "mHFp8YjD2w0d"
      },
      "execution_count": null,
      "outputs": []
    },
    {
      "cell_type": "code",
      "source": [
        "print(chinatown)"
      ],
      "metadata": {
        "colab": {
          "base_uri": "https://localhost:8080/"
        },
        "id": "g-qmQ-ZL22fF",
        "outputId": "a8965da9-eff1-4df7-84fe-804bcce5752c"
      },
      "execution_count": null,
      "outputs": [
        {
          "output_type": "stream",
          "name": "stdout",
          "text": [
            "<__main__.Filme object at 0x7ee645404820>\n"
          ]
        }
      ]
    },
    {
      "cell_type": "code",
      "source": [
        "class Filme:\n",
        "  def __init__(self, nome, ano, duracao):\n",
        "    self.nome = nome\n",
        "    self.ano = ano\n",
        "    self.duracao = duracao"
      ],
      "metadata": {
        "id": "UIA7FO-M3FSl"
      },
      "execution_count": null,
      "outputs": []
    },
    {
      "cell_type": "code",
      "source": [
        "chinatown = Filme('chinatown', 1974, 130)"
      ],
      "metadata": {
        "id": "VpO037s43RaN"
      },
      "execution_count": null,
      "outputs": []
    },
    {
      "cell_type": "code",
      "source": [
        "print(chinatown)"
      ],
      "metadata": {
        "colab": {
          "base_uri": "https://localhost:8080/"
        },
        "id": "Duqrhsaj3eMW",
        "outputId": "8fc182b9-5e12-49e4-eb2f-99d40582751b"
      },
      "execution_count": null,
      "outputs": [
        {
          "output_type": "stream",
          "name": "stdout",
          "text": [
            "<__main__.Filme object at 0x7ee6454052a0>\n"
          ]
        }
      ]
    },
    {
      "cell_type": "code",
      "source": [
        "print(chinatown.nome)"
      ],
      "metadata": {
        "colab": {
          "base_uri": "https://localhost:8080/"
        },
        "id": "w4yJhVZw3fsu",
        "outputId": "62ea55f8-da91-4189-82ab-a2941fc5b0d2"
      },
      "execution_count": null,
      "outputs": [
        {
          "output_type": "stream",
          "name": "stdout",
          "text": [
            "chinatown\n"
          ]
        }
      ]
    },
    {
      "cell_type": "code",
      "source": [
        "print(chinatown.ano)"
      ],
      "metadata": {
        "colab": {
          "base_uri": "https://localhost:8080/"
        },
        "id": "VdY15C8Z3iuV",
        "outputId": "08fd7318-c329-42a5-8f46-e693a26559f9"
      },
      "execution_count": null,
      "outputs": [
        {
          "output_type": "stream",
          "name": "stdout",
          "text": [
            "1974\n"
          ]
        }
      ]
    },
    {
      "cell_type": "code",
      "source": [
        "print(chinatown.duracao)"
      ],
      "metadata": {
        "colab": {
          "base_uri": "https://localhost:8080/"
        },
        "id": "HsIV-FWt3jzl",
        "outputId": "06cc8041-973e-4492-f47b-9d7601b49796"
      },
      "execution_count": null,
      "outputs": [
        {
          "output_type": "stream",
          "name": "stdout",
          "text": [
            "130\n"
          ]
        }
      ]
    },
    {
      "cell_type": "code",
      "source": [
        "class Serie:\n",
        "  def __init__(self, nome, ano, temporadas):\n",
        "    self.nome = nome\n",
        "    self.ano = ano\n",
        "    self.temporadas = temporadas"
      ],
      "metadata": {
        "id": "Dnnmo2wB3yQ_"
      },
      "execution_count": null,
      "outputs": []
    },
    {
      "cell_type": "code",
      "source": [
        "atlanta = Serie('atlanta', 2016, 4)"
      ],
      "metadata": {
        "id": "hFVVCF7y395d"
      },
      "execution_count": null,
      "outputs": []
    },
    {
      "cell_type": "code",
      "source": [
        "print(f'nome: {atlanta.nome}\\n'\n",
        "      f'ano: {atlanta.ano}\\n'\n",
        "      f'temporadas: {atlanta.temporadas}')"
      ],
      "metadata": {
        "colab": {
          "base_uri": "https://localhost:8080/"
        },
        "id": "iXU47uvJ4Ly9",
        "outputId": "505f920b-13e0-4be8-a59c-393f6fe0d417"
      },
      "execution_count": null,
      "outputs": [
        {
          "output_type": "stream",
          "name": "stdout",
          "text": [
            "nome: atlanta\n",
            "ano: 2016\n",
            "temporadas: 4\n"
          ]
        }
      ]
    },
    {
      "cell_type": "code",
      "source": [
        "class Filme:\n",
        "  def __init__(self, nome, ano, duracao):\n",
        "    self.nome = nome.title()\n",
        "    self.ano = ano\n",
        "    self.duracao = duracao\n",
        "    self.likes = 0\n",
        "\n",
        "  def dar_like(self):\n",
        "    self.likes += 1"
      ],
      "metadata": {
        "id": "NSumEI635Lis"
      },
      "execution_count": null,
      "outputs": []
    },
    {
      "cell_type": "code",
      "source": [
        "chinatown = Filme('chinatown', 1974, 130)"
      ],
      "metadata": {
        "id": "JowRJLnM7Jwf"
      },
      "execution_count": null,
      "outputs": []
    },
    {
      "cell_type": "code",
      "source": [
        "print(f'nome: {chinatown.nome}\\n'\n",
        "      f'ano: {chinatown.ano}\\n'\n",
        "      f'duracao: {chinatown.duracao}\\n'\n",
        "      f'likes: {chinatown.likes}')"
      ],
      "metadata": {
        "colab": {
          "base_uri": "https://localhost:8080/"
        },
        "id": "UjH20b257OfO",
        "outputId": "a2210f2a-5b01-4e0c-f814-2ba4e1248cb0"
      },
      "execution_count": null,
      "outputs": [
        {
          "output_type": "stream",
          "name": "stdout",
          "text": [
            "nome: Chinatown\n",
            "ano: 1974\n",
            "duracao: 130\n",
            "likes: 0\n"
          ]
        }
      ]
    },
    {
      "cell_type": "code",
      "source": [
        "chinatown.dar_like()"
      ],
      "metadata": {
        "id": "6WmJeXQ08bfP"
      },
      "execution_count": null,
      "outputs": []
    },
    {
      "cell_type": "code",
      "source": [
        "print(chinatown.likes)"
      ],
      "metadata": {
        "colab": {
          "base_uri": "https://localhost:8080/"
        },
        "id": "GTyiyJ8i8djZ",
        "outputId": "94b8174f-68be-455e-8773-63294fc52685"
      },
      "execution_count": null,
      "outputs": [
        {
          "output_type": "stream",
          "name": "stdout",
          "text": [
            "1\n"
          ]
        }
      ]
    },
    {
      "cell_type": "code",
      "source": [
        "class Serie:\n",
        "  def __init__(self, nome, ano, temporadas):\n",
        "    self.nome = nome.title()\n",
        "    self.ano = ano\n",
        "    self.temporadas = temporadas\n",
        "    self.likes = 0\n",
        "\n",
        "  def dar_like(self):\n",
        "    self.likes += 1"
      ],
      "metadata": {
        "id": "tiX2La0c7H_f"
      },
      "execution_count": null,
      "outputs": []
    },
    {
      "cell_type": "code",
      "source": [
        "atlanta = Serie('atlanta', 2016, 4)"
      ],
      "metadata": {
        "id": "zEKHF-tU7UEp"
      },
      "execution_count": null,
      "outputs": []
    },
    {
      "cell_type": "code",
      "source": [
        "print(f'nome: {atlanta.nome}\\n'\n",
        "      f'ano: {atlanta.ano}\\n'\n",
        "      f'temporadas: {atlanta.temporadas}\\n'\n",
        "      f'likes: {atlanta.likes}')"
      ],
      "metadata": {
        "colab": {
          "base_uri": "https://localhost:8080/"
        },
        "id": "X3A7-3-d7Su_",
        "outputId": "a31d51a7-19f5-4344-a735-a2f72344e444"
      },
      "execution_count": null,
      "outputs": [
        {
          "output_type": "stream",
          "name": "stdout",
          "text": [
            "nome: Atlanta\n",
            "ano: 2016\n",
            "temporadas: 4\n",
            "likes: 0\n"
          ]
        }
      ]
    },
    {
      "cell_type": "code",
      "source": [
        "atlanta.dar_like()"
      ],
      "metadata": {
        "id": "7xJjZ1yT8gIW"
      },
      "execution_count": null,
      "outputs": []
    },
    {
      "cell_type": "code",
      "source": [
        "atlanta.dar_like()"
      ],
      "metadata": {
        "id": "Th5aPD9o8h_N"
      },
      "execution_count": null,
      "outputs": []
    },
    {
      "cell_type": "code",
      "source": [
        "print(atlanta.likes)"
      ],
      "metadata": {
        "colab": {
          "base_uri": "https://localhost:8080/"
        },
        "id": "KwkVTeUf8iP9",
        "outputId": "da4f7642-c4b2-4268-8a77-fd0e2217525c"
      },
      "execution_count": null,
      "outputs": [
        {
          "output_type": "stream",
          "name": "stdout",
          "text": [
            "2\n"
          ]
        }
      ]
    },
    {
      "cell_type": "code",
      "source": [
        "class Filme:\n",
        "  def __init__(self, nome, ano, duracao):\n",
        "    self.__nome = nome.title()\n",
        "    self.ano = ano\n",
        "    self.duracao = duracao\n",
        "    self.__likes = 0\n",
        "\n",
        "  @property\n",
        "  def nome(self):\n",
        "    return self.__nome\n",
        "\n",
        "  @nome.setter\n",
        "  def nome(self, nome):\n",
        "    self.__nome = nome.title()\n",
        "\n",
        "  @property\n",
        "  def likes(self):\n",
        "    return self.__likes\n",
        "\n",
        "  def dar_like(self):\n",
        "    self.__likes += 1"
      ],
      "metadata": {
        "id": "HB7ruFH88jgF"
      },
      "execution_count": null,
      "outputs": []
    },
    {
      "cell_type": "code",
      "source": [
        "chinatown = Filme('chinatown', 1974, 130)"
      ],
      "metadata": {
        "id": "PD-tPAJJAPYh"
      },
      "execution_count": null,
      "outputs": []
    },
    {
      "cell_type": "code",
      "source": [
        "chinatown.dar_like()"
      ],
      "metadata": {
        "id": "8CjVt6XOARwo"
      },
      "execution_count": null,
      "outputs": []
    },
    {
      "cell_type": "code",
      "source": [
        "print(f'nome: {chinatown.nome}\\n'\n",
        "      f'ano: {chinatown.ano}\\n'\n",
        "      f'duracao: {chinatown.duracao}\\n'\n",
        "      f'likes: {chinatown.likes}')"
      ],
      "metadata": {
        "colab": {
          "base_uri": "https://localhost:8080/"
        },
        "id": "ngL2YVUxAU4v",
        "outputId": "6bc51607-cc78-4fbb-d209-e9d9c5d35417"
      },
      "execution_count": null,
      "outputs": [
        {
          "output_type": "stream",
          "name": "stdout",
          "text": [
            "nome: Chinatown\n",
            "ano: 1974\n",
            "duracao: 130\n",
            "likes: 1\n"
          ]
        }
      ]
    },
    {
      "cell_type": "code",
      "source": [
        "class Serie:\n",
        "  def __init__(self, nome, ano, temporadas):\n",
        "    self.__nome = nome.title()\n",
        "    self.ano = ano\n",
        "    self.temporadas = temporadas\n",
        "    self.__likes = 0\n",
        "\n",
        "  @property\n",
        "  def nome(self):\n",
        "    return self.__nome\n",
        "\n",
        "  @nome.setter\n",
        "  def nome(self, nome):\n",
        "    self.__nome = nome.title()\n",
        "\n",
        "  @property\n",
        "  def likes(self):\n",
        "    return self.__likes\n",
        "\n",
        "  def dar_like(self):\n",
        "    self.__likes += 1"
      ],
      "metadata": {
        "id": "3APz6GJ5-_nj"
      },
      "execution_count": null,
      "outputs": []
    },
    {
      "cell_type": "code",
      "source": [
        "atlanta = Serie('atlanta', 2016, 4)"
      ],
      "metadata": {
        "id": "Ua6APmt_AWwQ"
      },
      "execution_count": null,
      "outputs": []
    },
    {
      "cell_type": "code",
      "source": [
        "atlanta.dar_like()"
      ],
      "metadata": {
        "id": "VGtmBtYKAYIo"
      },
      "execution_count": null,
      "outputs": []
    },
    {
      "cell_type": "code",
      "source": [
        "atlanta.dar_like()"
      ],
      "metadata": {
        "id": "l5PK6uw_AYX4"
      },
      "execution_count": null,
      "outputs": []
    },
    {
      "cell_type": "code",
      "source": [
        "print(f'nome: {atlanta.nome}\\n'\n",
        "      f'ano: {atlanta.ano}\\n'\n",
        "      f'temporadas: {atlanta.temporadas}\\n'\n",
        "      f'likes: {atlanta.likes}')"
      ],
      "metadata": {
        "colab": {
          "base_uri": "https://localhost:8080/"
        },
        "id": "JwgrbKQpAbJa",
        "outputId": "a9f5e863-9445-4e6c-a073-fe0f4942a2d3"
      },
      "execution_count": null,
      "outputs": [
        {
          "output_type": "stream",
          "name": "stdout",
          "text": [
            "nome: Atlanta\n",
            "ano: 2016\n",
            "temporadas: 4\n",
            "likes: 2\n"
          ]
        }
      ]
    },
    {
      "cell_type": "code",
      "source": [
        "class Pessoa:\n",
        "  # tamanho_cpf disponível em todas as instâncias\n",
        "  # trata-se de um atributo de classe\n",
        "  tamanho_cpf = 11\n",
        "\n",
        "  def __init__(self, cpf, nome):\n",
        "    self.cpf = cpf\n",
        "    self.nome = nome\n",
        "\n",
        "  def valida_cpf(self):\n",
        "    return len(self.cpf) == __class__.tamanho_cpf"
      ],
      "metadata": {
        "id": "EIuwUo5uCRsj"
      },
      "execution_count": null,
      "outputs": []
    },
    {
      "cell_type": "code",
      "source": [
        "pessoa = Pessoa('00000000001', 'rubi')"
      ],
      "metadata": {
        "id": "SPt-8ChoDBI8"
      },
      "execution_count": null,
      "outputs": []
    },
    {
      "cell_type": "code",
      "source": [
        "print(pessoa.valida_cpf())"
      ],
      "metadata": {
        "colab": {
          "base_uri": "https://localhost:8080/"
        },
        "id": "jyBydO1TDGOs",
        "outputId": "c0f671da-8951-4784-fcdc-8285554c73a5"
      },
      "execution_count": null,
      "outputs": [
        {
          "output_type": "stream",
          "name": "stdout",
          "text": [
            "True\n"
          ]
        }
      ]
    },
    {
      "cell_type": "code",
      "source": [
        "pessoa = Pessoa('0000000000', 'cristal')"
      ],
      "metadata": {
        "id": "DE5jidvBDIq8"
      },
      "execution_count": null,
      "outputs": []
    },
    {
      "cell_type": "code",
      "source": [
        "print(pessoa.valida_cpf())"
      ],
      "metadata": {
        "colab": {
          "base_uri": "https://localhost:8080/"
        },
        "id": "gLtsQXmfDLci",
        "outputId": "f94fb330-73a0-4df5-80f6-21d1836c3152"
      },
      "execution_count": null,
      "outputs": [
        {
          "output_type": "stream",
          "name": "stdout",
          "text": [
            "False\n"
          ]
        }
      ]
    },
    {
      "cell_type": "markdown",
      "source": [
        "Bloco 02<br>\n",
        "Removendo duplicação com herança"
      ],
      "metadata": {
        "id": "c5noqI6_EEPU"
      }
    },
    {
      "cell_type": "code",
      "source": [
        "class Midia:\n",
        "  def __init__(self, nome, ano):\n",
        "    self.__nome = nome.title()\n",
        "    self.ano = ano\n",
        "    self.__likes = 0\n",
        "\n",
        "  @property\n",
        "  def nome(self):\n",
        "    return self.__nome\n",
        "\n",
        "  @nome.setter\n",
        "  def nome(self, nome):\n",
        "    self.__nome = nome.title()\n",
        "\n",
        "  @property\n",
        "  def likes(self):\n",
        "    return self.__likes\n",
        "\n",
        "  def dar_like(self):\n",
        "    self.__likes += 1"
      ],
      "metadata": {
        "id": "f3fQHyLPEG30"
      },
      "execution_count": null,
      "outputs": []
    },
    {
      "cell_type": "code",
      "source": [
        "class Filme(Midia):\n",
        "  def __init__(self, nome, ano, duracao):\n",
        "    super().__init__(nome, ano)\n",
        "    self.duracao = duracao"
      ],
      "metadata": {
        "id": "meJGk0wyF2RA"
      },
      "execution_count": null,
      "outputs": []
    },
    {
      "cell_type": "code",
      "source": [
        "c = Filme('chinatown', 1974, 130)"
      ],
      "metadata": {
        "id": "eHvf5XNdLcxm"
      },
      "execution_count": null,
      "outputs": []
    },
    {
      "cell_type": "code",
      "source": [
        "c.dar_like()"
      ],
      "metadata": {
        "id": "iUMyYHnaLxqm"
      },
      "execution_count": null,
      "outputs": []
    },
    {
      "cell_type": "code",
      "source": [
        "print(f'{c.nome} - {c.ano} - {c.duracao} - {c.likes}')"
      ],
      "metadata": {
        "colab": {
          "base_uri": "https://localhost:8080/"
        },
        "id": "xmfot7YMKuQ3",
        "outputId": "58972fd0-de7a-467e-cbde-4bd6fda40ece"
      },
      "execution_count": null,
      "outputs": [
        {
          "output_type": "stream",
          "name": "stdout",
          "text": [
            "Chinatown - 1974 - 130 - 1\n"
          ]
        }
      ]
    },
    {
      "cell_type": "code",
      "source": [
        "class Serie(Midia):\n",
        "  def __init__(self, nome, ano, temporadas):\n",
        "    super().__init__(nome, ano)\n",
        "    self.temporadas = temporadas"
      ],
      "metadata": {
        "id": "ntlKB2cNF8Jw"
      },
      "execution_count": null,
      "outputs": []
    },
    {
      "cell_type": "code",
      "source": [
        "a = Serie('atlanta', 2016, 4)"
      ],
      "metadata": {
        "id": "i8s05Xn2LZNX"
      },
      "execution_count": null,
      "outputs": []
    },
    {
      "cell_type": "code",
      "source": [
        "a.dar_like()"
      ],
      "metadata": {
        "id": "hGxJmbRGLz12"
      },
      "execution_count": null,
      "outputs": []
    },
    {
      "cell_type": "code",
      "source": [
        "a.dar_like()"
      ],
      "metadata": {
        "id": "XXZAIUY0L0Pm"
      },
      "execution_count": null,
      "outputs": []
    },
    {
      "cell_type": "code",
      "source": [
        "print(f'{a.nome} - {a.ano} - {a.temporadas} - {a.likes}')"
      ],
      "metadata": {
        "colab": {
          "base_uri": "https://localhost:8080/"
        },
        "id": "EaIfwgEuK109",
        "outputId": "fda1b453-eaf8-44f6-ff82-77126fca1e94"
      },
      "execution_count": null,
      "outputs": [
        {
          "output_type": "stream",
          "name": "stdout",
          "text": [
            "Atlanta - 2016 - 4 - 2\n"
          ]
        }
      ]
    },
    {
      "cell_type": "code",
      "source": [
        "class Funcionario:\n",
        "  prefixo = 'Instrutor'\n",
        "\n",
        "  # ao criar um método de classe\n",
        "  # tem-se acesso aos atributos da classe\n",
        "  @classmethod\n",
        "  def info(cls):\n",
        "    return f'Trata-se de um {cls.prefixo}'"
      ],
      "metadata": {
        "id": "-lRAQfUZNqUp"
      },
      "execution_count": null,
      "outputs": []
    },
    {
      "cell_type": "code",
      "source": [
        "f = Funcionario()"
      ],
      "metadata": {
        "id": "KkjTvm7HPB16"
      },
      "execution_count": null,
      "outputs": []
    },
    {
      "cell_type": "code",
      "source": [
        "print(f.info())"
      ],
      "metadata": {
        "colab": {
          "base_uri": "https://localhost:8080/"
        },
        "id": "xWnE53HIPGDs",
        "outputId": "b2daeb74-26b7-45db-e9b9-fecf474ce76a"
      },
      "execution_count": null,
      "outputs": [
        {
          "output_type": "stream",
          "name": "stdout",
          "text": [
            "Trata-se de um Instrutor\n"
          ]
        }
      ]
    },
    {
      "cell_type": "code",
      "source": [
        "class FolhaDePagamento:\n",
        "  # ao declarar um método estático\n",
        "  # não é preciso passar argumentos fixos\n",
        "  @staticmethod\n",
        "  def log():\n",
        "    return 'Este é um log qualquer'"
      ],
      "metadata": {
        "id": "jiOKjkIEOuIq"
      },
      "execution_count": null,
      "outputs": []
    },
    {
      "cell_type": "code",
      "source": [
        "f = FolhaDePagamento()"
      ],
      "metadata": {
        "id": "m9lx_2jtPDl6"
      },
      "execution_count": null,
      "outputs": []
    },
    {
      "cell_type": "code",
      "source": [
        "print(f.log())"
      ],
      "metadata": {
        "colab": {
          "base_uri": "https://localhost:8080/"
        },
        "id": "eUstX7rcPJGa",
        "outputId": "f90d5bfd-05e3-48a2-d3c1-3e38bcb4208e"
      },
      "execution_count": null,
      "outputs": [
        {
          "output_type": "stream",
          "name": "stdout",
          "text": [
            "Este é um log qualquer\n"
          ]
        }
      ]
    },
    {
      "cell_type": "markdown",
      "source": [
        "Bloco 03<br>\n",
        "Reduzindo ifs com polimorfismo"
      ],
      "metadata": {
        "id": "QbeDYp5XRIKe"
      }
    },
    {
      "cell_type": "code",
      "source": [
        "class Midia:\n",
        "  def __init__(self, nome, ano):\n",
        "    self.__nome = nome.title()\n",
        "    self.ano = ano\n",
        "    self.__likes = 0\n",
        "\n",
        "  @property\n",
        "  def nome(self):\n",
        "    return self.__nome\n",
        "\n",
        "  @nome.setter\n",
        "  def nome(self, nome):\n",
        "    self.__nome = nome.title()\n",
        "\n",
        "  @property\n",
        "  def likes(self):\n",
        "    return self.__likes\n",
        "\n",
        "  def dar_like(self):\n",
        "    self.__likes += 1"
      ],
      "metadata": {
        "id": "MX_4QjemRLs1"
      },
      "execution_count": null,
      "outputs": []
    },
    {
      "cell_type": "code",
      "source": [
        "class Filme(Midia):\n",
        "  def __init__(self, nome, ano, duracao):\n",
        "    super().__init__(nome, ano)\n",
        "    self.duracao = duracao"
      ],
      "metadata": {
        "id": "VmkkVEIXSGeX"
      },
      "execution_count": null,
      "outputs": []
    },
    {
      "cell_type": "code",
      "source": [
        "c = Filme('chinatown', 1974, 130)"
      ],
      "metadata": {
        "id": "80EAZh6SSIHG"
      },
      "execution_count": null,
      "outputs": []
    },
    {
      "cell_type": "code",
      "source": [
        "c.dar_like()"
      ],
      "metadata": {
        "id": "oAMdXTYKSJ2G"
      },
      "execution_count": null,
      "outputs": []
    },
    {
      "cell_type": "code",
      "source": [
        "print(f'{c.nome} - {c.ano} - {c.duracao} - {c.likes}')"
      ],
      "metadata": {
        "colab": {
          "base_uri": "https://localhost:8080/"
        },
        "id": "MmLzmTPBSOFO",
        "outputId": "79c685ee-3ef9-4958-ddd0-459a45748ab4"
      },
      "execution_count": null,
      "outputs": [
        {
          "output_type": "stream",
          "name": "stdout",
          "text": [
            "Chinatown - 1974 - 130 - 1\n"
          ]
        }
      ]
    },
    {
      "cell_type": "code",
      "source": [
        "class Serie(Midia):\n",
        "  def __init__(self, nome, ano, temporadas):\n",
        "    super().__init__(nome, ano)\n",
        "    self.temporadas = temporadas"
      ],
      "metadata": {
        "id": "Z12XuuiMSOLf"
      },
      "execution_count": null,
      "outputs": []
    },
    {
      "cell_type": "code",
      "source": [
        "a = Serie('atlanta', 2016, 4)"
      ],
      "metadata": {
        "id": "aqxGy3WfSOdv"
      },
      "execution_count": null,
      "outputs": []
    },
    {
      "cell_type": "code",
      "source": [
        "a.dar_like()"
      ],
      "metadata": {
        "id": "o5XdojVQSOf3"
      },
      "execution_count": null,
      "outputs": []
    },
    {
      "cell_type": "code",
      "source": [
        "a.dar_like()"
      ],
      "metadata": {
        "id": "DmkVOnu3SOhx"
      },
      "execution_count": null,
      "outputs": []
    },
    {
      "cell_type": "code",
      "source": [
        "print(f'{a.nome} - {a.ano} - {a.temporadas} - {a.likes}')"
      ],
      "metadata": {
        "colab": {
          "base_uri": "https://localhost:8080/"
        },
        "id": "gJVkeAFHSSz_",
        "outputId": "c380ac99-311c-4e5d-8166-09921ec43f83"
      },
      "execution_count": null,
      "outputs": [
        {
          "output_type": "stream",
          "name": "stdout",
          "text": [
            "Atlanta - 2016 - 4 - 2\n"
          ]
        }
      ]
    },
    {
      "cell_type": "code",
      "source": [
        "filmes_e_series = [c, a]"
      ],
      "metadata": {
        "id": "QRTFxtXpSZV5"
      },
      "execution_count": null,
      "outputs": []
    },
    {
      "cell_type": "code",
      "source": [
        "for programa in filmes_e_series:\n",
        "  print(f'{programa.nome} - {programa.ano}')"
      ],
      "metadata": {
        "colab": {
          "base_uri": "https://localhost:8080/"
        },
        "id": "wOlhKXokTJsz",
        "outputId": "a0cc9662-d7a5-42dc-dbad-c574135655fc"
      },
      "execution_count": null,
      "outputs": [
        {
          "output_type": "stream",
          "name": "stdout",
          "text": [
            "Chinatown - 1974\n",
            "Atlanta - 2016\n"
          ]
        }
      ]
    },
    {
      "cell_type": "code",
      "source": [
        "for programa in filmes_e_series:\n",
        "  # detalhes\n",
        "  d = programa.duracao if hasattr(programa, 'duracao') else programa.temporadas\n",
        "\n",
        "  print(f'{programa.nome} - {programa.ano} - {d}')"
      ],
      "metadata": {
        "colab": {
          "base_uri": "https://localhost:8080/"
        },
        "id": "oLSsZYhjTTy0",
        "outputId": "5a9d464b-e984-44bd-a925-e7df264eb179"
      },
      "execution_count": null,
      "outputs": [
        {
          "output_type": "stream",
          "name": "stdout",
          "text": [
            "Chinatown - 1974 - 130\n",
            "Atlanta - 2016 - 4\n"
          ]
        }
      ]
    },
    {
      "cell_type": "code",
      "source": [
        "class Midia:\n",
        "  def __init__(self, nome, ano):\n",
        "    self.__nome = nome.title()\n",
        "    self.ano = ano\n",
        "    self.__likes = 0\n",
        "\n",
        "  @property\n",
        "  def nome(self):\n",
        "    return self.__nome\n",
        "\n",
        "  @nome.setter\n",
        "  def nome(self, nome):\n",
        "    self.__nome = nome.title()\n",
        "\n",
        "  @property\n",
        "  def likes(self):\n",
        "    return self.__likes\n",
        "\n",
        "  def dar_like(self):\n",
        "    self.__likes += 1"
      ],
      "metadata": {
        "id": "On9P5iN_VUQ_"
      },
      "execution_count": null,
      "outputs": []
    },
    {
      "cell_type": "code",
      "source": [
        "class Filme(Midia):\n",
        "  def __init__(self, nome, ano, duracao):\n",
        "    super().__init__(nome, ano)\n",
        "    self.duracao = duracao\n",
        "\n",
        "  def __str__(self):\n",
        "    return (f'{self.nome} - '\n",
        "            f'{self.ano} - '\n",
        "            f'{self.duracao} '\n",
        "            f'{\"min\" if self.duracao == 1 else \"mins\"} - '\n",
        "            f'{self.likes} '\n",
        "            f'{\"like\" if self.likes == 1 else \"likes\"}')"
      ],
      "metadata": {
        "id": "0WG78fJ_ZPCy"
      },
      "execution_count": null,
      "outputs": []
    },
    {
      "cell_type": "code",
      "source": [
        "c = Filme('chinatown', 1974, 130)"
      ],
      "metadata": {
        "id": "RIG1YbvFZoqY"
      },
      "execution_count": null,
      "outputs": []
    },
    {
      "cell_type": "code",
      "source": [
        "c.dar_like()"
      ],
      "metadata": {
        "id": "-f-kR5O5ZoqY"
      },
      "execution_count": null,
      "outputs": []
    },
    {
      "cell_type": "code",
      "source": [
        "print(f'{c.nome} - {c.ano} - {c.duracao} - {c.likes}')"
      ],
      "metadata": {
        "colab": {
          "base_uri": "https://localhost:8080/"
        },
        "outputId": "ee5959fd-8ae5-4a5b-8460-74dadcb33ed2",
        "id": "L6PR5Dy4ZoqY"
      },
      "execution_count": null,
      "outputs": [
        {
          "output_type": "stream",
          "name": "stdout",
          "text": [
            "Chinatown - 1974 - 130 - 1\n"
          ]
        }
      ]
    },
    {
      "cell_type": "code",
      "source": [
        "class Serie(Midia):\n",
        "  def __init__(self, nome, ano, temporadas):\n",
        "    super().__init__(nome, ano)\n",
        "    self.temporadas = temporadas\n",
        "\n",
        "  def __str__(self):\n",
        "    return (f'{self.nome} - '\n",
        "            f'{self.ano} - '\n",
        "            f'{self.temporadas} '\n",
        "            f'{\"temp\" if self.temporadas == 1 else \"temps\"} - '\n",
        "            f'{self.likes} '\n",
        "            f'{\"like\" if self.likes == 1 else \"likes\"}')"
      ],
      "metadata": {
        "id": "ZEZ1KOOqZoqZ"
      },
      "execution_count": null,
      "outputs": []
    },
    {
      "cell_type": "code",
      "source": [
        "a = Serie('atlanta', 2016, 1)"
      ],
      "metadata": {
        "id": "-LSVuZZKZoqZ"
      },
      "execution_count": null,
      "outputs": []
    },
    {
      "cell_type": "code",
      "source": [
        "a.dar_like()"
      ],
      "metadata": {
        "id": "yGtFVQ-IZoqZ"
      },
      "execution_count": null,
      "outputs": []
    },
    {
      "cell_type": "code",
      "source": [
        "a.dar_like()"
      ],
      "metadata": {
        "id": "6EqLse4GZoqZ"
      },
      "execution_count": null,
      "outputs": []
    },
    {
      "cell_type": "code",
      "source": [
        "print(f'{a.nome} - {a.ano} - {a.temporadas} - {a.likes}')"
      ],
      "metadata": {
        "colab": {
          "base_uri": "https://localhost:8080/"
        },
        "outputId": "88e7a09c-8739-4c8e-f080-f5656c2e6785",
        "id": "hbQftSaXZoqa"
      },
      "execution_count": null,
      "outputs": [
        {
          "output_type": "stream",
          "name": "stdout",
          "text": [
            "Atlanta - 2016 - 1 - 2\n"
          ]
        }
      ]
    },
    {
      "cell_type": "code",
      "source": [
        "filmes_e_series = [c, a]"
      ],
      "metadata": {
        "id": "6xp1cEFBZrOq"
      },
      "execution_count": null,
      "outputs": []
    },
    {
      "cell_type": "code",
      "source": [
        "for programa in filmes_e_series:\n",
        "  print(programa)"
      ],
      "metadata": {
        "colab": {
          "base_uri": "https://localhost:8080/"
        },
        "id": "WFLY_C-gerSl",
        "outputId": "2cc88420-0eb4-4872-f8e2-071193e79f27"
      },
      "execution_count": null,
      "outputs": [
        {
          "output_type": "stream",
          "name": "stdout",
          "text": [
            "Chinatown - 1974 - 130 mins - 1 like\n",
            "Atlanta - 2016 - 1 temp - 2 likes\n"
          ]
        }
      ]
    },
    {
      "cell_type": "code",
      "source": [
        "for programa in filmes_e_series:\n",
        "  print(repr(programa))\n",
        "  # ou __repr__ na classe"
      ],
      "metadata": {
        "colab": {
          "base_uri": "https://localhost:8080/"
        },
        "id": "9cZcW3Ybe6UL",
        "outputId": "a5addaf2-4704-4835-ec55-1afd6b0ed558"
      },
      "execution_count": null,
      "outputs": [
        {
          "output_type": "stream",
          "name": "stdout",
          "text": [
            "<__main__.Filme object at 0x7ee64543fa00>\n",
            "<__main__.Serie object at 0x7ee64543dc60>\n"
          ]
        }
      ]
    },
    {
      "cell_type": "code",
      "source": [
        "print(repr(filmes_e_series))"
      ],
      "metadata": {
        "colab": {
          "base_uri": "https://localhost:8080/"
        },
        "id": "pLv5jgxmhdQ5",
        "outputId": "4f6e5200-9f7e-4650-b30a-cf6959aab63c"
      },
      "execution_count": null,
      "outputs": [
        {
          "output_type": "stream",
          "name": "stdout",
          "text": [
            "[<__main__.Filme object at 0x7ee64543fa00>, <__main__.Serie object at 0x7ee64543dc60>]\n"
          ]
        }
      ]
    },
    {
      "cell_type": "markdown",
      "source": [
        "Bloco 04<br>\n",
        "Quando não usar herança"
      ],
      "metadata": {
        "id": "rIm4YybRh53w"
      }
    },
    {
      "cell_type": "code",
      "source": [
        "class Playlist:\n",
        "  def __init__(self, nome, lista):\n",
        "    self.nome = nome\n",
        "    self.lista = lista\n",
        "\n",
        "  def tamanho(self):\n",
        "    return len(self.lista)"
      ],
      "metadata": {
        "id": "EevURd7ee_L1"
      },
      "execution_count": null,
      "outputs": []
    },
    {
      "cell_type": "code",
      "source": [
        "class Midia:\n",
        "  def __init__(self, nome, ano):\n",
        "    self.__nome = nome.title()\n",
        "    self.ano = ano\n",
        "    self.__likes = 0\n",
        "\n",
        "  @property\n",
        "  def nome(self):\n",
        "    return self.__nome\n",
        "\n",
        "  @nome.setter\n",
        "  def nome(self, nome):\n",
        "    self.__nome = nome.title()\n",
        "\n",
        "  @property\n",
        "  def likes(self):\n",
        "    return self.__likes\n",
        "\n",
        "  def dar_like(self):\n",
        "    self.__likes += 1"
      ],
      "metadata": {
        "id": "krMzJti4fvBZ"
      },
      "execution_count": null,
      "outputs": []
    },
    {
      "cell_type": "code",
      "source": [
        "class Filme(Midia):\n",
        "  def __init__(self, nome, ano, duracao):\n",
        "    super().__init__(nome, ano)\n",
        "    self.duracao = duracao\n",
        "\n",
        "  def __str__(self):\n",
        "    return (f'{self.nome} - '\n",
        "            f'{self.ano} - '\n",
        "            f'{self.duracao} '\n",
        "            f'{\"min\" if self.duracao == 1 else \"mins\"} - '\n",
        "            f'{self.likes} '\n",
        "            f'{\"like\" if self.likes == 1 else \"likes\"}')"
      ],
      "metadata": {
        "id": "3f6tibu_fvSO"
      },
      "execution_count": null,
      "outputs": []
    },
    {
      "cell_type": "code",
      "source": [
        "c = Filme('chinatown', 1974, 130)"
      ],
      "metadata": {
        "id": "llaatodsf2MT"
      },
      "execution_count": null,
      "outputs": []
    },
    {
      "cell_type": "code",
      "source": [
        "c.dar_like()\n",
        "c.dar_like()\n",
        "c.dar_like()"
      ],
      "metadata": {
        "id": "TAcduI_Fgev9"
      },
      "execution_count": null,
      "outputs": []
    },
    {
      "cell_type": "code",
      "source": [
        "k = Filme('killers of the flower moon', 2023, 206)"
      ],
      "metadata": {
        "id": "kLMdlYB5f6UQ"
      },
      "execution_count": null,
      "outputs": []
    },
    {
      "cell_type": "code",
      "source": [
        "k.dar_like()\n",
        "k.dar_like()"
      ],
      "metadata": {
        "id": "tC_PpLoJgf7T"
      },
      "execution_count": null,
      "outputs": []
    },
    {
      "cell_type": "code",
      "source": [
        "o = Filme('oppenheimer', 2023, 181)"
      ],
      "metadata": {
        "id": "Y5ZU9-Aif_va"
      },
      "execution_count": null,
      "outputs": []
    },
    {
      "cell_type": "code",
      "source": [
        "o.dar_like()"
      ],
      "metadata": {
        "id": "xKSPJYnrgiUC"
      },
      "execution_count": null,
      "outputs": []
    },
    {
      "cell_type": "code",
      "source": [
        "class Serie(Midia):\n",
        "  def __init__(self, nome, ano, temporadas):\n",
        "    super().__init__(nome, ano)\n",
        "    self.temporadas = temporadas\n",
        "\n",
        "  def __str__(self):\n",
        "    return (f'{self.nome} - '\n",
        "            f'{self.ano} - '\n",
        "            f'{self.temporadas} '\n",
        "            f'{\"temp\" if self.temporadas == 1 else \"temps\"} - '\n",
        "            f'{self.likes} '\n",
        "            f'{\"like\" if self.likes == 1 else \"likes\"}')"
      ],
      "metadata": {
        "id": "rXWKme3wfyWx"
      },
      "execution_count": null,
      "outputs": []
    },
    {
      "cell_type": "code",
      "source": [
        "a = Serie('atlanta', 2016, 1)"
      ],
      "metadata": {
        "id": "7HUGsNW4gH39"
      },
      "execution_count": null,
      "outputs": []
    },
    {
      "cell_type": "code",
      "source": [
        "a.dar_like()"
      ],
      "metadata": {
        "id": "Ncfnavb8gkmk"
      },
      "execution_count": null,
      "outputs": []
    },
    {
      "cell_type": "code",
      "source": [
        "v = Serie('vikings', 2013, 6)"
      ],
      "metadata": {
        "id": "NeLJZdBBgIKF"
      },
      "execution_count": null,
      "outputs": []
    },
    {
      "cell_type": "code",
      "source": [
        "v.dar_like()\n",
        "v.dar_like()"
      ],
      "metadata": {
        "id": "_EHXuQ2wgmKK"
      },
      "execution_count": null,
      "outputs": []
    },
    {
      "cell_type": "code",
      "source": [
        "filmes_e_series = [c, a, v, k, o]"
      ],
      "metadata": {
        "id": "IGpTgyyPgsAb"
      },
      "execution_count": null,
      "outputs": []
    },
    {
      "cell_type": "code",
      "source": [
        "playlist_fim_de_semana = Playlist('fim de semana', filmes_e_series)"
      ],
      "metadata": {
        "id": "WqytwFSHg3wK"
      },
      "execution_count": null,
      "outputs": []
    },
    {
      "cell_type": "code",
      "source": [
        "for midia in playlist_fim_de_semana.lista:\n",
        "  print(midia)"
      ],
      "metadata": {
        "colab": {
          "base_uri": "https://localhost:8080/"
        },
        "id": "GLB2TAmChQrv",
        "outputId": "05f29550-cdc7-414f-a900-06682c49bd01"
      },
      "execution_count": null,
      "outputs": [
        {
          "output_type": "stream",
          "name": "stdout",
          "text": [
            "Chinatown - 1974 - 130 mins - 3 likes\n",
            "Atlanta - 2016 - 1 temp - 1 like\n",
            "Vikings - 2013 - 6 temps - 2 likes\n",
            "Killers Of The Flower Moon - 2023 - 206 mins - 2 likes\n",
            "Oppenheimer - 2023 - 181 mins - 1 like\n"
          ]
        }
      ]
    },
    {
      "cell_type": "code",
      "source": [
        "# poderíamos herdar list built-in\n",
        "# isto traria benefícios\n",
        "# porém também drawbacks por ser algo desconhecido\n",
        "# por enquanto, vamos fugir da complexidade"
      ],
      "metadata": {
        "id": "QnHAptjen3WE"
      },
      "execution_count": null,
      "outputs": []
    },
    {
      "cell_type": "code",
      "source": [
        "class Playlist:\n",
        "  def __init__(self, nome, lista):\n",
        "    self.nome = nome\n",
        "    self.__lista = lista\n",
        "\n",
        "  @property\n",
        "  def lista(self):\n",
        "    return self.__lista\n",
        "\n",
        "  @property\n",
        "  def tamanho(self):\n",
        "    return len(self.__lista)"
      ],
      "metadata": {
        "id": "J1p9py9noKSV"
      },
      "execution_count": null,
      "outputs": []
    },
    {
      "cell_type": "markdown",
      "source": [
        "Bloco 05<br>\n",
        "Duck Typing e um modelo de dados"
      ],
      "metadata": {
        "id": "T8uX-RPPqOfR"
      }
    },
    {
      "cell_type": "code",
      "source": [
        "class Playlist:\n",
        "  def __init__(self, nome, lista):\n",
        "    self.nome = nome\n",
        "    self.__lista = lista\n",
        "\n",
        "  # dunder/magic method que define um iterável\n",
        "  def __getitem__(self, item):\n",
        "    return self.__lista[item]\n",
        "\n",
        "  # dunder/magic method que define algo que possui tamanho\n",
        "  def __len__(self):\n",
        "    return len(self.__lista)\n",
        "\n",
        "  @property\n",
        "  def lista(self):\n",
        "    return self.__lista"
      ],
      "metadata": {
        "id": "mZmutWYyqTK9"
      },
      "execution_count": null,
      "outputs": []
    },
    {
      "cell_type": "code",
      "source": [
        "class Midia:\n",
        "  def __init__(self, nome, ano):\n",
        "    self.__nome = nome.title()\n",
        "    self.ano = ano\n",
        "    self.__likes = 0\n",
        "\n",
        "  @property\n",
        "  def nome(self):\n",
        "    return self.__nome\n",
        "\n",
        "  @nome.setter\n",
        "  def nome(self, nome):\n",
        "    self.__nome = nome.title()\n",
        "\n",
        "  @property\n",
        "  def likes(self):\n",
        "    return self.__likes\n",
        "\n",
        "  def dar_like(self):\n",
        "    self.__likes += 1"
      ],
      "metadata": {
        "id": "43ISptVYtShj"
      },
      "execution_count": null,
      "outputs": []
    },
    {
      "cell_type": "code",
      "source": [
        "class Filme(Midia):\n",
        "  def __init__(self, nome, ano, duracao):\n",
        "    super().__init__(nome, ano)\n",
        "    self.duracao = duracao\n",
        "\n",
        "  def __str__(self):\n",
        "    return (f'{self.nome} - '\n",
        "            f'{self.ano} - '\n",
        "            f'{self.duracao} '\n",
        "            f'{\"min\" if self.duracao == 1 else \"mins\"} - '\n",
        "            f'{self.likes} '\n",
        "            f'{\"like\" if self.likes == 1 else \"likes\"}')"
      ],
      "metadata": {
        "id": "wjpSBIrntShk"
      },
      "execution_count": null,
      "outputs": []
    },
    {
      "cell_type": "code",
      "source": [
        "c = Filme('chinatown', 1974, 130)"
      ],
      "metadata": {
        "id": "wehJUpLQtShk"
      },
      "execution_count": null,
      "outputs": []
    },
    {
      "cell_type": "code",
      "source": [
        "c.dar_like()\n",
        "c.dar_like()\n",
        "c.dar_like()"
      ],
      "metadata": {
        "id": "7MIj1tgAtShk"
      },
      "execution_count": null,
      "outputs": []
    },
    {
      "cell_type": "code",
      "source": [
        "k = Filme('killers of the flower moon', 2023, 206)"
      ],
      "metadata": {
        "id": "HdD6_qHutShk"
      },
      "execution_count": null,
      "outputs": []
    },
    {
      "cell_type": "code",
      "source": [
        "k.dar_like()\n",
        "k.dar_like()"
      ],
      "metadata": {
        "id": "Sft9jviMtShk"
      },
      "execution_count": null,
      "outputs": []
    },
    {
      "cell_type": "code",
      "source": [
        "o = Filme('oppenheimer', 2023, 181)"
      ],
      "metadata": {
        "id": "VJG8peCgtShl"
      },
      "execution_count": null,
      "outputs": []
    },
    {
      "cell_type": "code",
      "source": [
        "o.dar_like()"
      ],
      "metadata": {
        "id": "VFRW9qkItShl"
      },
      "execution_count": null,
      "outputs": []
    },
    {
      "cell_type": "code",
      "source": [
        "class Serie(Midia):\n",
        "  def __init__(self, nome, ano, temporadas):\n",
        "    super().__init__(nome, ano)\n",
        "    self.temporadas = temporadas\n",
        "\n",
        "  def __str__(self):\n",
        "    return (f'{self.nome} - '\n",
        "            f'{self.ano} - '\n",
        "            f'{self.temporadas} '\n",
        "            f'{\"temp\" if self.temporadas == 1 else \"temps\"} - '\n",
        "            f'{self.likes} '\n",
        "            f'{\"like\" if self.likes == 1 else \"likes\"}')"
      ],
      "metadata": {
        "id": "kwfpkPpytShl"
      },
      "execution_count": null,
      "outputs": []
    },
    {
      "cell_type": "code",
      "source": [
        "a = Serie('atlanta', 2016, 1)"
      ],
      "metadata": {
        "id": "0wu7VdnztShl"
      },
      "execution_count": null,
      "outputs": []
    },
    {
      "cell_type": "code",
      "source": [
        "a.dar_like()"
      ],
      "metadata": {
        "id": "pAws2btKtShl"
      },
      "execution_count": null,
      "outputs": []
    },
    {
      "cell_type": "code",
      "source": [
        "v = Serie('vikings', 2013, 6)"
      ],
      "metadata": {
        "id": "XyfkLTbCtShl"
      },
      "execution_count": null,
      "outputs": []
    },
    {
      "cell_type": "code",
      "source": [
        "v.dar_like()\n",
        "v.dar_like()"
      ],
      "metadata": {
        "id": "sxS2hhy7tShl"
      },
      "execution_count": null,
      "outputs": []
    },
    {
      "cell_type": "code",
      "source": [
        "filmes_e_series = [c, a, v, k, o]"
      ],
      "metadata": {
        "id": "na-m2HoitShl"
      },
      "execution_count": null,
      "outputs": []
    },
    {
      "cell_type": "code",
      "source": [
        "playlist_fim_de_semana = Playlist('fim de semana', filmes_e_series)"
      ],
      "metadata": {
        "id": "yiaexqsCtShm"
      },
      "execution_count": null,
      "outputs": []
    },
    {
      "cell_type": "code",
      "source": [
        "for midia in playlist_fim_de_semana:\n",
        "  print(midia)"
      ],
      "metadata": {
        "id": "70zy_yHWtUBP",
        "outputId": "13ff1d54-4c61-42ef-8285-6a9774ac0083",
        "colab": {
          "base_uri": "https://localhost:8080/"
        }
      },
      "execution_count": null,
      "outputs": [
        {
          "output_type": "stream",
          "name": "stdout",
          "text": [
            "Chinatown - 1974 - 130 mins - 3 likes\n",
            "Atlanta - 2016 - 1 temp - 1 like\n",
            "Vikings - 2013 - 6 temps - 2 likes\n",
            "Killers Of The Flower Moon - 2023 - 206 mins - 2 likes\n",
            "Oppenheimer - 2023 - 181 mins - 1 like\n"
          ]
        }
      ]
    },
    {
      "cell_type": "code",
      "source": [
        "c in playlist_fim_de_semana"
      ],
      "metadata": {
        "id": "vUFgLNhLtlXP",
        "outputId": "872ac57a-700d-4700-8db0-9a31c65b8dcf",
        "colab": {
          "base_uri": "https://localhost:8080/"
        }
      },
      "execution_count": null,
      "outputs": [
        {
          "output_type": "execute_result",
          "data": {
            "text/plain": [
              "True"
            ]
          },
          "metadata": {},
          "execution_count": 54
        }
      ]
    },
    {
      "cell_type": "code",
      "source": [
        "print(playlist_fim_de_semana[0])"
      ],
      "metadata": {
        "id": "TaialBZvtomN",
        "outputId": "7b896f95-0530-4497-c07b-57c758313d79",
        "colab": {
          "base_uri": "https://localhost:8080/"
        }
      },
      "execution_count": null,
      "outputs": [
        {
          "output_type": "stream",
          "name": "stdout",
          "text": [
            "Chinatown - 1974 - 130 mins - 3 likes\n"
          ]
        }
      ]
    },
    {
      "cell_type": "code",
      "source": [
        "print(len(playlist_fim_de_semana))"
      ],
      "metadata": {
        "id": "sulcxt3OtvEm",
        "outputId": "e40e98c4-ea96-4528-8d02-afbd64510235",
        "colab": {
          "base_uri": "https://localhost:8080/"
        }
      },
      "execution_count": null,
      "outputs": [
        {
          "output_type": "stream",
          "name": "stdout",
          "text": [
            "5\n"
          ]
        }
      ]
    },
    {
      "cell_type": "code",
      "source": [
        "# classes abstratas ou abc"
      ],
      "metadata": {
        "id": "1cNmpaka8WNo"
      },
      "execution_count": null,
      "outputs": []
    },
    {
      "cell_type": "code",
      "source": [
        "from collections.abc import MutableSequence"
      ],
      "metadata": {
        "id": "-5Sb69HW8Ycs"
      },
      "execution_count": null,
      "outputs": []
    },
    {
      "cell_type": "code",
      "source": [
        "class Playlist(MutableSequence):\n",
        "  pass"
      ],
      "metadata": {
        "id": "3YtCbufv8fZi"
      },
      "execution_count": null,
      "outputs": []
    },
    {
      "cell_type": "code",
      "source": [
        "teste = Playlist()"
      ],
      "metadata": {
        "id": "_T5ZrLNe8h6m",
        "outputId": "5132aa64-de58-44bc-bbc8-bc79a6223466",
        "colab": {
          "base_uri": "https://localhost:8080/",
          "height": 193
        }
      },
      "execution_count": null,
      "outputs": [
        {
          "output_type": "error",
          "ename": "TypeError",
          "evalue": "ignored",
          "traceback": [
            "\u001b[0;31m---------------------------------------------------------------------------\u001b[0m",
            "\u001b[0;31mTypeError\u001b[0m                                 Traceback (most recent call last)",
            "\u001b[0;32m<ipython-input-3-c9127ef90aa0>\u001b[0m in \u001b[0;36m<cell line: 1>\u001b[0;34m()\u001b[0m\n\u001b[0;32m----> 1\u001b[0;31m \u001b[0mteste\u001b[0m \u001b[0;34m=\u001b[0m \u001b[0mPlaylist\u001b[0m\u001b[0;34m(\u001b[0m\u001b[0;34m)\u001b[0m\u001b[0;34m\u001b[0m\u001b[0;34m\u001b[0m\u001b[0m\n\u001b[0m",
            "\u001b[0;31mTypeError\u001b[0m: Can't instantiate abstract class Playlist with abstract methods __delitem__, __getitem__, __len__, __setitem__, insert"
          ]
        }
      ]
    },
    {
      "cell_type": "code",
      "source": [
        "from numbers import Complex"
      ],
      "metadata": {
        "id": "W9p_3aFk8ktr"
      },
      "execution_count": null,
      "outputs": []
    },
    {
      "cell_type": "code",
      "source": [
        "class Numero(Complex):\n",
        "  pass"
      ],
      "metadata": {
        "id": "GKPYaWTi8-eZ"
      },
      "execution_count": null,
      "outputs": []
    },
    {
      "cell_type": "code",
      "source": [
        "teste = Numero()"
      ],
      "metadata": {
        "id": "vWPt0V-h9A-v",
        "outputId": "4a2fd1d6-1340-40f1-ef42-b9fdacc90ed7",
        "colab": {
          "base_uri": "https://localhost:8080/",
          "height": 210
        }
      },
      "execution_count": null,
      "outputs": [
        {
          "output_type": "error",
          "ename": "TypeError",
          "evalue": "ignored",
          "traceback": [
            "\u001b[0;31m---------------------------------------------------------------------------\u001b[0m",
            "\u001b[0;31mTypeError\u001b[0m                                 Traceback (most recent call last)",
            "\u001b[0;32m<ipython-input-6-0202943db460>\u001b[0m in \u001b[0;36m<cell line: 1>\u001b[0;34m()\u001b[0m\n\u001b[0;32m----> 1\u001b[0;31m \u001b[0mteste\u001b[0m \u001b[0;34m=\u001b[0m \u001b[0mNumero\u001b[0m\u001b[0;34m(\u001b[0m\u001b[0;34m)\u001b[0m\u001b[0;34m\u001b[0m\u001b[0;34m\u001b[0m\u001b[0m\n\u001b[0m",
            "\u001b[0;31mTypeError\u001b[0m: Can't instantiate abstract class Numero with abstract methods __abs__, __add__, __complex__, __eq__, __mul__, __neg__, __pos__, __pow__, __radd__, __rmul__, __rpow__, __rtruediv__, __truediv__, conjugate, imag, real"
          ]
        }
      ]
    },
    {
      "cell_type": "markdown",
      "source": [
        "Bloco 06<br>\n",
        "Herança múltipla"
      ],
      "metadata": {
        "id": "rzJDJtVqjzhl"
      }
    },
    {
      "cell_type": "code",
      "source": [
        "class Funcionario:\n",
        "  def __init__(self, nome):\n",
        "    self.nome = nome\n",
        "\n",
        "  def registrar_horas(self):\n",
        "    print('registrando horas...')\n",
        "\n",
        "  def mostrar_tarefas(self):\n",
        "    print(f'mostrando tarefas... {self.__class__.__name__}')"
      ],
      "metadata": {
        "id": "jsDFHK-xrsd4"
      },
      "execution_count": 1,
      "outputs": []
    },
    {
      "cell_type": "code",
      "source": [
        "class Alura(Funcionario):\n",
        "  def mostrar_tarefas(self):\n",
        "    print(f'mostrando tarefas... {self.__class__.__name__}')\n",
        "\n",
        "  def buscar_perguntas_sem_resposta(self):\n",
        "    print('buscando perguntas sem resposta...')"
      ],
      "metadata": {
        "id": "ZGDwim4lr5mR"
      },
      "execution_count": 2,
      "outputs": []
    },
    {
      "cell_type": "code",
      "source": [
        "class Caelum(Funcionario):\n",
        "  def mostrar_tarefas(self):\n",
        "    print(f'mostrando tarefas... {self.__class__.__name__}')\n",
        "\n",
        "  def buscar_cursos_do_mes(self):\n",
        "    print(f'buscando cursos desse mês...')"
      ],
      "metadata": {
        "id": "lIpSd_GIsZuy"
      },
      "execution_count": 3,
      "outputs": []
    },
    {
      "cell_type": "code",
      "source": [
        "class Junior(Alura):\n",
        "  pass"
      ],
      "metadata": {
        "id": "Zq16ikvjs7CC"
      },
      "execution_count": 4,
      "outputs": []
    },
    {
      "cell_type": "code",
      "source": [
        "class Pleno(Alura, Caelum):\n",
        "  pass"
      ],
      "metadata": {
        "id": "VzoH1fUbs_Gf"
      },
      "execution_count": 5,
      "outputs": []
    },
    {
      "cell_type": "code",
      "source": [
        "# mixins\n",
        "# classes cuja a ideia não é instanciar objeto"
      ],
      "metadata": {
        "id": "iTr-vq2HrHzx"
      },
      "execution_count": 6,
      "outputs": []
    },
    {
      "cell_type": "code",
      "source": [
        "class Hipster:\n",
        "  def __str__(self):\n",
        "    return f'Hipster, {self.nome.title()}'"
      ],
      "metadata": {
        "id": "OPmLFP33tBKH"
      },
      "execution_count": 7,
      "outputs": []
    },
    {
      "cell_type": "code",
      "source": [
        "class Senior(Alura, Caelum, Hipster):\n",
        "  pass"
      ],
      "metadata": {
        "id": "DA5cTqRVtROf"
      },
      "execution_count": 8,
      "outputs": []
    },
    {
      "cell_type": "code",
      "source": [
        "junior = Junior('junior')"
      ],
      "metadata": {
        "id": "qzZBGyARt7cr"
      },
      "execution_count": 9,
      "outputs": []
    },
    {
      "cell_type": "code",
      "source": [
        "junior.registrar_horas()"
      ],
      "metadata": {
        "id": "_lT8CZT6uFem",
        "outputId": "65e8d2f4-2162-4ce3-d232-b4d03f69a0c6",
        "colab": {
          "base_uri": "https://localhost:8080/"
        }
      },
      "execution_count": 10,
      "outputs": [
        {
          "output_type": "stream",
          "name": "stdout",
          "text": [
            "registrando horas...\n"
          ]
        }
      ]
    },
    {
      "cell_type": "code",
      "source": [
        "junior.buscar_perguntas_sem_resposta()"
      ],
      "metadata": {
        "id": "UyMnjnUhugzO",
        "outputId": "bfccbd92-23f5-404b-ec67-f85dd90f986e",
        "colab": {
          "base_uri": "https://localhost:8080/"
        }
      },
      "execution_count": 11,
      "outputs": [
        {
          "output_type": "stream",
          "name": "stdout",
          "text": [
            "buscando perguntas sem resposta...\n"
          ]
        }
      ]
    },
    {
      "cell_type": "code",
      "source": [
        "pleno = Pleno('pleno')"
      ],
      "metadata": {
        "id": "uFKJII2wt-9a"
      },
      "execution_count": 12,
      "outputs": []
    },
    {
      "cell_type": "code",
      "source": [
        "pleno.registrar_horas()"
      ],
      "metadata": {
        "id": "IL-UTpijuH4O",
        "outputId": "3db9fa3c-40f6-45df-cc4e-df8b68ea4f7a",
        "colab": {
          "base_uri": "https://localhost:8080/"
        }
      },
      "execution_count": 13,
      "outputs": [
        {
          "output_type": "stream",
          "name": "stdout",
          "text": [
            "registrando horas...\n"
          ]
        }
      ]
    },
    {
      "cell_type": "code",
      "source": [
        "pleno.buscar_perguntas_sem_resposta()"
      ],
      "metadata": {
        "id": "y4OeaO81ukfL",
        "outputId": "2d8ea593-d3b1-4664-987d-aa007d921496",
        "colab": {
          "base_uri": "https://localhost:8080/"
        }
      },
      "execution_count": 14,
      "outputs": [
        {
          "output_type": "stream",
          "name": "stdout",
          "text": [
            "buscando perguntas sem resposta...\n"
          ]
        }
      ]
    },
    {
      "cell_type": "code",
      "source": [
        "pleno.buscar_cursos_do_mes()"
      ],
      "metadata": {
        "id": "6AI23eojuPN2",
        "outputId": "fadbad63-7700-4a51-d062-21f8ec1ed019",
        "colab": {
          "base_uri": "https://localhost:8080/"
        }
      },
      "execution_count": 15,
      "outputs": [
        {
          "output_type": "stream",
          "name": "stdout",
          "text": [
            "buscando cursos desse mês...\n"
          ]
        }
      ]
    },
    {
      "cell_type": "code",
      "source": [
        "senior = Senior('senior')"
      ],
      "metadata": {
        "id": "qf7RM5lwuAXK"
      },
      "execution_count": 16,
      "outputs": []
    },
    {
      "cell_type": "code",
      "source": [
        "senior.registrar_horas()"
      ],
      "metadata": {
        "id": "jfg38OCquKHm",
        "outputId": "222b7f5c-c59a-45c2-ccc8-1d928032b066",
        "colab": {
          "base_uri": "https://localhost:8080/"
        }
      },
      "execution_count": 17,
      "outputs": [
        {
          "output_type": "stream",
          "name": "stdout",
          "text": [
            "registrando horas...\n"
          ]
        }
      ]
    },
    {
      "cell_type": "code",
      "source": [
        "senior.buscar_perguntas_sem_resposta()"
      ],
      "metadata": {
        "id": "-swUK7xIumhz",
        "outputId": "779136e2-3b59-4d23-ccf1-7854ad22f069",
        "colab": {
          "base_uri": "https://localhost:8080/"
        }
      },
      "execution_count": 18,
      "outputs": [
        {
          "output_type": "stream",
          "name": "stdout",
          "text": [
            "buscando perguntas sem resposta...\n"
          ]
        }
      ]
    },
    {
      "cell_type": "code",
      "source": [
        "senior.buscar_cursos_do_mes()"
      ],
      "metadata": {
        "id": "DjKl-x7puTVj",
        "outputId": "6dda6973-d517-468d-a4ec-e9df83d313d1",
        "colab": {
          "base_uri": "https://localhost:8080/"
        }
      },
      "execution_count": 19,
      "outputs": [
        {
          "output_type": "stream",
          "name": "stdout",
          "text": [
            "buscando cursos desse mês...\n"
          ]
        }
      ]
    },
    {
      "cell_type": "code",
      "source": [
        "print(senior)"
      ],
      "metadata": {
        "id": "yh9Y87Hpuxlo",
        "outputId": "8d406700-40b4-4c39-bb06-049874c3e1b9",
        "colab": {
          "base_uri": "https://localhost:8080/"
        }
      },
      "execution_count": 20,
      "outputs": [
        {
          "output_type": "stream",
          "name": "stdout",
          "text": [
            "Hipster, Senior\n"
          ]
        }
      ]
    }
  ]
}