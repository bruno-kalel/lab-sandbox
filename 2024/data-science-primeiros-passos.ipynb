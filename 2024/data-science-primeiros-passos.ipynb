{
  "nbformat": 4,
  "nbformat_minor": 0,
  "metadata": {
    "colab": {
      "provenance": []
    },
    "kernelspec": {
      "name": "python3",
      "language": "python",
      "display_name": "Python 3 (ipykernel)"
    },
    "language_info": {
      "name": "python"
    }
  },
  "cells": [
    {
      "cell_type": "markdown",
      "source": [
        "Curso de\n",
        "**Python para Data Science: primeiros passos**<br>\n",
        "`https://cursos.alura.com.br/course/python-data-science-primeiros-passos`"
      ],
      "metadata": {
        "id": "gW_Qu_QMDDky"
      }
    },
    {
      "cell_type": "code",
      "execution_count": null,
      "metadata": {
        "colab": {
          "base_uri": "https://localhost:8080/"
        },
        "id": "GEa-U7YsCrdX",
        "outputId": "c7be1f41-ddca-4a52-a538-998b3ab6e99e",
        "ExecuteTime": {
          "end_time": "2024-01-30T16:13:27.270360200Z",
          "start_time": "2024-01-30T16:13:27.171123200Z"
        }
      },
      "outputs": [
        {
          "output_type": "stream",
          "name": "stdout",
          "text": [
            "Python 3.10.12\n"
          ]
        }
      ],
      "source": [
        "!python --version"
      ]
    },
    {
      "cell_type": "code",
      "source": [
        "print('hello world')"
      ],
      "metadata": {
        "id": "GfQcX4u2DIcq",
        "colab": {
          "base_uri": "https://localhost:8080/"
        },
        "outputId": "11d42e25-8b49-41cc-fc61-5d79abc74a90",
        "ExecuteTime": {
          "end_time": "2024-01-30T16:13:27.276357400Z",
          "start_time": "2024-01-30T16:13:27.234069300Z"
        }
      },
      "execution_count": null,
      "outputs": [
        {
          "output_type": "stream",
          "name": "stdout",
          "text": [
            "hello world\n"
          ]
        }
      ]
    },
    {
      "cell_type": "code",
      "source": [
        "print(10)"
      ],
      "metadata": {
        "colab": {
          "base_uri": "https://localhost:8080/"
        },
        "id": "iz3cGQ1tGQ7Y",
        "outputId": "095ef93d-d44a-4161-ba98-17cbcb543db0",
        "ExecuteTime": {
          "end_time": "2024-01-30T16:13:27.277356700Z",
          "start_time": "2024-01-30T16:13:27.240308800Z"
        }
      },
      "execution_count": null,
      "outputs": [
        {
          "output_type": "stream",
          "name": "stdout",
          "text": [
            "10\n"
          ]
        }
      ]
    },
    {
      "cell_type": "code",
      "source": [
        "print('100', 100)"
      ],
      "metadata": {
        "colab": {
          "base_uri": "https://localhost:8080/"
        },
        "id": "ddF9ByAyGvtR",
        "outputId": "5799090b-fa2c-4ce8-a913-7e08aa8589c1",
        "ExecuteTime": {
          "end_time": "2024-01-30T16:13:27.352527700Z",
          "start_time": "2024-01-30T16:13:27.251323700Z"
        }
      },
      "execution_count": null,
      "outputs": [
        {
          "output_type": "stream",
          "name": "stdout",
          "text": [
            "100 100\n"
          ]
        }
      ]
    },
    {
      "cell_type": "code",
      "source": [
        "print('escola de dados da alura')"
      ],
      "metadata": {
        "id": "IuVVpjDAG2-p",
        "ExecuteTime": {
          "end_time": "2024-01-30T16:13:39.928716200Z",
          "start_time": "2024-01-30T16:13:39.900157400Z"
        },
        "outputId": "09b8f410-892b-4bf0-e5f7-aa395b319e04",
        "colab": {
          "base_uri": "https://localhost:8080/"
        }
      },
      "execution_count": null,
      "outputs": [
        {
          "output_type": "stream",
          "name": "stdout",
          "text": [
            "escola de dados da alura\n"
          ]
        }
      ]
    },
    {
      "cell_type": "code",
      "outputs": [
        {
          "output_type": "stream",
          "name": "stdout",
          "text": [
            "Nome: [seu nome]\n",
            "Sobrenome: [seu sobrenome]\n"
          ]
        }
      ],
      "source": [
        "print('Nome:', '[seu nome]')\n",
        "print('Sobrenome:', '[seu sobrenome]')"
      ],
      "metadata": {
        "ExecuteTime": {
          "end_time": "2024-01-30T16:15:14.022890800Z",
          "start_time": "2024-01-30T16:15:14.010857500Z"
        },
        "id": "hhWybHTo-t9F",
        "outputId": "d0d44eef-1d20-4d3d-e061-4941d2b07a0a",
        "colab": {
          "base_uri": "https://localhost:8080/"
        }
      },
      "execution_count": null
    },
    {
      "cell_type": "code",
      "outputs": [
        {
          "output_type": "stream",
          "name": "stdout",
          "text": [
            "n\n",
            "o\n",
            "m\n",
            "e\n"
          ]
        }
      ],
      "source": [
        "lista = ['n', 'o', 'm', 'e']\n",
        "\n",
        "for letra in lista:\n",
        "    print(letra)"
      ],
      "metadata": {
        "ExecuteTime": {
          "end_time": "2024-01-30T16:15:41.352526100Z",
          "start_time": "2024-01-30T16:15:41.339063800Z"
        },
        "id": "ryoYmdG--t9F",
        "outputId": "dc5eb2b4-a850-4194-e43c-37b82a05c2c9",
        "colab": {
          "base_uri": "https://localhost:8080/"
        }
      },
      "execution_count": null
    },
    {
      "cell_type": "code",
      "outputs": [
        {
          "output_type": "stream",
          "name": "stdout",
          "text": [
            "30 janeiro 2024\n"
          ]
        }
      ],
      "source": [
        "print(30, 'janeiro', 2024)"
      ],
      "metadata": {
        "ExecuteTime": {
          "end_time": "2024-01-30T16:16:02.715492600Z",
          "start_time": "2024-01-30T16:16:02.684995Z"
        },
        "id": "0_TRpT0u-t9G",
        "outputId": "3f63abcc-a41a-41c9-8056-f367db186ede",
        "colab": {
          "base_uri": "https://localhost:8080/"
        }
      },
      "execution_count": null
    },
    {
      "cell_type": "code",
      "outputs": [
        {
          "output_type": "stream",
          "name": "stdout",
          "text": [
            "ano atual: 2024\n"
          ]
        }
      ],
      "source": [
        "print('ano atual:', 2024)"
      ],
      "metadata": {
        "ExecuteTime": {
          "end_time": "2024-01-30T16:16:27.426266600Z",
          "start_time": "2024-01-30T16:16:27.410009Z"
        },
        "id": "BuuP59Hn-t9G",
        "outputId": "99dcc4e4-2bc4-4d0f-dd16-bb7a185c6fd1",
        "colab": {
          "base_uri": "https://localhost:8080/"
        }
      },
      "execution_count": null
    },
    {
      "cell_type": "code",
      "source": [
        "idade = 5"
      ],
      "metadata": {
        "id": "1hOjt80-_uO1"
      },
      "execution_count": null,
      "outputs": []
    },
    {
      "cell_type": "code",
      "source": [
        "print(idade)"
      ],
      "metadata": {
        "id": "y_SV4cIOAmfW",
        "outputId": "a37b9088-ba45-4d75-d944-f5e68d197381",
        "colab": {
          "base_uri": "https://localhost:8080/"
        }
      },
      "execution_count": null,
      "outputs": [
        {
          "output_type": "stream",
          "name": "stdout",
          "text": [
            "5\n"
          ]
        }
      ]
    },
    {
      "cell_type": "code",
      "source": [
        "idade"
      ],
      "metadata": {
        "id": "fc6BDLZ1Aqdg",
        "outputId": "a7d3c9eb-a188-46a6-f069-0ca5dce96a8d",
        "colab": {
          "base_uri": "https://localhost:8080/"
        }
      },
      "execution_count": null,
      "outputs": [
        {
          "output_type": "execute_result",
          "data": {
            "text/plain": [
              "5"
            ]
          },
          "metadata": {},
          "execution_count": 42
        }
      ]
    },
    {
      "cell_type": "code",
      "source": [
        "idade = 10"
      ],
      "metadata": {
        "id": "iAZkQtzRAq0w"
      },
      "execution_count": null,
      "outputs": []
    },
    {
      "cell_type": "code",
      "source": [
        "print(idade)"
      ],
      "metadata": {
        "id": "iJbJud0GAwAk",
        "outputId": "c0128d3d-7d5b-4aa5-c023-77e3c0b2f556",
        "colab": {
          "base_uri": "https://localhost:8080/"
        }
      },
      "execution_count": null,
      "outputs": [
        {
          "output_type": "stream",
          "name": "stdout",
          "text": [
            "10\n"
          ]
        }
      ]
    },
    {
      "cell_type": "code",
      "source": [
        "idade"
      ],
      "metadata": {
        "id": "UbZ6YHJQAwvb",
        "outputId": "be17fe89-8664-4bfc-e669-25f6aa38308a",
        "colab": {
          "base_uri": "https://localhost:8080/"
        }
      },
      "execution_count": null,
      "outputs": [
        {
          "output_type": "execute_result",
          "data": {
            "text/plain": [
              "10"
            ]
          },
          "metadata": {},
          "execution_count": 45
        }
      ]
    },
    {
      "cell_type": "code",
      "source": [
        "nome = 'nome'"
      ],
      "metadata": {
        "id": "eLyb4sjGAxCR"
      },
      "execution_count": null,
      "outputs": []
    },
    {
      "cell_type": "code",
      "source": [
        "nome"
      ],
      "metadata": {
        "id": "rMOwUy8MBUSA",
        "outputId": "27763798-0105-4251-cc3d-ba45b5ffa949",
        "colab": {
          "base_uri": "https://localhost:8080/",
          "height": 35
        }
      },
      "execution_count": null,
      "outputs": [
        {
          "output_type": "execute_result",
          "data": {
            "text/plain": [
              "'nome'"
            ],
            "application/vnd.google.colaboratory.intrinsic+json": {
              "type": "string"
            }
          },
          "metadata": {},
          "execution_count": 47
        }
      ]
    },
    {
      "cell_type": "code",
      "source": [
        "idade, Idade, IDADE = 1, 2, 3"
      ],
      "metadata": {
        "id": "z8oSmtJEBUlD"
      },
      "execution_count": null,
      "outputs": []
    },
    {
      "cell_type": "code",
      "source": [
        "idade, Idade, IDADE"
      ],
      "metadata": {
        "id": "gZ1Z9S8pB0Ln",
        "outputId": "26a69c99-51a5-43f8-f33f-7ad8da192130",
        "colab": {
          "base_uri": "https://localhost:8080/"
        }
      },
      "execution_count": null,
      "outputs": [
        {
          "output_type": "execute_result",
          "data": {
            "text/plain": [
              "(1, 2, 3)"
            ]
          },
          "metadata": {},
          "execution_count": 49
        }
      ]
    },
    {
      "cell_type": "code",
      "source": [
        "v = 3\n",
        "type(v)"
      ],
      "metadata": {
        "id": "0F_GwXxsCDf6",
        "outputId": "eb470f0d-8cc6-4d36-86eb-71d2a687030d",
        "colab": {
          "base_uri": "https://localhost:8080/"
        }
      },
      "execution_count": null,
      "outputs": [
        {
          "output_type": "execute_result",
          "data": {
            "text/plain": [
              "int"
            ]
          },
          "metadata": {},
          "execution_count": 50
        }
      ]
    },
    {
      "cell_type": "code",
      "source": [
        "v = 3.14\n",
        "type(v)"
      ],
      "metadata": {
        "id": "OS_JTEHsCSnK",
        "outputId": "75171521-af0a-4d47-b90b-9fece266d86c",
        "colab": {
          "base_uri": "https://localhost:8080/"
        }
      },
      "execution_count": null,
      "outputs": [
        {
          "output_type": "execute_result",
          "data": {
            "text/plain": [
              "float"
            ]
          },
          "metadata": {},
          "execution_count": 51
        }
      ]
    },
    {
      "cell_type": "code",
      "source": [
        "v = 'data science'\n",
        "type(v)"
      ],
      "metadata": {
        "id": "sQMYmrXJCUTB",
        "outputId": "6f9f74b0-8e4f-4c2d-99bb-8a52644a7e08",
        "colab": {
          "base_uri": "https://localhost:8080/"
        }
      },
      "execution_count": null,
      "outputs": [
        {
          "output_type": "execute_result",
          "data": {
            "text/plain": [
              "str"
            ]
          },
          "metadata": {},
          "execution_count": 52
        }
      ]
    },
    {
      "cell_type": "code",
      "source": [
        "v = True\n",
        "type(v)"
      ],
      "metadata": {
        "id": "tuaTjlpXCWcj",
        "outputId": "8a3f7348-ef59-47b5-c20d-7547d810be94",
        "colab": {
          "base_uri": "https://localhost:8080/"
        }
      },
      "execution_count": null,
      "outputs": [
        {
          "output_type": "execute_result",
          "data": {
            "text/plain": [
              "bool"
            ]
          },
          "metadata": {},
          "execution_count": 53
        }
      ]
    },
    {
      "cell_type": "code",
      "source": [
        "nome_aluno = 'nome do aluno'\n",
        "idade_aluno = 10\n",
        "média_aluno = 8.45\n",
        "situação_aprovação = True #aprovado\n",
        "print(nome_aluno, idade_aluno, média_aluno, situação_aprovação)"
      ],
      "metadata": {
        "id": "uL8znSp1CpIT",
        "outputId": "f337b9b6-0a18-4009-e24b-d6ac75ceefcc",
        "colab": {
          "base_uri": "https://localhost:8080/"
        }
      },
      "execution_count": null,
      "outputs": [
        {
          "output_type": "stream",
          "name": "stdout",
          "text": [
            "nome do aluno 10 8.45 True\n"
          ]
        }
      ]
    },
    {
      "cell_type": "code",
      "source": [
        "quantidade_seguranças = 5\n",
        "salário_seguranças = 3000\n",
        "\n",
        "quantidade_docentes = 16\n",
        "salário_docentes = 6000\n",
        "\n",
        "quantidade_diretores = 1\n",
        "salário_diretores = 12500"
      ],
      "metadata": {
        "id": "W8GA8if9D7L5"
      },
      "execution_count": null,
      "outputs": []
    },
    {
      "cell_type": "code",
      "source": [
        "quantidade_seguranças + quantidade_docentes + quantidade_diretores"
      ],
      "metadata": {
        "id": "prn1LavTF50u",
        "outputId": "8b519b23-0662-48e8-b928-4e7110ac874e",
        "colab": {
          "base_uri": "https://localhost:8080/"
        }
      },
      "execution_count": null,
      "outputs": [
        {
          "output_type": "execute_result",
          "data": {
            "text/plain": [
              "22"
            ]
          },
          "metadata": {},
          "execution_count": 56
        }
      ]
    },
    {
      "cell_type": "code",
      "source": [
        "salário_diretores - salário_seguranças"
      ],
      "metadata": {
        "id": "PdcSVn78GN-2",
        "outputId": "6769cb13-90f8-41d8-91ea-b845de268917",
        "colab": {
          "base_uri": "https://localhost:8080/"
        }
      },
      "execution_count": null,
      "outputs": [
        {
          "output_type": "execute_result",
          "data": {
            "text/plain": [
              "9500"
            ]
          },
          "metadata": {},
          "execution_count": 57
        }
      ]
    },
    {
      "cell_type": "code",
      "source": [
        "(salário_seguranças * quantidade_seguranças +\n",
        " salário_docentes * quantidade_docentes +\n",
        " salário_diretores * quantidade_diretores) / (quantidade_seguranças +\n",
        "                                              quantidade_docentes +\n",
        "                                              quantidade_diretores)"
      ],
      "metadata": {
        "id": "-n-M77ZmGRlg",
        "outputId": "a081d594-085a-47c6-dd19-8d0a2a851f8a",
        "colab": {
          "base_uri": "https://localhost:8080/"
        }
      },
      "execution_count": null,
      "outputs": [
        {
          "output_type": "execute_result",
          "data": {
            "text/plain": [
              "5613.636363636364"
            ]
          },
          "metadata": {},
          "execution_count": 58
        }
      ]
    },
    {
      "cell_type": "code",
      "source": [
        "2 ** 3"
      ],
      "metadata": {
        "id": "xs9xPL5RGgYM",
        "outputId": "031aaf99-8132-4f09-9eb1-a5a6ee46cb12",
        "colab": {
          "base_uri": "https://localhost:8080/"
        }
      },
      "execution_count": null,
      "outputs": [
        {
          "output_type": "execute_result",
          "data": {
            "text/plain": [
              "8"
            ]
          },
          "metadata": {},
          "execution_count": 59
        }
      ]
    },
    {
      "cell_type": "code",
      "source": [
        "7 % 3"
      ],
      "metadata": {
        "id": "RLyQt2NYH1gg",
        "outputId": "594ecafd-b2aa-4062-c137-5ebef8ce5f53",
        "colab": {
          "base_uri": "https://localhost:8080/"
        }
      },
      "execution_count": null,
      "outputs": [
        {
          "output_type": "execute_result",
          "data": {
            "text/plain": [
              "1"
            ]
          },
          "metadata": {},
          "execution_count": 60
        }
      ]
    },
    {
      "cell_type": "code",
      "source": [
        "7 // 3"
      ],
      "metadata": {
        "id": "9Ie4buXUH5yE",
        "outputId": "de7a171e-99da-4994-c9cd-fa0386043595",
        "colab": {
          "base_uri": "https://localhost:8080/"
        }
      },
      "execution_count": null,
      "outputs": [
        {
          "output_type": "execute_result",
          "data": {
            "text/plain": [
              "2"
            ]
          },
          "metadata": {},
          "execution_count": 61
        }
      ]
    },
    {
      "cell_type": "code",
      "source": [
        "string_1 = 'bruno'\n",
        "string_2 = \"bruno\""
      ],
      "metadata": {
        "id": "Q0qVFVyIH82S"
      },
      "execution_count": null,
      "outputs": []
    },
    {
      "cell_type": "code",
      "source": [
        "print(type(string_1), type(string_2))"
      ],
      "metadata": {
        "id": "LoGJmPxxIMIy",
        "outputId": "f9a04aa2-dfbf-4fa6-bc03-8a00810507e5",
        "colab": {
          "base_uri": "https://localhost:8080/"
        }
      },
      "execution_count": null,
      "outputs": [
        {
          "output_type": "stream",
          "name": "stdout",
          "text": [
            "<class 'str'> <class 'str'>\n"
          ]
        }
      ]
    },
    {
      "cell_type": "code",
      "source": [
        "texto = '  este é um texto PARA sER tradado  '"
      ],
      "metadata": {
        "id": "6oHvvCCbIPbd"
      },
      "execution_count": null,
      "outputs": []
    },
    {
      "cell_type": "code",
      "source": [
        "texto.upper()"
      ],
      "metadata": {
        "id": "KdCQMzAoI--9",
        "outputId": "b34f8c74-4692-4cae-a7ac-a6505bd5b057",
        "colab": {
          "base_uri": "https://localhost:8080/",
          "height": 35
        }
      },
      "execution_count": null,
      "outputs": [
        {
          "output_type": "execute_result",
          "data": {
            "text/plain": [
              "'  ESTE É UM TEXTO PARA SER TRADADO  '"
            ],
            "application/vnd.google.colaboratory.intrinsic+json": {
              "type": "string"
            }
          },
          "metadata": {},
          "execution_count": 65
        }
      ]
    },
    {
      "cell_type": "code",
      "source": [
        "texto.lower()"
      ],
      "metadata": {
        "id": "gqMfBMu0JDL_",
        "outputId": "f6263ce7-0ff7-458b-edc0-7b581a480e1d",
        "colab": {
          "base_uri": "https://localhost:8080/",
          "height": 35
        }
      },
      "execution_count": null,
      "outputs": [
        {
          "output_type": "execute_result",
          "data": {
            "text/plain": [
              "'  este é um texto para ser tradado  '"
            ],
            "application/vnd.google.colaboratory.intrinsic+json": {
              "type": "string"
            }
          },
          "metadata": {},
          "execution_count": 66
        }
      ]
    },
    {
      "cell_type": "code",
      "source": [
        "texto.strip()"
      ],
      "metadata": {
        "id": "LuT14YO9JJfw",
        "outputId": "6654a3b2-e664-4982-f314-39143d605f5d",
        "colab": {
          "base_uri": "https://localhost:8080/",
          "height": 35
        }
      },
      "execution_count": null,
      "outputs": [
        {
          "output_type": "execute_result",
          "data": {
            "text/plain": [
              "'este é um texto PARA sER tradado'"
            ],
            "application/vnd.google.colaboratory.intrinsic+json": {
              "type": "string"
            }
          },
          "metadata": {},
          "execution_count": 67
        }
      ]
    },
    {
      "cell_type": "code",
      "source": [
        "texto.replace"
      ],
      "metadata": {
        "id": "EasgeeBMJKrm",
        "outputId": "e23aab17-7d11-4a7c-d7a0-4386dda643b5",
        "colab": {
          "base_uri": "https://localhost:8080/"
        }
      },
      "execution_count": null,
      "outputs": [
        {
          "output_type": "execute_result",
          "data": {
            "text/plain": [
              "<function str.replace(old, new, count=-1, /)>"
            ]
          },
          "metadata": {},
          "execution_count": 68
        }
      ]
    },
    {
      "cell_type": "code",
      "source": [
        "texto = texto.replace('tradado', 'tratado').strip().upper()\n",
        "texto"
      ],
      "metadata": {
        "id": "aakTPemzJO8q",
        "outputId": "db384ed9-ba2a-4cc0-cf38-f9e0f3ca017c",
        "colab": {
          "base_uri": "https://localhost:8080/",
          "height": 35
        }
      },
      "execution_count": null,
      "outputs": [
        {
          "output_type": "execute_result",
          "data": {
            "text/plain": [
              "'ESTE É UM TEXTO PARA SER TRATADO'"
            ],
            "application/vnd.google.colaboratory.intrinsic+json": {
              "type": "string"
            }
          },
          "metadata": {},
          "execution_count": 69
        }
      ]
    },
    {
      "cell_type": "code",
      "source": [
        "chr(79) + chr(108) + chr(225)"
      ],
      "metadata": {
        "id": "HL-B4zpEJW9E",
        "outputId": "b2d07390-482a-42f5-d891-b8556320ecc6",
        "colab": {
          "base_uri": "https://localhost:8080/",
          "height": 35
        }
      },
      "execution_count": null,
      "outputs": [
        {
          "output_type": "execute_result",
          "data": {
            "text/plain": [
              "'Olá'"
            ],
            "application/vnd.google.colaboratory.intrinsic+json": {
              "type": "string"
            }
          },
          "metadata": {},
          "execution_count": 70
        }
      ]
    },
    {
      "cell_type": "code",
      "source": [
        "nome = input('nome: ')"
      ],
      "metadata": {
        "id": "jfj2dO1mMeH1",
        "outputId": "249a82f2-e33b-45cb-98e5-1f510eb007a4",
        "colab": {
          "base_uri": "https://localhost:8080/"
        }
      },
      "execution_count": null,
      "outputs": [
        {
          "name": "stdout",
          "output_type": "stream",
          "text": [
            "nome: nome\n"
          ]
        }
      ]
    },
    {
      "cell_type": "code",
      "source": [
        "nome"
      ],
      "metadata": {
        "id": "Jp2hxv5SM8A0",
        "outputId": "cbe711a0-8e2b-4e1a-e34d-2bc4916b308f",
        "colab": {
          "base_uri": "https://localhost:8080/",
          "height": 35
        }
      },
      "execution_count": null,
      "outputs": [
        {
          "output_type": "execute_result",
          "data": {
            "text/plain": [
              "'nome'"
            ],
            "application/vnd.google.colaboratory.intrinsic+json": {
              "type": "string"
            }
          },
          "metadata": {},
          "execution_count": 72
        }
      ]
    },
    {
      "cell_type": "code",
      "source": [
        "type(nome)"
      ],
      "metadata": {
        "id": "9G2Ne5g7M9GZ",
        "outputId": "691cf324-3d14-432f-ad62-77d43ac7649d",
        "colab": {
          "base_uri": "https://localhost:8080/"
        }
      },
      "execution_count": null,
      "outputs": [
        {
          "output_type": "execute_result",
          "data": {
            "text/plain": [
              "str"
            ]
          },
          "metadata": {},
          "execution_count": 73
        }
      ]
    },
    {
      "cell_type": "code",
      "source": [
        "inteiro = int(input('inteiro: '))"
      ],
      "metadata": {
        "id": "QUaICOjGNNLY",
        "outputId": "0243a081-7893-49c5-fb0c-02f932690163",
        "colab": {
          "base_uri": "https://localhost:8080/"
        }
      },
      "execution_count": null,
      "outputs": [
        {
          "name": "stdout",
          "output_type": "stream",
          "text": [
            "inteiro: 1\n"
          ]
        }
      ]
    },
    {
      "cell_type": "code",
      "source": [
        "type(inteiro)"
      ],
      "metadata": {
        "id": "P_aQ37aCNSln",
        "outputId": "d83069c2-be5b-4ee6-b0c4-e1d7659984a5",
        "colab": {
          "base_uri": "https://localhost:8080/"
        }
      },
      "execution_count": null,
      "outputs": [
        {
          "output_type": "execute_result",
          "data": {
            "text/plain": [
              "int"
            ]
          },
          "metadata": {},
          "execution_count": 75
        }
      ]
    },
    {
      "cell_type": "code",
      "source": [
        "ano_entrada = input('ano de entrada: ')"
      ],
      "metadata": {
        "id": "0wz2JQc2Nchc",
        "outputId": "a7db5800-4126-46fc-b198-921d1c95c91b",
        "colab": {
          "base_uri": "https://localhost:8080/"
        }
      },
      "execution_count": null,
      "outputs": [
        {
          "name": "stdout",
          "output_type": "stream",
          "text": [
            "ano de entrada: 2024\n"
          ]
        }
      ]
    },
    {
      "cell_type": "code",
      "source": [
        "type(ano_entrada)"
      ],
      "metadata": {
        "id": "zArezI2kNhr0",
        "outputId": "ff703065-c5a0-4fdd-e101-ca8c8ec13c22",
        "colab": {
          "base_uri": "https://localhost:8080/"
        }
      },
      "execution_count": null,
      "outputs": [
        {
          "output_type": "execute_result",
          "data": {
            "text/plain": [
              "str"
            ]
          },
          "metadata": {},
          "execution_count": 77
        }
      ]
    },
    {
      "cell_type": "code",
      "source": [
        "ano_entrada = int(input('ano de entrada: '))"
      ],
      "metadata": {
        "id": "3m1J5PSKNjTV",
        "outputId": "644b97a5-8d99-4272-92dc-0be67a7b9eca",
        "colab": {
          "base_uri": "https://localhost:8080/"
        }
      },
      "execution_count": null,
      "outputs": [
        {
          "name": "stdout",
          "output_type": "stream",
          "text": [
            "ano de entrada: 2024\n"
          ]
        }
      ]
    },
    {
      "cell_type": "code",
      "source": [
        "type(ano_entrada)"
      ],
      "metadata": {
        "id": "5FW_A90kNn9-",
        "outputId": "23657271-595d-42e5-a05e-056c52d21cab",
        "colab": {
          "base_uri": "https://localhost:8080/"
        }
      },
      "execution_count": null,
      "outputs": [
        {
          "output_type": "execute_result",
          "data": {
            "text/plain": [
              "int"
            ]
          },
          "metadata": {},
          "execution_count": 79
        }
      ]
    },
    {
      "cell_type": "code",
      "source": [
        "print(f'ano de entrada: {ano_entrada}')"
      ],
      "metadata": {
        "id": "p2BuI5PvNqCG",
        "outputId": "9de74b02-917b-47b9-8cb6-3f22f65761a5",
        "colab": {
          "base_uri": "https://localhost:8080/"
        }
      },
      "execution_count": null,
      "outputs": [
        {
          "output_type": "stream",
          "name": "stdout",
          "text": [
            "ano de entrada: 2024\n"
          ]
        }
      ]
    },
    {
      "cell_type": "code",
      "source": [
        "print('estudar é um esforço constante,\\né como cultivar uma planta')"
      ],
      "metadata": {
        "id": "WLDKiBpNN8qK",
        "outputId": "9de66455-c1ca-430c-f446-9eb64430abbc",
        "colab": {
          "base_uri": "https://localhost:8080/"
        }
      },
      "execution_count": null,
      "outputs": [
        {
          "output_type": "stream",
          "name": "stdout",
          "text": [
            "estudar é um esforço constante,\n",
            "é como cultivar uma planta\n"
          ]
        }
      ]
    },
    {
      "cell_type": "code",
      "source": [
        "print('quantidade\\tqualidade\\n5 amostras\\talta\\n3 amostras\\tbaixa')"
      ],
      "metadata": {
        "id": "6II_eyMERcSz",
        "outputId": "08dfd79b-5a8f-42d7-b8df-af430c49f78e",
        "colab": {
          "base_uri": "https://localhost:8080/"
        }
      },
      "execution_count": null,
      "outputs": [
        {
          "output_type": "stream",
          "name": "stdout",
          "text": [
            "quantidade\tqualidade\n",
            "5 amostras\talta\n",
            "3 amostras\tbaixa\n"
          ]
        }
      ]
    },
    {
      "cell_type": "code",
      "source": [
        "print('caminho do arquivo: c:\\\\arquivos\\\\documento.csv')"
      ],
      "metadata": {
        "id": "EX757Y95RhBD",
        "outputId": "c0b639a3-4ffd-48dc-f9ee-968ac03efc96",
        "colab": {
          "base_uri": "https://localhost:8080/"
        }
      },
      "execution_count": null,
      "outputs": [
        {
          "output_type": "stream",
          "name": "stdout",
          "text": [
            "caminho do arquivo: c:\\arquivos\\documento.csv\n"
          ]
        }
      ]
    },
    {
      "cell_type": "code",
      "source": [
        "print('minha professora uma vez disse \\'estudar é a chave do sucesso.\\' ')"
      ],
      "metadata": {
        "id": "hA2-qX-4Rqr5",
        "outputId": "92d10711-fff0-4ef7-e6d6-bf66d770bc0c",
        "colab": {
          "base_uri": "https://localhost:8080/"
        }
      },
      "execution_count": null,
      "outputs": [
        {
          "output_type": "stream",
          "name": "stdout",
          "text": [
            "minha professora uma vez disse 'estudar é a chave do sucesso.' \n"
          ]
        }
      ]
    },
    {
      "cell_type": "code",
      "source": [
        "2 < 7"
      ],
      "metadata": {
        "id": "_wZeQSVFRymd",
        "outputId": "0b7ba12d-83ef-4bb7-e021-7b7334448f9d",
        "colab": {
          "base_uri": "https://localhost:8080/"
        }
      },
      "execution_count": null,
      "outputs": [
        {
          "output_type": "execute_result",
          "data": {
            "text/plain": [
              "True"
            ]
          },
          "metadata": {},
          "execution_count": 85
        }
      ]
    },
    {
      "cell_type": "code",
      "source": [
        "if 2 < 7:\n",
        "  print('verdadeiro')"
      ],
      "metadata": {
        "id": "zLgFOH78zmZK",
        "outputId": "61b8a928-3596-44be-f61f-a4e6c666f08a",
        "colab": {
          "base_uri": "https://localhost:8080/"
        }
      },
      "execution_count": null,
      "outputs": [
        {
          "output_type": "stream",
          "name": "stdout",
          "text": [
            "verdadeiro\n"
          ]
        }
      ]
    },
    {
      "cell_type": "code",
      "source": [
        "if 2 > 7:\n",
        "  print('verdadeiro')\n",
        "else:\n",
        "  print('falso')"
      ],
      "metadata": {
        "id": "Oo2IDzH_zsZh",
        "outputId": "252e8463-c9a0-4d0c-a92a-7c3c9aaf9acd",
        "colab": {
          "base_uri": "https://localhost:8080/"
        }
      },
      "execution_count": null,
      "outputs": [
        {
          "output_type": "stream",
          "name": "stdout",
          "text": [
            "falso\n"
          ]
        }
      ]
    },
    {
      "cell_type": "code",
      "source": [
        "1 != 2"
      ],
      "metadata": {
        "id": "16fgkY5Vz0Gj",
        "outputId": "cc6ee51d-74f1-4833-f815-a8e1382958dd",
        "colab": {
          "base_uri": "https://localhost:8080/"
        }
      },
      "execution_count": null,
      "outputs": [
        {
          "output_type": "execute_result",
          "data": {
            "text/plain": [
              "True"
            ]
          },
          "metadata": {},
          "execution_count": 88
        }
      ]
    },
    {
      "cell_type": "code",
      "source": [
        "1 != '1'"
      ],
      "metadata": {
        "id": "NtM_1_0J09i9",
        "outputId": "b2fe20f8-1ba1-42c3-9980-14a9e33a5302",
        "colab": {
          "base_uri": "https://localhost:8080/"
        }
      },
      "execution_count": null,
      "outputs": [
        {
          "output_type": "execute_result",
          "data": {
            "text/plain": [
              "True"
            ]
          },
          "metadata": {},
          "execution_count": 89
        }
      ]
    },
    {
      "cell_type": "code",
      "source": [
        "média = float(input('digite a média: '))\n",
        "\n",
        "if média >= 7.0:\n",
        "  print('aprovado')\n",
        "else:\n",
        "  print('reprovado')"
      ],
      "metadata": {
        "id": "RIqcRLtC0_R-",
        "outputId": "d2dee45c-fd08-494e-9a52-ad110f65216a",
        "colab": {
          "base_uri": "https://localhost:8080/"
        }
      },
      "execution_count": null,
      "outputs": [
        {
          "output_type": "stream",
          "name": "stdout",
          "text": [
            "digite a média: 6.5\n",
            "reprovado\n"
          ]
        }
      ]
    },
    {
      "cell_type": "code",
      "source": [
        "média = float(input('digite a média: '))\n",
        "\n",
        "if média >= 7.0:\n",
        "  print('aprovado')\n",
        "elif 5.0 <= média < 7.0:\n",
        "  print('recuperação')\n",
        "else:\n",
        "  print('reprovado')"
      ],
      "metadata": {
        "id": "upETdspZ13ZJ",
        "outputId": "c009a07a-43d1-49af-f3d9-037406dce9c2",
        "colab": {
          "base_uri": "https://localhost:8080/"
        }
      },
      "execution_count": null,
      "outputs": [
        {
          "output_type": "stream",
          "name": "stdout",
          "text": [
            "digite a média: 6.5\n",
            "recuperação\n"
          ]
        }
      ]
    },
    {
      "cell_type": "code",
      "source": [
        "t1, t2, f1, f2, = True, True, False, False"
      ],
      "metadata": {
        "id": "Ym1RgATH2ZTi"
      },
      "execution_count": null,
      "outputs": []
    },
    {
      "cell_type": "code",
      "source": [
        "t1 and t2"
      ],
      "metadata": {
        "id": "MCFk9iTn5s2L",
        "outputId": "fe9288d7-40f9-4cbc-d126-8648a081197f",
        "colab": {
          "base_uri": "https://localhost:8080/"
        }
      },
      "execution_count": null,
      "outputs": [
        {
          "output_type": "execute_result",
          "data": {
            "text/plain": [
              "True"
            ]
          },
          "metadata": {},
          "execution_count": 93
        }
      ]
    },
    {
      "cell_type": "code",
      "source": [
        "t1 and f2"
      ],
      "metadata": {
        "id": "7c63AJhl6DWI",
        "outputId": "dad53be8-2e71-42d9-fd41-d6ae800c1f53",
        "colab": {
          "base_uri": "https://localhost:8080/"
        }
      },
      "execution_count": null,
      "outputs": [
        {
          "output_type": "execute_result",
          "data": {
            "text/plain": [
              "False"
            ]
          },
          "metadata": {},
          "execution_count": 94
        }
      ]
    },
    {
      "cell_type": "code",
      "source": [
        "f1 and f2"
      ],
      "metadata": {
        "id": "kyvQWqrs6FRF",
        "outputId": "0006facb-0b06-43f0-f9e2-58c7af4ab640",
        "colab": {
          "base_uri": "https://localhost:8080/"
        }
      },
      "execution_count": null,
      "outputs": [
        {
          "output_type": "execute_result",
          "data": {
            "text/plain": [
              "False"
            ]
          },
          "metadata": {},
          "execution_count": 95
        }
      ]
    },
    {
      "cell_type": "code",
      "source": [
        "f1 or f2"
      ],
      "metadata": {
        "id": "mTonM1-S6GiB",
        "outputId": "5579f0ae-8a2f-42fa-e2ca-b409cd4484dd",
        "colab": {
          "base_uri": "https://localhost:8080/"
        }
      },
      "execution_count": null,
      "outputs": [
        {
          "output_type": "execute_result",
          "data": {
            "text/plain": [
              "False"
            ]
          },
          "metadata": {},
          "execution_count": 96
        }
      ]
    },
    {
      "cell_type": "code",
      "source": [
        "t1 or f1"
      ],
      "metadata": {
        "id": "NbLLMCwB6Kys",
        "outputId": "5dac2ad5-f546-4e1a-cb92-4267a8bd7454",
        "colab": {
          "base_uri": "https://localhost:8080/"
        }
      },
      "execution_count": null,
      "outputs": [
        {
          "output_type": "execute_result",
          "data": {
            "text/plain": [
              "True"
            ]
          },
          "metadata": {},
          "execution_count": 97
        }
      ]
    },
    {
      "cell_type": "code",
      "source": [
        "not t1"
      ],
      "metadata": {
        "id": "TlT19cdp6Le0",
        "outputId": "037162fb-5252-4f98-c5d2-08e0660a8a78",
        "colab": {
          "base_uri": "https://localhost:8080/"
        }
      },
      "execution_count": null,
      "outputs": [
        {
          "output_type": "execute_result",
          "data": {
            "text/plain": [
              "False"
            ]
          },
          "metadata": {},
          "execution_count": 98
        }
      ]
    },
    {
      "cell_type": "code",
      "source": [
        "not f1"
      ],
      "metadata": {
        "id": "P5KlKwt56RIK",
        "outputId": "dcbef3df-dd7c-42b1-d845-fd40e9ef5ebc",
        "colab": {
          "base_uri": "https://localhost:8080/"
        }
      },
      "execution_count": null,
      "outputs": [
        {
          "output_type": "execute_result",
          "data": {
            "text/plain": [
              "True"
            ]
          },
          "metadata": {},
          "execution_count": 99
        }
      ]
    },
    {
      "cell_type": "code",
      "source": [
        "not (f1 or f2)"
      ],
      "metadata": {
        "id": "Qzw9432_6Rqm",
        "outputId": "ff9e7cd6-2a34-4f28-caab-e818715099a6",
        "colab": {
          "base_uri": "https://localhost:8080/"
        }
      },
      "execution_count": null,
      "outputs": [
        {
          "output_type": "execute_result",
          "data": {
            "text/plain": [
              "True"
            ]
          },
          "metadata": {},
          "execution_count": 100
        }
      ]
    },
    {
      "cell_type": "code",
      "source": [
        "texto = 'este é um texto'\n",
        "'é' in texto"
      ],
      "metadata": {
        "id": "IHhTP82-6Y3j",
        "outputId": "f0dc6e0e-1083-4a81-dc57-0d2205b1e758",
        "colab": {
          "base_uri": "https://localhost:8080/"
        }
      },
      "execution_count": null,
      "outputs": [
        {
          "output_type": "execute_result",
          "data": {
            "text/plain": [
              "True"
            ]
          },
          "metadata": {},
          "execution_count": 101
        }
      ]
    },
    {
      "cell_type": "code",
      "source": [
        "'aqui' in texto"
      ],
      "metadata": {
        "id": "HtPSSgQW6mHo",
        "outputId": "74ac4570-003a-4d69-fa5f-00f34a65b3f1",
        "colab": {
          "base_uri": "https://localhost:8080/"
        }
      },
      "execution_count": null,
      "outputs": [
        {
          "output_type": "execute_result",
          "data": {
            "text/plain": [
              "False"
            ]
          },
          "metadata": {},
          "execution_count": 102
        }
      ]
    },
    {
      "cell_type": "code",
      "source": [
        "'aqui' not in texto"
      ],
      "metadata": {
        "id": "oJrgbXDi6qgt",
        "outputId": "426dfb30-b00f-4299-eb71-346a7352aa07",
        "colab": {
          "base_uri": "https://localhost:8080/"
        }
      },
      "execution_count": null,
      "outputs": [
        {
          "output_type": "execute_result",
          "data": {
            "text/plain": [
              "True"
            ]
          },
          "metadata": {},
          "execution_count": 103
        }
      ]
    },
    {
      "cell_type": "code",
      "source": [
        "not ('e' in texto)"
      ],
      "metadata": {
        "id": "Ltyn_A9p6rl7",
        "outputId": "5eaebd02-9e0f-4541-b2a6-34a9f9f39361",
        "colab": {
          "base_uri": "https://localhost:8080/"
        }
      },
      "execution_count": null,
      "outputs": [
        {
          "output_type": "execute_result",
          "data": {
            "text/plain": [
              "False"
            ]
          },
          "metadata": {},
          "execution_count": 104
        }
      ]
    },
    {
      "cell_type": "code",
      "source": [
        "for _ in range(2):\n",
        "  print(_)"
      ],
      "metadata": {
        "id": "hy7x1Xt67Deo",
        "outputId": "1a415096-db11-47ac-d180-c9163e481d96",
        "colab": {
          "base_uri": "https://localhost:8080/"
        }
      },
      "execution_count": null,
      "outputs": [
        {
          "output_type": "stream",
          "name": "stdout",
          "text": [
            "0\n",
            "1\n"
          ]
        }
      ]
    },
    {
      "cell_type": "code",
      "source": [
        "for _ in range(1, 4, 2):\n",
        "  print(_)"
      ],
      "metadata": {
        "id": "f5t23n0uCczM",
        "outputId": "39a42ef3-2b68-44d6-8f95-63b99f0c6eac",
        "colab": {
          "base_uri": "https://localhost:8080/"
        }
      },
      "execution_count": null,
      "outputs": [
        {
          "output_type": "stream",
          "name": "stdout",
          "text": [
            "1\n",
            "3\n"
          ]
        }
      ]
    },
    {
      "cell_type": "code",
      "source": [
        "for _ in range(3):\n",
        "  nota_1 = float(input('nota_1: '))\n",
        "  nota_2 = float(input('nota 2: '))\n",
        "  print(f'média: {(nota_1 + nota_2) / 2}')"
      ],
      "metadata": {
        "id": "v697BgK38oaJ",
        "outputId": "44caebfe-ebae-4f74-ef65-9888481ea151",
        "colab": {
          "base_uri": "https://localhost:8080/"
        }
      },
      "execution_count": null,
      "outputs": [
        {
          "output_type": "stream",
          "name": "stdout",
          "text": [
            "nota_1: 7.0\n",
            "nota 2: 8.0\n",
            "média: 7.5\n",
            "nota_1: 6.0\n",
            "nota 2: 10.0\n",
            "média: 8.0\n",
            "nota_1: 4.0\n",
            "nota 2: 10.0\n",
            "média: 7.0\n"
          ]
        }
      ]
    },
    {
      "cell_type": "code",
      "source": [
        "contador = 1\n",
        "\n",
        "while contador <= 5:\n",
        "  print(contador)\n",
        "  contador += 1"
      ],
      "metadata": {
        "id": "eYlyR1zt9MzC",
        "outputId": "adfab545-3e8f-4023-abd1-c60a3311d867",
        "colab": {
          "base_uri": "https://localhost:8080/"
        }
      },
      "execution_count": null,
      "outputs": [
        {
          "output_type": "stream",
          "name": "stdout",
          "text": [
            "1\n",
            "2\n",
            "3\n",
            "4\n",
            "5\n"
          ]
        }
      ]
    },
    {
      "cell_type": "code",
      "source": [
        "preço = 2.00\n",
        "preço += 3\n",
        "preço"
      ],
      "metadata": {
        "id": "t0C_6QglALSd",
        "outputId": "15fafd1f-5a11-48c1-f0b2-708ba751f4be",
        "colab": {
          "base_uri": "https://localhost:8080/"
        }
      },
      "execution_count": null,
      "outputs": [
        {
          "output_type": "execute_result",
          "data": {
            "text/plain": [
              "5.0"
            ]
          },
          "metadata": {},
          "execution_count": 109
        }
      ]
    },
    {
      "cell_type": "code",
      "source": [
        "preço = 2.00\n",
        "preço -= 3\n",
        "preço"
      ],
      "metadata": {
        "id": "pFfyaCSzANqm",
        "outputId": "4db9b3fa-da07-4937-d3ce-45a937647fdc",
        "colab": {
          "base_uri": "https://localhost:8080/"
        }
      },
      "execution_count": null,
      "outputs": [
        {
          "output_type": "execute_result",
          "data": {
            "text/plain": [
              "-1.0"
            ]
          },
          "metadata": {},
          "execution_count": 110
        }
      ]
    },
    {
      "cell_type": "code",
      "source": [
        "preço = 2.00\n",
        "preço *= 3\n",
        "preço"
      ],
      "metadata": {
        "id": "pm_fy4vjAOgf",
        "outputId": "7df1d158-6a1c-465c-bc95-874166013817",
        "colab": {
          "base_uri": "https://localhost:8080/"
        }
      },
      "execution_count": null,
      "outputs": [
        {
          "output_type": "execute_result",
          "data": {
            "text/plain": [
              "6.0"
            ]
          },
          "metadata": {},
          "execution_count": 111
        }
      ]
    },
    {
      "cell_type": "code",
      "source": [
        "preço = 2.00\n",
        "preço /= 3\n",
        "preço"
      ],
      "metadata": {
        "id": "UsA0L0_aAPT9",
        "outputId": "e8b44237-6e06-424e-fae1-ebb2d6a3b531",
        "colab": {
          "base_uri": "https://localhost:8080/"
        }
      },
      "execution_count": null,
      "outputs": [
        {
          "output_type": "execute_result",
          "data": {
            "text/plain": [
              "0.6666666666666666"
            ]
          },
          "metadata": {},
          "execution_count": 112
        }
      ]
    },
    {
      "cell_type": "code",
      "source": [
        "preço = 2.00\n",
        "preço //= 3\n",
        "preço"
      ],
      "metadata": {
        "id": "4xcANB8FAQQt",
        "outputId": "40548c23-88ad-4618-8341-d7c1db1861be",
        "colab": {
          "base_uri": "https://localhost:8080/"
        }
      },
      "execution_count": null,
      "outputs": [
        {
          "output_type": "execute_result",
          "data": {
            "text/plain": [
              "0.0"
            ]
          },
          "metadata": {},
          "execution_count": 113
        }
      ]
    },
    {
      "cell_type": "code",
      "source": [
        "preço = 2.00\n",
        "preço %= 3\n",
        "preço"
      ],
      "metadata": {
        "id": "WV2V6II0ARj3",
        "outputId": "9d37862b-3d4e-4bb9-874c-7c361b00bccf",
        "colab": {
          "base_uri": "https://localhost:8080/"
        }
      },
      "execution_count": null,
      "outputs": [
        {
          "output_type": "execute_result",
          "data": {
            "text/plain": [
              "2.0"
            ]
          },
          "metadata": {},
          "execution_count": 114
        }
      ]
    },
    {
      "cell_type": "code",
      "source": [
        "for _ in range (10):\n",
        "  if _ == 4 or _ == 8:\n",
        "    continue\n",
        "  print(_)"
      ],
      "metadata": {
        "id": "YgoSVQyAAfkR",
        "outputId": "cd90ffd4-728f-408e-ede8-29665fbcd195",
        "colab": {
          "base_uri": "https://localhost:8080/"
        }
      },
      "execution_count": null,
      "outputs": [
        {
          "output_type": "stream",
          "name": "stdout",
          "text": [
            "0\n",
            "1\n",
            "2\n",
            "3\n",
            "5\n",
            "6\n",
            "7\n",
            "9\n"
          ]
        }
      ]
    },
    {
      "cell_type": "code",
      "source": [
        "for _ in range (10):\n",
        "  if _ == 4:\n",
        "    break\n",
        "  print(_)"
      ],
      "metadata": {
        "id": "L60uefheE6H2",
        "outputId": "483484b4-c781-4625-9bb0-cb509c5a7e97",
        "colab": {
          "base_uri": "https://localhost:8080/"
        }
      },
      "execution_count": null,
      "outputs": [
        {
          "output_type": "stream",
          "name": "stdout",
          "text": [
            "0\n",
            "1\n",
            "2\n",
            "3\n"
          ]
        }
      ]
    },
    {
      "cell_type": "code",
      "source": [
        "lista = list()\n",
        "type(lista)"
      ],
      "metadata": {
        "id": "7YLb7LSjFENM",
        "outputId": "b2ee048b-726f-400b-c61f-12dc86319078",
        "colab": {
          "base_uri": "https://localhost:8080/"
        }
      },
      "execution_count": null,
      "outputs": [
        {
          "output_type": "execute_result",
          "data": {
            "text/plain": [
              "list"
            ]
          },
          "metadata": {},
          "execution_count": 117
        }
      ]
    },
    {
      "cell_type": "code",
      "source": [
        "lista = []\n",
        "type(lista)"
      ],
      "metadata": {
        "id": "kMAXh7eNHX50",
        "outputId": "4fbcabcc-f472-4f12-8a72-2544a2c22925",
        "colab": {
          "base_uri": "https://localhost:8080/"
        }
      },
      "execution_count": null,
      "outputs": [
        {
          "output_type": "execute_result",
          "data": {
            "text/plain": [
              "list"
            ]
          },
          "metadata": {},
          "execution_count": 118
        }
      ]
    },
    {
      "cell_type": "code",
      "source": [
        "lista = ['nome', 9.5, 9.0, 8.0, True]\n",
        "lista"
      ],
      "metadata": {
        "id": "g3qBhFFVHZbN",
        "outputId": "355c7c5f-8c73-4960-c712-e4ec498b5ec9",
        "colab": {
          "base_uri": "https://localhost:8080/"
        }
      },
      "execution_count": null,
      "outputs": [
        {
          "output_type": "execute_result",
          "data": {
            "text/plain": [
              "['nome', 9.5, 9.0, 8.0, True]"
            ]
          },
          "metadata": {},
          "execution_count": 119
        }
      ]
    },
    {
      "cell_type": "code",
      "source": [
        "lista[0]"
      ],
      "metadata": {
        "id": "xOJCCqT2Hxbl",
        "outputId": "5dbc8b33-4d96-4743-a522-a8418aacb3e7",
        "colab": {
          "base_uri": "https://localhost:8080/",
          "height": 35
        }
      },
      "execution_count": null,
      "outputs": [
        {
          "output_type": "execute_result",
          "data": {
            "text/plain": [
              "'nome'"
            ],
            "application/vnd.google.colaboratory.intrinsic+json": {
              "type": "string"
            }
          },
          "metadata": {},
          "execution_count": 120
        }
      ]
    },
    {
      "cell_type": "code",
      "source": [
        "lista[1]"
      ],
      "metadata": {
        "id": "ulL-dzoxH4NT",
        "outputId": "c10a6f69-40f7-408b-d080-3a36a83dcb03",
        "colab": {
          "base_uri": "https://localhost:8080/"
        }
      },
      "execution_count": null,
      "outputs": [
        {
          "output_type": "execute_result",
          "data": {
            "text/plain": [
              "9.5"
            ]
          },
          "metadata": {},
          "execution_count": 121
        }
      ]
    },
    {
      "cell_type": "code",
      "source": [
        "lista[-1]"
      ],
      "metadata": {
        "id": "A2nD88Y-H5CH",
        "outputId": "936cb9d2-ccb3-44aa-be24-a3fc7eb1bcd1",
        "colab": {
          "base_uri": "https://localhost:8080/"
        }
      },
      "execution_count": null,
      "outputs": [
        {
          "output_type": "execute_result",
          "data": {
            "text/plain": [
              "True"
            ]
          },
          "metadata": {},
          "execution_count": 122
        }
      ]
    },
    {
      "cell_type": "code",
      "source": [
        "lista[-2]"
      ],
      "metadata": {
        "id": "1xfQjkVDH7Ax",
        "outputId": "95183f36-9167-4b29-efd6-19803ad9b089",
        "colab": {
          "base_uri": "https://localhost:8080/"
        }
      },
      "execution_count": null,
      "outputs": [
        {
          "output_type": "execute_result",
          "data": {
            "text/plain": [
              "8.0"
            ]
          },
          "metadata": {},
          "execution_count": 123
        }
      ]
    },
    {
      "cell_type": "code",
      "source": [
        "for item in lista:\n",
        "  print(item)"
      ],
      "metadata": {
        "id": "Lz61WJkhH-ZE",
        "outputId": "a0d2b65d-753e-4133-8e39-b43f5a3be1a1",
        "colab": {
          "base_uri": "https://localhost:8080/"
        }
      },
      "execution_count": null,
      "outputs": [
        {
          "output_type": "stream",
          "name": "stdout",
          "text": [
            "nome\n",
            "9.5\n",
            "9.0\n",
            "8.0\n",
            "True\n"
          ]
        }
      ]
    },
    {
      "cell_type": "code",
      "source": [
        "for item in lista:\n",
        "  print(lista)"
      ],
      "metadata": {
        "id": "Emxyl9nJISBJ",
        "outputId": "86f674a0-5cf9-4a9a-d248-8690ded16a85",
        "colab": {
          "base_uri": "https://localhost:8080/"
        }
      },
      "execution_count": null,
      "outputs": [
        {
          "output_type": "stream",
          "name": "stdout",
          "text": [
            "['nome', 9.5, 9.0, 8.0, True]\n",
            "['nome', 9.5, 9.0, 8.0, True]\n",
            "['nome', 9.5, 9.0, 8.0, True]\n",
            "['nome', 9.5, 9.0, 8.0, True]\n",
            "['nome', 9.5, 9.0, 8.0, True]\n"
          ]
        }
      ]
    },
    {
      "cell_type": "code",
      "source": [
        "lista[0] = 'novo nome'\n",
        "lista"
      ],
      "metadata": {
        "id": "TBFa_SfZIU9z",
        "outputId": "45519028-2c27-4efe-fa79-2d3431dfe6ab",
        "colab": {
          "base_uri": "https://localhost:8080/"
        }
      },
      "execution_count": null,
      "outputs": [
        {
          "output_type": "execute_result",
          "data": {
            "text/plain": [
              "['novo nome', 9.5, 9.0, 8.0, True]"
            ]
          },
          "metadata": {},
          "execution_count": 126
        }
      ]
    },
    {
      "cell_type": "code",
      "source": [
        "média = (lista[1] + lista[2] + lista[3]) / 3\n",
        "média"
      ],
      "metadata": {
        "id": "lX73Ra-6IuAF",
        "outputId": "6c35c584-8a13-495b-9712-52bd66f6cd91",
        "colab": {
          "base_uri": "https://localhost:8080/"
        }
      },
      "execution_count": null,
      "outputs": [
        {
          "output_type": "execute_result",
          "data": {
            "text/plain": [
              "8.833333333333334"
            ]
          },
          "metadata": {},
          "execution_count": 127
        }
      ]
    },
    {
      "cell_type": "code",
      "source": [
        "linguagem = 'python'"
      ],
      "metadata": {
        "id": "Oa-xoF2rI6-Z"
      },
      "execution_count": null,
      "outputs": []
    },
    {
      "cell_type": "code",
      "source": [
        "for _ in range(len(linguagem)):\n",
        "  print(linguagem[_])"
      ],
      "metadata": {
        "colab": {
          "base_uri": "https://localhost:8080/"
        },
        "id": "2O7Qz5Y1deSd",
        "outputId": "a3190c61-3df1-4c31-cb68-e5ab0bb5bf7a"
      },
      "execution_count": null,
      "outputs": [
        {
          "output_type": "stream",
          "name": "stdout",
          "text": [
            "p\n",
            "y\n",
            "t\n",
            "h\n",
            "o\n",
            "n\n"
          ]
        }
      ]
    },
    {
      "cell_type": "code",
      "source": [
        "dúvida = 'quem veio antes? o ovo? ou a galinha?'\n",
        "dúvida.split('?')"
      ],
      "metadata": {
        "colab": {
          "base_uri": "https://localhost:8080/"
        },
        "id": "mi3iHrC4eWBE",
        "outputId": "648209ac-b735-4bec-b88a-e370b9b1386d"
      },
      "execution_count": null,
      "outputs": [
        {
          "output_type": "execute_result",
          "data": {
            "text/plain": [
              "['quem veio antes', ' o ovo', ' ou a galinha', '']"
            ]
          },
          "metadata": {},
          "execution_count": 130
        }
      ]
    },
    {
      "cell_type": "code",
      "source": [
        "misturas = ['tintas: vermelho, azul e amarelo',\n",
        "            'verde: mistura de azul e amarelo',\n",
        "            'laranja: mistura de vermelho e amarelo',\n",
        "            'roxo: mistura de vermelho e azul']\n",
        "'. '.join(misturas)"
      ],
      "metadata": {
        "colab": {
          "base_uri": "https://localhost:8080/",
          "height": 53
        },
        "id": "or0zTpAye-x9",
        "outputId": "267f06e8-0892-4c5a-f23d-0e402b49a954"
      },
      "execution_count": null,
      "outputs": [
        {
          "output_type": "execute_result",
          "data": {
            "text/plain": [
              "'tintas: vermelho, azul e amarelo. verde: mistura de azul e amarelo. laranja: mistura de vermelho e amarelo. roxo: mistura de vermelho e azul'"
            ],
            "application/vnd.google.colaboratory.intrinsic+json": {
              "type": "string"
            }
          },
          "metadata": {},
          "execution_count": 131
        }
      ]
    },
    {
      "cell_type": "code",
      "source": [
        "lista = ['a', 'b', 'c', 'd', 'e', 'f']\n",
        "lista = list('abcdef')"
      ],
      "metadata": {
        "id": "f_5V3hT9fUQk"
      },
      "execution_count": null,
      "outputs": []
    },
    {
      "cell_type": "code",
      "source": [
        "len(lista)"
      ],
      "metadata": {
        "colab": {
          "base_uri": "https://localhost:8080/"
        },
        "id": "Ki64b6jZgxyi",
        "outputId": "7f2c6dbb-c24b-49ca-9870-fa788cecad77"
      },
      "execution_count": null,
      "outputs": [
        {
          "output_type": "execute_result",
          "data": {
            "text/plain": [
              "6"
            ]
          },
          "metadata": {},
          "execution_count": 133
        }
      ]
    },
    {
      "cell_type": "code",
      "source": [
        "lista[1:5]"
      ],
      "metadata": {
        "colab": {
          "base_uri": "https://localhost:8080/"
        },
        "id": "7I4HcZXjgyqp",
        "outputId": "7bfe03df-e0f3-486f-fe5a-f4d11adc8e98"
      },
      "execution_count": null,
      "outputs": [
        {
          "output_type": "execute_result",
          "data": {
            "text/plain": [
              "['b', 'c', 'd', 'e']"
            ]
          },
          "metadata": {},
          "execution_count": 134
        }
      ]
    },
    {
      "cell_type": "code",
      "source": [
        "lista[1:4]"
      ],
      "metadata": {
        "colab": {
          "base_uri": "https://localhost:8080/"
        },
        "id": "HtW1FlRShAtp",
        "outputId": "c4da6f6c-7cf0-4fd8-cf65-c8d38efc327f"
      },
      "execution_count": null,
      "outputs": [
        {
          "output_type": "execute_result",
          "data": {
            "text/plain": [
              "['b', 'c', 'd']"
            ]
          },
          "metadata": {},
          "execution_count": 135
        }
      ]
    },
    {
      "cell_type": "code",
      "source": [
        "lista[:3]"
      ],
      "metadata": {
        "colab": {
          "base_uri": "https://localhost:8080/"
        },
        "id": "e5PMmWmQhJyS",
        "outputId": "53dc66e2-b4be-493e-9d96-3439541bdec3"
      },
      "execution_count": null,
      "outputs": [
        {
          "output_type": "execute_result",
          "data": {
            "text/plain": [
              "['a', 'b', 'c']"
            ]
          },
          "metadata": {},
          "execution_count": 136
        }
      ]
    },
    {
      "cell_type": "code",
      "source": [
        "lista[3:]"
      ],
      "metadata": {
        "colab": {
          "base_uri": "https://localhost:8080/"
        },
        "id": "8dG2iRCjhLLr",
        "outputId": "2b578b0d-d84a-42b6-9845-d4efa2183a87"
      },
      "execution_count": null,
      "outputs": [
        {
          "output_type": "execute_result",
          "data": {
            "text/plain": [
              "['d', 'e', 'f']"
            ]
          },
          "metadata": {},
          "execution_count": 137
        }
      ]
    },
    {
      "cell_type": "code",
      "source": [
        "lista[:]"
      ],
      "metadata": {
        "colab": {
          "base_uri": "https://localhost:8080/"
        },
        "id": "HHIOTW2ihVFI",
        "outputId": "f4b9761b-0d2d-4e4e-8d76-68ed84c7cae7"
      },
      "execution_count": null,
      "outputs": [
        {
          "output_type": "execute_result",
          "data": {
            "text/plain": [
              "['a', 'b', 'c', 'd', 'e', 'f']"
            ]
          },
          "metadata": {},
          "execution_count": 138
        }
      ]
    },
    {
      "cell_type": "code",
      "source": [
        "lista.append('g')\n",
        "lista"
      ],
      "metadata": {
        "colab": {
          "base_uri": "https://localhost:8080/"
        },
        "id": "pizbxhz2h37J",
        "outputId": "37b36fe5-a2cd-4a53-dc5d-63671d896a94"
      },
      "execution_count": null,
      "outputs": [
        {
          "output_type": "execute_result",
          "data": {
            "text/plain": [
              "['a', 'b', 'c', 'd', 'e', 'f', 'g']"
            ]
          },
          "metadata": {},
          "execution_count": 139
        }
      ]
    },
    {
      "cell_type": "code",
      "source": [
        "lista.extend(['h', 'i', 'j', 'k'])\n",
        "lista"
      ],
      "metadata": {
        "colab": {
          "base_uri": "https://localhost:8080/"
        },
        "id": "DtbAjb2oiBBo",
        "outputId": "3309b7aa-ed19-4a88-f612-7eeb8c013b3f"
      },
      "execution_count": null,
      "outputs": [
        {
          "output_type": "execute_result",
          "data": {
            "text/plain": [
              "['a', 'b', 'c', 'd', 'e', 'f', 'g', 'h', 'i', 'j', 'k']"
            ]
          },
          "metadata": {},
          "execution_count": 140
        }
      ]
    },
    {
      "cell_type": "code",
      "source": [
        "lista.remove('k')\n",
        "lista"
      ],
      "metadata": {
        "colab": {
          "base_uri": "https://localhost:8080/"
        },
        "id": "LkU9ol-tiPOY",
        "outputId": "cf96dde7-f01c-4dd8-cdc3-88940ab184a2"
      },
      "execution_count": null,
      "outputs": [
        {
          "output_type": "execute_result",
          "data": {
            "text/plain": [
              "['a', 'b', 'c', 'd', 'e', 'f', 'g', 'h', 'i', 'j']"
            ]
          },
          "metadata": {},
          "execution_count": 141
        }
      ]
    },
    {
      "cell_type": "code",
      "source": [
        "lista += 'klm'\n",
        "lista"
      ],
      "metadata": {
        "colab": {
          "base_uri": "https://localhost:8080/"
        },
        "id": "-neGR9G6ilJA",
        "outputId": "55b5e4a0-aeef-49e6-902e-3a9774ce0aa0"
      },
      "execution_count": null,
      "outputs": [
        {
          "output_type": "execute_result",
          "data": {
            "text/plain": [
              "['a', 'b', 'c', 'd', 'e', 'f', 'g', 'h', 'i', 'j', 'k', 'l', 'm']"
            ]
          },
          "metadata": {},
          "execution_count": 142
        }
      ]
    },
    {
      "cell_type": "code",
      "source": [
        "lista.insert(0, 'início')\n",
        "lista"
      ],
      "metadata": {
        "id": "O-cH0Chnk4xk",
        "outputId": "541bb327-1956-4dac-9596-d8c4fde7be3f",
        "colab": {
          "base_uri": "https://localhost:8080/"
        }
      },
      "execution_count": null,
      "outputs": [
        {
          "output_type": "execute_result",
          "data": {
            "text/plain": [
              "['início', 'a', 'b', 'c', 'd', 'e', 'f', 'g', 'h', 'i', 'j', 'k', 'l', 'm']"
            ]
          },
          "metadata": {},
          "execution_count": 143
        }
      ]
    },
    {
      "cell_type": "code",
      "source": [
        "lista.insert(len(lista), 'final')\n",
        "lista"
      ],
      "metadata": {
        "id": "BoA0Lux0lDHU",
        "outputId": "716b08a7-100e-46e1-83d2-aed373df8f19",
        "colab": {
          "base_uri": "https://localhost:8080/"
        }
      },
      "execution_count": null,
      "outputs": [
        {
          "output_type": "execute_result",
          "data": {
            "text/plain": [
              "['início',\n",
              " 'a',\n",
              " 'b',\n",
              " 'c',\n",
              " 'd',\n",
              " 'e',\n",
              " 'f',\n",
              " 'g',\n",
              " 'h',\n",
              " 'i',\n",
              " 'j',\n",
              " 'k',\n",
              " 'l',\n",
              " 'm',\n",
              " 'final']"
            ]
          },
          "metadata": {},
          "execution_count": 144
        }
      ]
    },
    {
      "cell_type": "code",
      "source": [
        "lista.pop(0)"
      ],
      "metadata": {
        "id": "SBgkgc4glOTc",
        "outputId": "7744bccf-e4e0-45e0-972b-10d331ffbb1d",
        "colab": {
          "base_uri": "https://localhost:8080/",
          "height": 35
        }
      },
      "execution_count": null,
      "outputs": [
        {
          "output_type": "execute_result",
          "data": {
            "text/plain": [
              "'início'"
            ],
            "application/vnd.google.colaboratory.intrinsic+json": {
              "type": "string"
            }
          },
          "metadata": {},
          "execution_count": 145
        }
      ]
    },
    {
      "cell_type": "code",
      "source": [
        "lista.pop(-1)"
      ],
      "metadata": {
        "id": "-7hxSV3clYDs",
        "outputId": "7a7f3b0c-3c61-4fa0-92ba-c9847c1a1a44",
        "colab": {
          "base_uri": "https://localhost:8080/",
          "height": 35
        }
      },
      "execution_count": null,
      "outputs": [
        {
          "output_type": "execute_result",
          "data": {
            "text/plain": [
              "'final'"
            ],
            "application/vnd.google.colaboratory.intrinsic+json": {
              "type": "string"
            }
          },
          "metadata": {},
          "execution_count": 146
        }
      ]
    },
    {
      "cell_type": "code",
      "source": [
        "lista"
      ],
      "metadata": {
        "id": "ea6il-JhlZsr",
        "outputId": "3728b69f-355c-4871-f433-c4741d14edee",
        "colab": {
          "base_uri": "https://localhost:8080/"
        }
      },
      "execution_count": null,
      "outputs": [
        {
          "output_type": "execute_result",
          "data": {
            "text/plain": [
              "['a', 'b', 'c', 'd', 'e', 'f', 'g', 'h', 'i', 'j', 'k', 'l', 'm']"
            ]
          },
          "metadata": {},
          "execution_count": 147
        }
      ]
    },
    {
      "cell_type": "code",
      "source": [
        "dicionário = {'chave_1' : 1,\n",
        "              'chave_2' : 2}\n",
        "dicionário"
      ],
      "metadata": {
        "id": "8i_Dp6UnRE8r",
        "outputId": "f3622989-2bac-4a68-fec4-d365217f5344",
        "colab": {
          "base_uri": "https://localhost:8080/"
        }
      },
      "execution_count": null,
      "outputs": [
        {
          "output_type": "execute_result",
          "data": {
            "text/plain": [
              "{'chave_1': 1, 'chave_2': 2}"
            ]
          },
          "metadata": {},
          "execution_count": 148
        }
      ]
    },
    {
      "cell_type": "code",
      "source": [
        "dicionário['chave_1']"
      ],
      "metadata": {
        "id": "NHOKC6EVTfEM",
        "outputId": "c087a86e-a58d-44ea-ce0b-b5678b8f4ad4",
        "colab": {
          "base_uri": "https://localhost:8080/"
        }
      },
      "execution_count": null,
      "outputs": [
        {
          "output_type": "execute_result",
          "data": {
            "text/plain": [
              "1"
            ]
          },
          "metadata": {},
          "execution_count": 149
        }
      ]
    },
    {
      "cell_type": "code",
      "source": [
        "data = {'dia': 6,\n",
        "        'mês': 'fevereiro',\n",
        "        'ano': 2024}\n",
        "data"
      ],
      "metadata": {
        "id": "Wg7iyKwWTiLM",
        "outputId": "bd6f08bd-5ccb-4637-def0-2e4a8dcf2a22",
        "colab": {
          "base_uri": "https://localhost:8080/"
        }
      },
      "execution_count": null,
      "outputs": [
        {
          "output_type": "execute_result",
          "data": {
            "text/plain": [
              "{'dia': 6, 'mês': 'fevereiro', 'ano': 2024}"
            ]
          },
          "metadata": {},
          "execution_count": 150
        }
      ]
    },
    {
      "cell_type": "code",
      "source": [
        "data['dia']"
      ],
      "metadata": {
        "id": "3QIk84-VT1xk",
        "outputId": "24853bca-8a2d-4862-eb69-8d7dcb047789",
        "colab": {
          "base_uri": "https://localhost:8080/"
        }
      },
      "execution_count": null,
      "outputs": [
        {
          "output_type": "execute_result",
          "data": {
            "text/plain": [
              "6"
            ]
          },
          "metadata": {},
          "execution_count": 151
        }
      ]
    },
    {
      "cell_type": "code",
      "source": [
        "data['mês']"
      ],
      "metadata": {
        "id": "lCinyzSMT2y8",
        "outputId": "7a5407ce-d443-468d-c088-9dc139db7dfb",
        "colab": {
          "base_uri": "https://localhost:8080/",
          "height": 35
        }
      },
      "execution_count": null,
      "outputs": [
        {
          "output_type": "execute_result",
          "data": {
            "text/plain": [
              "'fevereiro'"
            ],
            "application/vnd.google.colaboratory.intrinsic+json": {
              "type": "string"
            }
          },
          "metadata": {},
          "execution_count": 152
        }
      ]
    },
    {
      "cell_type": "code",
      "source": [
        "data['ano']"
      ],
      "metadata": {
        "id": "z0N-C4xTT5YM",
        "outputId": "615c3f85-20af-47fd-d995-daaf423a9177",
        "colab": {
          "base_uri": "https://localhost:8080/"
        }
      },
      "execution_count": null,
      "outputs": [
        {
          "output_type": "execute_result",
          "data": {
            "text/plain": [
              "2024"
            ]
          },
          "metadata": {},
          "execution_count": 153
        }
      ]
    },
    {
      "cell_type": "code",
      "source": [
        "data['ano'] = 2023"
      ],
      "metadata": {
        "id": "om8qIy_lT6e1"
      },
      "execution_count": null,
      "outputs": []
    },
    {
      "cell_type": "code",
      "source": [
        "data['ano']"
      ],
      "metadata": {
        "id": "Ni8T8HJBUBK0",
        "outputId": "defd0d0c-2bd6-4eb3-dd07-998995c9162b",
        "colab": {
          "base_uri": "https://localhost:8080/"
        }
      },
      "execution_count": null,
      "outputs": [
        {
          "output_type": "execute_result",
          "data": {
            "text/plain": [
              "2023"
            ]
          },
          "metadata": {},
          "execution_count": 155
        }
      ]
    },
    {
      "cell_type": "code",
      "source": [
        "data['feriado'] = False"
      ],
      "metadata": {
        "id": "BBWeFFI8UBrM"
      },
      "execution_count": null,
      "outputs": []
    },
    {
      "cell_type": "code",
      "source": [
        "data"
      ],
      "metadata": {
        "id": "wFc5pvsXUKYU",
        "outputId": "2eae5764-4d79-44d0-cc04-71f123d5525d",
        "colab": {
          "base_uri": "https://localhost:8080/"
        }
      },
      "execution_count": null,
      "outputs": [
        {
          "output_type": "execute_result",
          "data": {
            "text/plain": [
              "{'dia': 6, 'mês': 'fevereiro', 'ano': 2023, 'feriado': False}"
            ]
          },
          "metadata": {},
          "execution_count": 157
        }
      ]
    },
    {
      "cell_type": "code",
      "source": [
        "data.pop('feriado')"
      ],
      "metadata": {
        "id": "__oQDmfLULG0",
        "outputId": "c0ecb1b4-4e18-4af5-cd20-3b6e57095373",
        "colab": {
          "base_uri": "https://localhost:8080/"
        }
      },
      "execution_count": null,
      "outputs": [
        {
          "output_type": "execute_result",
          "data": {
            "text/plain": [
              "False"
            ]
          },
          "metadata": {},
          "execution_count": 158
        }
      ]
    },
    {
      "cell_type": "code",
      "source": [
        "data"
      ],
      "metadata": {
        "id": "S57bxyXBU27d",
        "outputId": "f273882a-9b7e-4289-d483-4c63c2fb78a7",
        "colab": {
          "base_uri": "https://localhost:8080/"
        }
      },
      "execution_count": null,
      "outputs": [
        {
          "output_type": "execute_result",
          "data": {
            "text/plain": [
              "{'dia': 6, 'mês': 'fevereiro', 'ano': 2023}"
            ]
          },
          "metadata": {},
          "execution_count": 159
        }
      ]
    },
    {
      "cell_type": "code",
      "source": [
        "data.items()"
      ],
      "metadata": {
        "id": "DkcxI6NKU3p8",
        "outputId": "8e88a51f-7e8c-4845-ebd7-fb4c84797b32",
        "colab": {
          "base_uri": "https://localhost:8080/"
        }
      },
      "execution_count": null,
      "outputs": [
        {
          "output_type": "execute_result",
          "data": {
            "text/plain": [
              "dict_items([('dia', 6), ('mês', 'fevereiro'), ('ano', 2023)])"
            ]
          },
          "metadata": {},
          "execution_count": 160
        }
      ]
    },
    {
      "cell_type": "code",
      "source": [
        "data.keys()"
      ],
      "metadata": {
        "id": "33oU2dmRVE9U",
        "outputId": "399453f8-6ef9-4840-9036-f88832fa6289",
        "colab": {
          "base_uri": "https://localhost:8080/"
        }
      },
      "execution_count": null,
      "outputs": [
        {
          "output_type": "execute_result",
          "data": {
            "text/plain": [
              "dict_keys(['dia', 'mês', 'ano'])"
            ]
          },
          "metadata": {},
          "execution_count": 161
        }
      ]
    },
    {
      "cell_type": "code",
      "source": [
        "data.values()"
      ],
      "metadata": {
        "id": "Xwr0xNQeVIcc",
        "outputId": "2f2ad9a4-585d-4297-9867-7f42659cbeee",
        "colab": {
          "base_uri": "https://localhost:8080/"
        }
      },
      "execution_count": null,
      "outputs": [
        {
          "output_type": "execute_result",
          "data": {
            "text/plain": [
              "dict_values([6, 'fevereiro', 2023])"
            ]
          },
          "metadata": {},
          "execution_count": 162
        }
      ]
    },
    {
      "cell_type": "code",
      "source": [
        "for key in data.keys():\n",
        "  print(data[key])"
      ],
      "metadata": {
        "id": "SPmvPPL9VKNM",
        "outputId": "a61acd54-0de2-4abb-86c3-03aff00d1a57",
        "colab": {
          "base_uri": "https://localhost:8080/"
        }
      },
      "execution_count": null,
      "outputs": [
        {
          "output_type": "stream",
          "name": "stdout",
          "text": [
            "6\n",
            "fevereiro\n",
            "2023\n"
          ]
        }
      ]
    },
    {
      "cell_type": "code",
      "source": [
        "for value in data.values():\n",
        "  print(value)"
      ],
      "metadata": {
        "id": "8vxL0zphVvAU",
        "outputId": "41fd5f75-33a3-45c6-d728-df266dd43291",
        "colab": {
          "base_uri": "https://localhost:8080/"
        }
      },
      "execution_count": null,
      "outputs": [
        {
          "output_type": "stream",
          "name": "stdout",
          "text": [
            "6\n",
            "fevereiro\n",
            "2023\n"
          ]
        }
      ]
    },
    {
      "cell_type": "code",
      "source": [
        "for key, value in data.items():\n",
        "  print(key, value)"
      ],
      "metadata": {
        "id": "pZB6bgT6V5E0",
        "outputId": "5f151bd2-4fbe-4202-b3b9-26348b6119f7",
        "colab": {
          "base_uri": "https://localhost:8080/"
        }
      },
      "execution_count": null,
      "outputs": [
        {
          "output_type": "stream",
          "name": "stdout",
          "text": [
            "dia 6\n",
            "mês fevereiro\n",
            "ano 2023\n"
          ]
        }
      ]
    },
    {
      "cell_type": "code",
      "source": [
        "loja = {'produtos': ['televisão', 'celular', 'laptop', 'geladeira'],\n",
        "        'preços': [2000, 1500, 3500, 4000]}\n",
        "loja"
      ],
      "metadata": {
        "id": "DvgSLgiIWCpU",
        "outputId": "fcacf724-e14a-426c-f158-e84c6d8d21f1",
        "colab": {
          "base_uri": "https://localhost:8080/"
        }
      },
      "execution_count": null,
      "outputs": [
        {
          "output_type": "execute_result",
          "data": {
            "text/plain": [
              "{'produtos': ['televisão', 'celular', 'laptop', 'geladeira'],\n",
              " 'preços': [2000, 1500, 3500, 4000]}"
            ]
          },
          "metadata": {},
          "execution_count": 166
        }
      ]
    },
    {
      "cell_type": "code",
      "source": [
        "for key, value in loja.items():\n",
        "  print(key.upper())\n",
        "  for data in value:\n",
        "    print(data)"
      ],
      "metadata": {
        "id": "J30CInWsXHjs",
        "outputId": "4d76511f-ec9e-4c04-a20a-56811141acf6",
        "colab": {
          "base_uri": "https://localhost:8080/"
        }
      },
      "execution_count": null,
      "outputs": [
        {
          "output_type": "stream",
          "name": "stdout",
          "text": [
            "PRODUTOS\n",
            "televisão\n",
            "celular\n",
            "laptop\n",
            "geladeira\n",
            "PREÇOS\n",
            "2000\n",
            "1500\n",
            "3500\n",
            "4000\n"
          ]
        }
      ]
    },
    {
      "cell_type": "markdown",
      "source": [
        "**See you space cowboy...**"
      ],
      "metadata": {
        "id": "OOLrjz9FYen3"
      }
    }
  ]
}