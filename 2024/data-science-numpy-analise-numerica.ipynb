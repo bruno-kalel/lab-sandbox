{
  "nbformat": 4,
  "nbformat_minor": 0,
  "metadata": {
    "colab": {
      "provenance": [],
      "authorship_tag": "ABX9TyO0+L+JSGcb4Ys3WiThWkuO"
    },
    "kernelspec": {
      "name": "python3",
      "display_name": "Python 3"
    },
    "language_info": {
      "name": "python"
    }
  },
  "cells": [
    {
      "cell_type": "markdown",
      "source": [
        "Curso de **NumPy: análise numérica eficiente com Python**<br>\n",
        "`https://cursos.alura.com.br/course/numpy-analise-numerica-eficiente-pythons`"
      ],
      "metadata": {
        "id": "cT06TA-Kqux_"
      }
    },
    {
      "cell_type": "code",
      "source": [
        "from google.colab import drive\n",
        "drive.mount('/content/drive')"
      ],
      "metadata": {
        "id": "um_Z7ecDs2t1",
        "outputId": "c51d47e9-77f4-4a38-f7d6-4c4c5008197b",
        "colab": {
          "base_uri": "https://localhost:8080/"
        }
      },
      "execution_count": null,
      "outputs": [
        {
          "output_type": "stream",
          "name": "stdout",
          "text": [
            "Mounted at /content/drive\n"
          ]
        }
      ]
    },
    {
      "cell_type": "code",
      "source": [
        "folder_path = '/content/drive/My Drive/numpy-dados'"
      ],
      "metadata": {
        "id": "gDnv64sEr_d7"
      },
      "execution_count": null,
      "outputs": []
    },
    {
      "cell_type": "code",
      "source": [
        "from os import listdir\n",
        "listdir(folder_path)"
      ],
      "metadata": {
        "colab": {
          "base_uri": "https://localhost:8080/"
        },
        "id": "QNQ41MBasIlV",
        "outputId": "a17e98f2-ad17-4356-d9a1-263a09964b7f"
      },
      "execution_count": null,
      "outputs": [
        {
          "output_type": "execute_result",
          "data": {
            "text/plain": [
              "['citrus.csv', 'bytebank.csv', 'apples_ts.csv', 'README.md']"
            ]
          },
          "metadata": {},
          "execution_count": 3
        }
      ]
    },
    {
      "cell_type": "code",
      "source": [
        "citrus = f'{folder_path}/citrus.csv'"
      ],
      "metadata": {
        "id": "Q7MZz5c7zkdT"
      },
      "execution_count": null,
      "outputs": []
    },
    {
      "cell_type": "code",
      "source": [
        "bytebank = f'{folder_path}/bytebank.csv'"
      ],
      "metadata": {
        "id": "LPOSxb3jzhpr"
      },
      "execution_count": null,
      "outputs": []
    },
    {
      "cell_type": "code",
      "source": [
        "apples_ts = f'{folder_path}/apples_ts.csv'"
      ],
      "metadata": {
        "id": "TzHs-11OzjjL"
      },
      "execution_count": null,
      "outputs": []
    },
    {
      "cell_type": "code",
      "source": [
        "import numpy as np"
      ],
      "metadata": {
        "id": "sichxwO8sMqd"
      },
      "execution_count": null,
      "outputs": []
    },
    {
      "cell_type": "code",
      "source": [
        "7 * 12 + 3"
      ],
      "metadata": {
        "colab": {
          "base_uri": "https://localhost:8080/"
        },
        "id": "f1CJJKSDuHu-",
        "outputId": "f7fb3b79-f49d-4ef2-8eb8-4be8c5269c61"
      },
      "execution_count": null,
      "outputs": [
        {
          "output_type": "execute_result",
          "data": {
            "text/plain": [
              "87"
            ]
          },
          "metadata": {},
          "execution_count": 8
        }
      ]
    },
    {
      "cell_type": "code",
      "source": [
        "np.arange(start=1, stop=88, step=1)"
      ],
      "metadata": {
        "colab": {
          "base_uri": "https://localhost:8080/"
        },
        "id": "1O0y-uzmueIO",
        "outputId": "aceab092-ab5e-4d7d-a101-3c7865946746"
      },
      "execution_count": null,
      "outputs": [
        {
          "output_type": "execute_result",
          "data": {
            "text/plain": [
              "array([ 1,  2,  3,  4,  5,  6,  7,  8,  9, 10, 11, 12, 13, 14, 15, 16, 17,\n",
              "       18, 19, 20, 21, 22, 23, 24, 25, 26, 27, 28, 29, 30, 31, 32, 33, 34,\n",
              "       35, 36, 37, 38, 39, 40, 41, 42, 43, 44, 45, 46, 47, 48, 49, 50, 51,\n",
              "       52, 53, 54, 55, 56, 57, 58, 59, 60, 61, 62, 63, 64, 65, 66, 67, 68,\n",
              "       69, 70, 71, 72, 73, 74, 75, 76, 77, 78, 79, 80, 81, 82, 83, 84, 85,\n",
              "       86, 87])"
            ]
          },
          "metadata": {},
          "execution_count": 9
        }
      ]
    },
    {
      "cell_type": "code",
      "source": [
        "dados = np.loadtxt(apples_ts,\n",
        "                   delimiter=',',\n",
        "                   usecols=np.arange(start=1, stop=88, step=1))"
      ],
      "metadata": {
        "id": "Z6d22atUt3Zo"
      },
      "execution_count": null,
      "outputs": []
    },
    {
      "cell_type": "code",
      "source": [
        "dados"
      ],
      "metadata": {
        "colab": {
          "base_uri": "https://localhost:8080/"
        },
        "id": "mgDGMvGNuy3f",
        "outputId": "ac1f2323-3162-457a-8a89-66fff8f4f9d4"
      },
      "execution_count": null,
      "outputs": [
        {
          "output_type": "execute_result",
          "data": {
            "text/plain": [
              "array([[  1.2013,   2.2013,   3.2013,   4.2013,   5.2013,   6.2013,\n",
              "          7.2013,   8.2013,   9.2013,  10.2013,  11.2013,  12.2013,\n",
              "          1.2014,   2.2014,   3.2014,   4.2014,   5.2014,   6.2014,\n",
              "          7.2014,   8.2014,   9.2014,  10.2014,  11.2014,  12.2014,\n",
              "          1.2015,   2.2015,   3.2015,   4.2015,   5.2015,   6.2015,\n",
              "          7.2015,   8.2015,   9.2015,  10.2015,  11.2015,  12.2015,\n",
              "          1.2016,   2.2016,   3.2016,   4.2016,   5.2016,   6.2016,\n",
              "          7.2016,   8.2016,   9.2016,  10.2016,  11.2016,  12.2016,\n",
              "          1.2017,   2.2017,   3.2017,   4.2017,   5.2017,   6.2017,\n",
              "          7.2017,   8.2017,   9.2017,  10.2017,  11.2017,  12.2017,\n",
              "          1.2018,   2.2018,   3.2018,   4.2018,   5.2018,   6.2018,\n",
              "          7.2018,   8.2018,   9.2018,  10.2018,  11.2018,  12.2018,\n",
              "          1.2019,   2.2019,   3.2019,   4.2019,   5.2019,   6.2019,\n",
              "          7.2019,   8.2019,   9.2019,  10.2019,  11.2019,  12.2019,\n",
              "          1.202 ,   2.202 ,   3.202 ],\n",
              "       [ 79.72  ,  81.08  ,  79.68  ,  79.8   ,  80.63  ,  80.8   ,\n",
              "         80.28  ,  78.99  ,  76.77  ,  76.09  ,  76.36  ,  77.16  ,\n",
              "         77.5   ,  79.03  ,  80.28  ,  80.05  ,  78.11  ,  76.9   ,\n",
              "         77.68  ,  76.05  ,  75.53  ,  73.39  ,  78.36  ,  89.16  ,\n",
              "        105.43  , 104.82  , 101.15  ,  98.63  ,  99.96  ,  97.29  ,\n",
              "         98.64  , 104.26  , 102.63  ,  98.64  ,  97.17  ,  98.09  ,\n",
              "        103.07  , 110.26  , 110.84  , 112.28  , 111.1   , 110.06  ,\n",
              "        113.7   , 112.88  , 102.08  ,  95.54  ,  91.33  ,  89.99  ,\n",
              "         91.44  ,  93.51  ,  93.6   ,  93.78  ,  98.91  , 121.76  ,\n",
              "        129.6   , 127.9   , 114.55  , 101.88  ,  99.09  , 103.35  ,\n",
              "        106.58  , 108.    , 114.95  , 121.17  , 122.48  , 127.58  ,\n",
              "        131.89  , 129.36  , 104.26  ,  93.45  ,  92.93  ,  96.15  ,\n",
              "         99.1   , 103.    , 103.31  , 103.01  , 107.37  , 116.91  ,\n",
              "        125.29  , 123.94  , 113.03  , 102.19  ,  97.83  , 101.07  ,\n",
              "        103.44  , 108.23  , 110.28  ],\n",
              "       [ 42.67  ,  44.37  ,  44.73  ,  46.75  ,      nan,  51.59  ,\n",
              "         57.8   ,  62.14  ,  56.76  ,  50.85  ,  46.43  ,  46.73  ,\n",
              "         45.85  ,  49.25  ,  48.14  ,  49.18  ,  49.49  ,  49.83  ,\n",
              "         49.14  ,  63.21  ,  61.2   ,  60.34  ,  62.2   ,  74.2   ,\n",
              "         75.32  ,  75.92  ,  72.89  ,  74.85  ,  92.19  ,  99.7   ,\n",
              "        102.78  ,  92.67  ,  90.63  ,  83.31  ,  75.5   ,  74.6   ,\n",
              "         76.94  ,  83.04  ,  80.74  ,  80.29  ,  82.82  ,  86.29  ,\n",
              "         87.41  ,  85.1   ,  78.08  ,  76.06  ,  69.23  ,  69.04  ,\n",
              "         64.48  ,  65.73  ,  67.2   ,  70.25  ,  82.59  ,  92.12  ,\n",
              "        100.82  ,  95.23  ,  89.51  ,  82.84  ,  82.3   ,  83.76  ,\n",
              "         84.72  ,  83.91  ,  99.14  , 101.6   , 113.03  , 119.54  ,\n",
              "        118.09  , 107.32  ,  82.6   ,  77.4   ,  71.77  ,  71.25  ,\n",
              "         71.35  ,  73.62  ,  76.2   ,  74.15  ,  75.67  ,  79.2   ,\n",
              "         80.85  ,  85.33  ,  75.02  ,  77.95  ,  78.98  ,  76.55  ,\n",
              "         74.89  ,  70.    ,  81.53  ],\n",
              "       [ 62.55  ,  62.73  ,  63.43  ,  63.83  ,  66.06  ,  69.22  ,\n",
              "         72.07  ,  69.31  ,  65.18  ,  62.13  ,  64.17  ,  65.5   ,\n",
              "         66.85  ,  68.38  ,  68.77  ,  69.32  ,  69.77  ,  70.17  ,\n",
              "         70.76  ,  75.16  ,  74.86  ,  71.47  ,  76.08  ,  82.11  ,\n",
              "         94.63  ,  98.54  ,  97.84  ,  94.54  ,  97.88  ,  97.73  ,\n",
              "        100.89  , 104.88  , 104.39  , 101.9   ,  98.99  ,  99.42  ,\n",
              "        106.37  , 113.89  , 114.78  , 115.6   , 115.89  , 117.66  ,\n",
              "        118.27  , 114.19  , 101.81  ,  91.62  ,  90.15  ,  90.55  ,\n",
              "         92.3   ,  91.75  ,  92.    ,  92.57  , 100.28  , 114.33  ,\n",
              "        122.17  , 117.83  , 112.49  ,  93.7   ,  97.17  ,  95.64  ,\n",
              "        102.21  , 107.58  , 110.48  , 117.73  , 122.07  , 128.58  ,\n",
              "        131.12  , 127.08  , 110.99  ,  97.43  ,  92.05  ,  93.21  ,\n",
              "         98.58  , 100.23  , 102.09  , 101.73  , 107.28  , 115.35  ,\n",
              "        123.03  , 123.08  , 109.71  ,  97.22  ,  95.75  ,  97.09  ,\n",
              "         98.18  , 103.1   , 110.6   ],\n",
              "       [ 48.26  ,  51.01  ,  50.91  ,  53.94  ,  61.27  ,  65.44  ,\n",
              "         56.51  ,  53.    ,  43.87  ,  42.12  ,  43.98  ,  44.66  ,\n",
              "         47.73  ,  52.31  ,  56.8   ,  51.15  ,  54.63  ,  55.8   ,\n",
              "         57.31  ,  53.81  ,  55.5   ,  52.95  ,  53.29  ,  54.86  ,\n",
              "         71.72  ,  74.36  ,  78.25  ,  70.63  ,  77.06  ,  81.52  ,\n",
              "         84.12  ,  83.33  ,  66.98  ,  62.04  ,  59.79  ,  66.06  ,\n",
              "         71.99  ,  76.79  ,  80.98  ,  89.18  ,  92.71  ,  94.85  ,\n",
              "         99.18  ,  86.33  ,  71.94  ,  67.18  ,  62.98  ,  69.45  ,\n",
              "         67.56  ,  67.92  ,  68.4   ,  67.97  ,  76.33  ,  95.79  ,\n",
              "        112.36  ,  82.03  ,  73.83  ,  66.12  ,  63.24  ,  63.98  ,\n",
              "         69.1   ,  70.04  ,  80.03  ,  87.92  ,  97.07  , 106.52  ,\n",
              "        108.93  ,  95.17  ,  74.31  ,  62.63  ,  69.92  ,  70.58  ,\n",
              "         74.63  ,  78.69  ,  81.82  ,  82.36  ,  89.44  , 102.01  ,\n",
              "        116.12  ,  92.06  ,  82.7   ,  66.62  ,  68.11  ,  73.48  ,\n",
              "         82.04  ,  81.19  ,  95.05  ],\n",
              "       [ 71.25  ,  71.35  ,  70.9   ,  71.92  ,  72.91  ,  74.39  ,\n",
              "         73.1   ,  70.24  ,  69.12  ,  68.98  ,  68.58  ,  69.5   ,\n",
              "         70.14  ,  70.58  ,  70.78  ,  72.78  ,  72.84  ,  74.74  ,\n",
              "         76.43  ,  81.2   ,  82.04  ,  79.67  ,  81.25  ,  85.88  ,\n",
              "         91.35  , 101.32  , 102.45  ,  98.18  , 105.1   , 104.85  ,\n",
              "        111.48  , 118.51  , 118.92  , 109.87  , 105.22  , 105.45  ,\n",
              "        115.61  , 116.61  , 120.39  , 119.2   , 119.92  , 120.57  ,\n",
              "        123.37  , 121.39  , 118.16  , 108.84  , 100.78  ,  99.92  ,\n",
              "        100.65  ,  98.92  , 100.31  ,  96.41  , 101.24  , 118.7   ,\n",
              "        133.29  , 130.31  , 122.4   , 104.98  , 107.54  , 110.74  ,\n",
              "        110.51  , 111.46  , 113.42  , 118.15  , 114.    , 124.91  ,\n",
              "        126.06  , 123.3   , 111.61  ,  98.82  ,  97.47  , 103.01  ,\n",
              "        109.36  , 104.79  , 105.09  , 103.16  , 106.52  , 121.68  ,\n",
              "        125.32  , 123.41  , 108.48  ,  98.73  ,  96.25  , 100.12  ,\n",
              "        101.29  , 102.81  , 108.53  ]])"
            ]
          },
          "metadata": {},
          "execution_count": 11
        }
      ]
    },
    {
      "cell_type": "code",
      "source": [
        "ano_inicial = 2002\n",
        "ano_final = 2102\n",
        "np.arange(ano_inicial, ano_final + 1, 4)"
      ],
      "metadata": {
        "colab": {
          "base_uri": "https://localhost:8080/"
        },
        "id": "KujOsMnOvGQH",
        "outputId": "11c46e46-90de-434f-968a-c454eb354481"
      },
      "execution_count": null,
      "outputs": [
        {
          "output_type": "execute_result",
          "data": {
            "text/plain": [
              "array([2002, 2006, 2010, 2014, 2018, 2022, 2026, 2030, 2034, 2038, 2042,\n",
              "       2046, 2050, 2054, 2058, 2062, 2066, 2070, 2074, 2078, 2082, 2086,\n",
              "       2090, 2094, 2098, 2102])"
            ]
          },
          "metadata": {},
          "execution_count": 12
        }
      ]
    },
    {
      "cell_type": "code",
      "source": [
        "lista = [1, 2, 3, 4, 5]\n",
        "array = np.array(lista)"
      ],
      "metadata": {
        "id": "nxIZWtMywArd"
      },
      "execution_count": null,
      "outputs": []
    },
    {
      "cell_type": "code",
      "source": [
        "lista"
      ],
      "metadata": {
        "colab": {
          "base_uri": "https://localhost:8080/"
        },
        "id": "6kNKIJMOwXFH",
        "outputId": "fb4289f1-c01d-4c45-f28e-93f46f00aff1"
      },
      "execution_count": null,
      "outputs": [
        {
          "output_type": "execute_result",
          "data": {
            "text/plain": [
              "[1, 2, 3, 4, 5]"
            ]
          },
          "metadata": {},
          "execution_count": 14
        }
      ]
    },
    {
      "cell_type": "code",
      "source": [
        "array"
      ],
      "metadata": {
        "colab": {
          "base_uri": "https://localhost:8080/"
        },
        "id": "lWSnupSKwZ0P",
        "outputId": "9c8b62c5-9f0b-4ef6-f3aa-3b225264ba43"
      },
      "execution_count": null,
      "outputs": [
        {
          "output_type": "execute_result",
          "data": {
            "text/plain": [
              "array([1, 2, 3, 4, 5])"
            ]
          },
          "metadata": {},
          "execution_count": 15
        }
      ]
    },
    {
      "cell_type": "code",
      "source": [
        "dados.ndim"
      ],
      "metadata": {
        "colab": {
          "base_uri": "https://localhost:8080/"
        },
        "id": "RqOZ-C1ZwaHH",
        "outputId": "115e60bb-ef65-418c-ccea-54732040d3bf"
      },
      "execution_count": null,
      "outputs": [
        {
          "output_type": "execute_result",
          "data": {
            "text/plain": [
              "2"
            ]
          },
          "metadata": {},
          "execution_count": 16
        }
      ]
    },
    {
      "cell_type": "code",
      "source": [
        "dados.size"
      ],
      "metadata": {
        "colab": {
          "base_uri": "https://localhost:8080/"
        },
        "id": "s1tRr0g6xDPn",
        "outputId": "a0b1cb49-c77a-42eb-f9e7-f9e470500ed6"
      },
      "execution_count": null,
      "outputs": [
        {
          "output_type": "execute_result",
          "data": {
            "text/plain": [
              "522"
            ]
          },
          "metadata": {},
          "execution_count": 17
        }
      ]
    },
    {
      "cell_type": "code",
      "source": [
        "dados.shape"
      ],
      "metadata": {
        "colab": {
          "base_uri": "https://localhost:8080/"
        },
        "id": "hMpGVllPxJG2",
        "outputId": "dc98c77b-0eb1-4dc2-fc70-6c5bda912c29"
      },
      "execution_count": null,
      "outputs": [
        {
          "output_type": "execute_result",
          "data": {
            "text/plain": [
              "(6, 87)"
            ]
          },
          "metadata": {},
          "execution_count": 18
        }
      ]
    },
    {
      "cell_type": "code",
      "source": [
        "dados.T"
      ],
      "metadata": {
        "colab": {
          "base_uri": "https://localhost:8080/"
        },
        "id": "DwLUJbqQxLx-",
        "outputId": "4e8c9243-9d2e-4a28-d255-c0c1a109bc9c"
      },
      "execution_count": null,
      "outputs": [
        {
          "output_type": "execute_result",
          "data": {
            "text/plain": [
              "array([[  1.2013,  79.72  ,  42.67  ,  62.55  ,  48.26  ,  71.25  ],\n",
              "       [  2.2013,  81.08  ,  44.37  ,  62.73  ,  51.01  ,  71.35  ],\n",
              "       [  3.2013,  79.68  ,  44.73  ,  63.43  ,  50.91  ,  70.9   ],\n",
              "       [  4.2013,  79.8   ,  46.75  ,  63.83  ,  53.94  ,  71.92  ],\n",
              "       [  5.2013,  80.63  ,      nan,  66.06  ,  61.27  ,  72.91  ],\n",
              "       [  6.2013,  80.8   ,  51.59  ,  69.22  ,  65.44  ,  74.39  ],\n",
              "       [  7.2013,  80.28  ,  57.8   ,  72.07  ,  56.51  ,  73.1   ],\n",
              "       [  8.2013,  78.99  ,  62.14  ,  69.31  ,  53.    ,  70.24  ],\n",
              "       [  9.2013,  76.77  ,  56.76  ,  65.18  ,  43.87  ,  69.12  ],\n",
              "       [ 10.2013,  76.09  ,  50.85  ,  62.13  ,  42.12  ,  68.98  ],\n",
              "       [ 11.2013,  76.36  ,  46.43  ,  64.17  ,  43.98  ,  68.58  ],\n",
              "       [ 12.2013,  77.16  ,  46.73  ,  65.5   ,  44.66  ,  69.5   ],\n",
              "       [  1.2014,  77.5   ,  45.85  ,  66.85  ,  47.73  ,  70.14  ],\n",
              "       [  2.2014,  79.03  ,  49.25  ,  68.38  ,  52.31  ,  70.58  ],\n",
              "       [  3.2014,  80.28  ,  48.14  ,  68.77  ,  56.8   ,  70.78  ],\n",
              "       [  4.2014,  80.05  ,  49.18  ,  69.32  ,  51.15  ,  72.78  ],\n",
              "       [  5.2014,  78.11  ,  49.49  ,  69.77  ,  54.63  ,  72.84  ],\n",
              "       [  6.2014,  76.9   ,  49.83  ,  70.17  ,  55.8   ,  74.74  ],\n",
              "       [  7.2014,  77.68  ,  49.14  ,  70.76  ,  57.31  ,  76.43  ],\n",
              "       [  8.2014,  76.05  ,  63.21  ,  75.16  ,  53.81  ,  81.2   ],\n",
              "       [  9.2014,  75.53  ,  61.2   ,  74.86  ,  55.5   ,  82.04  ],\n",
              "       [ 10.2014,  73.39  ,  60.34  ,  71.47  ,  52.95  ,  79.67  ],\n",
              "       [ 11.2014,  78.36  ,  62.2   ,  76.08  ,  53.29  ,  81.25  ],\n",
              "       [ 12.2014,  89.16  ,  74.2   ,  82.11  ,  54.86  ,  85.88  ],\n",
              "       [  1.2015, 105.43  ,  75.32  ,  94.63  ,  71.72  ,  91.35  ],\n",
              "       [  2.2015, 104.82  ,  75.92  ,  98.54  ,  74.36  , 101.32  ],\n",
              "       [  3.2015, 101.15  ,  72.89  ,  97.84  ,  78.25  , 102.45  ],\n",
              "       [  4.2015,  98.63  ,  74.85  ,  94.54  ,  70.63  ,  98.18  ],\n",
              "       [  5.2015,  99.96  ,  92.19  ,  97.88  ,  77.06  , 105.1   ],\n",
              "       [  6.2015,  97.29  ,  99.7   ,  97.73  ,  81.52  , 104.85  ],\n",
              "       [  7.2015,  98.64  , 102.78  , 100.89  ,  84.12  , 111.48  ],\n",
              "       [  8.2015, 104.26  ,  92.67  , 104.88  ,  83.33  , 118.51  ],\n",
              "       [  9.2015, 102.63  ,  90.63  , 104.39  ,  66.98  , 118.92  ],\n",
              "       [ 10.2015,  98.64  ,  83.31  , 101.9   ,  62.04  , 109.87  ],\n",
              "       [ 11.2015,  97.17  ,  75.5   ,  98.99  ,  59.79  , 105.22  ],\n",
              "       [ 12.2015,  98.09  ,  74.6   ,  99.42  ,  66.06  , 105.45  ],\n",
              "       [  1.2016, 103.07  ,  76.94  , 106.37  ,  71.99  , 115.61  ],\n",
              "       [  2.2016, 110.26  ,  83.04  , 113.89  ,  76.79  , 116.61  ],\n",
              "       [  3.2016, 110.84  ,  80.74  , 114.78  ,  80.98  , 120.39  ],\n",
              "       [  4.2016, 112.28  ,  80.29  , 115.6   ,  89.18  , 119.2   ],\n",
              "       [  5.2016, 111.1   ,  82.82  , 115.89  ,  92.71  , 119.92  ],\n",
              "       [  6.2016, 110.06  ,  86.29  , 117.66  ,  94.85  , 120.57  ],\n",
              "       [  7.2016, 113.7   ,  87.41  , 118.27  ,  99.18  , 123.37  ],\n",
              "       [  8.2016, 112.88  ,  85.1   , 114.19  ,  86.33  , 121.39  ],\n",
              "       [  9.2016, 102.08  ,  78.08  , 101.81  ,  71.94  , 118.16  ],\n",
              "       [ 10.2016,  95.54  ,  76.06  ,  91.62  ,  67.18  , 108.84  ],\n",
              "       [ 11.2016,  91.33  ,  69.23  ,  90.15  ,  62.98  , 100.78  ],\n",
              "       [ 12.2016,  89.99  ,  69.04  ,  90.55  ,  69.45  ,  99.92  ],\n",
              "       [  1.2017,  91.44  ,  64.48  ,  92.3   ,  67.56  , 100.65  ],\n",
              "       [  2.2017,  93.51  ,  65.73  ,  91.75  ,  67.92  ,  98.92  ],\n",
              "       [  3.2017,  93.6   ,  67.2   ,  92.    ,  68.4   , 100.31  ],\n",
              "       [  4.2017,  93.78  ,  70.25  ,  92.57  ,  67.97  ,  96.41  ],\n",
              "       [  5.2017,  98.91  ,  82.59  , 100.28  ,  76.33  , 101.24  ],\n",
              "       [  6.2017, 121.76  ,  92.12  , 114.33  ,  95.79  , 118.7   ],\n",
              "       [  7.2017, 129.6   , 100.82  , 122.17  , 112.36  , 133.29  ],\n",
              "       [  8.2017, 127.9   ,  95.23  , 117.83  ,  82.03  , 130.31  ],\n",
              "       [  9.2017, 114.55  ,  89.51  , 112.49  ,  73.83  , 122.4   ],\n",
              "       [ 10.2017, 101.88  ,  82.84  ,  93.7   ,  66.12  , 104.98  ],\n",
              "       [ 11.2017,  99.09  ,  82.3   ,  97.17  ,  63.24  , 107.54  ],\n",
              "       [ 12.2017, 103.35  ,  83.76  ,  95.64  ,  63.98  , 110.74  ],\n",
              "       [  1.2018, 106.58  ,  84.72  , 102.21  ,  69.1   , 110.51  ],\n",
              "       [  2.2018, 108.    ,  83.91  , 107.58  ,  70.04  , 111.46  ],\n",
              "       [  3.2018, 114.95  ,  99.14  , 110.48  ,  80.03  , 113.42  ],\n",
              "       [  4.2018, 121.17  , 101.6   , 117.73  ,  87.92  , 118.15  ],\n",
              "       [  5.2018, 122.48  , 113.03  , 122.07  ,  97.07  , 114.    ],\n",
              "       [  6.2018, 127.58  , 119.54  , 128.58  , 106.52  , 124.91  ],\n",
              "       [  7.2018, 131.89  , 118.09  , 131.12  , 108.93  , 126.06  ],\n",
              "       [  8.2018, 129.36  , 107.32  , 127.08  ,  95.17  , 123.3   ],\n",
              "       [  9.2018, 104.26  ,  82.6   , 110.99  ,  74.31  , 111.61  ],\n",
              "       [ 10.2018,  93.45  ,  77.4   ,  97.43  ,  62.63  ,  98.82  ],\n",
              "       [ 11.2018,  92.93  ,  71.77  ,  92.05  ,  69.92  ,  97.47  ],\n",
              "       [ 12.2018,  96.15  ,  71.25  ,  93.21  ,  70.58  , 103.01  ],\n",
              "       [  1.2019,  99.1   ,  71.35  ,  98.58  ,  74.63  , 109.36  ],\n",
              "       [  2.2019, 103.    ,  73.62  , 100.23  ,  78.69  , 104.79  ],\n",
              "       [  3.2019, 103.31  ,  76.2   , 102.09  ,  81.82  , 105.09  ],\n",
              "       [  4.2019, 103.01  ,  74.15  , 101.73  ,  82.36  , 103.16  ],\n",
              "       [  5.2019, 107.37  ,  75.67  , 107.28  ,  89.44  , 106.52  ],\n",
              "       [  6.2019, 116.91  ,  79.2   , 115.35  , 102.01  , 121.68  ],\n",
              "       [  7.2019, 125.29  ,  80.85  , 123.03  , 116.12  , 125.32  ],\n",
              "       [  8.2019, 123.94  ,  85.33  , 123.08  ,  92.06  , 123.41  ],\n",
              "       [  9.2019, 113.03  ,  75.02  , 109.71  ,  82.7   , 108.48  ],\n",
              "       [ 10.2019, 102.19  ,  77.95  ,  97.22  ,  66.62  ,  98.73  ],\n",
              "       [ 11.2019,  97.83  ,  78.98  ,  95.75  ,  68.11  ,  96.25  ],\n",
              "       [ 12.2019, 101.07  ,  76.55  ,  97.09  ,  73.48  , 100.12  ],\n",
              "       [  1.202 , 103.44  ,  74.89  ,  98.18  ,  82.04  , 101.29  ],\n",
              "       [  2.202 , 108.23  ,  70.    , 103.1   ,  81.19  , 102.81  ],\n",
              "       [  3.202 , 110.28  ,  81.53  , 110.6   ,  95.05  , 108.53  ]])"
            ]
          },
          "metadata": {},
          "execution_count": 19
        }
      ]
    },
    {
      "cell_type": "code",
      "source": [
        "dt = dados.T"
      ],
      "metadata": {
        "id": "z7MkNUoXxSnG"
      },
      "execution_count": null,
      "outputs": []
    },
    {
      "cell_type": "code",
      "source": [
        "np.loadtxt(bytebank, delimiter=',', skiprows=1, dtype=float).shape"
      ],
      "metadata": {
        "colab": {
          "base_uri": "https://localhost:8080/"
        },
        "id": "lb8NhHlfzB9B",
        "outputId": "6a5c69e9-7089-40a6-87bb-9537c1506055"
      },
      "execution_count": null,
      "outputs": [
        {
          "output_type": "execute_result",
          "data": {
            "text/plain": [
              "(12, 2)"
            ]
          },
          "metadata": {},
          "execution_count": 21
        }
      ]
    },
    {
      "cell_type": "code",
      "source": [
        "np.loadtxt(citrus,\n",
        "           delimiter=',',\n",
        "           skiprows=1,\n",
        "           usecols=np.arange(start=1, stop=6, step=1))"
      ],
      "metadata": {
        "colab": {
          "base_uri": "https://localhost:8080/"
        },
        "id": "LQKyZEUazUGh",
        "outputId": "ddc7f2e6-d2c9-4ead-832d-47e0dd461654"
      },
      "execution_count": null,
      "outputs": [
        {
          "output_type": "execute_result",
          "data": {
            "text/plain": [
              "array([[  2.96,  86.76, 172.  ,  85.  ,   2.  ],\n",
              "       [  3.91,  88.05, 166.  ,  78.  ,   3.  ],\n",
              "       [  4.42,  95.17, 156.  ,  81.  ,   2.  ],\n",
              "       ...,\n",
              "       [ 15.59, 256.5 , 168.  ,  82.  ,  20.  ],\n",
              "       [ 15.92, 260.14, 142.  ,  72.  ,  11.  ],\n",
              "       [ 16.45, 261.51, 152.  ,  74.  ,   2.  ]])"
            ]
          },
          "metadata": {},
          "execution_count": 22
        }
      ]
    },
    {
      "cell_type": "code",
      "source": [
        "datas = dt[:, 0]"
      ],
      "metadata": {
        "id": "Losv6f3T0n4w"
      },
      "execution_count": null,
      "outputs": []
    },
    {
      "cell_type": "code",
      "source": [
        "preços = dt[:, 1:6] # 5 países"
      ],
      "metadata": {
        "id": "bz5joWUZ1F7f"
      },
      "execution_count": null,
      "outputs": []
    },
    {
      "cell_type": "code",
      "source": [
        "import matplotlib.pyplot as plt"
      ],
      "metadata": {
        "id": "nxvm_VNn1k7h"
      },
      "execution_count": null,
      "outputs": []
    },
    {
      "cell_type": "code",
      "source": [
        "datas # interpretando como números e não como datas"
      ],
      "metadata": {
        "colab": {
          "base_uri": "https://localhost:8080/"
        },
        "id": "GmuPyQDs1zbR",
        "outputId": "ec3db7e9-8f58-4b0f-f3cf-ff630f7839d3"
      },
      "execution_count": null,
      "outputs": [
        {
          "output_type": "execute_result",
          "data": {
            "text/plain": [
              "array([ 1.2013,  2.2013,  3.2013,  4.2013,  5.2013,  6.2013,  7.2013,\n",
              "        8.2013,  9.2013, 10.2013, 11.2013, 12.2013,  1.2014,  2.2014,\n",
              "        3.2014,  4.2014,  5.2014,  6.2014,  7.2014,  8.2014,  9.2014,\n",
              "       10.2014, 11.2014, 12.2014,  1.2015,  2.2015,  3.2015,  4.2015,\n",
              "        5.2015,  6.2015,  7.2015,  8.2015,  9.2015, 10.2015, 11.2015,\n",
              "       12.2015,  1.2016,  2.2016,  3.2016,  4.2016,  5.2016,  6.2016,\n",
              "        7.2016,  8.2016,  9.2016, 10.2016, 11.2016, 12.2016,  1.2017,\n",
              "        2.2017,  3.2017,  4.2017,  5.2017,  6.2017,  7.2017,  8.2017,\n",
              "        9.2017, 10.2017, 11.2017, 12.2017,  1.2018,  2.2018,  3.2018,\n",
              "        4.2018,  5.2018,  6.2018,  7.2018,  8.2018,  9.2018, 10.2018,\n",
              "       11.2018, 12.2018,  1.2019,  2.2019,  3.2019,  4.2019,  5.2019,\n",
              "        6.2019,  7.2019,  8.2019,  9.2019, 10.2019, 11.2019, 12.2019,\n",
              "        1.202 ,  2.202 ,  3.202 ])"
            ]
          },
          "metadata": {},
          "execution_count": 26
        }
      ]
    },
    {
      "cell_type": "code",
      "source": [
        "datas = np.arange(1, 88, 1)"
      ],
      "metadata": {
        "id": "CyYTZPuQ2NfO"
      },
      "execution_count": null,
      "outputs": []
    },
    {
      "cell_type": "code",
      "source": [
        "plt.plot(datas, preços[:, 0])"
      ],
      "metadata": {
        "colab": {
          "base_uri": "https://localhost:8080/",
          "height": 447
        },
        "id": "J_MACjep1qKJ",
        "outputId": "b697f548-3a64-4dc0-c8e1-db99d8cb1edc"
      },
      "execution_count": null,
      "outputs": [
        {
          "output_type": "execute_result",
          "data": {
            "text/plain": [
              "[<matplotlib.lines.Line2D at 0x7f4f6822d360>]"
            ]
          },
          "metadata": {},
          "execution_count": 28
        },
        {
          "output_type": "display_data",
          "data": {
            "text/plain": [
              "<Figure size 640x480 with 1 Axes>"
            ],
            "image/png": "[encoded data removed]"
          },
          "metadata": {}
        }
      ]
    },
    {
      "cell_type": "code",
      "source": [
        "datas"
      ],
      "metadata": {
        "colab": {
          "base_uri": "https://localhost:8080/"
        },
        "id": "O6pTXA1D13jp",
        "outputId": "a61e19be-c74b-435f-8992-987f4d7d6612"
      },
      "execution_count": null,
      "outputs": [
        {
          "output_type": "execute_result",
          "data": {
            "text/plain": [
              "array([ 1,  2,  3,  4,  5,  6,  7,  8,  9, 10, 11, 12, 13, 14, 15, 16, 17,\n",
              "       18, 19, 20, 21, 22, 23, 24, 25, 26, 27, 28, 29, 30, 31, 32, 33, 34,\n",
              "       35, 36, 37, 38, 39, 40, 41, 42, 43, 44, 45, 46, 47, 48, 49, 50, 51,\n",
              "       52, 53, 54, 55, 56, 57, 58, 59, 60, 61, 62, 63, 64, 65, 66, 67, 68,\n",
              "       69, 70, 71, 72, 73, 74, 75, 76, 77, 78, 79, 80, 81, 82, 83, 84, 85,\n",
              "       86, 87])"
            ]
          },
          "metadata": {},
          "execution_count": 29
        }
      ]
    },
    {
      "cell_type": "code",
      "source": [
        "Moscow = preços[:, 0]\n",
        "Kaliningrad = preços[:, 1]\n",
        "Petersburg = preços[:, 2]\n",
        "Krasnodar = preços[:, 3]\n",
        "Yekaterinburg = preços[:, 4]"
      ],
      "metadata": {
        "id": "CuI6ztYO2XFa"
      },
      "execution_count": null,
      "outputs": []
    },
    {
      "cell_type": "code",
      "source": [
        "Moscow"
      ],
      "metadata": {
        "colab": {
          "base_uri": "https://localhost:8080/"
        },
        "id": "f68E9OG33FhK",
        "outputId": "cc1b4e64-0d7b-49cd-b529-d976637a0895"
      },
      "execution_count": null,
      "outputs": [
        {
          "output_type": "execute_result",
          "data": {
            "text/plain": [
              "array([ 79.72,  81.08,  79.68,  79.8 ,  80.63,  80.8 ,  80.28,  78.99,\n",
              "        76.77,  76.09,  76.36,  77.16,  77.5 ,  79.03,  80.28,  80.05,\n",
              "        78.11,  76.9 ,  77.68,  76.05,  75.53,  73.39,  78.36,  89.16,\n",
              "       105.43, 104.82, 101.15,  98.63,  99.96,  97.29,  98.64, 104.26,\n",
              "       102.63,  98.64,  97.17,  98.09, 103.07, 110.26, 110.84, 112.28,\n",
              "       111.1 , 110.06, 113.7 , 112.88, 102.08,  95.54,  91.33,  89.99,\n",
              "        91.44,  93.51,  93.6 ,  93.78,  98.91, 121.76, 129.6 , 127.9 ,\n",
              "       114.55, 101.88,  99.09, 103.35, 106.58, 108.  , 114.95, 121.17,\n",
              "       122.48, 127.58, 131.89, 129.36, 104.26,  93.45,  92.93,  96.15,\n",
              "        99.1 , 103.  , 103.31, 103.01, 107.37, 116.91, 125.29, 123.94,\n",
              "       113.03, 102.19,  97.83, 101.07, 103.44, 108.23, 110.28])"
            ]
          },
          "metadata": {},
          "execution_count": 31
        }
      ]
    },
    {
      "cell_type": "code",
      "source": [
        "Moscow.shape"
      ],
      "metadata": {
        "colab": {
          "base_uri": "https://localhost:8080/"
        },
        "id": "4pbJ_dQJ4uFc",
        "outputId": "720a342c-184f-44a9-fb70-72996322cc48"
      },
      "execution_count": null,
      "outputs": [
        {
          "output_type": "execute_result",
          "data": {
            "text/plain": [
              "(87,)"
            ]
          },
          "metadata": {},
          "execution_count": 33
        }
      ]
    },
    {
      "cell_type": "code",
      "source": [
        "Moscow_ano1 = Moscow[0:12]\n",
        "Moscow_ano2 = Moscow[12:24]\n",
        "Moscow_ano3 = Moscow[24:36]\n",
        "Moscow_ano4 = Moscow[36:48]"
      ],
      "metadata": {
        "id": "_Omu1fQG3fBq"
      },
      "execution_count": null,
      "outputs": []
    },
    {
      "cell_type": "code",
      "source": [
        "Moscow_ano1.size"
      ],
      "metadata": {
        "colab": {
          "base_uri": "https://localhost:8080/"
        },
        "id": "o3XTcQ4J5TOE",
        "outputId": "c4da25bf-a9ec-419f-9215-86d0e790fdd3"
      },
      "execution_count": null,
      "outputs": [
        {
          "output_type": "execute_result",
          "data": {
            "text/plain": [
              "12"
            ]
          },
          "metadata": {},
          "execution_count": 35
        }
      ]
    },
    {
      "cell_type": "code",
      "source": [
        "plt.plot(np.arange(1, 13, 1), Moscow_ano1)\n",
        "plt.plot(np.arange(1, 13, 1), Moscow_ano2)\n",
        "plt.plot(np.arange(1, 13, 1), Moscow_ano3)\n",
        "plt.plot(np.arange(1, 13, 1), Moscow_ano4)\n",
        "plt.legend(['ano1', 'ano2', 'ano3', 'ano4'])"
      ],
      "metadata": {
        "colab": {
          "base_uri": "https://localhost:8080/",
          "height": 447
        },
        "id": "XLNiZQDN4WJr",
        "outputId": "a96b3e41-fffc-43e1-af18-dd612f64aca0"
      },
      "execution_count": null,
      "outputs": [
        {
          "output_type": "execute_result",
          "data": {
            "text/plain": [
              "<matplotlib.legend.Legend at 0x7f4f69b7f250>"
            ]
          },
          "metadata": {},
          "execution_count": 38
        },
        {
          "output_type": "display_data",
          "data": {
            "text/plain": [
              "<Figure size 640x480 with 1 Axes>"
            ],
            "image/png": "[encoded data removed]"
          },
          "metadata": {}
        }
      ]
    },
    {
      "cell_type": "code",
      "source": [
        "np.array_equal(Moscow_ano3, Moscow_ano4)"
      ],
      "metadata": {
        "colab": {
          "base_uri": "https://localhost:8080/"
        },
        "id": "_GpzZyWb5Z86",
        "outputId": "9d506d8c-e6cf-41ae-da3e-40a839942297"
      },
      "execution_count": null,
      "outputs": [
        {
          "output_type": "execute_result",
          "data": {
            "text/plain": [
              "False"
            ]
          },
          "metadata": {},
          "execution_count": 39
        }
      ]
    },
    {
      "cell_type": "code",
      "source": [
        "a1 = np.array([1, 2, 3, 4])\n",
        "a2 = np.array([1, 2, 3, 4])\n",
        "np.array_equal(a1, a2)"
      ],
      "metadata": {
        "colab": {
          "base_uri": "https://localhost:8080/"
        },
        "id": "Ybb4kjDb6TAK",
        "outputId": "bd3c1210-41b7-422f-eb3c-5957637df6f9"
      },
      "execution_count": null,
      "outputs": [
        {
          "output_type": "execute_result",
          "data": {
            "text/plain": [
              "True"
            ]
          },
          "metadata": {},
          "execution_count": 40
        }
      ]
    },
    {
      "cell_type": "code",
      "source": [
        "# vai retornar true se a diff de variação entre esses 2 arrays for < 10\n",
        "np.allclose(Moscow_ano3, Moscow_ano4, 10)"
      ],
      "metadata": {
        "colab": {
          "base_uri": "https://localhost:8080/"
        },
        "id": "-nz4NgOX6ivC",
        "outputId": "c87672b6-4cb1-4957-c1bb-3498526f02cf"
      },
      "execution_count": null,
      "outputs": [
        {
          "output_type": "execute_result",
          "data": {
            "text/plain": [
              "True"
            ]
          },
          "metadata": {},
          "execution_count": 43
        }
      ]
    },
    {
      "cell_type": "code",
      "source": [
        "plt.plot(datas, Kaliningrad)"
      ],
      "metadata": {
        "colab": {
          "base_uri": "https://localhost:8080/",
          "height": 447
        },
        "id": "EUB5ak0K6_8Y",
        "outputId": "8d0a43d2-452c-4503-e386-173e29b4fe06"
      },
      "execution_count": null,
      "outputs": [
        {
          "output_type": "execute_result",
          "data": {
            "text/plain": [
              "[<matplotlib.lines.Line2D at 0x7f4f348acb20>]"
            ]
          },
          "metadata": {},
          "execution_count": 44
        },
        {
          "output_type": "display_data",
          "data": {
            "text/plain": [
              "<Figure size 640x480 with 1 Axes>"
            ],
            "image/png": "[encoded data removed]"
          },
          "metadata": {}
        }
      ]
    },
    {
      "cell_type": "code",
      "source": [
        "Kaliningrad"
      ],
      "metadata": {
        "colab": {
          "base_uri": "https://localhost:8080/"
        },
        "id": "EmpiTorC9swk",
        "outputId": "c44f06ad-1930-4f12-ebd1-bad2c708b771"
      },
      "execution_count": null,
      "outputs": [
        {
          "output_type": "execute_result",
          "data": {
            "text/plain": [
              "array([ 42.67,  44.37,  44.73,  46.75,    nan,  51.59,  57.8 ,  62.14,\n",
              "        56.76,  50.85,  46.43,  46.73,  45.85,  49.25,  48.14,  49.18,\n",
              "        49.49,  49.83,  49.14,  63.21,  61.2 ,  60.34,  62.2 ,  74.2 ,\n",
              "        75.32,  75.92,  72.89,  74.85,  92.19,  99.7 , 102.78,  92.67,\n",
              "        90.63,  83.31,  75.5 ,  74.6 ,  76.94,  83.04,  80.74,  80.29,\n",
              "        82.82,  86.29,  87.41,  85.1 ,  78.08,  76.06,  69.23,  69.04,\n",
              "        64.48,  65.73,  67.2 ,  70.25,  82.59,  92.12, 100.82,  95.23,\n",
              "        89.51,  82.84,  82.3 ,  83.76,  84.72,  83.91,  99.14, 101.6 ,\n",
              "       113.03, 119.54, 118.09, 107.32,  82.6 ,  77.4 ,  71.77,  71.25,\n",
              "        71.35,  73.62,  76.2 ,  74.15,  75.67,  79.2 ,  80.85,  85.33,\n",
              "        75.02,  77.95,  78.98,  76.55,  74.89,  70.  ,  81.53])"
            ]
          },
          "metadata": {},
          "execution_count": 45
        }
      ]
    },
    {
      "cell_type": "code",
      "source": [
        "np.isnan(Kaliningrad)"
      ],
      "metadata": {
        "colab": {
          "base_uri": "https://localhost:8080/"
        },
        "id": "TPqnJvpt9wTU",
        "outputId": "06779c7e-bf2b-4275-c3f0-946e11d67033"
      },
      "execution_count": null,
      "outputs": [
        {
          "output_type": "execute_result",
          "data": {
            "text/plain": [
              "array([False, False, False, False,  True, False, False, False, False,\n",
              "       False, False, False, False, False, False, False, False, False,\n",
              "       False, False, False, False, False, False, False, False, False,\n",
              "       False, False, False, False, False, False, False, False, False,\n",
              "       False, False, False, False, False, False, False, False, False,\n",
              "       False, False, False, False, False, False, False, False, False,\n",
              "       False, False, False, False, False, False, False, False, False,\n",
              "       False, False, False, False, False, False, False, False, False,\n",
              "       False, False, False, False, False, False, False, False, False,\n",
              "       False, False, False, False, False, False])"
            ]
          },
          "metadata": {},
          "execution_count": 46
        }
      ]
    },
    {
      "cell_type": "code",
      "source": [
        "sum(np.isnan(Kaliningrad))"
      ],
      "metadata": {
        "colab": {
          "base_uri": "https://localhost:8080/"
        },
        "id": "aFMuhx8I9_TN",
        "outputId": "9c2a98f6-a51b-4766-ebdf-d7fcad38666c"
      },
      "execution_count": null,
      "outputs": [
        {
          "output_type": "execute_result",
          "data": {
            "text/plain": [
              "1"
            ]
          },
          "metadata": {},
          "execution_count": 48
        }
      ]
    },
    {
      "cell_type": "code",
      "source": [
        "# interpolando valores nan\n",
        "(Kaliningrad[3] + Kaliningrad[5]) / 2"
      ],
      "metadata": {
        "colab": {
          "base_uri": "https://localhost:8080/"
        },
        "id": "bNEsg2WT-IA1",
        "outputId": "8982fede-d3a4-4016-9bf6-6ead3a55cbda"
      },
      "execution_count": null,
      "outputs": [
        {
          "output_type": "execute_result",
          "data": {
            "text/plain": [
              "49.17"
            ]
          },
          "metadata": {},
          "execution_count": 49
        }
      ]
    },
    {
      "cell_type": "code",
      "source": [
        "np.mean([Kaliningrad[3], Kaliningrad[5]])"
      ],
      "metadata": {
        "colab": {
          "base_uri": "https://localhost:8080/"
        },
        "id": "JTuo7OOm-XgN",
        "outputId": "614ccc7b-7afa-457f-e3dc-270258363c0f"
      },
      "execution_count": null,
      "outputs": [
        {
          "output_type": "execute_result",
          "data": {
            "text/plain": [
              "49.17"
            ]
          },
          "metadata": {},
          "execution_count": 50
        }
      ]
    },
    {
      "cell_type": "code",
      "source": [
        "Kaliningrad[4] = np.mean([Kaliningrad[3], Kaliningrad[5]])"
      ],
      "metadata": {
        "id": "X6d7madC-eRU"
      },
      "execution_count": null,
      "outputs": []
    },
    {
      "cell_type": "code",
      "source": [
        "plt.plot(datas, Kaliningrad)"
      ],
      "metadata": {
        "colab": {
          "base_uri": "https://localhost:8080/",
          "height": 447
        },
        "id": "9JTLagjx-j-E",
        "outputId": "75377c00-6714-4c06-8571-8d7c9489d1bd"
      },
      "execution_count": null,
      "outputs": [
        {
          "output_type": "execute_result",
          "data": {
            "text/plain": [
              "[<matplotlib.lines.Line2D at 0x7f4f3475c160>]"
            ]
          },
          "metadata": {},
          "execution_count": 52
        },
        {
          "output_type": "display_data",
          "data": {
            "text/plain": [
              "<Figure size 640x480 with 1 Axes>"
            ],
            "image/png": "[encoded data removed]"
          },
          "metadata": {}
        }
      ]
    },
    {
      "cell_type": "code",
      "source": [
        "np.mean(Moscow)"
      ],
      "metadata": {
        "colab": {
          "base_uri": "https://localhost:8080/"
        },
        "id": "v7A9CUWZ-ldl",
        "outputId": "21b94a3e-5f54-4784-9d41-96af70c7b0a4"
      },
      "execution_count": null,
      "outputs": [
        {
          "output_type": "execute_result",
          "data": {
            "text/plain": [
              "98.79781609195402"
            ]
          },
          "metadata": {},
          "execution_count": 53
        }
      ]
    },
    {
      "cell_type": "code",
      "source": [
        "np.mean(Kaliningrad)"
      ],
      "metadata": {
        "colab": {
          "base_uri": "https://localhost:8080/"
        },
        "id": "WRIUC5i6-uv1",
        "outputId": "f3ccdb77-8a0b-480b-bf8f-de1e28251d70"
      },
      "execution_count": null,
      "outputs": [
        {
          "output_type": "execute_result",
          "data": {
            "text/plain": [
              "74.5506896551724"
            ]
          },
          "metadata": {},
          "execution_count": 54
        }
      ]
    },
    {
      "cell_type": "code",
      "source": [
        "citrus.size"
      ],
      "metadata": {
        "colab": {
          "base_uri": "https://localhost:8080/"
        },
        "id": "u58GdW4m-v4F",
        "outputId": "a4b01571-b283-4182-c603-20e892027cf4"
      },
      "execution_count": null,
      "outputs": [
        {
          "output_type": "execute_result",
          "data": {
            "text/plain": [
              "50000"
            ]
          },
          "metadata": {},
          "execution_count": 63
        }
      ]
    },
    {
      "cell_type": "code",
      "source": [
        "citrus = np.loadtxt(citrus,\n",
        "           delimiter=',',\n",
        "           skiprows=1,\n",
        "                    dtype=float,\n",
        "           usecols=np.arange(start=1, stop=6, step=1))"
      ],
      "metadata": {
        "id": "c7Mc4-hcAm4b"
      },
      "execution_count": null,
      "outputs": []
    },
    {
      "cell_type": "code",
      "source": [
        "citrus"
      ],
      "metadata": {
        "colab": {
          "base_uri": "https://localhost:8080/"
        },
        "id": "UFoAC3WnAtvE",
        "outputId": "c3eaf240-92e5-4050-c893-7aeb23963c88"
      },
      "execution_count": null,
      "outputs": [
        {
          "output_type": "execute_result",
          "data": {
            "text/plain": [
              "array([[  2.96,  86.76, 172.  ,  85.  ,   2.  ],\n",
              "       [  3.91,  88.05, 166.  ,  78.  ,   3.  ],\n",
              "       [  4.42,  95.17, 156.  ,  81.  ,   2.  ],\n",
              "       ...,\n",
              "       [ 15.59, 256.5 , 168.  ,  82.  ,  20.  ],\n",
              "       [ 15.92, 260.14, 142.  ,  72.  ,  11.  ],\n",
              "       [ 16.45, 261.51, 152.  ,  74.  ,   2.  ]])"
            ]
          },
          "metadata": {},
          "execution_count": 83
        }
      ]
    },
    {
      "cell_type": "code",
      "source": [
        "diâmetro_laranjas = citrus[:5000, 0]\n",
        "diâmetro_toranjas = citrus[5000:, 0]"
      ],
      "metadata": {
        "id": "Il6ydOguAunU"
      },
      "execution_count": null,
      "outputs": []
    },
    {
      "cell_type": "code",
      "source": [
        "peso_laranjas = citrus[:5000, 1]\n",
        "peso_toranjas = citrus[5000:, 1]"
      ],
      "metadata": {
        "id": "SmreZgQBBBLs"
      },
      "execution_count": null,
      "outputs": []
    },
    {
      "cell_type": "code",
      "source": [
        "plt.plot(diâmetro_laranjas, peso_laranjas)\n",
        "plt.plot(diâmetro_toranjas, peso_toranjas)\n",
        "plt.legend('laranjas', 'toranjas')"
      ],
      "metadata": {
        "colab": {
          "base_uri": "https://localhost:8080/",
          "height": 517
        },
        "id": "TDkzq8nhBoCE",
        "outputId": "22d378c5-c125-41a5-df3f-0b9f9556c8fa"
      },
      "execution_count": null,
      "outputs": [
        {
          "output_type": "stream",
          "name": "stderr",
          "text": [
            "<ipython-input-86-dc6d3315b27b>:3: UserWarning: Legend does not support handles for str instances.\n",
            "A proxy artist may be used instead.\n",
            "See: https://matplotlib.org/stable/tutorials/intermediate/legend_guide.html#controlling-the-legend-entries\n",
            "  plt.legend('laranjas', 'toranjas')\n"
          ]
        },
        {
          "output_type": "execute_result",
          "data": {
            "text/plain": [
              "<matplotlib.legend.Legend at 0x7f4f343dfee0>"
            ]
          },
          "metadata": {},
          "execution_count": 86
        },
        {
          "output_type": "display_data",
          "data": {
            "text/plain": [
              "<Figure size 640x480 with 1 Axes>"
            ],
            "image/png": "[encoded data removed]"
          },
          "metadata": {}
        }
      ]
    },
    {
      "cell_type": "code",
      "source": [
        "plt.plot(datas, Moscow)"
      ],
      "metadata": {
        "colab": {
          "base_uri": "https://localhost:8080/",
          "height": 447
        },
        "id": "9w7F2swpCaT0",
        "outputId": "910ca1c0-96ef-4da6-ac3c-a4b9260924f8"
      },
      "execution_count": null,
      "outputs": [
        {
          "output_type": "execute_result",
          "data": {
            "text/plain": [
              "[<matplotlib.lines.Line2D at 0x7f4f343dd9c0>]"
            ]
          },
          "metadata": {},
          "execution_count": 87
        },
        {
          "output_type": "display_data",
          "data": {
            "text/plain": [
              "<Figure size 640x480 with 1 Axes>"
            ],
            "image/png": "[encoded data removed]"
          },
          "metadata": {}
        }
      ]
    },
    {
      "cell_type": "code",
      "source": [
        "teste_cópia = np.array([0, 1, 2, 3, 10])"
      ],
      "metadata": {
        "id": "2bwKLFK7Fi8j"
      },
      "execution_count": null,
      "outputs": []
    },
    {
      "cell_type": "code",
      "source": [
        "teste_cópia"
      ],
      "metadata": {
        "colab": {
          "base_uri": "https://localhost:8080/"
        },
        "id": "tgtBb7X6FtqK",
        "outputId": "b2dc1114-3340-4202-f7c6-eab4fe022db8"
      },
      "execution_count": null,
      "outputs": [
        {
          "output_type": "execute_result",
          "data": {
            "text/plain": [
              "array([ 0,  1,  2,  3, 10])"
            ]
          },
          "metadata": {},
          "execution_count": 90
        }
      ]
    },
    {
      "cell_type": "code",
      "source": [
        "teste_cópia_cópia = teste_cópia"
      ],
      "metadata": {
        "id": "4RlRe1PvDXVf"
      },
      "execution_count": null,
      "outputs": []
    },
    {
      "cell_type": "code",
      "source": [
        "teste_cópia_cópia"
      ],
      "metadata": {
        "colab": {
          "base_uri": "https://localhost:8080/"
        },
        "id": "vgQw87AvFz0B",
        "outputId": "1063e791-ccc8-4384-fed8-5153a8fcc2a6"
      },
      "execution_count": null,
      "outputs": [
        {
          "output_type": "execute_result",
          "data": {
            "text/plain": [
              "array([ 0,  1,  2,  3, 10])"
            ]
          },
          "metadata": {},
          "execution_count": 94
        }
      ]
    },
    {
      "cell_type": "code",
      "source": [
        "teste_cópia[4] = 4"
      ],
      "metadata": {
        "id": "t1et6NZKF0xh"
      },
      "execution_count": null,
      "outputs": []
    },
    {
      "cell_type": "code",
      "source": [
        "teste_cópia"
      ],
      "metadata": {
        "colab": {
          "base_uri": "https://localhost:8080/"
        },
        "id": "57xthX6WGBno",
        "outputId": "6770e7bf-5c06-476b-ba2b-d6e7061b19f3"
      },
      "execution_count": null,
      "outputs": [
        {
          "output_type": "execute_result",
          "data": {
            "text/plain": [
              "array([0, 1, 2, 3, 4])"
            ]
          },
          "metadata": {},
          "execution_count": 96
        }
      ]
    },
    {
      "cell_type": "code",
      "source": [
        "teste_cópia_cópia"
      ],
      "metadata": {
        "colab": {
          "base_uri": "https://localhost:8080/"
        },
        "id": "Ju5p-6ZEGCeg",
        "outputId": "2855fa0d-edf0-4330-f8f6-56b09d5dc624"
      },
      "execution_count": null,
      "outputs": [
        {
          "output_type": "execute_result",
          "data": {
            "text/plain": [
              "array([0, 1, 2, 3, 4])"
            ]
          },
          "metadata": {},
          "execution_count": 97
        }
      ]
    },
    {
      "cell_type": "code",
      "source": [
        "teste_cópia_cópia = np.copy(teste_cópia)"
      ],
      "metadata": {
        "id": "jg7dgfrMGDI4"
      },
      "execution_count": null,
      "outputs": []
    },
    {
      "cell_type": "code",
      "source": [
        "teste_cópia[4] = 100"
      ],
      "metadata": {
        "id": "gVgdbDshGIhI"
      },
      "execution_count": null,
      "outputs": []
    },
    {
      "cell_type": "code",
      "source": [
        "teste_cópia"
      ],
      "metadata": {
        "colab": {
          "base_uri": "https://localhost:8080/"
        },
        "id": "3c5EXuxmGKjr",
        "outputId": "e6fb96a8-bd2c-41c4-b44a-00d481a30386"
      },
      "execution_count": null,
      "outputs": [
        {
          "output_type": "execute_result",
          "data": {
            "text/plain": [
              "array([  0,   1,   2,   3, 100])"
            ]
          },
          "metadata": {},
          "execution_count": 100
        }
      ]
    },
    {
      "cell_type": "code",
      "source": [
        "teste_cópia_cópia"
      ],
      "metadata": {
        "colab": {
          "base_uri": "https://localhost:8080/"
        },
        "id": "RbbFaCX4GKuB",
        "outputId": "be60ee10-4c3d-43b7-ce81-c9903c1764f6"
      },
      "execution_count": null,
      "outputs": [
        {
          "output_type": "execute_result",
          "data": {
            "text/plain": [
              "array([0, 1, 2, 3, 4])"
            ]
          },
          "metadata": {},
          "execution_count": 101
        }
      ]
    },
    {
      "cell_type": "code",
      "source": [
        "Y = Moscow\n",
        "X = datas\n",
        "n = np.size(Moscow)"
      ],
      "metadata": {
        "id": "xbWp1TWNG0Ln"
      },
      "execution_count": null,
      "outputs": []
    },
    {
      "cell_type": "code",
      "source": [
        "X.shape"
      ],
      "metadata": {
        "colab": {
          "base_uri": "https://localhost:8080/"
        },
        "id": "GRk71anMHJ7s",
        "outputId": "eb5a4783-2a5e-45f2-c4f4-cacdaea2d4bb"
      },
      "execution_count": null,
      "outputs": [
        {
          "output_type": "execute_result",
          "data": {
            "text/plain": [
              "(87,)"
            ]
          },
          "metadata": {},
          "execution_count": 161
        }
      ]
    },
    {
      "cell_type": "code",
      "source": [
        "X**2"
      ],
      "metadata": {
        "colab": {
          "base_uri": "https://localhost:8080/"
        },
        "id": "QsNyOZDNG8Ux",
        "outputId": "320717d1-e5ba-48af-8eae-5f7fc92b11bd"
      },
      "execution_count": null,
      "outputs": [
        {
          "output_type": "execute_result",
          "data": {
            "text/plain": [
              "array([   1,    4,    9,   16,   25,   36,   49,   64,   81,  100,  121,\n",
              "        144,  169,  196,  225,  256,  289,  324,  361,  400,  441,  484,\n",
              "        529,  576,  625,  676,  729,  784,  841,  900,  961, 1024, 1089,\n",
              "       1156, 1225, 1296, 1369, 1444, 1521, 1600, 1681, 1764, 1849, 1936,\n",
              "       2025, 2116, 2209, 2304, 2401, 2500, 2601, 2704, 2809, 2916, 3025,\n",
              "       3136, 3249, 3364, 3481, 3600, 3721, 3844, 3969, 4096, 4225, 4356,\n",
              "       4489, 4624, 4761, 4900, 5041, 5184, 5329, 5476, 5625, 5776, 5929,\n",
              "       6084, 6241, 6400, 6561, 6724, 6889, 7056, 7225, 7396, 7569])"
            ]
          },
          "metadata": {},
          "execution_count": 162
        }
      ]
    },
    {
      "cell_type": "code",
      "source": [
        "(X**2).shape"
      ],
      "metadata": {
        "colab": {
          "base_uri": "https://localhost:8080/"
        },
        "id": "WyOqSLq5HOha",
        "outputId": "6bfade9b-4f98-4ba4-a254-5ca20e879693"
      },
      "execution_count": null,
      "outputs": [
        {
          "output_type": "execute_result",
          "data": {
            "text/plain": [
              "(87,)"
            ]
          },
          "metadata": {},
          "execution_count": 163
        }
      ]
    },
    {
      "cell_type": "code",
      "source": [
        "a = (n*np.sum(X*Y) - np.sum(X)*np.sum(Y)) / (n*np.sum(X**2) - np.sum(X)**2)\n",
        "a"
      ],
      "metadata": {
        "colab": {
          "base_uri": "https://localhost:8080/"
        },
        "id": "W4U-8BPcHPmC",
        "outputId": "f31ff95f-8476-4472-cc35-38772d5f5f52"
      },
      "execution_count": null,
      "outputs": [
        {
          "output_type": "execute_result",
          "data": {
            "text/plain": [
              "0.43520212145512926"
            ]
          },
          "metadata": {},
          "execution_count": 164
        }
      ]
    },
    {
      "cell_type": "code",
      "source": [
        "b = np.mean(Y) - a*np.mean(X)\n",
        "b"
      ],
      "metadata": {
        "colab": {
          "base_uri": "https://localhost:8080/"
        },
        "id": "Ubll8OLjHrQR",
        "outputId": "2e6ffc72-30ae-4ad1-8c1d-d740d9498c43"
      },
      "execution_count": null,
      "outputs": [
        {
          "output_type": "execute_result",
          "data": {
            "text/plain": [
              "79.64892274792834"
            ]
          },
          "metadata": {},
          "execution_count": 165
        }
      ]
    },
    {
      "cell_type": "code",
      "source": [
        "y = a*X + b\n",
        "y"
      ],
      "metadata": {
        "colab": {
          "base_uri": "https://localhost:8080/"
        },
        "id": "xPwtNROtHz3f",
        "outputId": "df96cfdb-fa56-4ccb-f1fc-6a68ca10649e"
      },
      "execution_count": null,
      "outputs": [
        {
          "output_type": "execute_result",
          "data": {
            "text/plain": [
              "array([ 80.08412487,  80.51932699,  80.95452911,  81.38973123,\n",
              "        81.82493336,  82.26013548,  82.6953376 ,  83.13053972,\n",
              "        83.56574184,  84.00094396,  84.43614608,  84.87134821,\n",
              "        85.30655033,  85.74175245,  86.17695457,  86.61215669,\n",
              "        87.04735881,  87.48256093,  87.91776306,  88.35296518,\n",
              "        88.7881673 ,  89.22336942,  89.65857154,  90.09377366,\n",
              "        90.52897578,  90.96417791,  91.39938003,  91.83458215,\n",
              "        92.26978427,  92.70498639,  93.14018851,  93.57539063,\n",
              "        94.01059276,  94.44579488,  94.880997  ,  95.31619912,\n",
              "        95.75140124,  96.18660336,  96.62180548,  97.05700761,\n",
              "        97.49220973,  97.92741185,  98.36261397,  98.79781609,\n",
              "        99.23301821,  99.66822033, 100.10342246, 100.53862458,\n",
              "       100.9738267 , 101.40902882, 101.84423094, 102.27943306,\n",
              "       102.71463519, 103.14983731, 103.58503943, 104.02024155,\n",
              "       104.45544367, 104.89064579, 105.32584791, 105.76105004,\n",
              "       106.19625216, 106.63145428, 107.0666564 , 107.50185852,\n",
              "       107.93706064, 108.37226276, 108.80746489, 109.24266701,\n",
              "       109.67786913, 110.11307125, 110.54827337, 110.98347549,\n",
              "       111.41867761, 111.85387974, 112.28908186, 112.72428398,\n",
              "       113.1594861 , 113.59468822, 114.02989034, 114.46509246,\n",
              "       114.90029459, 115.33549671, 115.77069883, 116.20590095,\n",
              "       116.64110307, 117.07630519, 117.51150731])"
            ]
          },
          "metadata": {},
          "execution_count": 112
        }
      ]
    },
    {
      "cell_type": "code",
      "source": [
        "np.linalg.norm(Moscow - y)"
      ],
      "metadata": {
        "colab": {
          "base_uri": "https://localhost:8080/"
        },
        "id": "HjSoKnhNH4dR",
        "outputId": "8216986b-2e24-411b-c690-601b512d60f0"
      },
      "execution_count": null,
      "outputs": [
        {
          "output_type": "execute_result",
          "data": {
            "text/plain": [
              "101.7969539992751"
            ]
          },
          "metadata": {},
          "execution_count": 114
        }
      ]
    },
    {
      "cell_type": "code",
      "source": [
        "# regressão linear"
      ],
      "metadata": {
        "id": "N8xuwTYAH-mp"
      },
      "execution_count": null,
      "outputs": []
    },
    {
      "cell_type": "code",
      "source": [
        "plt.plot(datas, Moscow)\n",
        "plt.plot(datas, y)"
      ],
      "metadata": {
        "colab": {
          "base_uri": "https://localhost:8080/",
          "height": 447
        },
        "id": "j1I0lYXGISYk",
        "outputId": "736c2073-74d8-4a97-c5bb-667d369fb47b"
      },
      "execution_count": null,
      "outputs": [
        {
          "output_type": "execute_result",
          "data": {
            "text/plain": [
              "[<matplotlib.lines.Line2D at 0x7f4f345b59f0>]"
            ]
          },
          "metadata": {},
          "execution_count": 117
        },
        {
          "output_type": "display_data",
          "data": {
            "text/plain": [
              "<Figure size 640x480 with 1 Axes>"
            ],
            "image/png": "[encoded data removed]"
          },
          "metadata": {}
        }
      ]
    },
    {
      "cell_type": "code",
      "source": [
        "x = np.arange(-1, 1, 0.0001)\n",
        "y1 = np.sqrt(1 - x**2)\n",
        "y2 = -np.sqrt(1 - x**2)"
      ],
      "metadata": {
        "id": "nXum1CbqIXjE"
      },
      "execution_count": null,
      "outputs": []
    },
    {
      "cell_type": "code",
      "source": [
        "plt.plot(x, y1)\n",
        "plt.plot(x, y2)\n",
        "plt.show()"
      ],
      "metadata": {
        "colab": {
          "base_uri": "https://localhost:8080/",
          "height": 430
        },
        "id": "57g7d-FrJR-u",
        "outputId": "9d620c39-818e-4d64-f2b2-c30b67c48af0"
      },
      "execution_count": null,
      "outputs": [
        {
          "output_type": "display_data",
          "data": {
            "text/plain": [
              "<Figure size 640x480 with 1 Axes>"
            ],
            "image/png": "[encoded data removed]"
          },
          "metadata": {}
        }
      ]
    },
    {
      "cell_type": "code",
      "source": [
        "plt.plot(datas, Moscow)\n",
        "plt.plot(datas, y)\n",
        "plt.plot(41.5, 41.5*a+b, '*r')\n",
        "plt.plot(100, 100*a+b, '*r')"
      ],
      "metadata": {
        "colab": {
          "base_uri": "https://localhost:8080/",
          "height": 447
        },
        "id": "1IRfdjX-J_sk",
        "outputId": "a346ba68-5f01-4203-b794-34f371e56bc9"
      },
      "execution_count": null,
      "outputs": [
        {
          "output_type": "execute_result",
          "data": {
            "text/plain": [
              "[<matplotlib.lines.Line2D at 0x7f4f33e176a0>]"
            ]
          },
          "metadata": {},
          "execution_count": 123
        },
        {
          "output_type": "display_data",
          "data": {
            "text/plain": [
              "<Figure size 640x480 with 1 Axes>"
            ],
            "image/png": "[encoded data removed]"
          },
          "metadata": {}
        }
      ]
    },
    {
      "cell_type": "code",
      "source": [
        "# cálculo dos coeficientes ângular e linear para as retas da laranja e da toranja"
      ],
      "metadata": {
        "id": "fjBWqOelMYzN"
      },
      "execution_count": null,
      "outputs": []
    },
    {
      "cell_type": "code",
      "source": [
        "Y_l = peso_laranjas\n",
        "X_l = diâmetro_laranjas\n",
        "n_l = np.size(X_l)\n",
        "\n",
        "a_l = (n_l*np.sum(X_l*Y_l) - np.sum(X_l)*np.sum(Y_l)) / (n_l*np.sum(X_l**2)-np.sum(X_l)**2)\n",
        "b_l = np.mean(Y_l) - a_l*np.mean(X_l)\n",
        "a_l, b_l"
      ],
      "metadata": {
        "colab": {
          "base_uri": "https://localhost:8080/"
        },
        "id": "kth3ffLAKGhn",
        "outputId": "1464ccbd-6745-48a1-b6e0-c870a8ed6a27"
      },
      "execution_count": null,
      "outputs": [
        {
          "output_type": "execute_result",
          "data": {
            "text/plain": [
              "(14.7997452319846, 27.38560381218413)"
            ]
          },
          "metadata": {},
          "execution_count": 152
        }
      ]
    },
    {
      "cell_type": "code",
      "source": [
        "Y_t = peso_toranjas\n",
        "X_t = diâmetro_toranjas\n",
        "n_t = np.size(X_t)\n",
        "\n",
        "a_t = (n_t*np.sum(X_t*Y_t) - np.sum(X_t)*np.sum(Y_t)) / (n_t*np.sum(X_t**2)-np.sum(X_t)**2)\n",
        "b_t = np.mean(Y_t) - a_t*np.mean(X_t)\n",
        "a_t, b_t"
      ],
      "metadata": {
        "colab": {
          "base_uri": "https://localhost:8080/"
        },
        "id": "sh-chHxwMNnL",
        "outputId": "aedffdae-f168-4c42-dde6-571a88770e84"
      },
      "execution_count": null,
      "outputs": [
        {
          "output_type": "execute_result",
          "data": {
            "text/plain": [
              "(15.70884459360376, 17.007102876817726)"
            ]
          },
          "metadata": {},
          "execution_count": 153
        }
      ]
    },
    {
      "cell_type": "code",
      "source": [
        "np.random.randint(low=40, high=100, size=100)"
      ],
      "metadata": {
        "colab": {
          "base_uri": "https://localhost:8080/"
        },
        "id": "9ijel3PuMjcV",
        "outputId": "05a3aef2-1f10-4197-8dd5-c8c374d39d27"
      },
      "execution_count": null,
      "outputs": [
        {
          "output_type": "execute_result",
          "data": {
            "text/plain": [
              "array([87, 98, 87, 73, 94, 92, 71, 47, 80, 85, 74, 71, 68, 45, 71, 54, 74,\n",
              "       86, 48, 66, 76, 78, 92, 48, 61, 90, 95, 66, 86, 46, 44, 84, 62, 43,\n",
              "       53, 88, 85, 88, 41, 45, 66, 42, 50, 88, 49, 98, 47, 46, 81, 49, 89,\n",
              "       59, 44, 51, 44, 68, 45, 61, 59, 62, 67, 42, 89, 58, 83, 43, 89, 64,\n",
              "       61, 53, 56, 60, 91, 52, 94, 81, 50, 59, 46, 84, 44, 67, 95, 45, 53,\n",
              "       75, 88, 84, 48, 68, 60, 58, 46, 63, 58, 70, 56, 74, 50, 93])"
            ]
          },
          "metadata": {},
          "execution_count": 129
        }
      ]
    },
    {
      "cell_type": "code",
      "source": [
        "coef_angulares = np.random.uniform(low=0.10, high=0.90, size=100)\n",
        "coef_angulares"
      ],
      "metadata": {
        "colab": {
          "base_uri": "https://localhost:8080/"
        },
        "id": "EhusoFC-NI9q",
        "outputId": "f38ce434-2101-4e33-aea1-8868e153c8b9"
      },
      "execution_count": null,
      "outputs": [
        {
          "output_type": "execute_result",
          "data": {
            "text/plain": [
              "array([0.84323751, 0.61051166, 0.26204467, 0.85115103, 0.10589338,\n",
              "       0.81449222, 0.32523262, 0.28736398, 0.12332686, 0.31448776,\n",
              "       0.56169188, 0.48854923, 0.49147526, 0.7171499 , 0.45725067,\n",
              "       0.82083599, 0.73994769, 0.61546509, 0.16544858, 0.14970671,\n",
              "       0.27695385, 0.62377836, 0.16894805, 0.58927755, 0.37319751,\n",
              "       0.53537035, 0.39614268, 0.26841491, 0.15907545, 0.24735087,\n",
              "       0.60664075, 0.4040114 , 0.61866261, 0.52456993, 0.41206481,\n",
              "       0.7898627 , 0.59496582, 0.63228153, 0.51841648, 0.73411044,\n",
              "       0.77378725, 0.77470097, 0.83567761, 0.25563806, 0.2850493 ,\n",
              "       0.12003629, 0.88411462, 0.75011941, 0.36142907, 0.73690691,\n",
              "       0.16562529, 0.4798819 , 0.48631282, 0.39496651, 0.7803495 ,\n",
              "       0.51976417, 0.26150566, 0.31917451, 0.47297646, 0.38316176,\n",
              "       0.67747508, 0.32822157, 0.58066364, 0.77044599, 0.43322662,\n",
              "       0.67494567, 0.17220787, 0.28007535, 0.72930461, 0.54141783,\n",
              "       0.18093718, 0.62739697, 0.69505684, 0.19099813, 0.29103252,\n",
              "       0.10565578, 0.59776457, 0.63958949, 0.7600161 , 0.42281847,\n",
              "       0.73752328, 0.42650263, 0.65005896, 0.7949777 , 0.84569415,\n",
              "       0.20781041, 0.58798504, 0.7052633 , 0.57210398, 0.72257892,\n",
              "       0.16773442, 0.23006548, 0.18499388, 0.64242469, 0.17323315,\n",
              "       0.71805453, 0.32000566, 0.65223254, 0.39239123, 0.1320434 ])"
            ]
          },
          "metadata": {},
          "execution_count": 131
        }
      ]
    },
    {
      "cell_type": "code",
      "source": [
        "len(coef_angulares)"
      ],
      "metadata": {
        "colab": {
          "base_uri": "https://localhost:8080/"
        },
        "id": "pwJ7lVpoNSWz",
        "outputId": "4efe5c7b-3669-40e1-eb46-d9df63591ffc"
      },
      "execution_count": null,
      "outputs": [
        {
          "output_type": "execute_result",
          "data": {
            "text/plain": [
              "100"
            ]
          },
          "metadata": {},
          "execution_count": 132
        }
      ]
    },
    {
      "cell_type": "code",
      "source": [
        "norma = np.array([])\n",
        "\n",
        "for i in range(100):\n",
        "    norma = np.append(norma, np.linalg.norm(Moscow-(coef_angulares[i]*X+b)))"
      ],
      "metadata": {
        "id": "WiTGS2RNNcAK"
      },
      "execution_count": null,
      "outputs": []
    },
    {
      "cell_type": "code",
      "source": [
        "norma"
      ],
      "metadata": {
        "colab": {
          "base_uri": "https://localhost:8080/"
        },
        "id": "yLeLpHLiN6Hq",
        "outputId": "172cfd0a-b91b-400b-ff92-dcaea83594c3"
      },
      "execution_count": null,
      "outputs": [
        {
          "output_type": "execute_result",
          "data": {
            "text/plain": [
              "array([218.03779587, 131.24555611, 130.60603401, 221.351606  ,\n",
              "       185.95219715, 206.12320841, 114.29370773, 123.46291276,\n",
              "       179.11492835, 116.68992255, 118.04805594, 104.87188559,\n",
              "       105.21281456, 167.6715614 , 102.32875713, 208.73509383,\n",
              "       176.35322593, 132.73543041, 163.13027036, 169.00672609,\n",
              "       126.3115734 , 135.29002569, 161.8413771 , 125.15427108,\n",
              "       105.92975378, 112.26370332, 103.45673111, 128.7414987 ,\n",
              "       165.49422288, 135.06461897, 130.09871524, 102.85844491,\n",
              "       133.71011681, 110.20902357, 102.38242106, 196.08726463,\n",
              "       126.73684287, 137.96977033, 109.12785971, 174.10807797,\n",
              "       189.63572257, 190.00015658, 214.88511223, 132.52372493,\n",
              "       124.08510239, 180.39650056, 235.2925407 , 180.2995512 ,\n",
              "       107.60075262, 175.1818383 , 163.06502757, 103.96340618,\n",
              "       104.62288105, 103.55733288, 192.25923866, 109.35895019,\n",
              "       130.7657591 , 115.62342102, 103.35011761, 104.72516757,\n",
              "       153.19751511, 113.65849053, 122.83092656, 188.30550022,\n",
              "       101.80123423, 152.3063596 , 160.6467622 , 125.44393655,\n",
              "       172.27082615, 113.4981962 , 157.47733892, 136.42238689,\n",
              "       159.5018348 , 153.88062419, 122.49033633, 186.04616828,\n",
              "       127.5290884 , 140.32390291, 184.17842005, 101.96501353,\n",
              "       175.41896183, 101.87992657, 143.77385333, 198.1570846 ,\n",
              "       219.06505402, 148.0161836 , 124.79994727, 163.24389098,\n",
              "       120.61399176, 169.71725112, 162.2876211 , 140.56783428,\n",
              "       156.01964669, 141.24938304, 160.27225159, 168.01144172,\n",
              "       115.43769347, 144.50101078, 103.78765743, 175.74143947])"
            ]
          },
          "metadata": {},
          "execution_count": 146
        }
      ]
    },
    {
      "cell_type": "code",
      "source": [
        "np.argmin(norma)"
      ],
      "metadata": {
        "colab": {
          "base_uri": "https://localhost:8080/"
        },
        "id": "e-O4sOe8O9x2",
        "outputId": "2f09bd94-0d8b-441f-a28c-e267451026c3"
      },
      "execution_count": null,
      "outputs": [
        {
          "output_type": "execute_result",
          "data": {
            "text/plain": [
              "64"
            ]
          },
          "metadata": {},
          "execution_count": 154
        }
      ]
    },
    {
      "cell_type": "code",
      "source": [
        "coef_angulares[64]"
      ],
      "metadata": {
        "colab": {
          "base_uri": "https://localhost:8080/"
        },
        "id": "nWaIPzvhQE7J",
        "outputId": "925c1807-ea32-4e1e-f01e-f229d48677d4"
      },
      "execution_count": null,
      "outputs": [
        {
          "output_type": "execute_result",
          "data": {
            "text/plain": [
              "0.4332266248964055"
            ]
          },
          "metadata": {},
          "execution_count": 156
        }
      ]
    },
    {
      "cell_type": "code",
      "source": [
        "np.random.seed(16)\n",
        "np.random.uniform(low=0.10, high=0.90, size=100)"
      ],
      "metadata": {
        "colab": {
          "base_uri": "https://localhost:8080/"
        },
        "id": "UjsMJrO9QJFa",
        "outputId": "60e80ccf-6b6b-46c0-b997-953d6582a3b7"
      },
      "execution_count": null,
      "outputs": [
        {
          "output_type": "execute_result",
          "data": {
            "text/plain": [
              "array([0.27863286, 0.51853067, 0.54056117, 0.13648156, 0.38858307,\n",
              "       0.27846475, 0.65098093, 0.23098514, 0.15625989, 0.85280869,\n",
              "       0.5509451 , 0.16239387, 0.67811241, 0.22676174, 0.30022505,\n",
              "       0.3347898 , 0.65728857, 0.47141127, 0.27204971, 0.45746101,\n",
              "       0.196703  , 0.83414961, 0.55315706, 0.47761545, 0.35165314,\n",
              "       0.13457258, 0.70195593, 0.53461524, 0.71375234, 0.73235901,\n",
              "       0.1577771 , 0.62777267, 0.14263947, 0.64801956, 0.45468077,\n",
              "       0.47439692, 0.62884747, 0.65197331, 0.31066359, 0.10918315,\n",
              "       0.71703556, 0.75291386, 0.21171328, 0.5624054 , 0.37253942,\n",
              "       0.28577239, 0.258915  , 0.31719262, 0.88148221, 0.27234318,\n",
              "       0.38512593, 0.11471996, 0.59343222, 0.28432431, 0.69388139,\n",
              "       0.56740017, 0.43608284, 0.66740227, 0.87763642, 0.74803129,\n",
              "       0.44452414, 0.86618288, 0.13820648, 0.68622544, 0.64053316,\n",
              "       0.52160413, 0.55358996, 0.6783562 , 0.64608268, 0.73625014,\n",
              "       0.19027642, 0.25933011, 0.67705538, 0.41509386, 0.37134832,\n",
              "       0.22275655, 0.18045921, 0.42579769, 0.56633237, 0.69257642,\n",
              "       0.79628867, 0.87322093, 0.46445188, 0.4203384 , 0.3391517 ,\n",
              "       0.76268805, 0.82787294, 0.71290934, 0.15465183, 0.58482122,\n",
              "       0.85137291, 0.18171413, 0.88203161, 0.38535098, 0.62334973,\n",
              "       0.19822857, 0.86908175, 0.62094514, 0.84934225, 0.82706184])"
            ]
          },
          "metadata": {},
          "execution_count": 157
        }
      ]
    },
    {
      "cell_type": "code",
      "source": [
        "np.random.seed(84)\n",
        "coef_angulares = np.random.uniform(low=0.10, high=0.90, size=100)\n",
        "\n",
        "norma = np.array([])\n",
        "\n",
        "for i in range(100):\n",
        "    norma = np.append(norma, np.linalg.norm(Moscow-(coef_angulares[i]*X+b)))\n",
        "\n",
        "norma, np.argmin(norma), coef_angulares[np.argmin(norma)]"
      ],
      "metadata": {
        "colab": {
          "base_uri": "https://localhost:8080/"
        },
        "id": "wncj4TxPRwpW",
        "outputId": "7ac7c1a6-c623-41d9-c16a-c08d843720ab"
      },
      "execution_count": null,
      "outputs": [
        {
          "output_type": "execute_result",
          "data": {
            "text/plain": [
              "(array([173.90151233, 103.45241986, 121.75367289, 128.97173036,\n",
              "        238.69504078, 149.16590195, 137.73123242, 118.54419212,\n",
              "        101.79720981, 149.04689147, 112.80225228, 105.8049351 ,\n",
              "        230.82444742, 111.69709582, 134.56525603, 110.93209631,\n",
              "        204.12484401, 196.82117307, 221.88687726, 156.13691054,\n",
              "        125.51272174, 136.46474504, 165.39506278, 240.68784732,\n",
              "        104.52254473, 188.75637903, 131.2292927 , 128.94885341,\n",
              "        234.70773582, 147.01799832, 113.7418054 , 116.94496221,\n",
              "        109.58257043, 107.09546548, 145.00728041, 182.83818792,\n",
              "        140.95017242, 106.12371866, 107.0915778 , 132.45242448,\n",
              "        144.8736358 , 143.54772697, 240.23793834, 113.74604121,\n",
              "        116.01191029, 152.02977343, 174.72333708, 141.8068161 ,\n",
              "        101.93467119, 103.01538109, 169.59787792, 128.13083711,\n",
              "        105.06648948, 101.83421597, 102.53716362, 113.63850533,\n",
              "        219.96993004, 117.37921502, 182.70217805, 146.69612581,\n",
              "        178.64742004, 132.25425967, 109.74998636, 186.49825034,\n",
              "        104.98272763, 133.73791912, 182.82613374, 235.49081018,\n",
              "        179.79275527, 228.72013359, 184.2584889 , 114.02435937,\n",
              "        124.95415977, 187.42082714, 105.18421164, 102.1005486 ,\n",
              "        135.72717949, 107.19212075, 114.07766563, 225.76351056,\n",
              "        103.96340568, 118.21130391, 109.96158846, 181.54233309,\n",
              "        114.09828878, 118.61778913, 224.37792949, 153.50523694,\n",
              "        185.44994519, 117.35423938, 151.19534147, 118.44720795,\n",
              "        112.26379208, 104.60483872, 123.8587347 , 111.40038324,\n",
              "        102.05294074, 150.97459646, 108.76787533, 107.97542886]),\n",
              " 8,\n",
              " 0.43471917334609456)"
            ]
          },
          "metadata": {},
          "execution_count": 167
        }
      ]
    },
    {
      "cell_type": "code",
      "source": [
        "aa = [0,1,2,3,4,5,6,7,8,9,10]\n",
        "aa = np.array(aa)\n",
        "bb = aa + 3 / 2\n",
        "aa, bb"
      ],
      "metadata": {
        "colab": {
          "base_uri": "https://localhost:8080/"
        },
        "id": "_CUFhdF9ROVS",
        "outputId": "efc0220d-4231-4797-e1af-05625d8b9f4c"
      },
      "execution_count": null,
      "outputs": [
        {
          "output_type": "execute_result",
          "data": {
            "text/plain": [
              "(array([ 0,  1,  2,  3,  4,  5,  6,  7,  8,  9, 10]),\n",
              " array([ 1.5,  2.5,  3.5,  4.5,  5.5,  6.5,  7.5,  8.5,  9.5, 10.5, 11.5]))"
            ]
          },
          "metadata": {},
          "execution_count": 170
        }
      ]
    },
    {
      "cell_type": "code",
      "source": [
        "dados = np.column_stack([norma, coef_angulares])"
      ],
      "metadata": {
        "id": "6qUnbtzjTij6"
      },
      "execution_count": null,
      "outputs": []
    },
    {
      "cell_type": "code",
      "source": [
        "dados.shape"
      ],
      "metadata": {
        "colab": {
          "base_uri": "https://localhost:8080/"
        },
        "id": "EYL7svxWUONi",
        "outputId": "47547db8-1321-4a31-ea2e-d0ac28e3c11e"
      },
      "execution_count": null,
      "outputs": [
        {
          "output_type": "execute_result",
          "data": {
            "text/plain": [
              "(100, 2)"
            ]
          },
          "metadata": {},
          "execution_count": 173
        }
      ]
    },
    {
      "cell_type": "code",
      "source": [
        "np.savetxt('dados.csv', dados, delimiter=',')"
      ],
      "metadata": {
        "id": "pe-AIe4BUPRS"
      },
      "execution_count": null,
      "outputs": []
    },
    {
      "cell_type": "code",
      "source": [
        "np.random.seed(84)\n",
        "coef_angulares = np.random.uniform(low=0.10, high=0.90, size=100)\n",
        "\n",
        "norma = np.array([])\n",
        "\n",
        "for i in range(100):\n",
        "    norma = np.append(norma, np.linalg.norm(Moscow-(coef_angulares[i]*datas+17)))\n",
        "\n",
        "norma, np.argmin(norma), coef_angulares[np.argmin(norma)]"
      ],
      "metadata": {
        "colab": {
          "base_uri": "https://localhost:8080/"
        },
        "id": "BZhEbFC4Ub5q",
        "outputId": "6acc31c5-163f-4fca-845b-de92202f0dc8"
      },
      "execution_count": null,
      "outputs": [
        {
          "output_type": "execute_result",
          "data": {
            "text/plain": [
              "(array([717.50739346, 608.99716701, 651.21817486, 526.99138691,\n",
              "        423.43795454, 688.75529751, 674.24271386, 645.8917102 ,\n",
              "        593.34604372, 688.60950424, 635.22966334, 568.66628408,\n",
              "        429.50001049, 632.93424366, 519.85105076, 555.90141167,\n",
              "        451.16049037, 457.40939748, 436.55647048, 697.14481115,\n",
              "        531.68996306, 672.5598699 , 707.90853999, 421.92509517,\n",
              "        613.5633052 , 464.49331988, 524.04866315, 662.1436384 ,\n",
              "        426.49156454, 686.10916392, 550.3638759 , 643.09293333,\n",
              "        628.21176833, 621.85446271, 683.60194847, 469.82568113,\n",
              "        678.44369424, 567.7001523 , 621.84357783, 667.09963045,\n",
              "        683.43421086, 509.25678513, 422.26587804, 637.11461296,\n",
              "        546.30180798, 692.23637479, 718.42255492, 679.54475478,\n",
              "        588.62505522, 606.72205001, 712.6813091 , 528.11117345,\n",
              "        571.05786956, 595.5093211 , 582.66292496, 550.55642532,\n",
              "        438.09457727, 643.86382615, 727.21243573, 505.7390222 ,\n",
              "        473.67636649, 522.74092363, 558.45945763, 466.51390703,\n",
              "        615.25448144, 668.87186988, 727.34773446, 425.88904444,\n",
              "        472.61752848, 431.14466197, 728.90859755, 637.65861205,\n",
              "        656.22391067, 732.33858149, 615.95835041, 586.43314309,\n",
              "        671.57134288, 564.68801538, 637.76222211, 433.47277877,\n",
              "        575.18987216, 645.31797452, 629.09568997, 725.94470112,\n",
              "        637.8022574 , 646.01796185, 434.57086038, 498.40506133,\n",
              "        467.45773949, 544.03183149, 691.22737564, 542.24451846,\n",
              "        553.19386933, 572.68847925, 534.0313218 , 554.93017889,\n",
              "        586.98194413, 501.09053197, 626.24523096, 624.23182693]),\n",
              " 23,\n",
              " 0.896746191740697)"
            ]
          },
          "metadata": {},
          "execution_count": 176
        }
      ]
    },
    {
      "cell_type": "markdown",
      "source": [
        "**See you space cowboy...**"
      ],
      "metadata": {
        "id": "RMwd_cwiWA1h"
      }
    }
  ]
}